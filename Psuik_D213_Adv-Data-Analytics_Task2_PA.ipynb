{
 "cells": [
  {
   "cell_type": "markdown",
   "id": "63a97d3e-60f7-4895-a8ce-5c1022cb8f87",
   "metadata": {},
   "source": [
    "# D213: Advanced Data Analytics, Task 2\n",
    "Western Governors University\n",
    "<br>Bailey Psuik \n",
    "<br>February 2024"
   ]
  },
  {
   "cell_type": "markdown",
   "id": "5791dae3-2a08-45de-ac43-77733d166096",
   "metadata": {},
   "source": [
    "### Part I: Research Question\n",
    "\n",
    "**A1. Research question**\n",
    "<br>Customer opinions are critical to the success of a business. Customers review businesses to share their thoughts, both good and bad, and it is up to the business to understand what its customers want. Large multinational businesses have many customer opinions to consider, and therefore need an efficient way to break down and understand these reviews.\n",
    "\n",
    "Written reviews by customers come in an unstructured format, and thus require processing to be understood by machine learning algorithms. This is where natural language processing (NLP) comes in. “NLP is a branch of data science that consists of systeming processes for analyzing, understanding, and deriving information from the text data in a smart and efficient manner. By utilizing NLP and its components, one can organize the massive chunks of text data, perform numerous automated tasks, and solve a wide range of problems” (Bansal, 2022).\n",
    "\n",
    "One industry where customer reviews are especially critical is the filmmaking industry. This report will analyze data from IMDb reviews. This dataset contains written reviews by moviegoers along with the sentiment behind their review. Sentiment analysis will be performed through NLP to answer the question: **“Can a future movie reviews be predicted to have a positive or negative sentiment based on past reviews from other moviegoers?**\n",
    "\n",
    "**A2. Objectives**\n",
    "<br>The objective of this report is to **build a model that will accurately predict how a viewer feels about a film based on the words they use in their review.** This understanding will provide film studios with a basis for understanding trends in viewer sentiment in order to aid in future decision-making.\n",
    "\n",
    "**A3. Prescribed network**\n",
    "There are many different types of neural networks capable of performing text classification tasks to aid in NLP. For purposes of this analysis, a recurrent neural network (RNN) will be constructed and trained to produce meaningful predictions on text sequences in the IMDb dataset. \n",
    "\n",
    "RNNs work with sequential data. “Sequential data is data–such as words, sentences, or time-series data– where sequential components interrelate based on complex semantics and syntax rules (AWS, n.d.). Put simply, the order of words in a sentence matters, as the order of words impacts the overall sentiment of a customer review, in this case. Thus, an appropriate choice for the type of neural network used in this analysis is an RNN."
   ]
  },
  {
   "cell_type": "markdown",
   "id": "ab02abab-c15b-4adc-8784-28d0da250de1",
   "metadata": {},
   "source": [
    "### Part II: Data Preparation\n",
    "\n",
    "**B1.  Data Exploration**\n",
    "<br>Exploratory data analysis is performed on the IMDb dataset. An explanation of each of the following elements is included:\n",
    "* B1a. Presence of unusual characters (e.g., emojis, non-English characters)\n",
    "* B1b. Vocabulary size\n",
    "* B1c. Proposed word embedding length\n",
    "* B1d. Statistical justification for the chosen maximum sequence length"
   ]
  },
  {
   "cell_type": "code",
   "execution_count": 2,
   "id": "6bbef7fa-a88c-4f2d-931b-222817f68f39",
   "metadata": {
    "tags": []
   },
   "outputs": [],
   "source": [
    "# Import packages \n",
    "\n",
    "import warnings\n",
    "warnings.filterwarnings(\"ignore\")\n",
    "\n",
    "import pandas as pd\n",
    "import numpy as np\n",
    "\n",
    "import matplotlib.pyplot as plt\n",
    "import seaborn as sns\n",
    "\n",
    "import tensorflow as tf\n",
    "from tensorflow.keras.preprocessing.sequence import pad_sequences\n",
    "from tensorflow.keras.preprocessing.text import Tokenizer\n",
    "from tensorflow import keras\n",
    "from tensorflow.keras import layers\n",
    "from tensorflow.keras.callbacks import EarlyStopping\n",
    "\n",
    "from keras.preprocessing.text import Tokenizer\n",
    "from keras.utils import to_categorical\n",
    "\n",
    "import re\n",
    "\n",
    "import nltk\n",
    "from nltk.tokenize import RegexpTokenizer\n",
    "from nltk.stem import WordNetLemmatizer, PorterStemmer\n",
    "from nltk.corpus import stopwords\n",
    "from nltk.sentiment.vader import SentimentIntensityAnalyzer\n",
    "from nltk.tokenize import word_tokenize\n",
    "\n",
    "from sklearn.model_selection import train_test_split\n",
    "from sklearn import metrics"
   ]
  },
  {
   "cell_type": "code",
   "execution_count": 4,
   "id": "621865ff-12fd-45b5-9864-fe60807d33e3",
   "metadata": {
    "tags": []
   },
   "outputs": [],
   "source": [
    "# Read the imdb data\n",
    "imdb = pd.read_csv('C:/Users/psuik/Desktop/WGU/D213/sentiment labelled sentences/imdb_labelled.txt',\n",
    "                   delimiter='\\t', header=None, names=['Reviews', 'Sentiment'])"
   ]
  },
  {
   "cell_type": "code",
   "execution_count": 8,
   "id": "d63d9ae2-5f99-49a2-a81c-5cb757546000",
   "metadata": {
    "tags": []
   },
   "outputs": [
    {
     "name": "stdout",
     "output_type": "stream",
     "text": [
      "                                             Reviews  Sentiment\n",
      "0  A very, very, very slow-moving, aimless movie ...          0\n",
      "1  Not sure who was more lost - the flat characte...          0\n",
      "2  Attempting artiness with black & white and cle...          0\n",
      "3       Very little music or anything to speak of.            0\n",
      "4  The best scene in the movie was when Gerardo i...          1\n",
      "\n",
      "Shape: (748, 2)\n",
      "\n",
      "<class 'pandas.core.frame.DataFrame'>\n",
      "RangeIndex: 748 entries, 0 to 747\n",
      "Data columns (total 2 columns):\n",
      " #   Column     Non-Null Count  Dtype \n",
      "---  ------     --------------  ----- \n",
      " 0   Reviews    748 non-null    object\n",
      " 1   Sentiment  748 non-null    int64 \n",
      "dtypes: int64(1), object(1)\n",
      "memory usage: 11.8+ KB\n",
      "None\n"
     ]
    }
   ],
   "source": [
    "# Explore the data\n",
    "print(imdb.head())\n",
    "print()\n",
    "print(\"Shape:\",imdb.shape)\n",
    "print()\n",
    "print(imdb.info())"
   ]
  },
  {
   "cell_type": "code",
   "execution_count": 9,
   "id": "3d89136b-ce3f-4d3a-b4e6-ae7d7b156058",
   "metadata": {
    "tags": []
   },
   "outputs": [
    {
     "name": "stdout",
     "output_type": "stream",
     "text": [
      "Sentiment\n",
      "1    386\n",
      "0    362\n",
      "Name: count, dtype: int64\n"
     ]
    },
    {
     "data": {
      "image/png": "[encoded data removed]",
      "text/plain": [
       "<Figure size 600x300 with 1 Axes>"
      ]
     },
     "metadata": {},
     "output_type": "display_data"
    }
   ],
   "source": [
    "# 1 = positive sentiment, 0 = negative sentiment\n",
    "print(imdb['Sentiment'].value_counts())\n",
    "\n",
    "plt.figure(figsize=(6,3))\n",
    "imdb['Sentiment'].value_counts().plot(kind='bar')\n",
    "plt.show()"
   ]
  },
  {
   "cell_type": "code",
   "execution_count": 10,
   "id": "f94f736b-af19-4371-bfdd-077b9d08722d",
   "metadata": {
    "tags": []
   },
   "outputs": [
    {
     "name": "stdout",
     "output_type": "stream",
     "text": [
      "['A', ' ', 'v', 'e', 'r', 'y', ',', 's', 'l', 'o', 'w', '-', 'm', 'i', 'n', 'g', 'a', 'b', 'u', 't', 'd', 'f', '.', 'N', 'h', 'c', 'k', 'p', '&', 'x', 'V', 'T', 'G', 'I', \"'\", 'W', 'S', 'L', 'J', 'B', 'F', 'M', 'H', 'C', '\"', '\\x96', '\\t', '1', '\\n', 'z', '?', 'q', 'Y', '0', 'j', 'P', 'U', 'R', 'E', '3', ';', '/', 'O', '2', '9', ':', '*', 'D', 'Q', 'é', '(', ')', '!', 'K', '$', '7', '5', 'Z', '\\x85', '8', '+', '%', '4', 'å', '6', '\\x97', 'X']\n"
     ]
    }
   ],
   "source": [
    "#B1a. Presence of unusual characters\n",
    "    # Unusual characters are identified and removed\n",
    "    \n",
    "# Identify all characters contained in the reviews column\n",
    "commentary = imdb['Reviews']\n",
    "list_of_characters = []\n",
    "for comment in commentary: \n",
    "    for character in comment:\n",
    "        if character not in list_of_characters:\n",
    "            list_of_characters.append(character)\n",
    "print(list_of_characters)"
   ]
  },
  {
   "cell_type": "code",
   "execution_count": 11,
   "id": "ffc6206c-a784-4685-89c3-12c165fc0dae",
   "metadata": {
    "tags": []
   },
   "outputs": [],
   "source": [
    "# Several unusual and/or non-helpful characters appear in the Reviews column. \n",
    "# The code below removes these characters + converts reviews to all lowercase, tokenizes & lemmatizes reviews, & removes stopwords\n",
    "# (Elleh, n.d.)\n",
    "\n",
    "# Create an empty list to store cleaned reviews\n",
    "description_list = []\n",
    "\n",
    "# Define the list of stopwords, specifying English as the language\n",
    "stop_words = stopwords.words('english')\n",
    "\n",
    "# Special/unusual characters will be removed by iterating over a for loop\n",
    "for description in imdb['Reviews']: \n",
    "    \n",
    "#Regular Expression can remove special characters from the string. \n",
    "#It will be in the form [^a-zA-Z0-9], where ^ represents any character except the characters in the brackets, \n",
    "##and a-zA-Z0-9 represents that string can only have small and capital alphabets and numerical digits. \n",
    "    description = re.sub(\"[^a-zA-Z]\", \" \", description) \n",
    "#Convert to lower case\n",
    "    description = description.lower()\n",
    "#Perform tokenization\n",
    "    description=nltk.word_tokenize(description)\n",
    "#Perform lemmatization\n",
    "    lemma = nltk.WordNetLemmatizer()\n",
    "    description = [lemma.lemmatize(word) for word in description]\n",
    "#Removing stopwords\n",
    "    description = [word for word in description if not word in stop_words]\n",
    "    description = \" \".join(description)\n",
    "    description_list.append(description)"
   ]
  },
  {
   "cell_type": "code",
   "execution_count": 12,
   "id": "58b2dd5a-8b72-42ad-9e88-86b865ba5a28",
   "metadata": {
    "tags": []
   },
   "outputs": [
    {
     "data": {
      "text/html": [
       "<div>\n",
       "<style scoped>\n",
       "    .dataframe tbody tr th:only-of-type {\n",
       "        vertical-align: middle;\n",
       "    }\n",
       "\n",
       "    .dataframe tbody tr th {\n",
       "        vertical-align: top;\n",
       "    }\n",
       "\n",
       "    .dataframe thead th {\n",
       "        text-align: right;\n",
       "    }\n",
       "</style>\n",
       "<table border=\"1\" class=\"dataframe\">\n",
       "  <thead>\n",
       "    <tr style=\"text-align: right;\">\n",
       "      <th></th>\n",
       "      <th>CleanReviews</th>\n",
       "      <th>Sentiment</th>\n",
       "    </tr>\n",
       "  </thead>\n",
       "  <tbody>\n",
       "    <tr>\n",
       "      <th>0</th>\n",
       "      <td>slow moving aimless movie distressed drifting ...</td>\n",
       "      <td>0</td>\n",
       "    </tr>\n",
       "    <tr>\n",
       "      <th>1</th>\n",
       "      <td>sure wa lost flat character audience nearly ha...</td>\n",
       "      <td>0</td>\n",
       "    </tr>\n",
       "    <tr>\n",
       "      <th>2</th>\n",
       "      <td>attempting artiness black white clever camera ...</td>\n",
       "      <td>0</td>\n",
       "    </tr>\n",
       "    <tr>\n",
       "      <th>3</th>\n",
       "      <td>little music anything speak</td>\n",
       "      <td>0</td>\n",
       "    </tr>\n",
       "    <tr>\n",
       "      <th>4</th>\n",
       "      <td>best scene movie wa gerardo trying find song k...</td>\n",
       "      <td>1</td>\n",
       "    </tr>\n",
       "  </tbody>\n",
       "</table>\n",
       "</div>"
      ],
      "text/plain": [
       "                                        CleanReviews  Sentiment\n",
       "0  slow moving aimless movie distressed drifting ...          0\n",
       "1  sure wa lost flat character audience nearly ha...          0\n",
       "2  attempting artiness black white clever camera ...          0\n",
       "3                        little music anything speak          0\n",
       "4  best scene movie wa gerardo trying find song k...          1"
      ]
     },
     "execution_count": 12,
     "metadata": {},
     "output_type": "execute_result"
    }
   ],
   "source": [
    "# The cleaned reviews are now stored in description_list\n",
    "# Create a dataframe out of this list:\n",
    "description_df = pd.DataFrame(description_list, columns=['CleanReviews'])\n",
    "\n",
    "# Append Sentiments from the original dataframe to this new dataframe\n",
    "description_df = pd.concat([description_df, imdb['Sentiment']], axis=1)\n",
    "\n",
    "description_df.head()"
   ]
  },
  {
   "cell_type": "code",
   "execution_count": 13,
   "id": "aa8d0d8c-334e-4c62-ac04-adc13ccc4f94",
   "metadata": {
    "tags": []
   },
   "outputs": [
    {
     "name": "stdout",
     "output_type": "stream",
     "text": [
      "Number of unique words: 2719\n"
     ]
    }
   ],
   "source": [
    "# B1b. Vocabulary size\n",
    "# This is the number of unique, or tokenized, words contained across all reviews\n",
    "\n",
    "tokenizer = Tokenizer()\n",
    "tokenizer.fit_on_texts(description_df['CleanReviews'])\n",
    "print(\"Number of unique words:\", len(tokenizer.word_index) + 1)"
   ]
  },
  {
   "cell_type": "code",
   "execution_count": 16,
   "id": "2ec9f770-cd11-4e6c-a6b2-2c7ba7ce2bb8",
   "metadata": {
    "tags": []
   },
   "outputs": [
    {
     "name": "stdout",
     "output_type": "stream",
     "text": [
      "Max length of sequences is: 703\n",
      "Min length of sequences is: 1\n",
      "Median length of sequences is: 7.0\n",
      "\n",
      "Proposed word embedding length: 7.0\n"
     ]
    }
   ],
   "source": [
    "# B1c. Proposed word embedding length\n",
    "# (Elleh, n.d.)\n",
    "\n",
    "# Calculate the minimum, maximum, and median review lengths \n",
    "review_length = []\n",
    "for char_len in description_df['CleanReviews']:\n",
    "    review_length.append(len(char_len.split(\" \")))\n",
    "\n",
    "review_max = np.max(review_length)\n",
    "review_min = np.min(review_length)\n",
    "review_median = np.median(review_length)\n",
    "\n",
    "print(\"Max length of sequences is:\", review_max)\n",
    "print(\"Min length of sequences is:\", review_min)\n",
    "print(\"Median length of sequences is:\", review_median)\n",
    "\n",
    "# The median review length will be used as the proposed word embedded length here: \n",
    "print()\n",
    "print(\"Proposed word embedding length:\", review_median)"
   ]
  },
  {
   "cell_type": "code",
   "execution_count": 18,
   "id": "eedafe8c-31de-497f-abf5-b7f7d2750134",
   "metadata": {
    "tags": []
   },
   "outputs": [
    {
     "name": "stdout",
     "output_type": "stream",
     "text": [
      "Maximum sequence length: 703\n"
     ]
    }
   ],
   "source": [
    "# B1d. Statistical justification for the chosen maximum sequence length\n",
    "    # The code executed in B1c computes the maximum review length, which is the maximum sequence length:\n",
    "print(\"Maximum sequence length:\", review_max)"
   ]
  },
  {
   "cell_type": "markdown",
   "id": "d7dff977-cc43-4304-b94d-afb8ab55e074",
   "metadata": {},
   "source": [
    "**B2. Tokenization**\n",
    "<br>Tokenization is a preprocessing step in which text strings are broken down into smaller components, called tokens. There are multiple types of tokenization including word, character, and subword tokenization. This process is done to accomplish multiple things: \n",
    "* A primary goal in performing tokenization is to represent text in such a way that it is meaningfully understood by a machine, while also retaining its context (Awan, 2023).\n",
    "* Another goal of tokenization is to make text data easier to analyze. When data is broken down into smaller pieces it becomes more manageable and easier to understand. \n",
    "* Tokenization also helps with preprocessing by allowing for stopwords and unnecessary characters to be identified and removed\n",
    "\n",
    "<br>Tokenization was used previously to compute the number of unique words in the IMDb dataset in section B1b. Below is the code again for reference:"
   ]
  },
  {
   "cell_type": "code",
   "execution_count": 19,
   "id": "9a2343d0-69d1-41c3-8057-89d095866be5",
   "metadata": {
    "tags": []
   },
   "outputs": [
    {
     "name": "stdout",
     "output_type": "stream",
     "text": [
      "Number of unique words: 2719\n"
     ]
    }
   ],
   "source": [
    "# Word tokenization:\n",
    "tokenizer = Tokenizer()\n",
    "tokenizer.fit_on_texts(description_df['CleanReviews'])\n",
    "print(\"Number of unique words:\", len(tokenizer.word_index) + 1)"
   ]
  },
  {
   "cell_type": "code",
   "execution_count": 20,
   "id": "2d5ab204-4c0a-4697-9436-fc6c929d0d8c",
   "metadata": {
    "tags": []
   },
   "outputs": [
    {
     "data": {
      "text/plain": [
       "0      [slow, moving, aimless, movie, distressed, dri...\n",
       "1      [sure, wa, lost, flat, character, audience, ne...\n",
       "2      [attempting, artiness, black, white, clever, c...\n",
       "3                       [little, music, anything, speak]\n",
       "4      [best, scene, movie, wa, gerardo, trying, find...\n",
       "                             ...                        \n",
       "743    [got, bored, watching, jessice, lange, take, c...\n",
       "744    [unfortunately, virtue, film, production, work...\n",
       "745                                 [word, embarrassing]\n",
       "746                                 [exceptionally, bad]\n",
       "747      [insult, one, intelligence, huge, waste, money]\n",
       "Name: CleanReviews, Length: 748, dtype: object"
      ]
     },
     "execution_count": 20,
     "metadata": {},
     "output_type": "execute_result"
    }
   ],
   "source": [
    "# Output a list of all word tokens\n",
    "description_df['CleanReviews'].apply(word_tokenize)"
   ]
  },
  {
   "cell_type": "code",
   "execution_count": 21,
   "id": "464b7a2a-d2af-4ffc-8bb0-63b91abc0a4e",
   "metadata": {
    "tags": []
   },
   "outputs": [
    {
     "name": "stdout",
     "output_type": "stream",
     "text": [
      "Number of unique words: 3342\n"
     ]
    }
   ],
   "source": [
    "# To demonstrate how tokenization helps to retain meaning:\n",
    "# Compare number of unique words in the original Reviews column to the cleaned dataset\n",
    "tokenizer.fit_on_texts(imdb['Reviews'])\n",
    "word_count = len(tokenizer.word_index) + 1\n",
    "print(\"Number of unique words:\", word_count)"
   ]
  },
  {
   "cell_type": "code",
   "execution_count": 22,
   "id": "a6a4f273-d921-4801-9f0b-e469746d3c4c",
   "metadata": {
    "tags": []
   },
   "outputs": [
    {
     "data": {
      "text/plain": [
       "0      [A, very, ,, very, ,, very, slow-moving, ,, ai...\n",
       "1      [Not, sure, who, was, more, lost, -, the, flat...\n",
       "2      [Attempting, artiness, with, black, &, white, ...\n",
       "3      [Very, little, music, or, anything, to, speak,...\n",
       "4      [The, best, scene, in, the, movie, was, when, ...\n",
       "                             ...                        \n",
       "743    [I, just, got, bored, watching, Jessice, Lange...\n",
       "744    [Unfortunately, ,, any, virtue, in, this, film...\n",
       "745            [In, a, word, ,, it, is, embarrassing, .]\n",
       "746                              [Exceptionally, bad, !]\n",
       "747    [All, in, all, its, an, insult, to, one, 's, i...\n",
       "Name: Reviews, Length: 748, dtype: object"
      ]
     },
     "execution_count": 22,
     "metadata": {},
     "output_type": "execute_result"
    }
   ],
   "source": [
    "# Output a list of all word tokens\n",
    "imdb['Reviews'].apply(word_tokenize)"
   ]
  },
  {
   "cell_type": "code",
   "execution_count": 23,
   "id": "2bde93c7-bfdb-4497-8653-b6a78507cb96",
   "metadata": {
    "tags": []
   },
   "outputs": [],
   "source": [
    "# Note the difference in the two outputs-- the preprocessed df does not contain tokens such as 'a', 'an', 'this', etc.\n",
    "    # These tokens do not add meaning to the reviews and are unneccessary to input for the model training portion"
   ]
  },
  {
   "cell_type": "markdown",
   "id": "64a14adb-2931-4c0a-bca3-a8edf55f9646",
   "metadata": {},
   "source": [
    "**B3. Padding process**\n",
    "<br>String data, whether customer reviews or otherwise, is going to be variable in length. Padding addresses this issue by making each string a uniform length by either adding or removing characters in a string. "
   ]
  },
  {
   "cell_type": "code",
   "execution_count": 24,
   "id": "1c2eb082-fd81-48eb-bb19-1fb8ae4279e0",
   "metadata": {
    "tags": []
   },
   "outputs": [
    {
     "data": {
      "text/plain": [
       "array([[ 271,  398, 1216, ...,    0,    0,    0],\n",
       "       [ 519,   13,  400, ...,    0,    0,    0],\n",
       "       [1220, 1221,  190, ...,    0,    0,    0],\n",
       "       ...,\n",
       "       [ 258,  558,    0, ...,    0,    0,    0],\n",
       "       [2731,   17,    0, ...,    0,    0,    0],\n",
       "       [ 478,   15,  468, ...,    0,    0,    0]])"
      ]
     },
     "execution_count": 24,
     "metadata": {},
     "output_type": "execute_result"
    }
   ],
   "source": [
    "# (DataCamp, Machine Translation with Keras, n.d.)\n",
    "\n",
    "# Run description_list through the tokenizer\n",
    "    # description_list, defined in B1a for preprocessing, is the list of preprocessed reviews \n",
    "    # inputting description_list in this way converts it to a list of integers using texts_to_sequences\n",
    "seqs = tokenizer.texts_to_sequences(description_list)\n",
    "\n",
    "# use pad_sequences to pad after the text sequence by specifying 'post' for both padding and truncating\n",
    "preproc_text = pad_sequences(seqs, padding='post', truncating='post', maxlen=review_max)\n",
    "\n",
    "preproc_text"
   ]
  },
  {
   "cell_type": "code",
   "execution_count": 26,
   "id": "180950c1-62de-4ed3-8d02-c198a619e78f",
   "metadata": {
    "tags": []
   },
   "outputs": [
    {
     "name": "stdout",
     "output_type": "stream",
     "text": [
      "[1220 1221  190  207  324  172  741    4  273  742   31  325   27   13\n",
      "  274   45   98  193  326 1222    0    0    0    0    0    0    0    0\n",
      "    0    0    0    0    0    0    0    0    0    0    0    0    0    0\n",
      "    0    0    0    0    0    0    0    0    0    0    0    0    0    0\n",
      "    0    0    0    0    0    0    0    0    0    0    0    0    0    0\n",
      "    0    0    0    0    0    0    0    0    0    0    0    0    0    0\n",
      "    0    0    0    0    0    0    0    0    0    0    0    0    0    0\n",
      "    0    0    0    0    0    0    0    0    0    0    0    0    0    0\n",
      "    0    0    0    0    0    0    0    0    0    0    0    0    0    0\n",
      "    0    0    0    0    0    0    0    0    0    0    0    0    0    0\n",
      "    0    0    0    0    0    0    0    0    0    0    0    0    0    0\n",
      "    0    0    0    0    0    0    0    0    0    0    0    0    0    0\n",
      "    0    0    0    0    0    0    0    0    0    0    0    0    0    0\n",
      "    0    0    0    0    0    0    0    0    0    0    0    0    0    0\n",
      "    0    0    0    0    0    0    0    0    0    0    0    0    0    0\n",
      "    0    0    0    0    0    0    0    0    0    0    0    0    0    0\n",
      "    0    0    0    0    0    0    0    0    0    0    0    0    0    0\n",
      "    0    0    0    0    0    0    0    0    0    0    0    0    0    0\n",
      "    0    0    0    0    0    0    0    0    0    0    0    0    0    0\n",
      "    0    0    0    0    0    0    0    0    0    0    0    0    0    0\n",
      "    0    0    0    0    0    0    0    0    0    0    0    0    0    0\n",
      "    0    0    0    0    0    0    0    0    0    0    0    0    0    0\n",
      "    0    0    0    0    0    0    0    0    0    0    0    0    0    0\n",
      "    0    0    0    0    0    0    0    0    0    0    0    0    0    0\n",
      "    0    0    0    0    0    0    0    0    0    0    0    0    0    0\n",
      "    0    0    0    0    0    0    0    0    0    0    0    0    0    0\n",
      "    0    0    0    0    0    0    0    0    0    0    0    0    0    0\n",
      "    0    0    0    0    0    0    0    0    0    0    0    0    0    0\n",
      "    0    0    0    0    0    0    0    0    0    0    0    0    0    0\n",
      "    0    0    0    0    0    0    0    0    0    0    0    0    0    0\n",
      "    0    0    0    0    0    0    0    0    0    0    0    0    0    0\n",
      "    0    0    0    0    0    0    0    0    0    0    0    0    0    0\n",
      "    0    0    0    0    0    0    0    0    0    0    0    0    0    0\n",
      "    0    0    0    0    0    0    0    0    0    0    0    0    0    0\n",
      "    0    0    0    0    0    0    0    0    0    0    0    0    0    0\n",
      "    0    0    0    0    0    0    0    0    0    0    0    0    0    0\n",
      "    0    0    0    0    0    0    0    0    0    0    0    0    0    0\n",
      "    0    0    0    0    0    0    0    0    0    0    0    0    0    0\n",
      "    0    0    0    0    0    0    0    0    0    0    0    0    0    0\n",
      "    0    0    0    0    0    0    0    0    0    0    0    0    0    0\n",
      "    0    0    0    0    0    0    0    0    0    0    0    0    0    0\n",
      "    0    0    0    0    0    0    0    0    0    0    0    0    0    0\n",
      "    0    0    0    0    0    0    0    0    0    0    0    0    0    0\n",
      "    0    0    0    0    0    0    0    0    0    0    0    0    0    0\n",
      "    0    0    0    0    0    0    0    0    0    0    0    0    0    0\n",
      "    0    0    0    0    0    0    0    0    0    0    0    0    0    0\n",
      "    0    0    0    0    0    0    0    0    0    0    0    0    0    0\n",
      "    0    0    0    0    0    0    0    0    0    0    0    0    0    0\n",
      "    0    0    0    0    0    0    0    0    0    0    0    0    0    0\n",
      "    0    0    0    0    0    0    0    0    0    0    0    0    0    0\n",
      "    0    0    0]\n",
      "attempting artiness black white clever camera angle movie disappointed became even ridiculous acting wa poor plot line almost non existent\n",
      "attempting artiness black white clever camera angle movie disappointed became even ridiculous acting wa poor plot line almost non existent\n"
     ]
    }
   ],
   "source": [
    "# Output a single padded sentence: \n",
    "\n",
    "to_words = tokenizer.sequences_to_texts(preproc_text)\n",
    "to_words[2]\n",
    "\n",
    "print(preproc_text[2])\n",
    "print(description_list[2])\n",
    "print(to_words[2])"
   ]
  },
  {
   "cell_type": "markdown",
   "id": "0ccd185b-abd6-4c30-a1ae-b292f94cb3b7",
   "metadata": {},
   "source": [
    "**B4. Categories of sentiment**\n",
    "<br>The IMDb dataset contains sentiments with one of two values: 0 and 1, with 0 representing negative sentiment and 1 representing positive sentiment. Thus, two categories of sentiment will be used in this analysis. \n",
    "\n",
    "As the sigmoid activation function is used for binary classification problems, it will be used here. "
   ]
  },
  {
   "cell_type": "code",
   "execution_count": 39,
   "id": "74175059-1aa7-4673-addf-0c2c731ce1e8",
   "metadata": {
    "tags": []
   },
   "outputs": [],
   "source": [
    "# (Elleh, n.d.)\n",
    "\n",
    "activation = 'sigmoid'\n",
    "loss = 'binary_crossentropy'\n",
    "optimizer = 'adam' \n",
    "num_epochs = 20\n",
    "\n",
    "# Define early stopping monitor \n",
    "early_stopping_monitor = EarlyStopping(patience=2)\n",
    "\n",
    "model = tf.keras.Sequential([\n",
    "    tf.keras.layers.Embedding(word_count, review_max, input_length=review_max),\n",
    "    tf.keras.layers.GlobalAveragePooling1D(),\n",
    "    tf.keras.layers.Dense(100, activation='relu'),\n",
    "    tf.keras.layers.Dense(50, activation='relu'),\n",
    "    tf.keras.layers.Dense(2, activation=activation)\n",
    "])\n",
    "\n",
    "model.compile(loss=loss,optimizer=optimizer,metrics=['accuracy'])\n",
    "\n",
    "# A model summary is printed in section C1"
   ]
  },
  {
   "cell_type": "code",
   "execution_count": 32,
   "id": "00a06b43-d4c1-4017-8597-9ec879929b44",
   "metadata": {
    "tags": []
   },
   "outputs": [],
   "source": [
    "# The final preprocessing step is to split the data into train and test sets\n",
    "# Splitting the data:\n",
    "\n",
    "# In order for the model to be trained, X and y need some modifications to their shape\n",
    "# X is the padded sequences:\n",
    "padded_X = pad_sequences(seqs, padding='post', truncating='post', maxlen=review_max)\n",
    "padded_X\n",
    "\n",
    "# Define X and y to \n",
    "X = padded_X\n",
    "y = description_df['Sentiment'].values\n",
    "\n",
    "X_train, X_test, y_train, y_test = train_test_split(X, y, test_size=0.2, random_state=100)"
   ]
  },
  {
   "cell_type": "code",
   "execution_count": 33,
   "id": "22aecbd6-3eaa-45ea-8bad-4e1a5ee48a58",
   "metadata": {
    "tags": []
   },
   "outputs": [],
   "source": [
    "# With y_test and y_train defined, y can be one-hot encoded.\n",
    "    # Re-define y_test and y_train as such\n",
    "# (StackOverflow, 2019)\n",
    "y_train = to_categorical(y_train, num_classes=2)\n",
    "y_test = to_categorical(y_test, num_classes=2)"
   ]
  },
  {
   "cell_type": "markdown",
   "id": "a92fd463-38c0-40bc-b41d-04836bc9932a",
   "metadata": {},
   "source": [
    "**B5. Steps to prepare the data**\n",
    "<br>The preceding code accomplishes the preprocessing steps necessary for this analysis. To recap, the following has been completed:\n",
    "1. Packages were imported.\n",
    "2. The dataset was imported.\n",
    "3. Exploratory data analysis was performed.\n",
    "4. The data was cleaned. \n",
    "5. Total vocabulary count was computed.\n",
    "6. Proposed word embedding length was computed.\n",
    "7. Maximum sequence length was computed.\n",
    "8. The data was tokenized.\n",
    "9. The data was padded.\n",
    "10. Number of categories was determined.\n",
    "11. The model was instantiated.\n",
    "12. The data was split into train and test sets. \n",
    "\n",
    "An 80-20 split was used for creating the train and test sets, as this is the standard split for model-building. With the data split into train and test sets, their size can be inspected: "
   ]
  },
  {
   "cell_type": "code",
   "execution_count": 36,
   "id": "e6b63e3b-c239-4273-9876-1a40c5a0e106",
   "metadata": {
    "tags": []
   },
   "outputs": [
    {
     "name": "stdout",
     "output_type": "stream",
     "text": [
      "X_train shape: (598, 703)\n",
      "X_test shape: (150, 703)\n",
      "y_train shape: (598, 2)\n",
      "y_test shape: (150, 2)\n"
     ]
    }
   ],
   "source": [
    "# Inspect shape of train and test sets\n",
    "print(\"X_train shape:\",X_train.shape)\n",
    "print(\"X_test shape:\",X_test.shape)\n",
    "print(\"y_train shape:\",y_train.shape)\n",
    "print(\"y_test shape:\",y_test.shape)"
   ]
  },
  {
   "cell_type": "markdown",
   "id": "a288ad2d-5c82-4f03-b15a-3e5996e23033",
   "metadata": {},
   "source": [
    "**B6. Prepared data**\n",
    "<br>The prepared data is downloadable via the code below."
   ]
  },
  {
   "cell_type": "code",
   "execution_count": 37,
   "id": "07047c0c-6480-4aa0-a221-8995118cbd1f",
   "metadata": {
    "tags": []
   },
   "outputs": [],
   "source": [
    "# Train and test data:\n",
    "X_train_df = pd.DataFrame(X_train)\n",
    "X_test_df = pd.DataFrame(X_test)\n",
    "y_train_df = pd.DataFrame(y_train)\n",
    "y_test_df = pd.DataFrame(y_test)\n",
    "\n",
    "pd.DataFrame(X_train_df).to_csv(\"C:/Users/psuik/Desktop/WGU/D213/x_train_D213_task2.csv\")\n",
    "pd.DataFrame(X_test_df).to_csv(\"C:/Users/psuik/Desktop/WGU/D213/x_test_D213_task2.csv\")\n",
    "pd.DataFrame(y_train_df).to_csv(\"C:/Users/psuik/Desktop/WGU/D213/y_train_D213_task2.csv\")\n",
    "pd.DataFrame(y_test_df).to_csv(\"C:/Users/psuik/Desktop/WGU/D213/y_test_D213_task2.csv\")\n",
    "\n",
    "# Cleaned dataframe in full:\n",
    "pd.DataFrame(description_df).to_csv(\"C:/Users/psuik/Desktop/WGU/D213/cleaned_df_D213_task2.csv\")"
   ]
  },
  {
   "cell_type": "markdown",
   "id": "0e78f0fc-67b4-4361-b8b3-cf002a068e67",
   "metadata": {},
   "source": [
    "### Part III: Network Architecture\n",
    "\n",
    "**C1. Model Summary**\n",
    "<br>The output of the model summary of the function from TensorFlow is printed below."
   ]
  },
  {
   "cell_type": "code",
   "execution_count": 40,
   "id": "f3ba1ef5-6f52-43d1-90fd-0544037331e7",
   "metadata": {
    "tags": []
   },
   "outputs": [
    {
     "name": "stdout",
     "output_type": "stream",
     "text": [
      "Model: \"sequential_2\"\n",
      "_________________________________________________________________\n",
      " Layer (type)                Output Shape              Param #   \n",
      "=================================================================\n",
      " embedding_2 (Embedding)     (None, 703, 703)          2349426   \n",
      "                                                                 \n",
      " global_average_pooling1d_2  (None, 703)               0         \n",
      "  (GlobalAveragePooling1D)                                       \n",
      "                                                                 \n",
      " dense_6 (Dense)             (None, 100)               70400     \n",
      "                                                                 \n",
      " dense_7 (Dense)             (None, 50)                5050      \n",
      "                                                                 \n",
      " dense_8 (Dense)             (None, 2)                 102       \n",
      "                                                                 \n",
      "=================================================================\n",
      "Total params: 2424978 (9.25 MB)\n",
      "Trainable params: 2424978 (9.25 MB)\n",
      "Non-trainable params: 0 (0.00 Byte)\n",
      "_________________________________________________________________\n"
     ]
    }
   ],
   "source": [
    "model.summary()"
   ]
  },
  {
   "cell_type": "code",
   "execution_count": 60,
   "id": "d087cb8a-39fd-43ca-a0c1-c26a92f5f719",
   "metadata": {
    "tags": []
   },
   "outputs": [
    {
     "name": "stdout",
     "output_type": "stream",
     "text": [
      "Epoch 1/20\n",
      "9/9 [==============================] - 1s 66ms/step - loss: 0.0561 - accuracy: 0.9833 - val_loss: 0.6960 - val_accuracy: 0.7333\n",
      "Epoch 2/20\n",
      "9/9 [==============================] - 0s 56ms/step - loss: 0.0470 - accuracy: 0.9904 - val_loss: 0.6911 - val_accuracy: 0.7389\n",
      "Epoch 3/20\n",
      "9/9 [==============================] - 0s 54ms/step - loss: 0.0611 - accuracy: 0.9809 - val_loss: 0.6371 - val_accuracy: 0.7667\n",
      "Epoch 4/20\n",
      "9/9 [==============================] - 0s 54ms/step - loss: 0.0417 - accuracy: 0.9833 - val_loss: 0.5802 - val_accuracy: 0.7500\n",
      "Epoch 5/20\n",
      "9/9 [==============================] - 0s 55ms/step - loss: 0.0379 - accuracy: 0.9928 - val_loss: 0.6080 - val_accuracy: 0.7333\n",
      "Epoch 6/20\n",
      "9/9 [==============================] - 1s 61ms/step - loss: 0.0446 - accuracy: 0.9928 - val_loss: 0.7253 - val_accuracy: 0.7333\n"
     ]
    }
   ],
   "source": [
    "# With the model constructed, it can be trained on the training data\n",
    "# (Elleh, n.d.)\n",
    "history = model.fit(X_train, y_train, epochs=20, batch_size=50, validation_split=0.3, \n",
    "                    callbacks=[early_stopping_monitor], verbose=True)"
   ]
  },
  {
   "cell_type": "markdown",
   "id": "6c76a8ac-0cd4-46cf-9286-968a63b0d6a5",
   "metadata": {},
   "source": [
    "**C2. Network architecture**\n",
    "<br>The network is made up of 5 layers.\n",
    "\n",
    "Layer 1: Embedding\n",
    "parameters: 2,349,426\n",
    "\n",
    "Layer 2: GlobalAverage\n",
    "parameters: 0\n",
    "\n",
    "Layer 3: Dense\n",
    "parameters: 70,400 \n",
    "\n",
    "Layer 4: Dense\n",
    "parameters: 5,050\n",
    "\n",
    "Layer 5: Dense\n",
    "parameters: 102\n",
    "\n",
    "The total number of parameters is 2,424,978. All of the parameters are trainable. "
   ]
  },
  {
   "cell_type": "markdown",
   "id": "d16bd0cf-8dc8-4d22-8d52-1d27b40304b4",
   "metadata": {},
   "source": [
    "**C3. Hyperparameters**\n",
    "<br>C3a. Activation function: \n",
    "<br>The sigmoid activation function was chosen because this neural network is dealing with binary data.\n",
    "\n",
    "<br>C3b. Number of nodes per layer: \n",
    "<br>The first dense layer contains 100 nodes, the second 50, and the third 2.\n",
    "\n",
    "<br>C3c. Loss function: \n",
    "<br>Binary crossentropy was chosen for the fact that the sentiment values are binary (0 and 1).\n",
    "\n",
    "<br>C3d. Optimizer: \n",
    "<br>The Adam optimizer is a commonly used optimization algorithm. Its benefits include its ease of implementation and computational efficiency (Elleh, n.d.).\n",
    "\n",
    "<br>C3e. Stopping criteria: \n",
    "<br>Stopping criteria is used to prevent overfitting on the training data, which improves performance of the final model as it is fed unseen data. The model will stop running after its performance plateau from one epoch to the next. Stopping criteria is determined by the 'patience' parameter established in the model-building step. Here, patience is set to 2. This means that during training, the model will not run more than 2 times without seeing an improvement, thus stopping the training. \n",
    "\n",
    "<br>C3f. Evaluation metric: \n",
    "<br>Accuracy is the selected evaluation metric, calculated below:"
   ]
  },
  {
   "cell_type": "code",
   "execution_count": 71,
   "id": "03a8caa3-dd9d-4fc2-afce-115a8d7f35cb",
   "metadata": {
    "tags": []
   },
   "outputs": [
    {
     "name": "stdout",
     "output_type": "stream",
     "text": [
      "Test accuracy: {0.7200000286102295}\n"
     ]
    }
   ],
   "source": [
    "# Model accuracy - test data: \n",
    "score = model.evaluate(X_test, y_test_one_hot, verbose=0)\n",
    "print('Test accuracy:', {score[1]})"
   ]
  },
  {
   "cell_type": "code",
   "execution_count": 72,
   "id": "3a40d18e-57ba-4f8c-ad42-ca5e6a491c92",
   "metadata": {
    "tags": []
   },
   "outputs": [
    {
     "name": "stdout",
     "output_type": "stream",
     "text": [
      "Train accuracy: {0.9080267548561096}\n"
     ]
    }
   ],
   "source": [
    "# For comparison, model accuracy of the train data:  \n",
    "score = model.evaluate(X_train, y_train_one_hot, verbose=0)\n",
    "print('Train accuracy:', {score[1]})"
   ]
  },
  {
   "cell_type": "markdown",
   "id": "20438e69-70dd-4073-bf4e-3e254eaff01b",
   "metadata": {},
   "source": [
    "### Part IV: Model Evaluation\n",
    "\n",
    "**D1. Stopping criteria**\n",
    "<br>As discussed in C3e, stopping criteria helps to prevent overfitting. Stopping criteria for the neural network created here is set to 2, meaning the model will not run more than two successive times if it does not see improvement. The number of epochs is set to 20. This means that the model will run through a maximum of 20 iterations before stopping. If the stopping criteria of the model is met prior to these 20 epochs being run, however, the model will stop running prior to these 20 iterations. \n",
    "\n",
    "A screenshot of the final training epoch is included below: "
   ]
  },
  {
   "attachments": {
    "7658ec9f-591c-4bbe-8edf-9b556574cfda.png": {
     "image/png": "[encoded data removed]"
    }
   },
   "cell_type": "markdown",
   "id": "3b5eceec-0a1e-45a1-a4c1-d92481a6e73e",
   "metadata": {
    "tags": []
   },
   "source": [
    "![image.png](attachment:7658ec9f-591c-4bbe-8edf-9b556574cfda.png)"
   ]
  },
  {
   "cell_type": "markdown",
   "id": "081270a5-e125-449b-b597-1f1868f0fd7f",
   "metadata": {},
   "source": [
    "**D2. Fitness**\n",
    "<br>The model's fitness is measured on the chosen evaluation criteria, which in this case is its accuracy. The model's accuracy scores are computed in section C3f, and come out to:\n",
    "* Test accuracy: 0.720\n",
    "* Train accuracy: 0.908\n",
    "\n",
    "As discussed in prior sections, overfitting is mitigating through use of stopping criteria, which is determined here by a patience of 2.\n",
    "\n",
    "**D3. Training process**\n",
    "<br>The model's training process is demonstrated in section C1. Line graphs of the model's loss and accuracy are below:"
   ]
  },
  {
   "cell_type": "code",
   "execution_count": 80,
   "id": "aedbef6b-758c-431c-b6ff-619315c470ed",
   "metadata": {
    "tags": []
   },
   "outputs": [
    {
     "data": {
      "image/png": "[encoded data removed]",
      "text/plain": [
       "<Figure size 640x480 with 1 Axes>"
      ]
     },
     "metadata": {},
     "output_type": "display_data"
    }
   ],
   "source": [
    "# Loss:\n",
    "# (WGU, n.d.)\n",
    "plt.plot(history.history['loss'], label='loss')\n",
    "plt.plot(history.history['val_loss'], label='validation loss')\n",
    "plt.xlabel('Epoch')\n",
    "plt.ylabel('Loss Score')\n",
    "plt.legend()\n",
    "plt.show()"
   ]
  },
  {
   "cell_type": "code",
   "execution_count": 81,
   "id": "b4a4fdc3-fa8f-4cc3-95ce-af9f7f179568",
   "metadata": {
    "tags": []
   },
   "outputs": [
    {
     "data": {
      "image/png": "[encoded data removed]",
      "text/plain": [
       "<Figure size 640x480 with 1 Axes>"
      ]
     },
     "metadata": {},
     "output_type": "display_data"
    }
   ],
   "source": [
    "# Accuracy:\n",
    "# (WGU, n.d.)\n",
    "plt.plot(history.history['accuracy'], label='accuracy')\n",
    "plt.plot(history.history['val_accuracy'], label='validation accuracy')\n",
    "plt.xlabel('Epoch')\n",
    "plt.ylabel('Accuracy Score')\n",
    "plt.legend()\n",
    "plt.show()"
   ]
  },
  {
   "cell_type": "markdown",
   "id": "530def2c-6272-4fa5-8d29-e72b17b1c5f5",
   "metadata": {},
   "source": [
    "**D4. Predictive accuracy**\n",
    "<br>The predictive accuracy of the model, based on its accuracy score, is the calculated test accuracy, which comes out to: **Test accuracy: 0.720**.\n",
    "\n",
    "With an accuracy score of 0.720, or 72%, this indicates that the model will correctly predict a viewer's sentiment on 72% of the text inputs it is given."
   ]
  },
  {
   "cell_type": "markdown",
   "id": "dceb2ebd-5f2b-4d59-818c-6db21050d65e",
   "metadata": {},
   "source": [
    "### Part V: Summary and Recommendations\n",
    "\n",
    "**E. Code**\n",
    "<br>The code below saves the trained network within the neural network."
   ]
  },
  {
   "cell_type": "code",
   "execution_count": 82,
   "id": "514b4de1-cef3-4465-a409-22e073250dd0",
   "metadata": {
    "tags": []
   },
   "outputs": [],
   "source": [
    "model.save('SentimentAnalysisModel.h5')"
   ]
  },
  {
   "cell_type": "markdown",
   "id": "41c63818-bd2b-4fbb-aac6-22c48a77cc05",
   "metadata": {},
   "source": [
    "**F. Functionality**\n",
    "<br>The dataset used in this analysis is made up of 748 rows, or 748 movie viewers' reviews of films. The model created here was trained on 80%, or 598, of the rows, and tested on 20%, or 150 of the rows. Functionally, the model cosntructed here was able to accurately predict sentiment for 91% of reviews in the train dataset; and as mentioned in D4, the model accurately predicted sentiment for 72% of reviews in the test dataset. \n",
    "\n",
    "The architecture of this neural network model, determined by the chosen parameters, most certainly impacted these scores. \n",
    "\n",
    "**G. Recommendations**\n",
    "<br>Before a recommendation is made, the question posed in section A1, **\"Can a future movie reviews be predicted to have a positive or negative sentiment based on past reviews from other moviegoers?**, will be answered: \n",
    "Based on the accuracy score of the test dataset, **yes**, it is possible to **build a model that will accurately predict how a viewer feels about a film based on the words they use in their review**. With this, the objective set in section A2 is met satisfactorily. \n",
    "\n",
    "These answers are based on the test set accuracy of 0.720, which indicates that the model performs sufficiently in predicting positive or negative reviewer sentiment about a film. With a sufficient understanding of moviegoer sentiment, those in the filmmaking industry can base their understanding of trends in viewer sentiment, which can aid in future decision-making.\n",
    "\n",
    "While this 72% accuracy is deemed sufficient, there is certainly room to improve the model. This can be accomplished by collecting more movie viewers' opinions in order to be able to feed this new data into the model created here in order to improve its accuracy.\n",
    "\n",
    "To summarize the recommendations of this report: \n",
    "* The neural network created here is sufficient in determining positive or negative movie viewer sentiment.\n",
    "* The neural network can be improved by increasing the size of the training dataset. "
   ]
  },
  {
   "cell_type": "markdown",
   "id": "8f04bfbf-ea2c-48a2-b6ef-d53e40778f41",
   "metadata": {},
   "source": [
    "### Part VI: Reporting\n",
    "\n",
    "**H. Reporting**\n",
    "<br>This report is submitted in two formats-- the Jupyter Notebook in a .ipynb file + an HTML version.\n",
    "\n",
    "**I. Sources for third-party code**\n",
    "\n",
    "Elleh, F. D213 Task 2 Cohort Webinar [PowerPoint Slides].\n",
    "\n",
    "Machine Translation with Keras | Part 2: Preprocessing the text [DataCamp Slides]. https://campus.datacamp.com/pdf/web/viewer.html?file=https://projector-video-pdf-converter.datacamp.com/17605/chapter3.pdf#page=12 \n",
    "\n",
    "(2019, March 1). Tensorflow estimator ValueError: Logits and labels must have the same shape ((?, 1) vs (?,)). StackOverflow. Retrieved February 13, 2024, from https://stackoverflow.com/questions/48851558/tensorflow-estimator-valueerror-logits-and-labels-must-have-the-same-shape \n",
    "\n",
    "D213 Sentiment Analysis Presentation _ 3_default_da1cc82b [Webinar]. WGU. https://wgu.hosted.panopto.com/Panopto/Pages/Viewer.aspx?id=fe172002-6cbb-40c0-92a3-b07d01025504 \n",
    "\n",
    "**J. Sources**\n",
    "\n",
    "Awan, A. A. (2023, September 1). What is Tokenization? DataCamp. Retrieved February 12, 2024, from https://www.datacamp.com/blog/what-is-tokenization \n",
    "\n",
    "Amazon Web Services (AWS) (n.d.). What is RNN. AWS. https://aws.amazon.com/what-is/recurrent-neural-network/#:~:text=A%20recurrent%20neural%20network%20 \n",
    "\n",
    "Bansal, S. (2022, June 15). Ultimate Guide to Understand and Implement Natural Language Processing (with codes in Python). Analytics Vidhya. Retrieved February 12, 2024, from https://www.analyticsvidhya.com/blog/2017/01/ultimate-guide-to-understand-implement-natural-language-processing-codes-in-python/ \n",
    "\n",
    "Elleh, F. D213 Task 2 Cohort Webinar [PowerPoint Slides]. \n",
    "\n",
    "Introduction to TensorFlow in Python | Activation functions [DataCamp Slides]. DataCamp. https://campus.datacamp.com/pdf/web/viewer.html?file=https://projector-video-pdf-converter.datacamp.com/15108/chapter3.pdf#page=20"
   ]
  }
 ],
 "metadata": {
  "kernelspec": {
   "display_name": "Python 3 (ipykernel)",
   "language": "python",
   "name": "python3"
  },
  "language_info": {
   "codemirror_mode": {
    "name": "ipython",
    "version": 3
   },
   "file_extension": ".py",
   "mimetype": "text/x-python",
   "name": "python",
   "nbconvert_exporter": "python",
   "pygments_lexer": "ipython3",
   "version": "3.11.5"
  }
 },
 "nbformat": 4,
 "nbformat_minor": 5
}
