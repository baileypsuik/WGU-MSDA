{
 "cells": [
  {
   "cell_type": "markdown",
   "id": "2cdca7dd-4b81-44b2-b722-0a85e4373810",
   "metadata": {},
   "source": [
    "# D210: Representation and Reporting\n",
    "Western Governors University\n",
    "<br>Bailey Psuik \n",
    "<br>January 2024\n",
    "\n",
    "### Part I: Interactive Data Dashboard\n",
    "**A. Interactive dashboard**\n",
    "<br> An interactive dashboard displaying telecommunications churn data can be accessed [here via Tableau Public](https://public.tableau.com/app/profile/bailey.p4083/viz/D210TelecommunicationsDashboard/WGUvCompetitor). \n",
    "\n",
    "This dashboard displays multiple data representations to summarize data comparing the original telecommunications dataset to an additional telecommunications data set accessed through [Kaggle](https://www.kaggle.com/datasets/ashirzaki/telecomchurninsights). Interactive controls are built into the dashboard that allow the user to modify its presentation. Various key performance indicators (KPIs) are evaluated from both chosen data sets. The dashboard is built with colorblind users taken into consideration.\n",
    "\n",
    "**A1. Data sets**\n",
    "<br> The data sets that serve as the data sources for this dashboard are: \n",
    "* The provided data set from WGU on telecommunications churn\n",
    "* Data from a \"competitor\" telecommunications company, accessed via [Kaggle](https://www.kaggle.com/datasets/ashirzaki/telecomchurninsights)\n",
    "\n",
    "The individual data sets were joined on their respective corresponding fields, some of which were re-encoded as necessary to allow for proper alignment of the data. The full code used to accomplish this is included in the appendix of this report.\n",
    "\n",
    "**A2. Installation instructions**\n",
    "<br> The dashboard is accessible [via Tableau Public](https://public.tableau.com/app/profile/bailey.p4083/viz/D210TelecommunicationsDashboard/WGUvCompetitor). Tableau Public allows dashboard users to view and interact with the dashboard in an internet browser. Users also have the option to download the dashboard for their convenience should they choose to do so. No further installation is necessary to utilize the dashboard.\n",
    "\n",
    "**A3. Navigation instructions**\n",
    "<br> The dashboard has two distinct sections-- visualizations created from the original data set (\"Our Customers - WGU Telecom\"), and visualizations that compare both the original and the additional data set (\"WGU Telecom versus Competitor\"). \n",
    "\n",
    "The two maps on the left-hand side of the dashboard display information on WGU Telecom's customers: \n",
    "* *Average Tenure by State*: This displays the average tenure, in months, by which state customers live in. There are two pages to view: one for customers who churned (\"Yes\") and one for customers who did not (\"No\"). The dropdown menu or the arrows beneath this map allow users to toggle between the two pages. The sliding scale for average tenure is also interactive, allowing users to view a smaller subset of tenure length. A color scale is provided for reference, with darker orange representing longer average tenure. Users can also hover over individual states to view details for that state, and zoom in and out of the map as needed.\n",
    "* *Median Annual Income by State*: This displays the median annual income of customers by state. Users can hover over individual states to view details for that state, and zoom in and out of the map as needed. A color scale is provided for reference, with darker blues corresponding with higher median income.\n",
    "\n",
    "The visualizations on the right-hand side show information comparing WGU Telecom's customers to a competing company:\n",
    "* *Monthly Charges*: Average monthly charges for all customers are displayed on the horizontal bar graphs, broken up by provider. Beneath the combined horizontal bar graph is an additional graph displaying average monthly charges broken down by both provider and churn.\n",
    "* *Customer Tenure by Household Residents*: Average tenure, in months, for customers is shown on the heat map broken down both by provider and household members. A color scale is provided for reference, where darker shades of purple correspond with higher average tenure. Different combinations of customer types are displayed on the heatmap. Average tenure is broken down by whether or not customers have a partner, are a senior citizen, and if they have dependents. Users can hover over the values in the heatmap to focus on a single combination of household members. \n",
    "* *Churn Rates by Service*: This heat map displays the percentages of total churn for different combinations of chosen services. Users can toggle between pages using the dropdown menu or its adjacent arrows to toggle between pages that separate the heat map by provider. A color scale is provided for reference, where darker green corresponds to higher rates of churn. \n",
    "\n",
    "### Part II: Storytelling with Data\n",
    "\n",
    "**B. Panopto Storytelling with Data**\n",
    "<br> A Panopto presentation discussing the chosen data sets, results of their visual analysis, and actionable insights, is provided separately.\n",
    "\n",
    "### Part III: Reflection Paper\n",
    "\n",
    "**C1. Dashboard Alignment**\n",
    "<br> Executive level decision-makers for WGU Telecom are interested in improving customer recruitment and retention, as well as launching new product features. The team is interested in key customer characteristics, behavior and demographics. The purpose of the dashboard is to uncover insights about WGU Telecom's customers, in addition to finding areas that can allow them to improve customer retention, recruit more customers, and offer improved products for these customers. By analyzing internal data from WGU Telecom and comparing it to similar data collected by a rival company, the dashboard provides the team with insights into this data, and how to reach their goals. \n",
    "\n",
    "**C2. Additional data set insights**\n",
    "<br> Variables in the additional data set chosen to support this analysis allowed for close comparison of the two data sets, as the original data had many overlapping fields with the add-on data set. Key demographic information covering factors like age, dependents and relationship status, along with customers' selected services with their respective companies, allowed for enhanced insights to be drawn from direct comparison of multiple variables. The additional data set serves as a basis for comparison, helping to guide conclusions about the original data set and suggest improvements that WGU Telecom can make.\n",
    "\n",
    "**C3. Decision-making support**\n",
    "<br> Executive leaders can benefit from using the following data representations in their decision-making:\n",
    "* *Customer Tenure by Household Residents*: While WGU Telecom's average tenure is fairly consistent among the different groups, the competitor firm's numbers show a clear difference in customers with and without partners. This insight can aid decision-making as it points to the fact that WGU Telecom has room for improvement in average tenure for its customers who have partners. \n",
    "* *Churn Rates by Service*: Leaders can benefit from this visualization by gaining insight into which products need improvements. The key insight from this visualization is that it demonstrates that the highest churn rates for both companies are among those customers who have phone service through their respective provider. Decision-makers can learn from this insight and set in motion efforts to improve their phone services. \n",
    "\n",
    "**C4. Interactive controls**\n",
    "<br> The dashboard provides two visualizations with interactive controls: \n",
    "* *Average Tenure by State*: This visualization is separated by pages, one of which shows information for customers who have churned (\"Yes\") and those who have not (\"No\"). This allows for the user to compare and contrast tenure length based on this KPI. Additionally, the sliding scale included along with this visual allows for users to narrow down tenure length and get a closer look at state-by-state tenure.\n",
    "* *Churn Rates by Service*: This visualization also allows users to view two separate pages, which are separated by provider. Toggling between pages allows for users to view data on one company at a time. The provided check boxes allow for users to narrow down different combinations of customers' services to compare churn rates for a smaller subset of services as well.\n",
    " \n",
    "**C5. Colorblindness**\n",
    "<br> Approximately 8% of men and .05% of women are considered colorblind (Shaffer, 2016). This dashboard takes colorblindness into account and provides visualizations that are accessible to all users regardless of whether or not they can see the full spectrum of color. To ensure inclusivity for colorblind users, it is advised to use visualizations that do not rely on interpretation of color as much as possible. The bar charts included in this dashboard do not rely on color differentiation for their interpretation (though the color does aid in this understanding). Sometimes, though, the most effective way to show patterns and outcomes in data is through use of color. When visualizing data, a common color scheme is to utilize red for negative insights, and green for positive ones. However, colorblind users often have trouble distinguishing between these two colors and they view them very similarly, unlike a person without colorblindness who can see the stark contrast between them. To mitigate this issue, this dashboard makes use of varying shades of colors within its visualizations, as colorblind users are typically able to distinguish between light and dark.\n",
    "\n",
    "**C6. Data representations**\n",
    "<br> Data representations included in the presentation that support the story being told include: \n",
    "* *Average Tenure by State*: This visualization represents the clear difference in average tenure for customers who churned and customers who did not. This contrast confirms what the team previously understood, and helps illustrate the story of how longer customer tenure typically corresponds to reduced rates of churn. \n",
    "* *Monthly Charges*: Here, it is demonstrated that WGU Telecom is charging more on average for their services. This visualization helps guide the story being told by the data, as it suggests that churn could potentially be reduced in part by decreasing monthly charges for customers.\n",
    "\n",
    "**C7. Audience analysis**\n",
    "<br> The audience for this presentation is made up of executive leaders for WGU Telecom including the Senior Vice President for Customer Experience, the Executive Vice President of Sales, and a panel of Regional Vice Presidents, along with a group of data analyst peers from the internal team. While the data analysts in the audience would be able to grasp more minute details about the data, it was crucial that the executive-level team was able to gain key insights from the presentation and thus the presentation is adapted for their understanding. \n",
    "\n",
    "Executive leaders are interested in simple explanations of the insights gathered from the data, i.e. how WGU Telecom has a higher average monthly charge than the competing firm, or how longer customer tenure corresponds to higher customer retention rates. These leaders are also interested in specific action items that can improve the business and help the company reach its goals, i.e. how a loyalty discount could help to retain customers and thus decrease churn, or how a referral program could help the company recruit customers who are likely to have a long tenure length.\n",
    "\n",
    "**C8. Universal access**\n",
    "<br> The presentation is designed for universal access by users inside of the company and any other users who may be interested in the data. The dashboard and all of its functional capabilities are accessible via Tableau Public, in which users can interact with the dashboard within their web browser. With Tableau Public, there is no need for users of any kind to download additional programs onto their device, making it accessible to anyone with a web browser and access to the internet.\n",
    "\n",
    "Accessibility needs for different audiences are addressed by taking into consideration users with visual impairments. The dashboard makes use of color in such a way that colorblind users are able to interpret effectively, as is described in section C5 above. In the case that a user has further visual impairment, a walkthrough of the dashboard and its findings is covered in the Panopto presentation that accompanies this report. \n",
    "\n",
    "Labels are added to the dashboard where necessary in order to aid the readability and interpretation of the dashboard. Labels are clearly articulated, and utilize a high contrast, readable font. \n",
    "\n",
    "**C9. Effective storytelling**\n",
    "<br> Effective storytelling involves keeping visualizations clear, concise, and clutter-free. It is also advised that colors are used effectively to guide users' understanding of the data. Additionally, it is best practice to cater the story to the audience it is being told to.\n",
    "\n",
    "This presentation implements the following effective storytelling elements: \n",
    "* Colors are used effectively to demonstrate differences in values. Use of color here is intended to engage the audience by presenting clear contrasts among the variations in data and allowing viewers to gain an understanding in this way. The color palettes chosen also cater to colorblind users, who can engage in this manner as well. \n",
    "* The presentation is catered to its audience of execitive-level decision-makers by keeping analysis at a high-level and translating insights into action items that will guide the company towards meeting its goals. These audience members are engaged due to the fact that the recommendations being made based on the data are ones that can aid in helping the team reach its intended outcomes, thus motivating them to remain engaged.\n",
    "\n",
    "**D. Sources**\n",
    "\n",
    "Cotton, R. (2022, September 1). Data Storytelling and Communication Cheat Sheet. DataCamp. Retrieved January 20, 2024, from https://www.datacamp.com/cheat-sheet/data-storytelling-and-communication-cheat-sheet\n",
    "\n",
    "Shaffer, J. (2016, April 20). 5 Tips on Designing Colorblind-Friendly Visualizations. Tableau. Retrieved January 20, 2024, from https://www.tableau.com/blog/examining-data-viz-rules-dont-use-red-green-together\n",
    "\n",
    "**Appendix**\n",
    "<br> The complete code used to clean both data sets and prepare them for merging is below."
   ]
  },
  {
   "cell_type": "code",
   "execution_count": 7,
   "id": "430e6217-6cca-446f-9cfc-06e48b70eec2",
   "metadata": {
    "tags": []
   },
   "outputs": [
    {
     "name": "stdout",
     "output_type": "stream",
     "text": [
      "<class 'pandas.core.frame.DataFrame'>\n",
      "RangeIndex: 10000 entries, 0 to 9999\n",
      "Data columns (total 50 columns):\n",
      " #   Column                Non-Null Count  Dtype  \n",
      "---  ------                --------------  -----  \n",
      " 0   CaseOrder             10000 non-null  int64  \n",
      " 1   Customer_id           10000 non-null  object \n",
      " 2   Interaction           10000 non-null  object \n",
      " 3   UID                   10000 non-null  object \n",
      " 4   City                  10000 non-null  object \n",
      " 5   State                 10000 non-null  object \n",
      " 6   County                10000 non-null  object \n",
      " 7   Zip                   10000 non-null  int64  \n",
      " 8   Lat                   10000 non-null  float64\n",
      " 9   Lng                   10000 non-null  float64\n",
      " 10  Population            10000 non-null  int64  \n",
      " 11  Area                  10000 non-null  object \n",
      " 12  TimeZone              10000 non-null  object \n",
      " 13  Job                   10000 non-null  object \n",
      " 14  Children              10000 non-null  int64  \n",
      " 15  Age                   10000 non-null  int64  \n",
      " 16  Income                10000 non-null  float64\n",
      " 17  Marital               10000 non-null  object \n",
      " 18  Gender                10000 non-null  object \n",
      " 19  Churn                 10000 non-null  object \n",
      " 20  Outage_sec_perweek    10000 non-null  float64\n",
      " 21  Email                 10000 non-null  int64  \n",
      " 22  Contacts              10000 non-null  int64  \n",
      " 23  Yearly_equip_failure  10000 non-null  int64  \n",
      " 24  Techie                10000 non-null  object \n",
      " 25  Contract              10000 non-null  object \n",
      " 26  Port_modem            10000 non-null  object \n",
      " 27  Tablet                10000 non-null  object \n",
      " 28  InternetService       7871 non-null   object \n",
      " 29  Phone                 10000 non-null  object \n",
      " 30  Multiple              10000 non-null  object \n",
      " 31  OnlineSecurity        10000 non-null  object \n",
      " 32  OnlineBackup          10000 non-null  object \n",
      " 33  DeviceProtection      10000 non-null  object \n",
      " 34  TechSupport           10000 non-null  object \n",
      " 35  StreamingTV           10000 non-null  object \n",
      " 36  StreamingMovies       10000 non-null  object \n",
      " 37  PaperlessBilling      10000 non-null  object \n",
      " 38  PaymentMethod         10000 non-null  object \n",
      " 39  Tenure                10000 non-null  float64\n",
      " 40  MonthlyCharge         10000 non-null  float64\n",
      " 41  Bandwidth_GB_Year     10000 non-null  float64\n",
      " 42  Item1                 10000 non-null  int64  \n",
      " 43  Item2                 10000 non-null  int64  \n",
      " 44  Item3                 10000 non-null  int64  \n",
      " 45  Item4                 10000 non-null  int64  \n",
      " 46  Item5                 10000 non-null  int64  \n",
      " 47  Item6                 10000 non-null  int64  \n",
      " 48  Item7                 10000 non-null  int64  \n",
      " 49  Item8                 10000 non-null  int64  \n",
      "dtypes: float64(7), int64(16), object(27)\n",
      "memory usage: 3.8+ MB\n"
     ]
    }
   ],
   "source": [
    "# First, import and clean original data set, churn_data\n",
    "\n",
    "# Initial package import\n",
    "import pandas as pd\n",
    "import numpy as np\n",
    "import matplotlib.pyplot as plt\n",
    "\n",
    "# .csv import\n",
    "churn_data = pd.read_csv(\"C:/Users/psuik/Desktop/WGU/D210/churn_clean.csv\")\n",
    "\n",
    "# Step 1: Profile the data for initial inspection\n",
    "churn_data.info()"
   ]
  },
  {
   "cell_type": "code",
   "execution_count": 8,
   "id": "3bd24c6a-cb58-4f6c-bc4a-697f8581910b",
   "metadata": {
    "tags": []
   },
   "outputs": [
    {
     "name": "stdout",
     "output_type": "stream",
     "text": [
      "0       False\n",
      "1       False\n",
      "2       False\n",
      "3       False\n",
      "4       False\n",
      "        ...  \n",
      "9995    False\n",
      "9996    False\n",
      "9997    False\n",
      "9998    False\n",
      "9999    False\n",
      "Length: 10000, dtype: bool\n",
      "False    10000\n",
      "Name: count, dtype: int64\n"
     ]
    }
   ],
   "source": [
    "# Step 2: Identify and treat duplicate values\n",
    "\n",
    "# Return duplicate values as True, non-duplicates as False\n",
    "print(churn_data.duplicated())\n",
    "\n",
    "# Get total counts of duplicate values\n",
    "print(churn_data.duplicated().value_counts())"
   ]
  },
  {
   "cell_type": "code",
   "execution_count": 9,
   "id": "5cff9951-b17b-42e7-b92f-59545f063dc9",
   "metadata": {
    "tags": []
   },
   "outputs": [
    {
     "name": "stdout",
     "output_type": "stream",
     "text": [
      "0       False\n",
      "1       False\n",
      "2       False\n",
      "3       False\n",
      "4       False\n",
      "        ...  \n",
      "9995    False\n",
      "9996    False\n",
      "9997    False\n",
      "9998    False\n",
      "9999    False\n",
      "Name: Customer_id, Length: 10000, dtype: bool\n",
      "Customer_id\n",
      "False    10000\n",
      "Name: count, dtype: int64\n"
     ]
    }
   ],
   "source": [
    "# True = duplicate, False = non-duplicate\n",
    "# 10,000 False values ==> No complete duplicates exist \n",
    "\n",
    "# Check for duplicate values in Customer_id column, since this is denoted as a unique identifier\n",
    "print(churn_data['Customer_id'].duplicated())\n",
    "print(churn_data['Customer_id'].duplicated().value_counts())"
   ]
  },
  {
   "cell_type": "code",
   "execution_count": 10,
   "id": "25511bcb-e9d0-4465-ae15-001ac8ea6130",
   "metadata": {
    "tags": []
   },
   "outputs": [
    {
     "name": "stdout",
     "output_type": "stream",
     "text": [
      "0\n"
     ]
    }
   ],
   "source": [
    "# Variables will not be re-expressed for purposes of building visualizations in Tableau\n",
    "\n",
    "# Step 4: Identify and treat missing values \n",
    "\n",
    "# Initial inspection of the data shows that only 7,871 out of 10,000 values for InternetService are non-null values\n",
    "# This means there are 2,129 missing values in this column that must be imputed\n",
    "\n",
    "# Imputation will be completed using the mode of 'InternetService', a nominal categorical variable\n",
    "mode_InternetService = churn_data['InternetService'].mode()[0]\n",
    "\n",
    "# Fill all null values in InternetService with the mode\n",
    "churn_data['InternetService'] = churn_data['InternetService'].fillna(mode_InternetService)\n",
    "\n",
    "# Confirm all missing values have been filled by returning the sum of null values in InternetService & InternetService_num\n",
    "print(churn_data['InternetService'].isnull().sum())"
   ]
  },
  {
   "cell_type": "code",
   "execution_count": 11,
   "id": "c6dd1223-1683-4496-8b7b-0a96a3cb92a8",
   "metadata": {
    "tags": []
   },
   "outputs": [
    {
     "data": {
      "image/png": "[encoded data removed]",
      "text/plain": [
       "<Figure size 1200x1200 with 14 Axes>"
      ]
     },
     "metadata": {},
     "output_type": "display_data"
    }
   ],
   "source": [
    "# Step 6: Identify and treat outliers\n",
    "\n",
    "# Visually show outliers for each quantitative variable on respective box plots\n",
    "# Import seaborn\n",
    "import seaborn as sns\n",
    "\n",
    "fig, axes = plt.subplots(nrows=7, ncols=2, figsize=(12, 12))\n",
    "\n",
    "plt.subplot(7, 2, 1)\n",
    "sns.boxplot(x='Lat', data = churn_data)\n",
    "\n",
    "plt.subplot(7, 2, 2)\n",
    "sns.boxplot(x='Lng', data = churn_data)\n",
    "\n",
    "plt.subplot(7, 2, 3)\n",
    "sns.boxplot(x='Population', data = churn_data)\n",
    "\n",
    "plt.subplot(7, 2, 4)\n",
    "sns.boxplot(x='Children', data = churn_data)\n",
    "\n",
    "plt.subplot(7, 2, 5)\n",
    "sns.boxplot(x='Age', data = churn_data)\n",
    "\n",
    "plt.subplot(7, 2, 6)\n",
    "sns.boxplot(x='Income', data = churn_data)\n",
    "\n",
    "plt.subplot(7, 2, 7)\n",
    "sns.boxplot(x='Outage_sec_perweek', data = churn_data)\n",
    "\n",
    "plt.subplot(7, 2, 8)\n",
    "sns.boxplot(x='Email', data = churn_data)\n",
    "\n",
    "plt.subplot(7, 2, 9)\n",
    "sns.boxplot(x='Contacts', data = churn_data)\n",
    "\n",
    "plt.subplot(7, 2, 10)\n",
    "sns.boxplot(x='Yearly_equip_failure', data = churn_data)\n",
    "\n",
    "plt.subplot(7, 2, 11)\n",
    "sns.boxplot(x='Tenure', data = churn_data)\n",
    "\n",
    "plt.subplot(7, 2, 12)\n",
    "sns.boxplot(x='MonthlyCharge', data = churn_data)\n",
    "\n",
    "plt.subplot(7, 2, 13)\n",
    "sns.boxplot(x='Bandwidth_GB_Year', data = churn_data)\n",
    "\n",
    "plt.tight_layout()"
   ]
  },
  {
   "cell_type": "code",
   "execution_count": 12,
   "id": "1e8d0bd1-63b0-4026-8919-c353ab257917",
   "metadata": {
    "tags": []
   },
   "outputs": [
    {
     "name": "stdout",
     "output_type": "stream",
     "text": [
      "<class 'pandas.core.frame.DataFrame'>\n",
      "RangeIndex: 7043 entries, 0 to 7042\n",
      "Data columns (total 21 columns):\n",
      " #   Column                         Non-Null Count  Dtype  \n",
      "---  ------                         --------------  -----  \n",
      " 0   CustomerID                     7043 non-null   object \n",
      " 1   Gender                         7043 non-null   object \n",
      " 2   SeniorCitizen (0: No, 1: Yes)  7043 non-null   int64  \n",
      " 3   Has_Partner                    7043 non-null   object \n",
      " 4   Has_Dependents                 7043 non-null   object \n",
      " 5   TenureMonths                   7043 non-null   int64  \n",
      " 6   Has_PhoneService               7043 non-null   object \n",
      " 7   Has_MultipleLines              7043 non-null   object \n",
      " 8   InternetServiceType            7043 non-null   object \n",
      " 9   Has_OnlineSecurity             7043 non-null   object \n",
      " 10  Has_OnlineBackup               7043 non-null   object \n",
      " 11  Has_DeviceProtection           7043 non-null   object \n",
      " 12  Has_TechSupport                7043 non-null   object \n",
      " 13  Has_StreamingTV                7043 non-null   object \n",
      " 14  Has_StreamingMovies            7043 non-null   object \n",
      " 15  ContractType                   7043 non-null   object \n",
      " 16  PaperlessBilling               7043 non-null   object \n",
      " 17  PaymentMethodType              7043 non-null   object \n",
      " 18  MonthlyCharges                 7043 non-null   float64\n",
      " 19  TotalCharges                   7043 non-null   object \n",
      " 20  Churned                        7043 non-null   object \n",
      "dtypes: float64(1), int64(2), object(18)\n",
      "memory usage: 1.1+ MB\n"
     ]
    }
   ],
   "source": [
    "# churn_data is cleaned and prepared\n",
    "# Now do the same for the competitor data\n",
    "\n",
    "# https://www.kaggle.com/datasets/ashirzaki/telecomchurninsights\n",
    "\n",
    "comp_data = pd.read_csv(\"C:/Users/psuik/Desktop/WGU/D210/TelecomChurnInsights.csv\")\n",
    "\n",
    "comp_data.info()"
   ]
  },
  {
   "cell_type": "code",
   "execution_count": 13,
   "id": "21a61e07-bab4-4d4c-9ce5-8d4dff3e8099",
   "metadata": {
    "tags": []
   },
   "outputs": [
    {
     "name": "stdout",
     "output_type": "stream",
     "text": [
      "0       False\n",
      "1       False\n",
      "2       False\n",
      "3       False\n",
      "4       False\n",
      "        ...  \n",
      "7038    False\n",
      "7039    False\n",
      "7040    False\n",
      "7041    False\n",
      "7042    False\n",
      "Length: 7043, dtype: bool\n",
      "False    7043\n",
      "Name: count, dtype: int64\n"
     ]
    }
   ],
   "source": [
    "# Step 2: Identify and treat duplicate values\n",
    "\n",
    "# Return duplicate values as True, non-duplicates as False\n",
    "print(comp_data.duplicated())\n",
    "\n",
    "# Get total counts of duplicate values\n",
    "print(comp_data.duplicated().value_counts())"
   ]
  },
  {
   "cell_type": "code",
   "execution_count": 14,
   "id": "d33c9b8a-6129-4244-b1a7-9703b35ba62a",
   "metadata": {
    "tags": []
   },
   "outputs": [
    {
     "name": "stdout",
     "output_type": "stream",
     "text": [
      "0       False\n",
      "1       False\n",
      "2       False\n",
      "3       False\n",
      "4       False\n",
      "        ...  \n",
      "7038    False\n",
      "7039    False\n",
      "7040    False\n",
      "7041    False\n",
      "7042    False\n",
      "Name: CustomerID, Length: 7043, dtype: bool\n",
      "CustomerID\n",
      "False    7043\n",
      "Name: count, dtype: int64\n"
     ]
    }
   ],
   "source": [
    "# True = duplicate, False = non-duplicate\n",
    "# 10,000 False values ==> No complete duplicates exist \n",
    "\n",
    "# Check for duplicate values in Customer_id column, since this is denoted as a unique identifier\n",
    "print(comp_data['CustomerID'].duplicated())\n",
    "print(comp_data['CustomerID'].duplicated().value_counts())"
   ]
  },
  {
   "cell_type": "code",
   "execution_count": 18,
   "id": "7ba71893-eb16-4f44-b2d8-672e55123ab4",
   "metadata": {
    "tags": []
   },
   "outputs": [
    {
     "data": {
      "text/plain": [
       "<Axes: xlabel='MonthlyCharges'>"
      ]
     },
     "execution_count": 18,
     "metadata": {},
     "output_type": "execute_result"
    },
    {
     "data": {
      "image/png": "[encoded data removed]",
      "text/plain": [
       "<Figure size 1200x300 with 2 Axes>"
      ]
     },
     "metadata": {},
     "output_type": "display_data"
    }
   ],
   "source": [
    "# Variables will not be re-expressed for purposes of building visualizations in Tableau\n",
    "\n",
    "# Step 4: Identify and treat missing values \n",
    "## Each variable has 7,043 out of 7,043 non-null values\n",
    "### There are no missing values to treat\n",
    "\n",
    "# Step 6: Identify and treat outliers\n",
    "\n",
    "# Visually show outliers for each quantitative variable on respective box plots\n",
    "# Import seaborn\n",
    "\n",
    "fig, axes = plt.subplots(nrows=1, ncols=2, figsize=(12, 3))\n",
    "\n",
    "plt.subplot(1, 2, 1)\n",
    "sns.boxplot(x='TenureMonths', data = comp_data)\n",
    "\n",
    "plt.subplot(1, 2, 2)\n",
    "sns.boxplot(x='MonthlyCharges', data = comp_data)"
   ]
  },
  {
   "cell_type": "code",
   "execution_count": 22,
   "id": "3cc91df2-ad7e-4495-92d6-1d233d63dbe6",
   "metadata": {
    "tags": []
   },
   "outputs": [
    {
     "name": "stdout",
     "output_type": "stream",
     "text": [
      "Churn: Index(['CaseOrder', 'Customer_id', 'Interaction', 'UID', 'City', 'State',\n",
      "       'County', 'Zip', 'Lat', 'Lng', 'Population', 'Area', 'TimeZone', 'Job',\n",
      "       'Children', 'Age', 'Income', 'Marital', 'Gender', 'Churn',\n",
      "       'Outage_sec_perweek', 'Email', 'Contacts', 'Yearly_equip_failure',\n",
      "       'Techie', 'Contract', 'Port_modem', 'Tablet', 'InternetService',\n",
      "       'Phone', 'Multiple', 'OnlineSecurity', 'OnlineBackup',\n",
      "       'DeviceProtection', 'TechSupport', 'StreamingTV', 'StreamingMovies',\n",
      "       'PaperlessBilling', 'PaymentMethod', 'Tenure', 'MonthlyCharge',\n",
      "       'Bandwidth_GB_Year', 'Item1', 'Item2', 'Item3', 'Item4', 'Item5',\n",
      "       'Item6', 'Item7', 'Item8'],\n",
      "      dtype='object')\n",
      "Comp: Index(['CustomerID', 'Gender', 'SeniorCitizen (0: No, 1: Yes)', 'Has_Partner',\n",
      "       'Has_Dependents', 'TenureMonths', 'Has_PhoneService',\n",
      "       'Has_MultipleLines', 'InternetServiceType', 'Has_OnlineSecurity',\n",
      "       'Has_OnlineBackup', 'Has_DeviceProtection', 'Has_TechSupport',\n",
      "       'Has_StreamingTV', 'Has_StreamingMovies', 'ContractType',\n",
      "       'PaperlessBilling', 'PaymentMethodType', 'MonthlyCharges',\n",
      "       'TotalCharges', 'Churned'],\n",
      "      dtype='object')\n"
     ]
    }
   ],
   "source": [
    "# No outliers exist for the quantitative variables\n",
    "\n",
    "## Now both data sets are cleaned and prepared\n",
    "\n",
    "### Next: Find corresponding columns on which to match the two data sets\n",
    "\n",
    "print(\"Churn:\",churn_data.columns)\n",
    "print(\"Comp:\",comp_data.columns)"
   ]
  },
  {
   "cell_type": "code",
   "execution_count": 23,
   "id": "87e1c358-b6d3-4dee-b962-adfb04051fbc",
   "metadata": {
    "tags": []
   },
   "outputs": [],
   "source": [
    "# Customer_id <> CustomerID: Rename\n",
    "comp_data.rename(columns={'CustomerID': 'Customer_id'}, inplace=True)"
   ]
  },
  {
   "cell_type": "code",
   "execution_count": 24,
   "id": "b6431307-3524-4606-ac7a-b7fd90c6c5ef",
   "metadata": {
    "tags": []
   },
   "outputs": [],
   "source": [
    "# Gender <> Gender"
   ]
  },
  {
   "cell_type": "code",
   "execution_count": 29,
   "id": "c203c1f8-1c9a-41de-a886-e1b52c28df6a",
   "metadata": {
    "tags": []
   },
   "outputs": [],
   "source": [
    "# Age <> SeniorCitizen (0: No, 1: Yes)\n",
    "\n",
    "# Update column names so they align\n",
    "churn_data.rename(columns={'Age': 'SeniorCitizen'}, inplace=True)\n",
    "comp_data.rename(columns={'SeniorCitizen (0: No, 1: Yes)': 'SeniorCitizen'}, inplace=True)\n",
    "\n",
    "# Re-encode churn_data's ages to \"Yes\" for 65+, \"No\" for all others\n",
    "dict_SeniorCitizen = {18:\"No\", 19:\"No\", 20:\"No\", 21:\"No\", 22:\"No\", 23:\"No\", 24:\"No\", 25:\"No\", 26:\"No\", 27:\"No\", 28:\"No\", 29:\"No\", 30:\"No\", 31:\"No\", 32:\"No\", 33:\"No\", 34:\"No\", 35:\"No\", 36:\"No\", 37:\"No\", 38:\"No\",\n",
    "                      39:\"No\", 40:\"No\", 41:\"No\", 42:\"No\", 43:\"No\", 44:\"No\", 45:\"No\", 46:\"No\", 47:\"No\", 48:\"No\", 49:\"No\", 50:\"No\", 51:\"No\", 52:\"No\", 53:\"No\", 54:\"No\", 55:\"No\", 56:\"No\", 57:\"No\", 58:\"No\", 59:\"No\",\n",
    "                      60:\"No\", 61:\"No\", 62:\"No\", 63:\"No\", 64:\"No\", 65:\"Yes\", 66:\"Yes\", 67:\"Yes\", 68:\"Yes\", 69:\"Yes\", 70:\"Yes\", 71:\"Yes\", 72:\"Yes\", 73:\"Yes\", 74:\"Yes\", 75:\"Yes\", 76:\"Yes\", 77:\"Yes\", 78:\"Yes\", 79:\"Yes\",\n",
    "                      80:\"Yes\", 81:\"Yes\", 82:\"Yes\", 83:\"Yes\", 84:\"Yes\", 85:\"Yes\", 86:\"Yes\", 87:\"Yes\", 88:\"Yes\", 89:\"Yes\"}\n",
    "\n",
    "churn_data['SeniorCitizen'].replace(dict_SeniorCitizen, inplace=True)\n",
    "\n",
    "# Re-encode comp_data's 1's and 0's to \"Yes\" and \"No\"\n",
    "dict_SeniorCitizen2 = {0:\"No\", 1:\"Yes\"}\n",
    "\n",
    "comp_data['SeniorCitizen'].replace(dict_SeniorCitizen2, inplace=True)"
   ]
  },
  {
   "cell_type": "code",
   "execution_count": 34,
   "id": "eed7133c-b549-4c3d-8be9-e569db69efa9",
   "metadata": {
    "tags": []
   },
   "outputs": [
    {
     "name": "stdout",
     "output_type": "stream",
     "text": [
      "['Widowed' 'Married' 'Separated' 'Never Married' 'Divorced']\n"
     ]
    }
   ],
   "source": [
    "# Marital <> Has_Partner\n",
    "\n",
    "# Update column names so they align\n",
    "churn_data.rename(columns={'Marital': 'Partner'}, inplace=True)\n",
    "comp_data.rename(columns={'Has_Partner': 'Partner'}, inplace=True)\n",
    "\n",
    "# Re-encode churn_data's marital (now 'Partner') column so that its values match comp_data's\n",
    "print(churn_data['Partner'].unique())"
   ]
  },
  {
   "cell_type": "code",
   "execution_count": 38,
   "id": "9c8f2643-fc77-46e8-9fbe-1c39ec9f3f86",
   "metadata": {
    "tags": []
   },
   "outputs": [],
   "source": [
    "dict_Partner = {'Widowed':\"No\", 'Married':\"Yes\", 'Separated':\"No\", 'Never Married':\"No\", 'Divorced':\"No\"}\n",
    "\n",
    "churn_data['Partner'].replace(dict_Partner, inplace=True)"
   ]
  },
  {
   "cell_type": "code",
   "execution_count": 41,
   "id": "eced5063-2351-47bf-9472-00135dcd1151",
   "metadata": {
    "tags": []
   },
   "outputs": [],
   "source": [
    "# Children <> Has_Dependents\n",
    "\n",
    "# Update column names so they align\n",
    "churn_data.rename(columns={'Children': 'Dependents'}, inplace=True)\n",
    "comp_data.rename(columns={'Has_Dependents': 'Dependents'}, inplace=True)\n",
    "\n",
    "dict_Dependents = {0:\"No\", 1:\"Yes\", 2:\"Yes\", 3:\"Yes\", 4:\"Yes\", 5:\"Yes\", 6:\"Yes\", 7:\"Yes\", 8:\"Yes\", 9:\"Yes\", 10:\"Yes\"}\n",
    "\n",
    "churn_data['Dependents'].replace(dict_Dependents, inplace=True)"
   ]
  },
  {
   "cell_type": "code",
   "execution_count": 48,
   "id": "0731a35c-11cc-4d1e-a852-d9a0935f7514",
   "metadata": {
    "tags": []
   },
   "outputs": [],
   "source": [
    "# Tenure <> TenureMonths\n",
    "\n",
    "comp_data.rename(columns={'TenureMonths': 'Tenure'}, inplace=True)\n",
    "\n",
    "churn_data['Tenure'] = churn_data['Tenure'].round().astype(int)"
   ]
  },
  {
   "cell_type": "code",
   "execution_count": 50,
   "id": "663e0247-e860-4fa4-8c05-3a9b6161c206",
   "metadata": {
    "tags": []
   },
   "outputs": [
    {
     "name": "stdout",
     "output_type": "stream",
     "text": [
      "['No' 'Yes']\n"
     ]
    }
   ],
   "source": [
    "# Phone <> Has_PhoneService\n",
    "\n",
    "comp_data.rename(columns={'Has_PhoneService': 'Phone'}, inplace=True)\n",
    "\n",
    "print(comp_data['Phone'].unique())"
   ]
  },
  {
   "cell_type": "code",
   "execution_count": 51,
   "id": "797ee8c2-ce49-43fb-ac08-9d63fb78d483",
   "metadata": {
    "tags": []
   },
   "outputs": [
    {
     "name": "stdout",
     "output_type": "stream",
     "text": [
      "['No phone service' 'No' 'Yes']\n"
     ]
    }
   ],
   "source": [
    "# Multiple <> Has_MultipleLines\n",
    "\n",
    "comp_data.rename(columns={'Has_MultipleLines': 'Multiple'}, inplace=True)\n",
    "\n",
    "print(comp_data['Multiple'].unique())"
   ]
  },
  {
   "cell_type": "code",
   "execution_count": 54,
   "id": "113caee5-3426-49d6-aa65-652029aae2b1",
   "metadata": {
    "tags": []
   },
   "outputs": [],
   "source": [
    "dict_Multiple = {'No phone service':\"No\", 'No':\"No\", 'Yes':\"Yes\"}\n",
    "\n",
    "comp_data['Multiple'].replace(dict_Multiple, inplace=True)"
   ]
  },
  {
   "cell_type": "code",
   "execution_count": 55,
   "id": "61f6592c-6708-4685-9e00-12a2ac651e86",
   "metadata": {
    "tags": []
   },
   "outputs": [
    {
     "name": "stdout",
     "output_type": "stream",
     "text": [
      "['Fiber Optic' 'DSL']\n",
      "['DSL' 'Fiber optic' 'No']\n"
     ]
    }
   ],
   "source": [
    "# InternetService <> InternetServiceType\n",
    "\n",
    "comp_data.rename(columns={'InternetServiceType': 'InternetService'}, inplace=True)\n",
    "\n",
    "print(churn_data['InternetService'].unique())\n",
    "print(comp_data['InternetService'].unique())"
   ]
  },
  {
   "cell_type": "code",
   "execution_count": 56,
   "id": "cc6d62be-50a7-4310-96d7-6f6812a8737f",
   "metadata": {
    "tags": []
   },
   "outputs": [
    {
     "name": "stdout",
     "output_type": "stream",
     "text": [
      "['No' 'Yes' 'No internet service']\n"
     ]
    }
   ],
   "source": [
    "# OnlineSecurity <> Has_OnlineSecurity\n",
    "\n",
    "comp_data.rename(columns={'Has_OnlineSecurity': 'OnlineSecurity'}, inplace=True)\n",
    "\n",
    "print(comp_data['OnlineSecurity'].unique())"
   ]
  },
  {
   "cell_type": "code",
   "execution_count": 58,
   "id": "d854379c-5688-494b-9898-af5a790025da",
   "metadata": {
    "tags": []
   },
   "outputs": [],
   "source": [
    "dict_OnlineSecurity = {'No internet service':\"No\", 'No':\"No\", 'Yes':\"Yes\"}\n",
    "\n",
    "comp_data['OnlineSecurity'].replace(dict_OnlineSecurity, inplace=True)"
   ]
  },
  {
   "cell_type": "code",
   "execution_count": 59,
   "id": "cc63bd9c-4b5e-49fe-8c67-12a608d45865",
   "metadata": {
    "tags": []
   },
   "outputs": [
    {
     "name": "stdout",
     "output_type": "stream",
     "text": [
      "['Yes' 'No' 'No internet service']\n"
     ]
    }
   ],
   "source": [
    "# OnlineBackup <> Has_OnlineBackup\n",
    "\n",
    "comp_data.rename(columns={'Has_OnlineBackup': 'OnlineBackup'}, inplace=True)\n",
    "\n",
    "print(comp_data['OnlineBackup'].unique())"
   ]
  },
  {
   "cell_type": "code",
   "execution_count": 62,
   "id": "19437e5c-439b-4611-b136-7a3c93068812",
   "metadata": {
    "tags": []
   },
   "outputs": [],
   "source": [
    "dict_OnlineBackup = {'No internet service':\"No\", 'No':\"No\", 'Yes':\"Yes\"}\n",
    "\n",
    "comp_data['OnlineBackup'].replace(dict_OnlineBackup, inplace=True)"
   ]
  },
  {
   "cell_type": "code",
   "execution_count": 63,
   "id": "ceca00c4-0ecd-46a8-a0ae-da48bac9841e",
   "metadata": {
    "tags": []
   },
   "outputs": [
    {
     "name": "stdout",
     "output_type": "stream",
     "text": [
      "['No' 'Yes' 'No internet service']\n"
     ]
    }
   ],
   "source": [
    "# DeviceProtection <> Has_DeviceProtection\n",
    "\n",
    "comp_data.rename(columns={'Has_DeviceProtection': 'DeviceProtection'}, inplace=True)\n",
    "\n",
    "print(comp_data['DeviceProtection'].unique())"
   ]
  },
  {
   "cell_type": "code",
   "execution_count": 66,
   "id": "95e1e2b4-bb43-45d9-827e-a592e18c43e3",
   "metadata": {
    "tags": []
   },
   "outputs": [],
   "source": [
    "dict_DeviceProtection = {'No internet service':\"No\", 'No':\"No\", 'Yes':\"Yes\"}\n",
    "\n",
    "comp_data['DeviceProtection'].replace(dict_DeviceProtection, inplace=True)"
   ]
  },
  {
   "cell_type": "code",
   "execution_count": 70,
   "id": "9f37d62f-8289-4d05-a766-d1d937098aec",
   "metadata": {
    "tags": []
   },
   "outputs": [
    {
     "name": "stdout",
     "output_type": "stream",
     "text": [
      "['No' 'Yes' 'No internet service']\n"
     ]
    }
   ],
   "source": [
    "# TechSupport <> Has_TechSupport\n",
    "\n",
    "comp_data.rename(columns={'Has_TechSupport': 'TechSupport'}, inplace=True)\n",
    "\n",
    "print(comp_data['TechSupport'].unique())"
   ]
  },
  {
   "cell_type": "code",
   "execution_count": 71,
   "id": "d67338cc-7e56-416d-a07f-42ad69dc147d",
   "metadata": {
    "tags": []
   },
   "outputs": [
    {
     "data": {
      "text/plain": [
       "0     No\n",
       "1     No\n",
       "2     No\n",
       "3    Yes\n",
       "4     No\n",
       "Name: TechSupport, dtype: object"
      ]
     },
     "execution_count": 71,
     "metadata": {},
     "output_type": "execute_result"
    }
   ],
   "source": [
    "dict_TechSupport = {'No internet service':\"No\", 'No':\"No\", 'Yes':\"Yes\"}\n",
    "\n",
    "comp_data['TechSupport'].replace(dict_TechSupport, inplace=True)\n",
    "comp_data['TechSupport'].head()"
   ]
  },
  {
   "cell_type": "code",
   "execution_count": 72,
   "id": "6f36055d-2761-49b9-a205-3d4d9c553a52",
   "metadata": {
    "tags": []
   },
   "outputs": [
    {
     "name": "stdout",
     "output_type": "stream",
     "text": [
      "['No' 'Yes' 'No internet service']\n"
     ]
    }
   ],
   "source": [
    "# StreamingTV <> Has_StreamingTV\n",
    "\n",
    "comp_data.rename(columns={'Has_StreamingTV': 'StreamingTV'}, inplace=True)\n",
    "\n",
    "print(comp_data['StreamingTV'].unique())"
   ]
  },
  {
   "cell_type": "code",
   "execution_count": 73,
   "id": "9eeb3c74-621f-4146-a8b4-80dfe5f16ba9",
   "metadata": {
    "tags": []
   },
   "outputs": [
    {
     "data": {
      "text/plain": [
       "0    No\n",
       "1    No\n",
       "2    No\n",
       "3    No\n",
       "4    No\n",
       "Name: StreamingTV, dtype: object"
      ]
     },
     "execution_count": 73,
     "metadata": {},
     "output_type": "execute_result"
    }
   ],
   "source": [
    "dict_StreamingTV = {'No internet service':\"No\", 'No':\"No\", 'Yes':\"Yes\"}\n",
    "\n",
    "comp_data['StreamingTV'].replace(dict_StreamingTV, inplace=True)\n",
    "comp_data['StreamingTV'].head()"
   ]
  },
  {
   "cell_type": "code",
   "execution_count": 74,
   "id": "992216c0-23c6-4968-95f9-866d572f286a",
   "metadata": {
    "tags": []
   },
   "outputs": [
    {
     "name": "stdout",
     "output_type": "stream",
     "text": [
      "['No' 'Yes' 'No internet service']\n"
     ]
    }
   ],
   "source": [
    "# StreamingMovies <> Has_StreamingMovies\n",
    "\n",
    "comp_data.rename(columns={'Has_StreamingMovies': 'StreamingMovies'}, inplace=True)\n",
    "\n",
    "print(comp_data['StreamingMovies'].unique())"
   ]
  },
  {
   "cell_type": "code",
   "execution_count": 75,
   "id": "6ca9ec53-14c7-4815-83b8-b463e2763cb1",
   "metadata": {
    "tags": []
   },
   "outputs": [
    {
     "data": {
      "text/plain": [
       "0    No\n",
       "1    No\n",
       "2    No\n",
       "3    No\n",
       "4    No\n",
       "Name: StreamingMovies, dtype: object"
      ]
     },
     "execution_count": 75,
     "metadata": {},
     "output_type": "execute_result"
    }
   ],
   "source": [
    "dict_StreamingMovies = {'No internet service':\"No\", 'No':\"No\", 'Yes':\"Yes\"}\n",
    "\n",
    "comp_data['StreamingMovies'].replace(dict_StreamingMovies, inplace=True)\n",
    "comp_data['StreamingMovies'].head()"
   ]
  },
  {
   "cell_type": "code",
   "execution_count": 76,
   "id": "453ab4a7-a3fb-4d5f-bfb9-03010276ff29",
   "metadata": {
    "tags": []
   },
   "outputs": [
    {
     "name": "stdout",
     "output_type": "stream",
     "text": [
      "['One year' 'Month-to-month' 'Two Year']\n",
      "['Month-to-month' 'One year' 'Two year']\n"
     ]
    }
   ],
   "source": [
    "# Contract <> ContractType \n",
    "\n",
    "comp_data.rename(columns={'ContractType': 'Contract'}, inplace=True)\n",
    "\n",
    "print(churn_data['Contract'].unique())\n",
    "print(comp_data['Contract'].unique())"
   ]
  },
  {
   "cell_type": "code",
   "execution_count": null,
   "id": "00075396-9469-4826-9b14-15c96a184b01",
   "metadata": {},
   "outputs": [],
   "source": [
    " 'Churned'],"
   ]
  },
  {
   "cell_type": "code",
   "execution_count": 78,
   "id": "fa47cfbd-4395-40a9-b201-80a6e2f42d4c",
   "metadata": {
    "tags": []
   },
   "outputs": [],
   "source": [
    "# PaperlessBilling <> PaperlessBilling"
   ]
  },
  {
   "cell_type": "code",
   "execution_count": 79,
   "id": "67291c8d-4ee2-4d21-a11b-49f7685da648",
   "metadata": {
    "tags": []
   },
   "outputs": [
    {
     "name": "stdout",
     "output_type": "stream",
     "text": [
      "['Credit Card (automatic)' 'Bank Transfer(automatic)' 'Mailed Check'\n",
      " 'Electronic Check']\n",
      "['Electronic check' 'Mailed check' 'Bank transfer (automatic)'\n",
      " 'Credit card (automatic)']\n"
     ]
    }
   ],
   "source": [
    "# PaymentMethod <> PaymentMethodType \n",
    "\n",
    "comp_data.rename(columns={'PaymentMethodType': 'PaymentMethod'}, inplace=True)\n",
    "\n",
    "print(churn_data['PaymentMethod'].unique())\n",
    "print(comp_data['PaymentMethod'].unique())"
   ]
  },
  {
   "cell_type": "code",
   "execution_count": 80,
   "id": "03878fd9-b55d-4a09-ac81-af95f9524118",
   "metadata": {
    "tags": []
   },
   "outputs": [],
   "source": [
    "# MonthlyCharge <> MonthlyCharges\n",
    "\n",
    "comp_data.rename(columns={'MonthlyCharges': 'MonthlyCharge'}, inplace=True)"
   ]
  },
  {
   "cell_type": "code",
   "execution_count": 83,
   "id": "b24af1b4-bfc1-45f9-a084-463ebe383b6c",
   "metadata": {
    "tags": []
   },
   "outputs": [
    {
     "data": {
      "text/plain": [
       "0    172.455519\n",
       "1    242.632554\n",
       "2    159.947583\n",
       "3    119.956840\n",
       "4    149.948316\n",
       "Name: MonthlyCharge, dtype: float64"
      ]
     },
     "execution_count": 83,
     "metadata": {},
     "output_type": "execute_result"
    }
   ],
   "source": [
    "churn_data['MonthlyCharge'].head()"
   ]
  },
  {
   "cell_type": "code",
   "execution_count": 84,
   "id": "740719dd-3543-4f48-b1a9-59c62120e68e",
   "metadata": {
    "tags": []
   },
   "outputs": [
    {
     "data": {
      "text/plain": [
       "0    29.85\n",
       "1    56.95\n",
       "2    53.85\n",
       "3    42.30\n",
       "4    70.70\n",
       "Name: MonthlyCharge, dtype: float64"
      ]
     },
     "execution_count": 84,
     "metadata": {},
     "output_type": "execute_result"
    }
   ],
   "source": [
    "comp_data['MonthlyCharge'].head()"
   ]
  },
  {
   "cell_type": "code",
   "execution_count": 85,
   "id": "c335ba66-da67-46da-b33e-8b177d1c4e47",
   "metadata": {
    "tags": []
   },
   "outputs": [],
   "source": [
    "churn_data['MonthlyCharge'] = churn_data['MonthlyCharge'].round(2)"
   ]
  },
  {
   "cell_type": "code",
   "execution_count": 87,
   "id": "60c9dca2-86c2-48a1-85ad-95a84be16cc1",
   "metadata": {
    "tags": []
   },
   "outputs": [],
   "source": [
    "# Churn <> Churned \n",
    "\n",
    "comp_data.rename(columns={'Churned': 'Churn'}, inplace=True)"
   ]
  },
  {
   "cell_type": "code",
   "execution_count": 89,
   "id": "b711429d-49d4-4511-b15b-c7582eb01a25",
   "metadata": {
    "tags": []
   },
   "outputs": [
    {
     "data": {
      "text/plain": [
       "Index(['CaseOrder', 'Customer_id', 'Interaction', 'UID', 'City', 'State',\n",
       "       'County', 'Zip', 'Lat', 'Lng', 'Population', 'Area', 'TimeZone', 'Job',\n",
       "       'Dependents', 'SeniorCitizen', 'Income', 'Partner', 'Gender', 'Churn',\n",
       "       'Outage_sec_perweek', 'Email', 'Contacts', 'Yearly_equip_failure',\n",
       "       'Techie', 'Contract', 'Port_modem', 'Tablet', 'InternetService',\n",
       "       'Phone', 'Multiple', 'OnlineSecurity', 'OnlineBackup',\n",
       "       'DeviceProtection', 'TechSupport', 'StreamingTV', 'StreamingMovies',\n",
       "       'PaperlessBilling', 'PaymentMethod', 'Tenure', 'MonthlyCharge',\n",
       "       'Bandwidth_GB_Year', 'Item1', 'Item2', 'Item3', 'Item4', 'Item5',\n",
       "       'Item6', 'Item7', 'Item8'],\n",
       "      dtype='object')"
      ]
     },
     "execution_count": 89,
     "metadata": {},
     "output_type": "execute_result"
    }
   ],
   "source": [
    "churn_data.columns"
   ]
  },
  {
   "cell_type": "code",
   "execution_count": 90,
   "id": "825686a7-3c37-4b33-adae-c82e87ee4585",
   "metadata": {
    "tags": []
   },
   "outputs": [
    {
     "data": {
      "text/plain": [
       "Index(['Customer_id', 'Gender', 'SeniorCitizen', 'Partner', 'Dependents',\n",
       "       'Tenure', 'Phone', 'Multiple', 'InternetService', 'OnlineSecurity',\n",
       "       'OnlineBackup', 'DeviceProtection', 'TechSupport', 'StreamingTV',\n",
       "       'StreamingMovies', 'Contract', 'PaperlessBilling', 'PaymentMethod',\n",
       "       'MonthlyCharge', 'TotalCharges', 'Churn'],\n",
       "      dtype='object')"
      ]
     },
     "execution_count": 90,
     "metadata": {},
     "output_type": "execute_result"
    }
   ],
   "source": [
    "comp_data.columns"
   ]
  },
  {
   "cell_type": "code",
   "execution_count": 95,
   "id": "72b7b830-c7d5-436b-a1e6-e5fab1dd3c94",
   "metadata": {
    "tags": []
   },
   "outputs": [],
   "source": [
    "# Now, common columns in both data sets match up with each other \n",
    "\n",
    "# Next, create trimmed data frames for merging -- include the matching columns only\n",
    "\n",
    "df_churn = churn_data[['Customer_id', 'Gender', 'SeniorCitizen', 'Partner', 'Dependents', 'Tenure', 'Phone', 'Multiple', 'InternetService', 'OnlineSecurity', 'OnlineBackup', 'DeviceProtection', 'TechSupport', \n",
    "                      'StreamingTV', 'StreamingMovies', 'Contract', 'PaperlessBilling', 'PaymentMethod', 'MonthlyCharge', 'Churn']].copy()\n",
    "# Add a column to identify the data source\n",
    "df_churn.loc[:, 'Provider'] = 'WGU Telecom'\n",
    "\n",
    "df_comp = comp_data[['Customer_id', 'Gender', 'SeniorCitizen', 'Partner', 'Dependents', 'Tenure', 'Phone', 'Multiple', 'InternetService', 'OnlineSecurity', 'OnlineBackup', 'DeviceProtection', 'TechSupport', \n",
    "                      'StreamingTV', 'StreamingMovies', 'Contract', 'PaperlessBilling', 'PaymentMethod', 'MonthlyCharge', 'Churn']].copy()\n",
    "# Add a column to identify the data source\n",
    "df_comp.loc[:, 'Provider'] = 'Competitor'"
   ]
  },
  {
   "cell_type": "code",
   "execution_count": 96,
   "id": "63ddb82e-aa98-4a04-b8e3-b59d5eee63c1",
   "metadata": {
    "tags": []
   },
   "outputs": [
    {
     "data": {
      "text/html": [
       "<div>\n",
       "<style scoped>\n",
       "    .dataframe tbody tr th:only-of-type {\n",
       "        vertical-align: middle;\n",
       "    }\n",
       "\n",
       "    .dataframe tbody tr th {\n",
       "        vertical-align: top;\n",
       "    }\n",
       "\n",
       "    .dataframe thead th {\n",
       "        text-align: right;\n",
       "    }\n",
       "</style>\n",
       "<table border=\"1\" class=\"dataframe\">\n",
       "  <thead>\n",
       "    <tr style=\"text-align: right;\">\n",
       "      <th></th>\n",
       "      <th>Customer_id</th>\n",
       "      <th>Gender</th>\n",
       "      <th>SeniorCitizen</th>\n",
       "      <th>Partner</th>\n",
       "      <th>Dependents</th>\n",
       "      <th>Tenure</th>\n",
       "      <th>Phone</th>\n",
       "      <th>Multiple</th>\n",
       "      <th>InternetService</th>\n",
       "      <th>OnlineSecurity</th>\n",
       "      <th>...</th>\n",
       "      <th>DeviceProtection</th>\n",
       "      <th>TechSupport</th>\n",
       "      <th>StreamingTV</th>\n",
       "      <th>StreamingMovies</th>\n",
       "      <th>Contract</th>\n",
       "      <th>PaperlessBilling</th>\n",
       "      <th>PaymentMethod</th>\n",
       "      <th>MonthlyCharge</th>\n",
       "      <th>Churn</th>\n",
       "      <th>Provider</th>\n",
       "    </tr>\n",
       "  </thead>\n",
       "  <tbody>\n",
       "    <tr>\n",
       "      <th>0</th>\n",
       "      <td>K409198</td>\n",
       "      <td>Male</td>\n",
       "      <td>Yes</td>\n",
       "      <td>No</td>\n",
       "      <td>No</td>\n",
       "      <td>7</td>\n",
       "      <td>Yes</td>\n",
       "      <td>No</td>\n",
       "      <td>Fiber Optic</td>\n",
       "      <td>Yes</td>\n",
       "      <td>...</td>\n",
       "      <td>No</td>\n",
       "      <td>No</td>\n",
       "      <td>No</td>\n",
       "      <td>Yes</td>\n",
       "      <td>One year</td>\n",
       "      <td>Yes</td>\n",
       "      <td>Credit Card (automatic)</td>\n",
       "      <td>172.46</td>\n",
       "      <td>No</td>\n",
       "      <td>WGU Telecom</td>\n",
       "    </tr>\n",
       "    <tr>\n",
       "      <th>1</th>\n",
       "      <td>S120509</td>\n",
       "      <td>Female</td>\n",
       "      <td>No</td>\n",
       "      <td>Yes</td>\n",
       "      <td>Yes</td>\n",
       "      <td>1</td>\n",
       "      <td>Yes</td>\n",
       "      <td>Yes</td>\n",
       "      <td>Fiber Optic</td>\n",
       "      <td>Yes</td>\n",
       "      <td>...</td>\n",
       "      <td>No</td>\n",
       "      <td>No</td>\n",
       "      <td>Yes</td>\n",
       "      <td>Yes</td>\n",
       "      <td>Month-to-month</td>\n",
       "      <td>Yes</td>\n",
       "      <td>Bank Transfer(automatic)</td>\n",
       "      <td>242.63</td>\n",
       "      <td>Yes</td>\n",
       "      <td>WGU Telecom</td>\n",
       "    </tr>\n",
       "    <tr>\n",
       "      <th>2</th>\n",
       "      <td>K191035</td>\n",
       "      <td>Female</td>\n",
       "      <td>No</td>\n",
       "      <td>No</td>\n",
       "      <td>Yes</td>\n",
       "      <td>16</td>\n",
       "      <td>Yes</td>\n",
       "      <td>Yes</td>\n",
       "      <td>DSL</td>\n",
       "      <td>No</td>\n",
       "      <td>...</td>\n",
       "      <td>No</td>\n",
       "      <td>No</td>\n",
       "      <td>No</td>\n",
       "      <td>Yes</td>\n",
       "      <td>Two Year</td>\n",
       "      <td>Yes</td>\n",
       "      <td>Credit Card (automatic)</td>\n",
       "      <td>159.95</td>\n",
       "      <td>No</td>\n",
       "      <td>WGU Telecom</td>\n",
       "    </tr>\n",
       "    <tr>\n",
       "      <th>3</th>\n",
       "      <td>D90850</td>\n",
       "      <td>Male</td>\n",
       "      <td>No</td>\n",
       "      <td>Yes</td>\n",
       "      <td>Yes</td>\n",
       "      <td>17</td>\n",
       "      <td>Yes</td>\n",
       "      <td>No</td>\n",
       "      <td>DSL</td>\n",
       "      <td>Yes</td>\n",
       "      <td>...</td>\n",
       "      <td>No</td>\n",
       "      <td>No</td>\n",
       "      <td>Yes</td>\n",
       "      <td>No</td>\n",
       "      <td>Two Year</td>\n",
       "      <td>Yes</td>\n",
       "      <td>Mailed Check</td>\n",
       "      <td>119.96</td>\n",
       "      <td>No</td>\n",
       "      <td>WGU Telecom</td>\n",
       "    </tr>\n",
       "    <tr>\n",
       "      <th>4</th>\n",
       "      <td>K662701</td>\n",
       "      <td>Male</td>\n",
       "      <td>Yes</td>\n",
       "      <td>No</td>\n",
       "      <td>No</td>\n",
       "      <td>2</td>\n",
       "      <td>No</td>\n",
       "      <td>No</td>\n",
       "      <td>Fiber Optic</td>\n",
       "      <td>No</td>\n",
       "      <td>...</td>\n",
       "      <td>No</td>\n",
       "      <td>Yes</td>\n",
       "      <td>Yes</td>\n",
       "      <td>No</td>\n",
       "      <td>Month-to-month</td>\n",
       "      <td>No</td>\n",
       "      <td>Mailed Check</td>\n",
       "      <td>149.95</td>\n",
       "      <td>Yes</td>\n",
       "      <td>WGU Telecom</td>\n",
       "    </tr>\n",
       "  </tbody>\n",
       "</table>\n",
       "<p>5 rows × 21 columns</p>\n",
       "</div>"
      ],
      "text/plain": [
       "  Customer_id  Gender SeniorCitizen Partner Dependents  Tenure Phone Multiple  \\\n",
       "0     K409198    Male           Yes      No         No       7   Yes       No   \n",
       "1     S120509  Female            No     Yes        Yes       1   Yes      Yes   \n",
       "2     K191035  Female            No      No        Yes      16   Yes      Yes   \n",
       "3      D90850    Male            No     Yes        Yes      17   Yes       No   \n",
       "4     K662701    Male           Yes      No         No       2    No       No   \n",
       "\n",
       "  InternetService OnlineSecurity  ... DeviceProtection TechSupport  \\\n",
       "0     Fiber Optic            Yes  ...               No          No   \n",
       "1     Fiber Optic            Yes  ...               No          No   \n",
       "2             DSL             No  ...               No          No   \n",
       "3             DSL            Yes  ...               No          No   \n",
       "4     Fiber Optic             No  ...               No         Yes   \n",
       "\n",
       "  StreamingTV StreamingMovies        Contract PaperlessBilling  \\\n",
       "0          No             Yes        One year              Yes   \n",
       "1         Yes             Yes  Month-to-month              Yes   \n",
       "2          No             Yes        Two Year              Yes   \n",
       "3         Yes              No        Two Year              Yes   \n",
       "4         Yes              No  Month-to-month               No   \n",
       "\n",
       "              PaymentMethod MonthlyCharge  Churn     Provider  \n",
       "0   Credit Card (automatic)        172.46     No  WGU Telecom  \n",
       "1  Bank Transfer(automatic)        242.63    Yes  WGU Telecom  \n",
       "2   Credit Card (automatic)        159.95     No  WGU Telecom  \n",
       "3              Mailed Check        119.96     No  WGU Telecom  \n",
       "4              Mailed Check        149.95    Yes  WGU Telecom  \n",
       "\n",
       "[5 rows x 21 columns]"
      ]
     },
     "execution_count": 96,
     "metadata": {},
     "output_type": "execute_result"
    }
   ],
   "source": [
    "df_churn.head()"
   ]
  },
  {
   "cell_type": "code",
   "execution_count": 97,
   "id": "aeb33577-d29b-49c5-a5b6-7f3ca459e588",
   "metadata": {
    "tags": []
   },
   "outputs": [
    {
     "data": {
      "text/html": [
       "<div>\n",
       "<style scoped>\n",
       "    .dataframe tbody tr th:only-of-type {\n",
       "        vertical-align: middle;\n",
       "    }\n",
       "\n",
       "    .dataframe tbody tr th {\n",
       "        vertical-align: top;\n",
       "    }\n",
       "\n",
       "    .dataframe thead th {\n",
       "        text-align: right;\n",
       "    }\n",
       "</style>\n",
       "<table border=\"1\" class=\"dataframe\">\n",
       "  <thead>\n",
       "    <tr style=\"text-align: right;\">\n",
       "      <th></th>\n",
       "      <th>Customer_id</th>\n",
       "      <th>Gender</th>\n",
       "      <th>SeniorCitizen</th>\n",
       "      <th>Partner</th>\n",
       "      <th>Dependents</th>\n",
       "      <th>Tenure</th>\n",
       "      <th>Phone</th>\n",
       "      <th>Multiple</th>\n",
       "      <th>InternetService</th>\n",
       "      <th>OnlineSecurity</th>\n",
       "      <th>...</th>\n",
       "      <th>DeviceProtection</th>\n",
       "      <th>TechSupport</th>\n",
       "      <th>StreamingTV</th>\n",
       "      <th>StreamingMovies</th>\n",
       "      <th>Contract</th>\n",
       "      <th>PaperlessBilling</th>\n",
       "      <th>PaymentMethod</th>\n",
       "      <th>MonthlyCharge</th>\n",
       "      <th>Churn</th>\n",
       "      <th>Provider</th>\n",
       "    </tr>\n",
       "  </thead>\n",
       "  <tbody>\n",
       "    <tr>\n",
       "      <th>0</th>\n",
       "      <td>7590-VHVEG</td>\n",
       "      <td>Female</td>\n",
       "      <td>No</td>\n",
       "      <td>Yes</td>\n",
       "      <td>No</td>\n",
       "      <td>1</td>\n",
       "      <td>No</td>\n",
       "      <td>No</td>\n",
       "      <td>DSL</td>\n",
       "      <td>No</td>\n",
       "      <td>...</td>\n",
       "      <td>No</td>\n",
       "      <td>No</td>\n",
       "      <td>No</td>\n",
       "      <td>No</td>\n",
       "      <td>Month-to-month</td>\n",
       "      <td>Yes</td>\n",
       "      <td>Electronic check</td>\n",
       "      <td>29.85</td>\n",
       "      <td>No</td>\n",
       "      <td>Competitor</td>\n",
       "    </tr>\n",
       "    <tr>\n",
       "      <th>1</th>\n",
       "      <td>5575-GNVDE</td>\n",
       "      <td>Male</td>\n",
       "      <td>No</td>\n",
       "      <td>No</td>\n",
       "      <td>No</td>\n",
       "      <td>34</td>\n",
       "      <td>Yes</td>\n",
       "      <td>No</td>\n",
       "      <td>DSL</td>\n",
       "      <td>Yes</td>\n",
       "      <td>...</td>\n",
       "      <td>Yes</td>\n",
       "      <td>No</td>\n",
       "      <td>No</td>\n",
       "      <td>No</td>\n",
       "      <td>One year</td>\n",
       "      <td>No</td>\n",
       "      <td>Mailed check</td>\n",
       "      <td>56.95</td>\n",
       "      <td>No</td>\n",
       "      <td>Competitor</td>\n",
       "    </tr>\n",
       "    <tr>\n",
       "      <th>2</th>\n",
       "      <td>3668-QPYBK</td>\n",
       "      <td>Male</td>\n",
       "      <td>No</td>\n",
       "      <td>No</td>\n",
       "      <td>No</td>\n",
       "      <td>2</td>\n",
       "      <td>Yes</td>\n",
       "      <td>No</td>\n",
       "      <td>DSL</td>\n",
       "      <td>Yes</td>\n",
       "      <td>...</td>\n",
       "      <td>No</td>\n",
       "      <td>No</td>\n",
       "      <td>No</td>\n",
       "      <td>No</td>\n",
       "      <td>Month-to-month</td>\n",
       "      <td>Yes</td>\n",
       "      <td>Mailed check</td>\n",
       "      <td>53.85</td>\n",
       "      <td>Yes</td>\n",
       "      <td>Competitor</td>\n",
       "    </tr>\n",
       "    <tr>\n",
       "      <th>3</th>\n",
       "      <td>7795-CFOCW</td>\n",
       "      <td>Male</td>\n",
       "      <td>No</td>\n",
       "      <td>No</td>\n",
       "      <td>No</td>\n",
       "      <td>45</td>\n",
       "      <td>No</td>\n",
       "      <td>No</td>\n",
       "      <td>DSL</td>\n",
       "      <td>Yes</td>\n",
       "      <td>...</td>\n",
       "      <td>Yes</td>\n",
       "      <td>Yes</td>\n",
       "      <td>No</td>\n",
       "      <td>No</td>\n",
       "      <td>One year</td>\n",
       "      <td>No</td>\n",
       "      <td>Bank transfer (automatic)</td>\n",
       "      <td>42.30</td>\n",
       "      <td>No</td>\n",
       "      <td>Competitor</td>\n",
       "    </tr>\n",
       "    <tr>\n",
       "      <th>4</th>\n",
       "      <td>9237-HQITU</td>\n",
       "      <td>Female</td>\n",
       "      <td>No</td>\n",
       "      <td>No</td>\n",
       "      <td>No</td>\n",
       "      <td>2</td>\n",
       "      <td>Yes</td>\n",
       "      <td>No</td>\n",
       "      <td>Fiber optic</td>\n",
       "      <td>No</td>\n",
       "      <td>...</td>\n",
       "      <td>No</td>\n",
       "      <td>No</td>\n",
       "      <td>No</td>\n",
       "      <td>No</td>\n",
       "      <td>Month-to-month</td>\n",
       "      <td>Yes</td>\n",
       "      <td>Electronic check</td>\n",
       "      <td>70.70</td>\n",
       "      <td>Yes</td>\n",
       "      <td>Competitor</td>\n",
       "    </tr>\n",
       "  </tbody>\n",
       "</table>\n",
       "<p>5 rows × 21 columns</p>\n",
       "</div>"
      ],
      "text/plain": [
       "  Customer_id  Gender SeniorCitizen Partner Dependents  Tenure Phone Multiple  \\\n",
       "0  7590-VHVEG  Female            No     Yes         No       1    No       No   \n",
       "1  5575-GNVDE    Male            No      No         No      34   Yes       No   \n",
       "2  3668-QPYBK    Male            No      No         No       2   Yes       No   \n",
       "3  7795-CFOCW    Male            No      No         No      45    No       No   \n",
       "4  9237-HQITU  Female            No      No         No       2   Yes       No   \n",
       "\n",
       "  InternetService OnlineSecurity  ... DeviceProtection TechSupport  \\\n",
       "0             DSL             No  ...               No          No   \n",
       "1             DSL            Yes  ...              Yes          No   \n",
       "2             DSL            Yes  ...               No          No   \n",
       "3             DSL            Yes  ...              Yes         Yes   \n",
       "4     Fiber optic             No  ...               No          No   \n",
       "\n",
       "  StreamingTV StreamingMovies        Contract PaperlessBilling  \\\n",
       "0          No              No  Month-to-month              Yes   \n",
       "1          No              No        One year               No   \n",
       "2          No              No  Month-to-month              Yes   \n",
       "3          No              No        One year               No   \n",
       "4          No              No  Month-to-month              Yes   \n",
       "\n",
       "               PaymentMethod MonthlyCharge  Churn    Provider  \n",
       "0           Electronic check         29.85     No  Competitor  \n",
       "1               Mailed check         56.95     No  Competitor  \n",
       "2               Mailed check         53.85    Yes  Competitor  \n",
       "3  Bank transfer (automatic)         42.30     No  Competitor  \n",
       "4           Electronic check         70.70    Yes  Competitor  \n",
       "\n",
       "[5 rows x 21 columns]"
      ]
     },
     "execution_count": 97,
     "metadata": {},
     "output_type": "execute_result"
    }
   ],
   "source": [
    "df_comp.head()"
   ]
  },
  {
   "cell_type": "code",
   "execution_count": 100,
   "id": "78f1e1d7-d2f7-41c4-8de5-682c231e82ae",
   "metadata": {
    "tags": []
   },
   "outputs": [
    {
     "data": {
      "text/html": [
       "<div>\n",
       "<style scoped>\n",
       "    .dataframe tbody tr th:only-of-type {\n",
       "        vertical-align: middle;\n",
       "    }\n",
       "\n",
       "    .dataframe tbody tr th {\n",
       "        vertical-align: top;\n",
       "    }\n",
       "\n",
       "    .dataframe thead th {\n",
       "        text-align: right;\n",
       "    }\n",
       "</style>\n",
       "<table border=\"1\" class=\"dataframe\">\n",
       "  <thead>\n",
       "    <tr style=\"text-align: right;\">\n",
       "      <th></th>\n",
       "      <th>Customer_id</th>\n",
       "      <th>Gender</th>\n",
       "      <th>SeniorCitizen</th>\n",
       "      <th>Partner</th>\n",
       "      <th>Dependents</th>\n",
       "      <th>Tenure</th>\n",
       "      <th>Phone</th>\n",
       "      <th>Multiple</th>\n",
       "      <th>InternetService</th>\n",
       "      <th>OnlineSecurity</th>\n",
       "      <th>...</th>\n",
       "      <th>DeviceProtection</th>\n",
       "      <th>TechSupport</th>\n",
       "      <th>StreamingTV</th>\n",
       "      <th>StreamingMovies</th>\n",
       "      <th>Contract</th>\n",
       "      <th>PaperlessBilling</th>\n",
       "      <th>PaymentMethod</th>\n",
       "      <th>MonthlyCharge</th>\n",
       "      <th>Churn</th>\n",
       "      <th>Provider</th>\n",
       "    </tr>\n",
       "  </thead>\n",
       "  <tbody>\n",
       "    <tr>\n",
       "      <th>0</th>\n",
       "      <td>K409198</td>\n",
       "      <td>Male</td>\n",
       "      <td>Yes</td>\n",
       "      <td>No</td>\n",
       "      <td>No</td>\n",
       "      <td>7</td>\n",
       "      <td>Yes</td>\n",
       "      <td>No</td>\n",
       "      <td>Fiber Optic</td>\n",
       "      <td>Yes</td>\n",
       "      <td>...</td>\n",
       "      <td>No</td>\n",
       "      <td>No</td>\n",
       "      <td>No</td>\n",
       "      <td>Yes</td>\n",
       "      <td>One year</td>\n",
       "      <td>Yes</td>\n",
       "      <td>Credit Card (automatic)</td>\n",
       "      <td>172.46</td>\n",
       "      <td>No</td>\n",
       "      <td>WGU Telecom</td>\n",
       "    </tr>\n",
       "    <tr>\n",
       "      <th>1</th>\n",
       "      <td>S120509</td>\n",
       "      <td>Female</td>\n",
       "      <td>No</td>\n",
       "      <td>Yes</td>\n",
       "      <td>Yes</td>\n",
       "      <td>1</td>\n",
       "      <td>Yes</td>\n",
       "      <td>Yes</td>\n",
       "      <td>Fiber Optic</td>\n",
       "      <td>Yes</td>\n",
       "      <td>...</td>\n",
       "      <td>No</td>\n",
       "      <td>No</td>\n",
       "      <td>Yes</td>\n",
       "      <td>Yes</td>\n",
       "      <td>Month-to-month</td>\n",
       "      <td>Yes</td>\n",
       "      <td>Bank Transfer(automatic)</td>\n",
       "      <td>242.63</td>\n",
       "      <td>Yes</td>\n",
       "      <td>WGU Telecom</td>\n",
       "    </tr>\n",
       "    <tr>\n",
       "      <th>2</th>\n",
       "      <td>K191035</td>\n",
       "      <td>Female</td>\n",
       "      <td>No</td>\n",
       "      <td>No</td>\n",
       "      <td>Yes</td>\n",
       "      <td>16</td>\n",
       "      <td>Yes</td>\n",
       "      <td>Yes</td>\n",
       "      <td>DSL</td>\n",
       "      <td>No</td>\n",
       "      <td>...</td>\n",
       "      <td>No</td>\n",
       "      <td>No</td>\n",
       "      <td>No</td>\n",
       "      <td>Yes</td>\n",
       "      <td>Two Year</td>\n",
       "      <td>Yes</td>\n",
       "      <td>Credit Card (automatic)</td>\n",
       "      <td>159.95</td>\n",
       "      <td>No</td>\n",
       "      <td>WGU Telecom</td>\n",
       "    </tr>\n",
       "    <tr>\n",
       "      <th>3</th>\n",
       "      <td>D90850</td>\n",
       "      <td>Male</td>\n",
       "      <td>No</td>\n",
       "      <td>Yes</td>\n",
       "      <td>Yes</td>\n",
       "      <td>17</td>\n",
       "      <td>Yes</td>\n",
       "      <td>No</td>\n",
       "      <td>DSL</td>\n",
       "      <td>Yes</td>\n",
       "      <td>...</td>\n",
       "      <td>No</td>\n",
       "      <td>No</td>\n",
       "      <td>Yes</td>\n",
       "      <td>No</td>\n",
       "      <td>Two Year</td>\n",
       "      <td>Yes</td>\n",
       "      <td>Mailed Check</td>\n",
       "      <td>119.96</td>\n",
       "      <td>No</td>\n",
       "      <td>WGU Telecom</td>\n",
       "    </tr>\n",
       "    <tr>\n",
       "      <th>4</th>\n",
       "      <td>K662701</td>\n",
       "      <td>Male</td>\n",
       "      <td>Yes</td>\n",
       "      <td>No</td>\n",
       "      <td>No</td>\n",
       "      <td>2</td>\n",
       "      <td>No</td>\n",
       "      <td>No</td>\n",
       "      <td>Fiber Optic</td>\n",
       "      <td>No</td>\n",
       "      <td>...</td>\n",
       "      <td>No</td>\n",
       "      <td>Yes</td>\n",
       "      <td>Yes</td>\n",
       "      <td>No</td>\n",
       "      <td>Month-to-month</td>\n",
       "      <td>No</td>\n",
       "      <td>Mailed Check</td>\n",
       "      <td>149.95</td>\n",
       "      <td>Yes</td>\n",
       "      <td>WGU Telecom</td>\n",
       "    </tr>\n",
       "    <tr>\n",
       "      <th>...</th>\n",
       "      <td>...</td>\n",
       "      <td>...</td>\n",
       "      <td>...</td>\n",
       "      <td>...</td>\n",
       "      <td>...</td>\n",
       "      <td>...</td>\n",
       "      <td>...</td>\n",
       "      <td>...</td>\n",
       "      <td>...</td>\n",
       "      <td>...</td>\n",
       "      <td>...</td>\n",
       "      <td>...</td>\n",
       "      <td>...</td>\n",
       "      <td>...</td>\n",
       "      <td>...</td>\n",
       "      <td>...</td>\n",
       "      <td>...</td>\n",
       "      <td>...</td>\n",
       "      <td>...</td>\n",
       "      <td>...</td>\n",
       "      <td>...</td>\n",
       "    </tr>\n",
       "    <tr>\n",
       "      <th>17038</th>\n",
       "      <td>6840-RESVB</td>\n",
       "      <td>Male</td>\n",
       "      <td>No</td>\n",
       "      <td>Yes</td>\n",
       "      <td>Yes</td>\n",
       "      <td>24</td>\n",
       "      <td>Yes</td>\n",
       "      <td>Yes</td>\n",
       "      <td>DSL</td>\n",
       "      <td>Yes</td>\n",
       "      <td>...</td>\n",
       "      <td>Yes</td>\n",
       "      <td>Yes</td>\n",
       "      <td>Yes</td>\n",
       "      <td>Yes</td>\n",
       "      <td>One year</td>\n",
       "      <td>Yes</td>\n",
       "      <td>Mailed check</td>\n",
       "      <td>84.80</td>\n",
       "      <td>No</td>\n",
       "      <td>Competitor</td>\n",
       "    </tr>\n",
       "    <tr>\n",
       "      <th>17039</th>\n",
       "      <td>2234-XADUH</td>\n",
       "      <td>Female</td>\n",
       "      <td>No</td>\n",
       "      <td>Yes</td>\n",
       "      <td>Yes</td>\n",
       "      <td>72</td>\n",
       "      <td>Yes</td>\n",
       "      <td>Yes</td>\n",
       "      <td>Fiber optic</td>\n",
       "      <td>No</td>\n",
       "      <td>...</td>\n",
       "      <td>Yes</td>\n",
       "      <td>No</td>\n",
       "      <td>Yes</td>\n",
       "      <td>Yes</td>\n",
       "      <td>One year</td>\n",
       "      <td>Yes</td>\n",
       "      <td>Credit card (automatic)</td>\n",
       "      <td>103.20</td>\n",
       "      <td>No</td>\n",
       "      <td>Competitor</td>\n",
       "    </tr>\n",
       "    <tr>\n",
       "      <th>17040</th>\n",
       "      <td>4801-JZAZL</td>\n",
       "      <td>Female</td>\n",
       "      <td>No</td>\n",
       "      <td>Yes</td>\n",
       "      <td>Yes</td>\n",
       "      <td>11</td>\n",
       "      <td>No</td>\n",
       "      <td>No</td>\n",
       "      <td>DSL</td>\n",
       "      <td>Yes</td>\n",
       "      <td>...</td>\n",
       "      <td>No</td>\n",
       "      <td>No</td>\n",
       "      <td>No</td>\n",
       "      <td>No</td>\n",
       "      <td>Month-to-month</td>\n",
       "      <td>Yes</td>\n",
       "      <td>Electronic check</td>\n",
       "      <td>29.60</td>\n",
       "      <td>No</td>\n",
       "      <td>Competitor</td>\n",
       "    </tr>\n",
       "    <tr>\n",
       "      <th>17041</th>\n",
       "      <td>8361-LTMKD</td>\n",
       "      <td>Male</td>\n",
       "      <td>Yes</td>\n",
       "      <td>Yes</td>\n",
       "      <td>No</td>\n",
       "      <td>4</td>\n",
       "      <td>Yes</td>\n",
       "      <td>Yes</td>\n",
       "      <td>Fiber optic</td>\n",
       "      <td>No</td>\n",
       "      <td>...</td>\n",
       "      <td>No</td>\n",
       "      <td>No</td>\n",
       "      <td>No</td>\n",
       "      <td>No</td>\n",
       "      <td>Month-to-month</td>\n",
       "      <td>Yes</td>\n",
       "      <td>Mailed check</td>\n",
       "      <td>74.40</td>\n",
       "      <td>Yes</td>\n",
       "      <td>Competitor</td>\n",
       "    </tr>\n",
       "    <tr>\n",
       "      <th>17042</th>\n",
       "      <td>3186-AJIEK</td>\n",
       "      <td>Male</td>\n",
       "      <td>No</td>\n",
       "      <td>No</td>\n",
       "      <td>No</td>\n",
       "      <td>66</td>\n",
       "      <td>Yes</td>\n",
       "      <td>No</td>\n",
       "      <td>Fiber optic</td>\n",
       "      <td>Yes</td>\n",
       "      <td>...</td>\n",
       "      <td>Yes</td>\n",
       "      <td>Yes</td>\n",
       "      <td>Yes</td>\n",
       "      <td>Yes</td>\n",
       "      <td>Two year</td>\n",
       "      <td>Yes</td>\n",
       "      <td>Bank transfer (automatic)</td>\n",
       "      <td>105.65</td>\n",
       "      <td>No</td>\n",
       "      <td>Competitor</td>\n",
       "    </tr>\n",
       "  </tbody>\n",
       "</table>\n",
       "<p>17043 rows × 21 columns</p>\n",
       "</div>"
      ],
      "text/plain": [
       "      Customer_id  Gender SeniorCitizen Partner Dependents  Tenure Phone  \\\n",
       "0         K409198    Male           Yes      No         No       7   Yes   \n",
       "1         S120509  Female            No     Yes        Yes       1   Yes   \n",
       "2         K191035  Female            No      No        Yes      16   Yes   \n",
       "3          D90850    Male            No     Yes        Yes      17   Yes   \n",
       "4         K662701    Male           Yes      No         No       2    No   \n",
       "...           ...     ...           ...     ...        ...     ...   ...   \n",
       "17038  6840-RESVB    Male            No     Yes        Yes      24   Yes   \n",
       "17039  2234-XADUH  Female            No     Yes        Yes      72   Yes   \n",
       "17040  4801-JZAZL  Female            No     Yes        Yes      11    No   \n",
       "17041  8361-LTMKD    Male           Yes     Yes         No       4   Yes   \n",
       "17042  3186-AJIEK    Male            No      No         No      66   Yes   \n",
       "\n",
       "      Multiple InternetService OnlineSecurity  ... DeviceProtection  \\\n",
       "0           No     Fiber Optic            Yes  ...               No   \n",
       "1          Yes     Fiber Optic            Yes  ...               No   \n",
       "2          Yes             DSL             No  ...               No   \n",
       "3           No             DSL            Yes  ...               No   \n",
       "4           No     Fiber Optic             No  ...               No   \n",
       "...        ...             ...            ...  ...              ...   \n",
       "17038      Yes             DSL            Yes  ...              Yes   \n",
       "17039      Yes     Fiber optic             No  ...              Yes   \n",
       "17040       No             DSL            Yes  ...               No   \n",
       "17041      Yes     Fiber optic             No  ...               No   \n",
       "17042       No     Fiber optic            Yes  ...              Yes   \n",
       "\n",
       "      TechSupport StreamingTV StreamingMovies        Contract  \\\n",
       "0              No          No             Yes        One year   \n",
       "1              No         Yes             Yes  Month-to-month   \n",
       "2              No          No             Yes        Two Year   \n",
       "3              No         Yes              No        Two Year   \n",
       "4             Yes         Yes              No  Month-to-month   \n",
       "...           ...         ...             ...             ...   \n",
       "17038         Yes         Yes             Yes        One year   \n",
       "17039          No         Yes             Yes        One year   \n",
       "17040          No          No              No  Month-to-month   \n",
       "17041          No          No              No  Month-to-month   \n",
       "17042         Yes         Yes             Yes        Two year   \n",
       "\n",
       "      PaperlessBilling              PaymentMethod MonthlyCharge  Churn  \\\n",
       "0                  Yes    Credit Card (automatic)        172.46     No   \n",
       "1                  Yes   Bank Transfer(automatic)        242.63    Yes   \n",
       "2                  Yes    Credit Card (automatic)        159.95     No   \n",
       "3                  Yes               Mailed Check        119.96     No   \n",
       "4                   No               Mailed Check        149.95    Yes   \n",
       "...                ...                        ...           ...    ...   \n",
       "17038              Yes               Mailed check         84.80     No   \n",
       "17039              Yes    Credit card (automatic)        103.20     No   \n",
       "17040              Yes           Electronic check         29.60     No   \n",
       "17041              Yes               Mailed check         74.40    Yes   \n",
       "17042              Yes  Bank transfer (automatic)        105.65     No   \n",
       "\n",
       "          Provider  \n",
       "0      WGU Telecom  \n",
       "1      WGU Telecom  \n",
       "2      WGU Telecom  \n",
       "3      WGU Telecom  \n",
       "4      WGU Telecom  \n",
       "...            ...  \n",
       "17038   Competitor  \n",
       "17039   Competitor  \n",
       "17040   Competitor  \n",
       "17041   Competitor  \n",
       "17042   Competitor  \n",
       "\n",
       "[17043 rows x 21 columns]"
      ]
     },
     "execution_count": 100,
     "metadata": {},
     "output_type": "execute_result"
    }
   ],
   "source": [
    "# Concatenate the data frames \n",
    "\n",
    "combined_data = pd.concat([df_churn, df_comp], ignore_index=True)\n",
    "combined_data"
   ]
  },
  {
   "cell_type": "code",
   "execution_count": 101,
   "id": "c26a5b9f-c0ac-4870-98f9-9917474a07fb",
   "metadata": {
    "tags": []
   },
   "outputs": [],
   "source": [
    "# Export the combined data frame to a .csv\n",
    "\n",
    "combined_data.to_csv(r\"C:/Users/psuik/Desktop/WGU/D210/combined_telecom_data.csv\")"
   ]
  },
  {
   "cell_type": "code",
   "execution_count": 102,
   "id": "fdbfa0ff-8098-40f6-b165-991f0a41c686",
   "metadata": {
    "tags": []
   },
   "outputs": [],
   "source": [
    "# Add a column to identify the data source\n",
    "churn_data.loc[:, 'Provider'] = 'WGU Telecom'\n",
    "\n",
    "df_comp = comp_data[['Customer_id', 'Gender', 'SeniorCitizen', 'Partner', 'Dependents', 'Tenure', 'Phone', 'Multiple', 'InternetService', 'OnlineSecurity', 'OnlineBackup', 'DeviceProtection', 'TechSupport', \n",
    "                      'StreamingTV', 'StreamingMovies', 'Contract', 'PaperlessBilling', 'PaymentMethod', 'MonthlyCharge', 'Churn']].copy()\n",
    "# Add a column to identify the data source\n",
    "df_comp.loc[:, 'Provider'] = 'Competitor'"
   ]
  },
  {
   "cell_type": "code",
   "execution_count": 103,
   "id": "535425fc-bd58-49b3-bd7a-a4ff549d042a",
   "metadata": {
    "tags": []
   },
   "outputs": [],
   "source": [
    "combined_data_full = pd.concat([churn_data, df_comp], ignore_index=True)"
   ]
  },
  {
   "cell_type": "code",
   "execution_count": 106,
   "id": "3e97c166-6d33-4f51-8dab-8aa9a85edc37",
   "metadata": {
    "tags": []
   },
   "outputs": [
    {
     "data": {
      "text/plain": [
       "Index(['CaseOrder', 'Customer_id', 'Interaction', 'UID', 'City', 'State',\n",
       "       'County', 'Zip', 'Lat', 'Lng', 'Population', 'Area', 'TimeZone', 'Job',\n",
       "       'Dependents', 'SeniorCitizen', 'Income', 'Partner', 'Gender', 'Churn',\n",
       "       'Outage_sec_perweek', 'Email', 'Contacts', 'Yearly_equip_failure',\n",
       "       'Techie', 'Contract', 'Port_modem', 'Tablet', 'InternetService',\n",
       "       'Phone', 'Multiple', 'OnlineSecurity', 'OnlineBackup',\n",
       "       'DeviceProtection', 'TechSupport', 'StreamingTV', 'StreamingMovies',\n",
       "       'PaperlessBilling', 'PaymentMethod', 'Tenure', 'MonthlyCharge',\n",
       "       'Bandwidth_GB_Year', 'Item1', 'Item2', 'Item3', 'Item4', 'Item5',\n",
       "       'Item6', 'Item7', 'Item8', 'Provider'],\n",
       "      dtype='object')"
      ]
     },
     "execution_count": 106,
     "metadata": {},
     "output_type": "execute_result"
    }
   ],
   "source": [
    "combined_data_full.columns"
   ]
  },
  {
   "cell_type": "code",
   "execution_count": 107,
   "id": "133bfd11-f8f9-4eda-99fa-adf71ecb84a9",
   "metadata": {
    "tags": []
   },
   "outputs": [],
   "source": [
    "combined_data_full.to_csv(r\"C:/Users/psuik/Desktop/WGU/D210/full_combined_telecom_data.csv\")"
   ]
  },
  {
   "cell_type": "code",
   "execution_count": null,
   "id": "86898e27-cbb7-4fed-a72f-c0e3614db83e",
   "metadata": {},
   "outputs": [],
   "source": []
  }
 ],
 "metadata": {
  "kernelspec": {
   "display_name": "Python 3 (ipykernel)",
   "language": "python",
   "name": "python3"
  },
  "language_info": {
   "codemirror_mode": {
    "name": "ipython",
    "version": 3
   },
   "file_extension": ".py",
   "mimetype": "text/x-python",
   "name": "python",
   "nbconvert_exporter": "python",
   "pygments_lexer": "ipython3",
   "version": "3.11.5"
  }
 },
 "nbformat": 4,
 "nbformat_minor": 5
}
