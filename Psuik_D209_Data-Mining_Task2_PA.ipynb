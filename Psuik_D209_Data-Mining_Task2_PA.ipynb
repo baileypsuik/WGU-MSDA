{
 "cells": [
  {
   "cell_type": "markdown",
   "id": "20d6aaac-6305-49a4-adae-7ed29a586c0b",
   "metadata": {},
   "source": [
    "# D209: Data Mining, Task 2\n",
    "Western Governors University\n",
    "<br>Bailey Psuik \n",
    "<br>January 2024"
   ]
  },
  {
   "cell_type": "markdown",
   "id": "aa8e98ae-5557-47ff-a1d0-7656a643d006",
   "metadata": {
    "tags": []
   },
   "source": [
    "### Part I: Research Question\n",
    "\n",
    "**A1. Proposal of question**\n",
    "<br>For this paper, data from a popular telecommunications company was analyzed. The company has collected data on its customers including demographic information, the services they receive, and customer account information in an effort to analyze their churn rate. Churn is defined as the percentage of customers who have discontinued service with the provider. Industry-wide, annual churn rates can be as high as 25%. The company knows that it is more cost-effective to retain existing customers than to acquire new ones, and therefore seeks to uncover key metrics contained in the customer data they have collected.\n",
    "\n",
    "One factor that may influence a customer’s decision to discontinue their service is how much data they use–- their bandwidth. The company measures usage data in gigabytes (GB) per year. This report will build a random forest regression model to answer the following question: **Can bandwidth usage be predicted by customer demographics, account information, and chosen services?**"
   ]
  },
  {
   "cell_type": "markdown",
   "id": "fbfe4971-88f5-409d-bcda-60e122b70c47",
   "metadata": {},
   "source": [
    "**A2. Defined goal**\n",
    "<br>The goal of this report is two-fold: Build a random forest regression model to predict how much bandwidth, in GB, a customer will use annually based on information regarding their demographics, account, and chosen services; make recommendations to the telecommuncations company based on these findings."
   ]
  },
  {
   "cell_type": "markdown",
   "id": "d75643bc-bd9f-46fe-8f32-4bd5db3bd7d5",
   "metadata": {},
   "source": [
    "### Part II: Method Justification\n",
    "\n",
    "**B1. Explanation of prediction method**\n",
    "<br> The random forest technique is a supervised ensemble learning method, meaning it aggregates predictions from multiple estimators. The estimators used in random forest are decision trees. When the target variable for the model is numeric, such as Bandwidth_GB_year, random forest regression is used to create *n* individual decision trees, and output the average of each of those *n* decision trees, resulting in one single predicted value. \n",
    "\n",
    "To break this process down further, the basic step-by-step process for building a random forest regression model is as follows (Sruthi E. R., 2024): \n",
    "1. Samples of *n* random records and *m* features are taken from a data set with *k* records. These are called bootstrap samples.\n",
    "2. *n* decision trees are built -- one for each bootstrap sample.\n",
    "3. The output values of each of *n* decision trees are averaged. This average value is the final output of the random forest regression model.\n",
    "\n",
    "The reason for aggregating the predicted values of multiple decision trees is to mitigate overfitting of the model. Individual decision trees are at risk for overfitting, as the data randomly selected to build them may have noise or outliers that other random samples do not contain. Averaging out the values of multiple decision trees helps to mitigate this problem. \n",
    "\n",
    "Averaging the results of decision trees in this way to create a random forest regression model results in expected outcomes that are more accurate than they would be if an individual decision tree was used."
   ]
  },
  {
   "cell_type": "markdown",
   "id": "8104d03d-a716-400a-88f3-af6193f789a8",
   "metadata": {},
   "source": [
    "**B2. Summary of method assumption**\n",
    "<br>An assumption of random forest models is that the data used to construct the models is actual data, and not estimated values (Alma Better, n.d.). This assumption is made so that the output of the model can be considered as accurate as possible. \n",
    "\n",
    "The data set being used to create the model in this report is said to be gathered directly from the telecommunications company, so there is reason to believe that the values it contains are accurate and not simply estimates. Thus, the assumption holds true."
   ]
  },
  {
   "cell_type": "markdown",
   "id": "7761526a-7f0e-49cc-8e35-c8e7af6057e0",
   "metadata": {},
   "source": [
    "**B3. Packages list** \n",
    "\n",
    "* **Pandas**: used for data importing/exporting and dataframe creation\n",
    "* **Numpy**: used for working with arrays and matrices\n",
    "* **Matplotlib** and **Seaborn**: both used to create visualizations\n",
    "* Various functions from **scikit-learn (sklearn)**: \n",
    "    * **LabelEncoder** from **sklearn.preprocessing**: used in re-expressing categorical values to numeric values\n",
    "    * **train_test_split** from **sklearn.model_selection**: used to split the data set into a training set and testing set\n",
    "    * **RandomForestRegressor** from **sklearn.ensemble**: used to build and fit the model\n",
    "    * **mean_squared_error** from **sklearn.metrics**: used to compute the mean squared error (MSE) of the model\n",
    "    * **GridSearchCV** from **sklearn.model**: used for hyperparameter tuning"
   ]
  },
  {
   "cell_type": "markdown",
   "id": "6e1a7053-efcf-42f8-b480-7750516448c5",
   "metadata": {},
   "source": [
    "### Part III: Data Preparation\n",
    "\n",
    "**C1. Data pre-processing**\n",
    "<br>In order for this data set to be prepared for model building, the data must be pre-processed to get it into proper format for analysis. A crucial step in data pre-processing for creation of this random forest regression model is re-expressing each categorical predictor variable's values as numeric ones. The main goal here is to re-express the values for the predictor variables, which were originally encoded with string values of \"Yes\" and \"No\", as numeric values with all \"Yes\" values as 1s, and all \"No\" values as 0s. "
   ]
  },
  {
   "cell_type": "markdown",
   "id": "932e9a07-f734-4abf-9825-0fd8332b986a",
   "metadata": {},
   "source": [
    "**C2. Data set variables** \n",
    "<br>The model being created in this report will predict bandwidth usage for the company's customers, thus \"Bandwidth_GB_Year\" is the dependent, or target, variable here. The predictor variables that will be included are listed below as well. \n",
    "\n",
    "Target variable:\n",
    "* Bandwidth_GB_Year *(numeric)*\n",
    "\n",
    "Predictor variables: \n",
    "* Children *(numeric)*\n",
    "* Age *(numeric)*\n",
    "* Income *(numeric)*\n",
    "* Outage_sec_perweek *(numeric)*\n",
    "* Yearly_equip_failure *(numeric)*\n",
    "* Techie *(categorical)*\n",
    "* Tablet *(categorical)*\n",
    "* Phone *(categorical)*\n",
    "* Multiple *(categorical)*\n",
    "* StreamingTV *(categorical)*\n",
    "* StreamingMovies *(categorical)*\n",
    "* Tenure *(numeric)*\n",
    "* MonthlyCharge *(numeric)*"
   ]
  },
  {
   "cell_type": "markdown",
   "id": "6b72d748-2c5b-4d93-97e8-f99e4f42a76c",
   "metadata": {},
   "source": [
    "**C3. Steps for analysis**\n",
    "<br>Before moving forward with the building of the model, the data set must be cleaned. Skipping this vital step could result in a faulty or misleading answer to the research question posed in section A1. Goals of the data cleaning process include: \n",
    "* Perform an initial inspection of the data to get the number of rows, columns, and data types\n",
    "* Identify and treat duplicate values\n",
    "* Convert categorical variables to numerical variables\n",
    "* Identify and treat missing values\n",
    "* Identify and treat outliers\n",
    "\n",
    "The steps used to clean the data are as follows: \n",
    "<br><br>Step 1: Perform an initial inspection of the data with the .info() function. \n",
    "* Outcome: The data contains 10,000 rows and 50 columns. All variables but one, InternetService, have 10,000 non-null values. Data types of each variable are logical.\n",
    "\n",
    "<br>Step 2: Compute a sum of the number of total duplicates contained in the data set. Additionally, since 'Customer_id' is denoted as being a unique identifier, compute the sum of duplicates in this column.\n",
    "* Outcome: No duplicates were found, so no treatment was needed.\n",
    "\n",
    "<br>Step 3: Re-express ordinal categorical variables as numerical variables.\n",
    "* Outcome: 14 ordinal categorical variables had their values replaced with numerical values to prepare this data set for analysis.\n",
    "\n",
    "<br>Step 4: Re-encode nominal categorical variables with label encoding.\n",
    "* Outcome: Values for Gender and InternetService, each of which have three unique values, are nominally encoded.\n",
    "\n",
    "<br>Step 5: Treat the missing values in ‘InternetService’ detected from the initial inspection of the data.\n",
    "* Outcome: The 2,129 null values found in this column were filled in using imputation of the mode, as ‘InternetService’ is a categorical variable.\n",
    "\n",
    "<br>Step 6: Visually inspect the box plots for each quantitative variable to identify outliers. \n",
    "* Outcome: Outliers were detected in nine quantitative variables, but these values were deemed acceptable for various reasons, and were therefore retained.\n",
    "\n",
    "<br>Complete code for the data cleaning/pre-processing portion of this analysis is below."
   ]
  },
  {
   "cell_type": "code",
   "execution_count": 2,
   "id": "20d2456d-4915-457b-b39a-c08c8e74c862",
   "metadata": {
    "tags": []
   },
   "outputs": [
    {
     "name": "stdout",
     "output_type": "stream",
     "text": [
      "<class 'pandas.core.frame.DataFrame'>\n",
      "RangeIndex: 10000 entries, 0 to 9999\n",
      "Data columns (total 50 columns):\n",
      " #   Column                Non-Null Count  Dtype  \n",
      "---  ------                --------------  -----  \n",
      " 0   CaseOrder             10000 non-null  int64  \n",
      " 1   Customer_id           10000 non-null  object \n",
      " 2   Interaction           10000 non-null  object \n",
      " 3   UID                   10000 non-null  object \n",
      " 4   City                  10000 non-null  object \n",
      " 5   State                 10000 non-null  object \n",
      " 6   County                10000 non-null  object \n",
      " 7   Zip                   10000 non-null  int64  \n",
      " 8   Lat                   10000 non-null  float64\n",
      " 9   Lng                   10000 non-null  float64\n",
      " 10  Population            10000 non-null  int64  \n",
      " 11  Area                  10000 non-null  object \n",
      " 12  TimeZone              10000 non-null  object \n",
      " 13  Job                   10000 non-null  object \n",
      " 14  Children              10000 non-null  int64  \n",
      " 15  Age                   10000 non-null  int64  \n",
      " 16  Income                10000 non-null  float64\n",
      " 17  Marital               10000 non-null  object \n",
      " 18  Gender                10000 non-null  object \n",
      " 19  Churn                 10000 non-null  object \n",
      " 20  Outage_sec_perweek    10000 non-null  float64\n",
      " 21  Email                 10000 non-null  int64  \n",
      " 22  Contacts              10000 non-null  int64  \n",
      " 23  Yearly_equip_failure  10000 non-null  int64  \n",
      " 24  Techie                10000 non-null  object \n",
      " 25  Contract              10000 non-null  object \n",
      " 26  Port_modem            10000 non-null  object \n",
      " 27  Tablet                10000 non-null  object \n",
      " 28  InternetService       7871 non-null   object \n",
      " 29  Phone                 10000 non-null  object \n",
      " 30  Multiple              10000 non-null  object \n",
      " 31  OnlineSecurity        10000 non-null  object \n",
      " 32  OnlineBackup          10000 non-null  object \n",
      " 33  DeviceProtection      10000 non-null  object \n",
      " 34  TechSupport           10000 non-null  object \n",
      " 35  StreamingTV           10000 non-null  object \n",
      " 36  StreamingMovies       10000 non-null  object \n",
      " 37  PaperlessBilling      10000 non-null  object \n",
      " 38  PaymentMethod         10000 non-null  object \n",
      " 39  Tenure                10000 non-null  float64\n",
      " 40  MonthlyCharge         10000 non-null  float64\n",
      " 41  Bandwidth_GB_Year     10000 non-null  float64\n",
      " 42  Item1                 10000 non-null  int64  \n",
      " 43  Item2                 10000 non-null  int64  \n",
      " 44  Item3                 10000 non-null  int64  \n",
      " 45  Item4                 10000 non-null  int64  \n",
      " 46  Item5                 10000 non-null  int64  \n",
      " 47  Item6                 10000 non-null  int64  \n",
      " 48  Item7                 10000 non-null  int64  \n",
      " 49  Item8                 10000 non-null  int64  \n",
      "dtypes: float64(7), int64(16), object(27)\n",
      "memory usage: 3.8+ MB\n"
     ]
    }
   ],
   "source": [
    "# Initial package import\n",
    "import pandas as pd\n",
    "import numpy as np\n",
    "import matplotlib.pyplot as plt\n",
    "\n",
    "# .csv import\n",
    "churn_data = pd.read_csv(\"C:/Users/psuik/Desktop/WGU/D209/churn_clean.csv\")\n",
    "\n",
    "# Step 1: Profile the data for initial inspection\n",
    "churn_data.info()"
   ]
  },
  {
   "cell_type": "code",
   "execution_count": 3,
   "id": "5d7d99b1-7dd2-4c0a-b997-e7c2eb8562ef",
   "metadata": {
    "tags": []
   },
   "outputs": [
    {
     "name": "stdout",
     "output_type": "stream",
     "text": [
      "0       False\n",
      "1       False\n",
      "2       False\n",
      "3       False\n",
      "4       False\n",
      "        ...  \n",
      "9995    False\n",
      "9996    False\n",
      "9997    False\n",
      "9998    False\n",
      "9999    False\n",
      "Length: 10000, dtype: bool\n",
      "False    10000\n",
      "Name: count, dtype: int64\n"
     ]
    }
   ],
   "source": [
    "# Step 2: Identify and treat duplicate values\n",
    "\n",
    "# Return duplicate values as True, non-duplicates as False\n",
    "print(churn_data.duplicated())\n",
    "\n",
    "# Get total counts of duplicate values\n",
    "print(churn_data.duplicated().value_counts())"
   ]
  },
  {
   "cell_type": "code",
   "execution_count": 4,
   "id": "a381380a-c591-4e89-865b-f259ce764898",
   "metadata": {
    "tags": []
   },
   "outputs": [
    {
     "name": "stdout",
     "output_type": "stream",
     "text": [
      "0       False\n",
      "1       False\n",
      "2       False\n",
      "3       False\n",
      "4       False\n",
      "        ...  \n",
      "9995    False\n",
      "9996    False\n",
      "9997    False\n",
      "9998    False\n",
      "9999    False\n",
      "Name: Customer_id, Length: 10000, dtype: bool\n",
      "Customer_id\n",
      "False    10000\n",
      "Name: count, dtype: int64\n"
     ]
    }
   ],
   "source": [
    "# True = duplicate, False = non-duplicate\n",
    "# 10,000 False values ==> No complete duplicates exist \n",
    "\n",
    "# Check for duplicate values in Customer_id column, since this is denoted as a unique identifier\n",
    "print(churn_data['Customer_id'].duplicated())\n",
    "print(churn_data['Customer_id'].duplicated().value_counts())"
   ]
  },
  {
   "cell_type": "code",
   "execution_count": 5,
   "id": "9d1aca39-acbe-420f-83a2-4fe5d33081bb",
   "metadata": {
    "tags": []
   },
   "outputs": [
    {
     "name": "stdout",
     "output_type": "stream",
     "text": [
      "TimeZone: ['America/Sitka' 'America/Detroit' 'America/Los_Angeles' 'America/Chicago'\n",
      " 'America/New_York' 'America/Puerto_Rico' 'America/Denver'\n",
      " 'America/Menominee' 'America/Phoenix' 'America/Indiana/Indianapolis'\n",
      " 'America/Boise' 'America/Kentucky/Louisville' 'Pacific/Honolulu'\n",
      " 'America/Indiana/Petersburg' 'America/Nome' 'America/Anchorage'\n",
      " 'America/Indiana/Knox' 'America/Juneau' 'America/Toronto'\n",
      " 'America/Indiana/Winamac' 'America/Indiana/Vincennes'\n",
      " 'America/North_Dakota/New_Salem' 'America/Indiana/Tell_City'\n",
      " 'America/Indiana/Marengo' 'America/Ojinaga']\n",
      "Churn: ['No' 'Yes']\n",
      "Techie: ['No' 'Yes']\n",
      "Port_modem: ['Yes' 'No']\n",
      "Tablet: ['Yes' 'No']\n",
      "Phone: ['Yes' 'No']\n",
      "Multiple: ['No' 'Yes']\n",
      "OnlineSecurity: ['Yes' 'No']\n",
      "OnlineBackup: ['Yes' 'No']\n",
      "DeviceProtection: ['No' 'Yes']\n",
      "TechSupport: ['No' 'Yes']\n",
      "StreamingTV: ['No' 'Yes']\n",
      "StreamingMovies: ['Yes' 'No']\n",
      "PaperlessBilling: ['Yes' 'No']\n"
     ]
    }
   ],
   "source": [
    "# Step 3: Re-express ordinal categorical variables as numerical variables \n",
    "\n",
    "# Get unique values for each ordinal categorical variable\n",
    "## Items 1-8 have ordinal values, but are already numerically encoded, so they will not be included\n",
    "print(\"TimeZone:\",churn_data.TimeZone.unique())\n",
    "print(\"Churn:\",churn_data.Churn.unique())\n",
    "print(\"Techie:\",churn_data.Techie.unique())\n",
    "print(\"Port_modem:\",churn_data.Port_modem.unique())\n",
    "print(\"Tablet:\",churn_data.Tablet.unique())\n",
    "print(\"Phone:\",churn_data.Phone.unique())\n",
    "print(\"Multiple:\",churn_data.Multiple.unique())\n",
    "print(\"OnlineSecurity:\",churn_data.OnlineSecurity.unique())\n",
    "print(\"OnlineBackup:\",churn_data.OnlineBackup.unique())\n",
    "print(\"DeviceProtection:\",churn_data.DeviceProtection.unique())\n",
    "print(\"TechSupport:\",churn_data.TechSupport.unique())\n",
    "print(\"StreamingTV:\",churn_data.StreamingTV.unique())\n",
    "print(\"StreamingMovies:\",churn_data.StreamingMovies.unique())\n",
    "print(\"PaperlessBilling:\",churn_data.PaperlessBilling.unique())"
   ]
  },
  {
   "cell_type": "code",
   "execution_count": 6,
   "id": "dc767e6a-1ba2-4ba9-b1a0-c9d75e10b4c6",
   "metadata": {
    "tags": []
   },
   "outputs": [],
   "source": [
    "# Replicate the variables to prepare for replacing categorical values with numeric ones\n",
    "churn_data['TimeZone_num']=churn_data['TimeZone']\n",
    "churn_data['Churn_num']=churn_data['Churn']\n",
    "churn_data['Techie_num']=churn_data['Techie']\n",
    "churn_data['Port_modem_num']=churn_data['Port_modem']\n",
    "churn_data['Tablet_num']=churn_data['Tablet']\n",
    "churn_data['Phone_num']=churn_data['Phone']\n",
    "churn_data['Multiple_num']=churn_data['Multiple']\n",
    "churn_data['OnlineSecurity_num']=churn_data['OnlineSecurity']\n",
    "churn_data['OnlineBackup_num']=churn_data['OnlineBackup']\n",
    "churn_data['DeviceProtection_num']=churn_data['DeviceProtection']\n",
    "churn_data['TechSupport_num']=churn_data['TechSupport']\n",
    "churn_data['StreamingTV_num']=churn_data['StreamingTV']\n",
    "churn_data['StreamingMovies_num']=churn_data['StreamingMovies']\n",
    "churn_data['PaperlessBilling_num']=churn_data['PaperlessBilling']"
   ]
  },
  {
   "cell_type": "code",
   "execution_count": 7,
   "id": "0b7e29bd-7eea-45fa-9d81-310db7526dd8",
   "metadata": {
    "tags": []
   },
   "outputs": [],
   "source": [
    "# Create dictionaries for conversion. \n",
    "## *TimeZones are ranked ordinally based on a 1 hour difference relative to Puerto Rico\n",
    "\n",
    "dict_TimeZone = {\"America/Puerto_Rico\": 1, \n",
    "                 \"America/Detroit\": 2,\n",
    "                 \"America/New_York\": 2,\n",
    "                 \"America/Indiana/Indianapolis\": 2, \n",
    "                 \"America/Kentucky/Louisville\": 2, \n",
    "                 \"America/Indiana/Petersburg\": 2, \n",
    "                 \"America/Toronto\": 2, \n",
    "                 \"America/Indiana/Winamac\": 2,\n",
    "                 \"America/Indiana/Vincennes\": 2, \n",
    "                 \"America/Indiana/Marengo\": 2,\n",
    "                 \"America/Chicago\": 3,\n",
    "                 \"America/Menominee\": 3,\n",
    "                 \"America/Indiana/Knox\": 3,\n",
    "                 \"America/North_Dakota/New_Salem\": 3,\n",
    "                 \"America/Indiana/Tell_City\": 3,\n",
    "                 \"America/Denver\": 4,\n",
    "                 \"America/Phoenix\": 4,\n",
    "                 \"America/Boise\": 4,\n",
    "                 \"America/Ojinaga\": 4,\n",
    "                 \"America/Los_Angeles\": 5,\n",
    "                 \"America/Sitka\": 6,\n",
    "                 \"America/Nome\": 6,\n",
    "                 \"America/Anchorage\": 6,\n",
    "                 \"America/Juneau\": 6,\n",
    "                 \"Pacific/Honolulu\": 7}\n",
    "dict_Churn = {\"No\":0, \"Yes\":1}\n",
    "dict_Techie = {\"No\":0, \"Yes\":1}\n",
    "dict_Port_modem = {\"No\":0, \"Yes\":1}\n",
    "dict_Tablet = {\"No\":0, \"Yes\":1}\n",
    "dict_Phone = {\"No\":0, \"Yes\":1}\n",
    "dict_Multiple = {\"No\":0, \"Yes\":1}\n",
    "dict_OnlineSecurity = {\"No\":0, \"Yes\":1}\n",
    "dict_OnlineBackup = {\"No\":0, \"Yes\":1}\n",
    "dict_DeviceProtection = {\"No\":0, \"Yes\":1}\n",
    "dict_TechSupport = {\"No\":0, \"Yes\":1}\n",
    "dict_StreamingTV = {\"No\":0, \"Yes\":1}\n",
    "dict_StreamingMovies = {\"No\":0, \"Yes\":1}\n",
    "dict_PaperlessBilling = {\"No\":0, \"Yes\":1}"
   ]
  },
  {
   "cell_type": "code",
   "execution_count": 8,
   "id": "97ed7f9d-2fec-4b95-beef-eec31946ad76",
   "metadata": {
    "tags": []
   },
   "outputs": [],
   "source": [
    "# Replace values from dictionaries\n",
    "churn_data['TimeZone_num'].replace(dict_TimeZone, inplace=True)\n",
    "churn_data['Churn_num'].replace(dict_Churn, inplace=True)\n",
    "churn_data['Techie_num'].replace(dict_Techie, inplace=True)\n",
    "churn_data['Port_modem_num'].replace(dict_Port_modem, inplace=True)\n",
    "churn_data['Tablet_num'].replace(dict_Tablet, inplace=True)\n",
    "churn_data['Phone_num'].replace(dict_Phone, inplace=True)\n",
    "churn_data['Multiple_num'].replace(dict_Multiple, inplace=True)\n",
    "churn_data['OnlineSecurity_num'].replace(dict_OnlineSecurity, inplace=True)\n",
    "churn_data['OnlineBackup_num'].replace(dict_OnlineBackup, inplace=True)\n",
    "churn_data['DeviceProtection_num'].replace(dict_DeviceProtection, inplace=True)\n",
    "churn_data['TechSupport_num'].replace(dict_TechSupport, inplace=True)\n",
    "churn_data['StreamingTV_num'].replace(dict_StreamingTV, inplace=True)\n",
    "churn_data['StreamingMovies_num'].replace(dict_StreamingMovies, inplace=True)\n",
    "churn_data['PaperlessBilling_num'].replace(dict_PaperlessBilling, inplace=True)"
   ]
  },
  {
   "cell_type": "code",
   "execution_count": 9,
   "id": "0c746f17-986a-4e01-a74d-4c1959379173",
   "metadata": {
    "tags": []
   },
   "outputs": [],
   "source": [
    "# Step 4: Re-encode nominal categorical variables with label encoding.\n",
    "from sklearn.preprocessing import LabelEncoder\n",
    "\n",
    "# Fit the label encoder to categorical data for Gender and Internet Service\n",
    "label_encoder_gender = LabelEncoder()\n",
    "churn_data['Gender_num'] = label_encoder_gender.fit_transform(churn_data['Gender'])\n",
    "churn_data['Gender_decoded'] = label_encoder_gender.inverse_transform(churn_data['Gender_num'])\n",
    "\n",
    "label_encoder_internet = LabelEncoder()\n",
    "churn_data['InternetService_num'] = label_encoder_gender.fit_transform(churn_data['InternetService'])\n",
    "churn_data['InternetService_decoded'] = label_encoder_gender.inverse_transform(churn_data['InternetService_num'])\n",
    "\n",
    "label_encoder_internet = LabelEncoder()\n",
    "churn_data['Contract_num'] = label_encoder_gender.fit_transform(churn_data['Contract'])\n",
    "churn_data['Contract_decoded'] = label_encoder_gender.inverse_transform(churn_data['Contract_num'])\n",
    "\n",
    "label_encoder_state = LabelEncoder()\n",
    "churn_data['State_num'] = label_encoder_gender.fit_transform(churn_data['State'])\n",
    "churn_data['State_decoded'] = label_encoder_gender.inverse_transform(churn_data['State_num'])\n",
    "\n",
    "label_encoder_area = LabelEncoder()\n",
    "churn_data['Area_num'] = label_encoder_gender.fit_transform(churn_data['Area'])\n",
    "churn_data['Area_decoded'] = label_encoder_gender.inverse_transform(churn_data['Area_num'])\n",
    "\n",
    "label_encoder_marital = LabelEncoder()\n",
    "churn_data['Marital_num'] = label_encoder_gender.fit_transform(churn_data['Marital'])\n",
    "churn_data['Marital_decoded'] = label_encoder_gender.inverse_transform(churn_data['Marital_num'])\n",
    "\n",
    "label_encoder_paymentmethod = LabelEncoder()\n",
    "churn_data['PaymentMethod_num'] = label_encoder_gender.fit_transform(churn_data['PaymentMethod'])\n",
    "churn_data['PaymentMethod_decoded'] = label_encoder_gender.inverse_transform(churn_data['PaymentMethod_num'])"
   ]
  },
  {
   "cell_type": "code",
   "execution_count": 10,
   "id": "4d2e4f07-f891-47c2-81c0-883b80746d97",
   "metadata": {
    "tags": []
   },
   "outputs": [
    {
     "name": "stdout",
     "output_type": "stream",
     "text": [
      "0\n",
      "0\n"
     ]
    }
   ],
   "source": [
    "# Step 5: Identify and treat missing values \n",
    "\n",
    "# Initial inspection of the data shows that only 7,871 out of 10,000 values for InternetService are non-null values\n",
    "# This means there are 2,129 missing values in this column that must be imputed\n",
    "\n",
    "# Imputation will be completed using the mode of 'InternetService', a nominal categorical variable\n",
    "mode_InternetService = churn_data['InternetService'].mode()[0]\n",
    "\n",
    "# Fill all null values in InternetService with the mode\n",
    "churn_data['InternetService'] = churn_data['InternetService'].fillna(mode_InternetService)\n",
    "\n",
    "# Confirm all missing values have been filled by returning the sum of null values in InternetService & InternetService_num\n",
    "print(churn_data['InternetService'].isnull().sum())\n",
    "print(churn_data['InternetService_num'].isnull().sum())"
   ]
  },
  {
   "cell_type": "code",
   "execution_count": 11,
   "id": "dd9b5d4c-2ea0-4f4c-909e-e77f4536d045",
   "metadata": {
    "tags": []
   },
   "outputs": [
    {
     "data": {
      "image/png": "[encoded data removed]",
      "text/plain": [
       "<Figure size 1200x1200 with 14 Axes>"
      ]
     },
     "metadata": {},
     "output_type": "display_data"
    }
   ],
   "source": [
    "# Step 6: Identify and treat outliers\n",
    "\n",
    "# Visually show outliers for each quantitative variable on respective box plots\n",
    "# Import seaborn\n",
    "import seaborn as sns\n",
    "\n",
    "fig, axes = plt.subplots(nrows=7, ncols=2, figsize=(12, 12))\n",
    "\n",
    "plt.subplot(7, 2, 1)\n",
    "sns.boxplot(x='Lat', data = churn_data)\n",
    "\n",
    "plt.subplot(7, 2, 2)\n",
    "sns.boxplot(x='Lng', data = churn_data)\n",
    "\n",
    "plt.subplot(7, 2, 3)\n",
    "sns.boxplot(x='Population', data = churn_data)\n",
    "\n",
    "plt.subplot(7, 2, 4)\n",
    "sns.boxplot(x='Children', data = churn_data)\n",
    "\n",
    "plt.subplot(7, 2, 5)\n",
    "sns.boxplot(x='Age', data = churn_data)\n",
    "\n",
    "plt.subplot(7, 2, 6)\n",
    "sns.boxplot(x='Income', data = churn_data)\n",
    "\n",
    "plt.subplot(7, 2, 7)\n",
    "sns.boxplot(x='Outage_sec_perweek', data = churn_data)\n",
    "\n",
    "plt.subplot(7, 2, 8)\n",
    "sns.boxplot(x='Email', data = churn_data)\n",
    "\n",
    "plt.subplot(7, 2, 9)\n",
    "sns.boxplot(x='Contacts', data = churn_data)\n",
    "\n",
    "plt.subplot(7, 2, 10)\n",
    "sns.boxplot(x='Yearly_equip_failure', data = churn_data)\n",
    "\n",
    "plt.subplot(7, 2, 11)\n",
    "sns.boxplot(x='Tenure', data = churn_data)\n",
    "\n",
    "plt.subplot(7, 2, 12)\n",
    "sns.boxplot(x='MonthlyCharge', data = churn_data)\n",
    "\n",
    "plt.subplot(7, 2, 13)\n",
    "sns.boxplot(x='Bandwidth_GB_Year', data = churn_data)\n",
    "\n",
    "plt.tight_layout()"
   ]
  },
  {
   "cell_type": "markdown",
   "id": "39068fbd-69bf-4524-9bcf-c1fdc4e606d0",
   "metadata": {},
   "source": [
    "After evaluation of each count and range of outliers for the variables, it was determined that none of the outliers should be removed, as each outlier is within an acceptable or justifiable range, implying that their input is valid and was not cause of mistake or human error. Below is the justification for retention of the data set’s outliers: \n",
    "* Lat & Lng: Customers are from all over the country, so these values may be accurate as customers are more densely populated in some areas. There are no latitudes or longitudes off on their own in the boxplot so there is no cause to question these values.\n",
    "* Population: Customers are from all over the country, so 100,000 is a very reasonable population number when many cities in the US have over 1,000,000 residents.\n",
    "* Children: Customers are from all over the country, so 100,000 is a very reasonable population number when many cities in the US have over 1,000,000 residents.\n",
    "* Income: The maximum value is just over $250k, which is a reasonable income amount.\n",
    "* Outage_sec_perweek: There are many outliers here which makes sense—there are likely some customers who experience little to no outages in the average week, making up the lower range of outliers. On the other hand, if one customer is experiencing an outage, those in a certain radius of them would likely also experience an outage, explaining the high number of upper-range outliers here too. This explains the wide range of outlier values here too.\n",
    "* Email: The upper and lower range of outliers here does not present anything out of the question. \n",
    "* Contacts: The upper and lower range of outliers here does not present anything out of the question. \n",
    "* Yearly_equip_failure: The maximum number of times someone’s equipment failed this year is 6, which is unfortunate, but possible."
   ]
  },
  {
   "cell_type": "markdown",
   "id": "ff2f062b-eb69-4d78-8f3f-df8b59d9adca",
   "metadata": {},
   "source": [
    "**C4. Cleaned data set**\n",
    "<br>The prepared data set is downloadable via the code below."
   ]
  },
  {
   "cell_type": "code",
   "execution_count": 12,
   "id": "357d6fe8-0db3-477f-915a-edea49cf2251",
   "metadata": {
    "tags": []
   },
   "outputs": [],
   "source": [
    "churn_data.to_csv(r\"C:/Users/psuik/Desktop/WGU/D209/churn_clean_D209p2.csv\")"
   ]
  },
  {
   "cell_type": "markdown",
   "id": "47932ab3-2716-4f3f-bfe6-6b8a848ee568",
   "metadata": {},
   "source": [
    "### Part IV: Analysis\n",
    "\n",
    "**D1. Splitting the data**\n",
    "<br> Before the data is split, a new data frame containing only the predictor variables relevant to this model is created. "
   ]
  },
  {
   "cell_type": "code",
   "execution_count": 13,
   "id": "f790e2c8-498b-47a1-a370-b41e6465c9be",
   "metadata": {
    "tags": []
   },
   "outputs": [
    {
     "data": {
      "text/html": [
       "<div>\n",
       "<style scoped>\n",
       "    .dataframe tbody tr th:only-of-type {\n",
       "        vertical-align: middle;\n",
       "    }\n",
       "\n",
       "    .dataframe tbody tr th {\n",
       "        vertical-align: top;\n",
       "    }\n",
       "\n",
       "    .dataframe thead th {\n",
       "        text-align: right;\n",
       "    }\n",
       "</style>\n",
       "<table border=\"1\" class=\"dataframe\">\n",
       "  <thead>\n",
       "    <tr style=\"text-align: right;\">\n",
       "      <th></th>\n",
       "      <th>Bandwidth_GB_Year</th>\n",
       "      <th>Children</th>\n",
       "      <th>Age</th>\n",
       "      <th>Income</th>\n",
       "      <th>Outage_sec_perweek</th>\n",
       "      <th>Yearly_equip_failure</th>\n",
       "      <th>Tenure</th>\n",
       "      <th>MonthlyCharge</th>\n",
       "      <th>Techie_num</th>\n",
       "      <th>Tablet_num</th>\n",
       "      <th>Phone_num</th>\n",
       "      <th>Multiple_num</th>\n",
       "      <th>StreamingTV_num</th>\n",
       "      <th>StreamingMovies_num</th>\n",
       "    </tr>\n",
       "  </thead>\n",
       "  <tbody>\n",
       "    <tr>\n",
       "      <th>0</th>\n",
       "      <td>904.536110</td>\n",
       "      <td>0</td>\n",
       "      <td>68</td>\n",
       "      <td>28561.99</td>\n",
       "      <td>7.978323</td>\n",
       "      <td>1</td>\n",
       "      <td>6.795513</td>\n",
       "      <td>172.455519</td>\n",
       "      <td>0</td>\n",
       "      <td>1</td>\n",
       "      <td>1</td>\n",
       "      <td>0</td>\n",
       "      <td>0</td>\n",
       "      <td>1</td>\n",
       "    </tr>\n",
       "    <tr>\n",
       "      <th>1</th>\n",
       "      <td>800.982766</td>\n",
       "      <td>1</td>\n",
       "      <td>27</td>\n",
       "      <td>21704.77</td>\n",
       "      <td>11.699080</td>\n",
       "      <td>1</td>\n",
       "      <td>1.156681</td>\n",
       "      <td>242.632554</td>\n",
       "      <td>1</td>\n",
       "      <td>1</td>\n",
       "      <td>1</td>\n",
       "      <td>1</td>\n",
       "      <td>1</td>\n",
       "      <td>1</td>\n",
       "    </tr>\n",
       "    <tr>\n",
       "      <th>2</th>\n",
       "      <td>2054.706961</td>\n",
       "      <td>4</td>\n",
       "      <td>50</td>\n",
       "      <td>9609.57</td>\n",
       "      <td>10.752800</td>\n",
       "      <td>1</td>\n",
       "      <td>15.754144</td>\n",
       "      <td>159.947583</td>\n",
       "      <td>1</td>\n",
       "      <td>0</td>\n",
       "      <td>1</td>\n",
       "      <td>1</td>\n",
       "      <td>0</td>\n",
       "      <td>1</td>\n",
       "    </tr>\n",
       "    <tr>\n",
       "      <th>3</th>\n",
       "      <td>2164.579412</td>\n",
       "      <td>1</td>\n",
       "      <td>48</td>\n",
       "      <td>18925.23</td>\n",
       "      <td>14.913540</td>\n",
       "      <td>0</td>\n",
       "      <td>17.087227</td>\n",
       "      <td>119.956840</td>\n",
       "      <td>1</td>\n",
       "      <td>0</td>\n",
       "      <td>1</td>\n",
       "      <td>0</td>\n",
       "      <td>1</td>\n",
       "      <td>0</td>\n",
       "    </tr>\n",
       "    <tr>\n",
       "      <th>4</th>\n",
       "      <td>271.493436</td>\n",
       "      <td>0</td>\n",
       "      <td>83</td>\n",
       "      <td>40074.19</td>\n",
       "      <td>8.147417</td>\n",
       "      <td>1</td>\n",
       "      <td>1.670972</td>\n",
       "      <td>149.948316</td>\n",
       "      <td>0</td>\n",
       "      <td>0</td>\n",
       "      <td>0</td>\n",
       "      <td>0</td>\n",
       "      <td>1</td>\n",
       "      <td>0</td>\n",
       "    </tr>\n",
       "  </tbody>\n",
       "</table>\n",
       "</div>"
      ],
      "text/plain": [
       "   Bandwidth_GB_Year  Children  Age    Income  Outage_sec_perweek  \\\n",
       "0         904.536110         0   68  28561.99            7.978323   \n",
       "1         800.982766         1   27  21704.77           11.699080   \n",
       "2        2054.706961         4   50   9609.57           10.752800   \n",
       "3        2164.579412         1   48  18925.23           14.913540   \n",
       "4         271.493436         0   83  40074.19            8.147417   \n",
       "\n",
       "   Yearly_equip_failure     Tenure  MonthlyCharge  Techie_num  Tablet_num  \\\n",
       "0                     1   6.795513     172.455519           0           1   \n",
       "1                     1   1.156681     242.632554           1           1   \n",
       "2                     1  15.754144     159.947583           1           0   \n",
       "3                     0  17.087227     119.956840           1           0   \n",
       "4                     1   1.670972     149.948316           0           0   \n",
       "\n",
       "   Phone_num  Multiple_num  StreamingTV_num  StreamingMovies_num  \n",
       "0          1             0                0                    1  \n",
       "1          1             1                1                    1  \n",
       "2          1             1                0                    1  \n",
       "3          1             0                1                    0  \n",
       "4          0             0                1                    0  "
      ]
     },
     "execution_count": 13,
     "metadata": {},
     "output_type": "execute_result"
    }
   ],
   "source": [
    "# New dataframe containing only the dependent variable and selected explanatory variables\n",
    "df = churn_data[['Bandwidth_GB_Year', 'Children', 'Age', 'Income', 'Outage_sec_perweek', 'Yearly_equip_failure',\n",
    "               'Tenure', 'MonthlyCharge', 'Techie_num', 'Tablet_num', 'Phone_num' , 'Multiple_num', \n",
    "                 'StreamingTV_num', 'StreamingMovies_num']].copy()\n",
    "df.head()"
   ]
  },
  {
   "cell_type": "code",
   "execution_count": 15,
   "id": "659832ef-66e4-4df7-93cf-3b1de3660baf",
   "metadata": {
    "tags": []
   },
   "outputs": [],
   "source": [
    "# X and y are defined from this newly created reduced dataframe, df: \n",
    "X = df[['Children', 'Age', 'Income', 'Outage_sec_perweek', 'Yearly_equip_failure',\n",
    "               'Tenure', 'MonthlyCharge', 'Techie_num', 'Tablet_num', 'Phone_num' , 'Multiple_num', \n",
    "                 'StreamingTV_num', 'StreamingMovies_num']]\n",
    "y = df[['Bandwidth_GB_Year']]\n",
    "y = y.values.ravel()"
   ]
  },
  {
   "cell_type": "code",
   "execution_count": 16,
   "id": "1c958149-8842-4f5d-9bef-da13b4ac730f",
   "metadata": {
    "tags": []
   },
   "outputs": [],
   "source": [
    "# Splitting the data (Kawerk, n.d.) \n",
    "\n",
    "# Import train_test_split from scikit-learn\n",
    "from sklearn.model_selection import train_test_split\n",
    "\n",
    "# Set seed for reproducability\n",
    "SEED = 1 \n",
    "\n",
    "# A standard 80/20 split will be used, placing 80% of data into the training set, and 20% into the test set\n",
    "    # This is denoted by test_size=0.2, specifying this proportion\n",
    "# The random_state kwarg sets a seed for the random number generator\n",
    "    # Using this same seed later allows for this same split to be reproduced later\n",
    "X_train, X_test, y_train, y_test = train_test_split(X, y, test_size=0.2, random_state=SEED)"
   ]
  },
  {
   "cell_type": "code",
   "execution_count": 17,
   "id": "35281b39-8fc4-473e-b08a-1769638f1b5b",
   "metadata": {
    "tags": []
   },
   "outputs": [],
   "source": [
    "# The split files for download are obtained by executing the code below: \n",
    "X_train.to_csv(r\"C:/Users/psuik/Desktop/WGU/D209/X_train_D209p2.csv\") \n",
    "X_test.to_csv(r\"C:/Users/psuik/Desktop/WGU/D209/X_test_D209p2.csv\") \n",
    "\n",
    "y_train_df = pd.DataFrame(y_train, columns=[\"Bandwidth_GB_Year\"])\n",
    "y_test_df = pd.DataFrame(y_train, columns=[\"Bandwidth_GB_Year\"])\n",
    "\n",
    "y_train_df.to_csv(r\"C:/Users/psuik/Desktop/WGU/D209/y_train_D209p2.csv\") \n",
    "y_test_df.to_csv(r\"C:/Users/psuik/Desktop/WGU/D209/y_test_D209p2.csv\") "
   ]
  },
  {
   "cell_type": "markdown",
   "id": "5adf2409-9140-45e1-a2b8-24f23890ff30",
   "metadata": {},
   "source": [
    "**D2. Output and intermediate calculations**\n",
    "<br>Now that the data has been split into a training and a testing set, the model will be built on the training data, and tested on the testing data. The code to construct the model is found below in section D3. Intermediate calculations for computing the model's accuracy, mean squared error, feature importance, and hyperparameter tuning are included in the following section, E1."
   ]
  },
  {
   "cell_type": "markdown",
   "id": "e8f16ce6-ee2a-421e-947e-3f326d7d1464",
   "metadata": {},
   "source": [
    "**D3. Code execution**\n",
    "<br> The random forest regression model is built using the code below."
   ]
  },
  {
   "cell_type": "code",
   "execution_count": 18,
   "id": "975e00c1-f90c-49aa-9db7-06a66ffc9735",
   "metadata": {
    "tags": []
   },
   "outputs": [],
   "source": [
    "# (Kawerk, n.d.)\n",
    "\n",
    "# Import RandomForestRegressor from scikit-learn\n",
    "from sklearn.ensemble import RandomForestRegressor\n",
    "\n",
    "# Instantiate the random forest regressor and store as 'rf'\n",
    "rf = RandomForestRegressor(n_estimators = 400, min_samples_leaf=0.12, random_state=SEED)\n",
    "# n_estimators = 400 means there are 400 regression trees\n",
    "\n",
    "# Fit (train) the model using the training data obtained from using the train_test_split() function previously\n",
    "rf.fit(X_train, y_train)\n",
    "\n",
    "# Predict the values of the test set\n",
    "y_pred = rf.predict(X_test)"
   ]
  },
  {
   "cell_type": "markdown",
   "id": "29f092a7-7f62-4a13-a7aa-efb6f829f5d3",
   "metadata": {},
   "source": [
    "### Part V: Data Summary and Implications\n",
    "\n",
    "**E1. Accuracy and MSE**\n",
    "<br>The default metric for accuracy of regression models is the R-squared value (Bowne-Anderson, n.d.). This value indicates the amount of variance in the target variable, Bandwidth_GB_year, that is predicted from the feature variables included in the model. R-squared values range from 0 to 1, with 0 indicating no variability explained in the model, and 1 indicating a perfect fit. Thus, the higher the R-squared value, the better the model is at predicting accurate outcomes. \n",
    "\n",
    "The mean squared error (MSE) of a model is the average of the square of the difference between the actual values and the estimated values from the model (Great Learning, 2022). In other words, the MSE is a metric for how close the estimated values are to the actual values. As MSE indicates the amount that estmated values are off by, the closer the MSE is to 0, the better the model. \n",
    "\n",
    "The accuracy and MSE of the model constructed in section D3 are computed below: "
   ]
  },
  {
   "cell_type": "code",
   "execution_count": 19,
   "id": "4d150429-9a49-46f2-bd8f-bb388866f445",
   "metadata": {
    "tags": []
   },
   "outputs": [
    {
     "name": "stdout",
     "output_type": "stream",
     "text": [
      "R-squared of rf: 0.9628687055601743\n",
      "Test set MSE of rf: 179447.81\n"
     ]
    }
   ],
   "source": [
    "# Accuracy and MSE before hyperparameter tuning:\n",
    "from sklearn.metrics import mean_squared_error as MSE\n",
    "\n",
    "print(\"R-squared of rf:\", rf.score(X_test, y_test))\n",
    "\n",
    "mse_test = MSE(y_test, y_pred)\n",
    "print(\"Test set MSE of rf: {:.2f}\".format(mse_test))"
   ]
  },
  {
   "cell_type": "markdown",
   "id": "01a57e5a-43e7-44a8-b8e4-da8267708ee4",
   "metadata": {},
   "source": [
    "An R-squared value of 0.962 indicates that the model is highly accurate. However, the MSE of this model is quite high. As 179,447.81 is well above 0, this indicates that the model's estimated values are not close to the actual values in the data set.\n",
    "\n",
    "Before these metrics are considered final, hyperparameter tuning will be performed in an attempt to improve these values."
   ]
  },
  {
   "cell_type": "code",
   "execution_count": 20,
   "id": "2fb3256c-b7be-40b0-b853-7dd3d636996e",
   "metadata": {
    "tags": []
   },
   "outputs": [
    {
     "name": "stdout",
     "output_type": "stream",
     "text": [
      "Fitting 3 folds for each of 9 candidates, totalling 27 fits\n"
     ]
    },
    {
     "data": {
      "text/html": [
       "<style>#sk-container-id-1 {color: black;}#sk-container-id-1 pre{padding: 0;}#sk-container-id-1 div.sk-toggleable {background-color: white;}#sk-container-id-1 label.sk-toggleable__label {cursor: pointer;display: block;width: 100%;margin-bottom: 0;padding: 0.3em;box-sizing: border-box;text-align: center;}#sk-container-id-1 label.sk-toggleable__label-arrow:before {content: \"▸\";float: left;margin-right: 0.25em;color: #696969;}#sk-container-id-1 label.sk-toggleable__label-arrow:hover:before {color: black;}#sk-container-id-1 div.sk-estimator:hover label.sk-toggleable__label-arrow:before {color: black;}#sk-container-id-1 div.sk-toggleable__content {max-height: 0;max-width: 0;overflow: hidden;text-align: left;background-color: #f0f8ff;}#sk-container-id-1 div.sk-toggleable__content pre {margin: 0.2em;color: black;border-radius: 0.25em;background-color: #f0f8ff;}#sk-container-id-1 input.sk-toggleable__control:checked~div.sk-toggleable__content {max-height: 200px;max-width: 100%;overflow: auto;}#sk-container-id-1 input.sk-toggleable__control:checked~label.sk-toggleable__label-arrow:before {content: \"▾\";}#sk-container-id-1 div.sk-estimator input.sk-toggleable__control:checked~label.sk-toggleable__label {background-color: #d4ebff;}#sk-container-id-1 div.sk-label input.sk-toggleable__control:checked~label.sk-toggleable__label {background-color: #d4ebff;}#sk-container-id-1 input.sk-hidden--visually {border: 0;clip: rect(1px 1px 1px 1px);clip: rect(1px, 1px, 1px, 1px);height: 1px;margin: -1px;overflow: hidden;padding: 0;position: absolute;width: 1px;}#sk-container-id-1 div.sk-estimator {font-family: monospace;background-color: #f0f8ff;border: 1px dotted black;border-radius: 0.25em;box-sizing: border-box;margin-bottom: 0.5em;}#sk-container-id-1 div.sk-estimator:hover {background-color: #d4ebff;}#sk-container-id-1 div.sk-parallel-item::after {content: \"\";width: 100%;border-bottom: 1px solid gray;flex-grow: 1;}#sk-container-id-1 div.sk-label:hover label.sk-toggleable__label {background-color: #d4ebff;}#sk-container-id-1 div.sk-serial::before {content: \"\";position: absolute;border-left: 1px solid gray;box-sizing: border-box;top: 0;bottom: 0;left: 50%;z-index: 0;}#sk-container-id-1 div.sk-serial {display: flex;flex-direction: column;align-items: center;background-color: white;padding-right: 0.2em;padding-left: 0.2em;position: relative;}#sk-container-id-1 div.sk-item {position: relative;z-index: 1;}#sk-container-id-1 div.sk-parallel {display: flex;align-items: stretch;justify-content: center;background-color: white;position: relative;}#sk-container-id-1 div.sk-item::before, #sk-container-id-1 div.sk-parallel-item::before {content: \"\";position: absolute;border-left: 1px solid gray;box-sizing: border-box;top: 0;bottom: 0;left: 50%;z-index: -1;}#sk-container-id-1 div.sk-parallel-item {display: flex;flex-direction: column;z-index: 1;position: relative;background-color: white;}#sk-container-id-1 div.sk-parallel-item:first-child::after {align-self: flex-end;width: 50%;}#sk-container-id-1 div.sk-parallel-item:last-child::after {align-self: flex-start;width: 50%;}#sk-container-id-1 div.sk-parallel-item:only-child::after {width: 0;}#sk-container-id-1 div.sk-dashed-wrapped {border: 1px dashed gray;margin: 0 0.4em 0.5em 0.4em;box-sizing: border-box;padding-bottom: 0.4em;background-color: white;}#sk-container-id-1 div.sk-label label {font-family: monospace;font-weight: bold;display: inline-block;line-height: 1.2em;}#sk-container-id-1 div.sk-label-container {text-align: center;}#sk-container-id-1 div.sk-container {/* jupyter's `normalize.less` sets `[hidden] { display: none; }` but bootstrap.min.css set `[hidden] { display: none !important; }` so we also need the `!important` here to be able to override the default hidden behavior on the sphinx rendered scikit-learn.org. See: https://github.com/scikit-learn/scikit-learn/issues/21755 */display: inline-block !important;position: relative;}#sk-container-id-1 div.sk-text-repr-fallback {display: none;}</style><div id=\"sk-container-id-1\" class=\"sk-top-container\"><div class=\"sk-text-repr-fallback\"><pre>GridSearchCV(cv=3,\n",
       "             estimator=RandomForestRegressor(min_samples_leaf=0.12,\n",
       "                                             n_estimators=400, random_state=1),\n",
       "             n_jobs=-1,\n",
       "             param_grid={&#x27;min_samples_leaf&#x27;: [0.1, 0.12, 0.14],\n",
       "                         &#x27;n_estimators&#x27;: [300, 400, 500]},\n",
       "             scoring=&#x27;neg_mean_squared_error&#x27;, verbose=1)</pre><b>In a Jupyter environment, please rerun this cell to show the HTML representation or trust the notebook. <br />On GitHub, the HTML representation is unable to render, please try loading this page with nbviewer.org.</b></div><div class=\"sk-container\" hidden><div class=\"sk-item sk-dashed-wrapped\"><div class=\"sk-label-container\"><div class=\"sk-label sk-toggleable\"><input class=\"sk-toggleable__control sk-hidden--visually\" id=\"sk-estimator-id-1\" type=\"checkbox\" ><label for=\"sk-estimator-id-1\" class=\"sk-toggleable__label sk-toggleable__label-arrow\">GridSearchCV</label><div class=\"sk-toggleable__content\"><pre>GridSearchCV(cv=3,\n",
       "             estimator=RandomForestRegressor(min_samples_leaf=0.12,\n",
       "                                             n_estimators=400, random_state=1),\n",
       "             n_jobs=-1,\n",
       "             param_grid={&#x27;min_samples_leaf&#x27;: [0.1, 0.12, 0.14],\n",
       "                         &#x27;n_estimators&#x27;: [300, 400, 500]},\n",
       "             scoring=&#x27;neg_mean_squared_error&#x27;, verbose=1)</pre></div></div></div><div class=\"sk-parallel\"><div class=\"sk-parallel-item\"><div class=\"sk-item\"><div class=\"sk-label-container\"><div class=\"sk-label sk-toggleable\"><input class=\"sk-toggleable__control sk-hidden--visually\" id=\"sk-estimator-id-2\" type=\"checkbox\" ><label for=\"sk-estimator-id-2\" class=\"sk-toggleable__label sk-toggleable__label-arrow\">estimator: RandomForestRegressor</label><div class=\"sk-toggleable__content\"><pre>RandomForestRegressor(min_samples_leaf=0.12, n_estimators=400, random_state=1)</pre></div></div></div><div class=\"sk-serial\"><div class=\"sk-item\"><div class=\"sk-estimator sk-toggleable\"><input class=\"sk-toggleable__control sk-hidden--visually\" id=\"sk-estimator-id-3\" type=\"checkbox\" ><label for=\"sk-estimator-id-3\" class=\"sk-toggleable__label sk-toggleable__label-arrow\">RandomForestRegressor</label><div class=\"sk-toggleable__content\"><pre>RandomForestRegressor(min_samples_leaf=0.12, n_estimators=400, random_state=1)</pre></div></div></div></div></div></div></div></div></div></div>"
      ],
      "text/plain": [
       "GridSearchCV(cv=3,\n",
       "             estimator=RandomForestRegressor(min_samples_leaf=0.12,\n",
       "                                             n_estimators=400, random_state=1),\n",
       "             n_jobs=-1,\n",
       "             param_grid={'min_samples_leaf': [0.1, 0.12, 0.14],\n",
       "                         'n_estimators': [300, 400, 500]},\n",
       "             scoring='neg_mean_squared_error', verbose=1)"
      ]
     },
     "execution_count": 20,
     "metadata": {},
     "output_type": "execute_result"
    }
   ],
   "source": [
    "# Hyperparameter tuning (Kawerk, n.d.)\n",
    "from sklearn.model_selection import GridSearchCV\n",
    "\n",
    "# Define a dictionary with ranges of values for each of the parameters used in the model\n",
    "params_rf = {'n_estimators': [300, 400, 500],\n",
    "             'min_samples_leaf': [0.10, 0.12, 0.14]}\n",
    "\n",
    "# Instantiate a GridSearchCV object, passing the dictionary defined above as the parameters grid\n",
    "# This will perform 3-fold cross-validation\n",
    "# The scoring metric being used is the negative mean squared error\n",
    "grid_rf = GridSearchCV(estimator=rf, param_grid=params_rf, cv=3, \n",
    "                       scoring='neg_mean_squared_error',\n",
    "                       verbose=1,\n",
    "                       n_jobs=-1)\n",
    "\n",
    "# Fit the GridSearchCV object on the training data\n",
    "grid_rf.fit(X_train, y_train)"
   ]
  },
  {
   "cell_type": "code",
   "execution_count": 21,
   "id": "be2f2554-d6c2-49bb-8376-747dbcfc7c53",
   "metadata": {
    "tags": []
   },
   "outputs": [
    {
     "name": "stdout",
     "output_type": "stream",
     "text": [
      "Best hyperparameters: {'min_samples_leaf': 0.1, 'n_estimators': 500}\n"
     ]
    }
   ],
   "source": [
    "# Extract the best-performing hyperparameters from grid_rf and print them\n",
    "best_hyperparams = grid_rf.best_params_\n",
    "print(\"Best hyperparameters:\", best_hyperparams)"
   ]
  },
  {
   "cell_type": "code",
   "execution_count": 29,
   "id": "24877845-8e81-44d0-bbb8-994fe2999997",
   "metadata": {
    "tags": []
   },
   "outputs": [],
   "source": [
    "# Re-define the random forest regressor using the best hyperparameters from above\n",
    "## Call the updated regressor rf_best\n",
    "rf_best = RandomForestRegressor(n_estimators = 500, min_samples_leaf=0.1, random_state=SEED)\n",
    "\n",
    "# Fit (train) rf_best using the training data obtained from using the train_test_split() function previously\n",
    "rf_best.fit(X_train, y_train)\n",
    "\n",
    "# Predict the values of the test set using the newly trained rf_best\n",
    "## Create a new y_pred, called y_pred_best\n",
    "y_pred_best = rf_best.predict(X_test)"
   ]
  },
  {
   "cell_type": "markdown",
   "id": "0e6d1a70-c461-4774-a8d6-d1e222b877d1",
   "metadata": {},
   "source": [
    "Now that the hyperparameters for the model have been tuned, the accuracy and MSE will be re-calculated for the updated model."
   ]
  },
  {
   "cell_type": "code",
   "execution_count": 30,
   "id": "bdd47f22-a535-48b4-8669-56fdf0d8081f",
   "metadata": {
    "tags": []
   },
   "outputs": [
    {
     "name": "stdout",
     "output_type": "stream",
     "text": [
      "R-squared of rf_best: 0.9699266292834772\n",
      "Test set MSE of rf_best: 145338.34\n"
     ]
    }
   ],
   "source": [
    "# Accuracy and MSE after hyperparameter tuning:\n",
    "\n",
    "print(\"R-squared of rf_best:\", rf_best.score(X_test, y_test))\n",
    "\n",
    "# y_pred_best replaces y_pred in the MSE calculation\n",
    "mse_test_best = MSE(y_test, y_pred_best)\n",
    "print(\"Test set MSE of rf_best: {:.2f}\".format(mse_test_best))"
   ]
  },
  {
   "cell_type": "markdown",
   "id": "17ab27f5-267d-4fc4-bf10-28f0bb08a8c7",
   "metadata": {},
   "source": [
    "Tuning the model's hyperparameters results in a slighly improved R-squared value of 0.969. This indicates that tuning the hyperparameters allows for the predictor variables used in the model to better explain the variance in Bandwidth_GB_Year.\n",
    "\n",
    "The model's MSE decreased after hyperparameter tuning, although only slightly. Seeing as though the optimal MSE value is 0, which would indicate a perfect model, a value of 145,338.34 is still well above 0. This indicates that the tuned model is still error-prone, albeit slighly less than the model built on the original hyperparameters. "
   ]
  },
  {
   "cell_type": "markdown",
   "id": "748d2cce-59e3-4b16-8dda-eb6802da820f",
   "metadata": {},
   "source": [
    "In an effort to uncover the reason for such a high MSE value, the feature importance of the model's predictor variables will be inspected."
   ]
  },
  {
   "cell_type": "code",
   "execution_count": 62,
   "id": "5dc497cc-6e99-4bc8-aa95-8a5f2235ce35",
   "metadata": {
    "tags": []
   },
   "outputs": [
    {
     "data": {
      "image/png": "[encoded data removed]",
      "text/plain": [
       "<Figure size 640x480 with 1 Axes>"
      ]
     },
     "metadata": {},
     "output_type": "display_data"
    }
   ],
   "source": [
    "# Feature importance (Kawerk, n.d.)\n",
    "\n",
    "# Create a pd.Series of feature importances\n",
    "importances_rf = pd.Series(rf.feature_importances_, index=X.columns)\n",
    "\n",
    "# Sort importances_rf\n",
    "sorted_importances_rf = importances_rf.sort_values()\n",
    "\n",
    "# Visualize with a horizontal bar plot\n",
    "sorted_importances_rf.plot(kind='barh', color='green')\n",
    "plt.show()"
   ]
  },
  {
   "cell_type": "markdown",
   "id": "01e0e681-4e3e-46e9-8aa0-5e207507053c",
   "metadata": {},
   "source": [
    "As seen in the bar plot above, Tenure is the only predictor variable of any importance in this model. This could explain the inflated MSE value, as MSE is closely tied to the ordinary least squares (OLS) for a model. If a model is built on data that is uninformative, it could result in a high level of variance due to the fact that the data does not accurately inform the model on how to predict on unseen data. If most of the features included in the model are merely noise, as is the case here, the model will not be well-trained and thus will have a high rate of variance."
   ]
  },
  {
   "cell_type": "markdown",
   "id": "196f48e7-fe8d-4085-a843-c904f65a8237",
   "metadata": {},
   "source": [
    "**E2. Results and implications**\n",
    "\n",
    "Though the R-squared value indicates a good fit, the tuned model's high MSE value points to a high level of error in the model and thus the model cannot be deemed informative. With this, the resulting answer to the question posed in section A1 -- **Can bandwidth usage be predicted by customer demographics, account information, and chosen services?** -- is no, bandwidth usage cannot be predicted by these factors. \n",
    "\n",
    "Based on analysis of the model, it is clear that Tenure is a significant predictor variable in the model. It is, in fact, the only predictor in the model that holds any significance. This implies that Tenure could potentially help to inform predictions on customers' annual bandwidth usage. Seeing as though the question asks if *multiple* variables can inform predictions, the resulting answer is still no."
   ]
  },
  {
   "cell_type": "markdown",
   "id": "2bb536b5-713a-407a-80f2-6b5e6697fdd4",
   "metadata": {},
   "source": [
    "**E3. Limitation**\n",
    "<br> A limitation of random forest models, such as the one created in this report, is that hyperparameters may not be at optimal levels. Hyperparameter tuning for random forest models is computationally expensive, meaning it requires a large amount of time and computer processing power (Alma Better, n.d.). When tuning a random forest model's hyperparameters, the analyst must take into consideration the trade-off between the increased accuracy of the model and the computational expense. Seeing as though hyperparameter tuning results in only minimal improvements of the model, this model is likely not fully optimized to its highest potential. Thus, this model may be limited by sub-optimal hyperparameters."
   ]
  },
  {
   "cell_type": "markdown",
   "id": "e700e2c5-f5b5-4dc6-8fea-977605d04268",
   "metadata": {},
   "source": [
    "**E4. Course of action**\n",
    "<br> Based on the findings in this report, it is recommended that no further action be taken with the model created here. As stated, it is clear that the model is uninformative due to its high level of error indicated by its MSE. Using this model to predict customers' bandwidth usage would not lead to accurate outcomes, and thus would not assist the company in improving their churn rate in any way. \n",
    "\n",
    "If anything can be taken from this analysis, however, it is that Tenure is a strong indicator of bandwidth usage. The company could potentially make use of this finding in future forecasting and or model-building. Though the predictor variables in this model were largely uninformative, it is possible that other customer data that the company has collected could inform predictions for bandwidth usage. Further analysis would be needed to confirm this."
   ]
  },
  {
   "cell_type": "markdown",
   "id": "fdad80f0-fe2d-4f09-8906-0b014cd56536",
   "metadata": {},
   "source": [
    "### Part VI: Demonstration\n",
    "\n",
    "**F. Panopto recording**\n",
    "<br> A Panopto video demonstrating and explaining use of the code included here is included separately."
   ]
  },
  {
   "cell_type": "markdown",
   "id": "2f684c83-cda4-440f-8032-58d36d0fb1d1",
   "metadata": {},
   "source": [
    "**G. Sources for third-party code**\n",
    "\n",
    "[Elie Kawerk]. Machine Learning with Tree-Based Models in Python | Random Forests (RF) [Video]. DataCamp. https://campus.datacamp.com/courses/machine-learning-with-tree-based-models-in-python/bagging-and-random-forests?ex=7\n",
    "\n",
    "[Elie Kawerk]. Machine Learning with Tree-Based Models in Python | Tuning a RF's Hyperparameters [Video]. DataCamp. https://campus.datacamp.com/courses/machine-learning-with-tree-based-models-in-python/model-tuning?ex=6"
   ]
  },
  {
   "cell_type": "markdown",
   "id": "12fa548b-cd7a-432a-8897-6f864a74b0aa",
   "metadata": {},
   "source": [
    "**H. Sources**\n",
    "\n",
    "[Hugo Bowne-Anderson]. Machine Learning with scikit-learn | Cross-validation [Video]. DataCamp. https://campus.datacamp.com/courses/machine-learning-with-scikit-learn-archived/regression-2?ex=8\n",
    "\n",
    "[Hugo Bowne-Anderson]. Machine Learning with scikit-learn | The basics of linear regression [Video]. DataCamp. https://campus.datacamp.com/courses/machine-learning-with-scikit-learn-archived/regression-2?ex=5\n",
    "\n",
    "(2022, November 18). Mean Squared Error – Explained | What is Mean Square Error? Great Learning. Retrieved January 13, 2024, from https://www.mygreatlearning.com/blog/mean-square-error-explained/#:~:text=MSE%20is%20used%20to%20check,value%20indicates%20a%20better%20fit\n",
    "\n",
    "[Elie Kawerk]. Machine Learning with Tree-Based Models in Python | Random Forests (RF) [Video]. DataCamp. https://campus.datacamp.com/courses/machine-learning-with-tree-based-models-in-python/bagging-and-random-forests?ex=7\n",
    "\n",
    "(n.d.). Random Forest Algorithm in Machine Learning. Alma Better. Retrieved January 13, 2024, from https://www.almabetter.com/bytes/tutorials/data-science/random-forest\n",
    "\n",
    "Struti M. (2023, February 23). Introduction to Random Forest in R. SimpliLearn. Retrieved January 13, 2024, from https://www.simplilearn.com/tutorials/data-science-tutorial/random-forest-in-r\n",
    "\n",
    "Sruthi E. R. (2024, January 3). Understand Random Forest Algorithms With Examples (Updated 2024). Analytics Vidhya. Retrieved January 13, 2024, from https://www.analyticsvidhya.com/blog/2021/06/understanding-random-forest/"
   ]
  }
 ],
 "metadata": {
  "kernelspec": {
   "display_name": "Python 3 (ipykernel)",
   "language": "python",
   "name": "python3"
  },
  "language_info": {
   "codemirror_mode": {
    "name": "ipython",
    "version": 3
   },
   "file_extension": ".py",
   "mimetype": "text/x-python",
   "name": "python",
   "nbconvert_exporter": "python",
   "pygments_lexer": "ipython3",
   "version": "3.11.5"
  }
 },
 "nbformat": 4,
 "nbformat_minor": 5
}
