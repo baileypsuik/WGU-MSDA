{
 "cells": [
  {
   "cell_type": "markdown",
   "id": "490a6e1f-f9c0-40c7-bb43-aeb627df0efe",
   "metadata": {},
   "source": [
    "# D208: Predictive Modeling\n",
    "Western Governors University\n",
    "<br>Bailey Psuik \n",
    "<br>January 2024\n",
    "\n",
    "### Part I: Research Question\n",
    "\n",
    "**A1.  Research question**\n",
    "<br>For this paper, data from a popular telecommunications company was analyzed. The company has collected data on its customers including demographic information, the services they receive, and customer account information in an effort to analyze their churn rate. Churn is defined as the percentage of customers who have discontinued service with the provider. Industry-wide, annual churn rates can be as high as 25%. The company knows that it is more cost-effective to retain existing customers than to acquire new ones, and therefore seeks to identify trends in customer data and uncover key metrics to help them reduce their churn rate. \n",
    "<br><br>To identify common characteristics of customers who discontinue service, this paper will use logistic regression to answer the question: **What factors contribute to churn?**\n",
    "\n",
    "\n",
    "**A2. Goals**\n",
    "<br>The goals of the data analysis are as follows:\n",
    "* Perform logistic regression to determine what factors contribute most to churn.\n",
    "* Make strategic recommendations to the company based on findings.\n",
    "\n",
    "### Part II: Method Justification\n",
    "\n",
    "**B1. Summary of assumptions**\n",
    "<br>Logistic regression models assume the following (Statistics Solutions, n.d.):\n",
    "\n",
    "* The dependent variable is binary for binary logistic regression; the dependent variable is ordinal for ordinal logistic regression.\n",
    "* Observations are independent of each other.\n",
    "* Little to no multicollinearity is present.\n",
    "* Independent variables and log odds are linear.  \n",
    "\n",
    "**B2. Tool benefits**\n",
    "<br>Python was selected for this analysis due to two main benefits.\n",
    "* Statistical modeling capabilities (Massaron & Boschetti, 2016): There are many useful packages in Python for aiding in the performance of statistical analysis and logistic regression, such as NumPy, Pandas, SKLearn, StatsModels, and others.\n",
    "* Visualization capabilities: Two Python packages utilized in this project include matplotlib and seaborn, both of which are capable of producing helpful visualizations with simple syntax. Visualizing the data is an important step not only in cleaning and preparing data, but in examining the distribution of relevant variables through use of histograms, box plots, etc.\n",
    "\n",
    "**B3. Appropriate technique**\n",
    "<br>While linear regression analyzes numerical variables, logistic regression analyzes categorical variables. Logistic regression seeks to estimate the probability that an occurence belongs to a particular classificiation. The dependent variable being analyzed here is Churn, which is coded in the data set as a binary categorical variable, therefore binary logistic regression will be used.\n",
    "\n",
    "**C1.  Data cleaning**\n",
    "<br>Before this data set is analyzed, the data must be cleaned. Skipping this vital step could result in a faulty or misleading answer to the research question posed in section A1. Goals of the data cleaning process include: \n",
    "* Perform an initial inspection of the data to get the number of rows, columns, and data types\n",
    "* Identify and treating duplicate values\n",
    "* Convert categorical variables to numerical variables\n",
    "* Identify and treating missing values\n",
    "* Identify and treating outliers\n",
    "\n",
    "<br>The steps used to clean the data are as follows: \n",
    "<br><br>Step 1: Perform an initial inspection of the data with the .info() function. \n",
    "* Outcome: The data contains 10,000 rows and 50 columns. All variables but one, InternetService, have 10,000 non-null values. Data types of each variable are logical.\n",
    "\n",
    "<br>Step 2: Compute a sum of the number of total duplicates contained in the data set. Additionally, since 'Customer_id' is denoted as being a unique identifier, compute the sum of duplicates in this column.\n",
    "* Outcome: No duplicates were found, so no treatment was needed.\n",
    "\n",
    "<br>Step 3: Re-express ordinal categorical variables as numerical variables.\n",
    "* Outcome: 14 ordinal categorical variables had their values replaced with numerical values to prepare this data set for analysis.\n",
    "\n",
    "<br>Step 4: Re-encode nominal categorical variables with label encoding.\n",
    "* Outcome: Values for Gender and InternetService, each of which have three unique values, are nominally encoded.\n",
    "\n",
    "<br>Step 5: Treat the missing values in ‘InternetService’ detected from the initial inspection of the data.\n",
    "* Outcome: The 2,129 null values found in this column were filled in using imputation of the mode, as ‘InternetService’ is a categorical variable.\n",
    "\n",
    "<br>Step 6: Visually inspect the box plots for each quantitative variable to identify outliers. \n",
    "* Outcome: Outliers were detected in nine quantitative variables, but these values were deemed acceptable for various reasons, and were therefore retained.\n",
    "\n",
    "<br>Complete code for the data cleaning portion of this analysis is below."
   ]
  },
  {
   "cell_type": "code",
   "execution_count": 1,
   "id": "a2cecf07-ea44-43d3-87c6-8f41fa30dbcb",
   "metadata": {
    "tags": []
   },
   "outputs": [
    {
     "name": "stdout",
     "output_type": "stream",
     "text": [
      "<class 'pandas.core.frame.DataFrame'>\n",
      "RangeIndex: 10000 entries, 0 to 9999\n",
      "Data columns (total 50 columns):\n",
      " #   Column                Non-Null Count  Dtype  \n",
      "---  ------                --------------  -----  \n",
      " 0   CaseOrder             10000 non-null  int64  \n",
      " 1   Customer_id           10000 non-null  object \n",
      " 2   Interaction           10000 non-null  object \n",
      " 3   UID                   10000 non-null  object \n",
      " 4   City                  10000 non-null  object \n",
      " 5   State                 10000 non-null  object \n",
      " 6   County                10000 non-null  object \n",
      " 7   Zip                   10000 non-null  int64  \n",
      " 8   Lat                   10000 non-null  float64\n",
      " 9   Lng                   10000 non-null  float64\n",
      " 10  Population            10000 non-null  int64  \n",
      " 11  Area                  10000 non-null  object \n",
      " 12  TimeZone              10000 non-null  object \n",
      " 13  Job                   10000 non-null  object \n",
      " 14  Children              10000 non-null  int64  \n",
      " 15  Age                   10000 non-null  int64  \n",
      " 16  Income                10000 non-null  float64\n",
      " 17  Marital               10000 non-null  object \n",
      " 18  Gender                10000 non-null  object \n",
      " 19  Churn                 10000 non-null  object \n",
      " 20  Outage_sec_perweek    10000 non-null  float64\n",
      " 21  Email                 10000 non-null  int64  \n",
      " 22  Contacts              10000 non-null  int64  \n",
      " 23  Yearly_equip_failure  10000 non-null  int64  \n",
      " 24  Techie                10000 non-null  object \n",
      " 25  Contract              10000 non-null  object \n",
      " 26  Port_modem            10000 non-null  object \n",
      " 27  Tablet                10000 non-null  object \n",
      " 28  InternetService       7871 non-null   object \n",
      " 29  Phone                 10000 non-null  object \n",
      " 30  Multiple              10000 non-null  object \n",
      " 31  OnlineSecurity        10000 non-null  object \n",
      " 32  OnlineBackup          10000 non-null  object \n",
      " 33  DeviceProtection      10000 non-null  object \n",
      " 34  TechSupport           10000 non-null  object \n",
      " 35  StreamingTV           10000 non-null  object \n",
      " 36  StreamingMovies       10000 non-null  object \n",
      " 37  PaperlessBilling      10000 non-null  object \n",
      " 38  PaymentMethod         10000 non-null  object \n",
      " 39  Tenure                10000 non-null  float64\n",
      " 40  MonthlyCharge         10000 non-null  float64\n",
      " 41  Bandwidth_GB_Year     10000 non-null  float64\n",
      " 42  Item1                 10000 non-null  int64  \n",
      " 43  Item2                 10000 non-null  int64  \n",
      " 44  Item3                 10000 non-null  int64  \n",
      " 45  Item4                 10000 non-null  int64  \n",
      " 46  Item5                 10000 non-null  int64  \n",
      " 47  Item6                 10000 non-null  int64  \n",
      " 48  Item7                 10000 non-null  int64  \n",
      " 49  Item8                 10000 non-null  int64  \n",
      "dtypes: float64(7), int64(16), object(27)\n",
      "memory usage: 3.8+ MB\n"
     ]
    }
   ],
   "source": [
    "# Initial package import\n",
    "import pandas as pd\n",
    "import numpy as np\n",
    "import matplotlib.pyplot as plt\n",
    "\n",
    "# .csv import\n",
    "churn_data = pd.read_csv(\"C:/Users/psuik/Desktop/WGU/D208/churn_clean.csv\")\n",
    "\n",
    "# Step 1: Profile the data for initial inspection\n",
    "churn_data.info()"
   ]
  },
  {
   "cell_type": "code",
   "execution_count": 2,
   "id": "0f67c207-c762-451a-af6e-df925bce1ff2",
   "metadata": {
    "tags": []
   },
   "outputs": [
    {
     "name": "stdout",
     "output_type": "stream",
     "text": [
      "0       False\n",
      "1       False\n",
      "2       False\n",
      "3       False\n",
      "4       False\n",
      "        ...  \n",
      "9995    False\n",
      "9996    False\n",
      "9997    False\n",
      "9998    False\n",
      "9999    False\n",
      "Length: 10000, dtype: bool\n",
      "False    10000\n",
      "Name: count, dtype: int64\n"
     ]
    }
   ],
   "source": [
    "# Step 2: Identify and treat duplicate values\n",
    "\n",
    "# Return duplicate values as True, non-duplicates as False\n",
    "print(churn_data.duplicated())\n",
    "\n",
    "# Get total counts of duplicate values\n",
    "print(churn_data.duplicated().value_counts())"
   ]
  },
  {
   "cell_type": "code",
   "execution_count": 3,
   "id": "6b0dbd08-4ad8-417d-8f69-760e6d31a83c",
   "metadata": {
    "tags": []
   },
   "outputs": [
    {
     "name": "stdout",
     "output_type": "stream",
     "text": [
      "0       False\n",
      "1       False\n",
      "2       False\n",
      "3       False\n",
      "4       False\n",
      "        ...  \n",
      "9995    False\n",
      "9996    False\n",
      "9997    False\n",
      "9998    False\n",
      "9999    False\n",
      "Name: Customer_id, Length: 10000, dtype: bool\n",
      "Customer_id\n",
      "False    10000\n",
      "Name: count, dtype: int64\n"
     ]
    }
   ],
   "source": [
    "# True = duplicate, False = non-duplicate\n",
    "# 10,000 False values ==> No complete duplicates exist \n",
    "\n",
    "# Check for duplicate values in Customer_id column, since this is denoted as a unique identifier\n",
    "print(churn_data['Customer_id'].duplicated())\n",
    "print(churn_data['Customer_id'].duplicated().value_counts())"
   ]
  },
  {
   "cell_type": "code",
   "execution_count": 4,
   "id": "ed0b8735-00ad-4cd4-9793-6ad712dded57",
   "metadata": {
    "tags": []
   },
   "outputs": [
    {
     "name": "stdout",
     "output_type": "stream",
     "text": [
      "TimeZone: ['America/Sitka' 'America/Detroit' 'America/Los_Angeles' 'America/Chicago'\n",
      " 'America/New_York' 'America/Puerto_Rico' 'America/Denver'\n",
      " 'America/Menominee' 'America/Phoenix' 'America/Indiana/Indianapolis'\n",
      " 'America/Boise' 'America/Kentucky/Louisville' 'Pacific/Honolulu'\n",
      " 'America/Indiana/Petersburg' 'America/Nome' 'America/Anchorage'\n",
      " 'America/Indiana/Knox' 'America/Juneau' 'America/Toronto'\n",
      " 'America/Indiana/Winamac' 'America/Indiana/Vincennes'\n",
      " 'America/North_Dakota/New_Salem' 'America/Indiana/Tell_City'\n",
      " 'America/Indiana/Marengo' 'America/Ojinaga']\n",
      "Churn: ['No' 'Yes']\n",
      "Techie: ['No' 'Yes']\n",
      "Port_modem: ['Yes' 'No']\n",
      "Tablet: ['Yes' 'No']\n",
      "Phone: ['Yes' 'No']\n",
      "Multiple: ['No' 'Yes']\n",
      "OnlineSecurity: ['Yes' 'No']\n",
      "OnlineBackup: ['Yes' 'No']\n",
      "DeviceProtection: ['No' 'Yes']\n",
      "TechSupport: ['No' 'Yes']\n",
      "StreamingTV: ['No' 'Yes']\n",
      "StreamingMovies: ['Yes' 'No']\n",
      "PaperlessBilling: ['Yes' 'No']\n"
     ]
    }
   ],
   "source": [
    "# Step 3: Re-express ordinal categorical variables as numerical variables \n",
    "\n",
    "# Get unique values for each ordinal categorical variable\n",
    "## Items 1-8 have ordinal values, but are already numerically encoded, so they will not be included\n",
    "print(\"TimeZone:\",churn_data.TimeZone.unique())\n",
    "print(\"Churn:\",churn_data.Churn.unique())\n",
    "print(\"Techie:\",churn_data.Techie.unique())\n",
    "print(\"Port_modem:\",churn_data.Port_modem.unique())\n",
    "print(\"Tablet:\",churn_data.Tablet.unique())\n",
    "print(\"Phone:\",churn_data.Phone.unique())\n",
    "print(\"Multiple:\",churn_data.Multiple.unique())\n",
    "print(\"OnlineSecurity:\",churn_data.OnlineSecurity.unique())\n",
    "print(\"OnlineBackup:\",churn_data.OnlineBackup.unique())\n",
    "print(\"DeviceProtection:\",churn_data.DeviceProtection.unique())\n",
    "print(\"TechSupport:\",churn_data.TechSupport.unique())\n",
    "print(\"StreamingTV:\",churn_data.StreamingTV.unique())\n",
    "print(\"StreamingMovies:\",churn_data.StreamingMovies.unique())\n",
    "print(\"PaperlessBilling:\",churn_data.PaperlessBilling.unique())"
   ]
  },
  {
   "cell_type": "code",
   "execution_count": 5,
   "id": "6ddd8266-8f00-4f02-b93f-fd0cf9147e5e",
   "metadata": {
    "tags": []
   },
   "outputs": [],
   "source": [
    "# Replicate the variables to prepare for replacing categorical values with numeric ones\n",
    "churn_data['TimeZone_num']=churn_data['TimeZone']\n",
    "churn_data['Churn_num']=churn_data['Churn']\n",
    "churn_data['Techie_num']=churn_data['Techie']\n",
    "churn_data['Port_modem_num']=churn_data['Port_modem']\n",
    "churn_data['Tablet_num']=churn_data['Tablet']\n",
    "churn_data['Phone_num']=churn_data['Phone']\n",
    "churn_data['Multiple_num']=churn_data['Multiple']\n",
    "churn_data['OnlineSecurity_num']=churn_data['OnlineSecurity']\n",
    "churn_data['OnlineBackup_num']=churn_data['OnlineBackup']\n",
    "churn_data['DeviceProtection_num']=churn_data['DeviceProtection']\n",
    "churn_data['TechSupport_num']=churn_data['TechSupport']\n",
    "churn_data['StreamingTV_num']=churn_data['StreamingTV']\n",
    "churn_data['StreamingMovies_num']=churn_data['StreamingMovies']\n",
    "churn_data['PaperlessBilling_num']=churn_data['PaperlessBilling']"
   ]
  },
  {
   "cell_type": "code",
   "execution_count": 6,
   "id": "43a01a55-19c9-40b3-873f-2f08f0926992",
   "metadata": {
    "tags": []
   },
   "outputs": [],
   "source": [
    "# Create dictionaries for conversion. \n",
    "## *TimeZones are ranked ordinally based on a 1 hour difference relative to Puerto Rico\n",
    "\n",
    "dict_TimeZone = {\"America/Puerto_Rico\": 1, \n",
    "                 \"America/Detroit\": 2,\n",
    "                 \"America/New_York\": 2,\n",
    "                 \"America/Indiana/Indianapolis\": 2, \n",
    "                 \"America/Kentucky/Louisville\": 2, \n",
    "                 \"America/Indiana/Petersburg\": 2, \n",
    "                 \"America/Toronto\": 2, \n",
    "                 \"America/Indiana/Winamac\": 2,\n",
    "                 \"America/Indiana/Vincennes\": 2, \n",
    "                 \"America/Indiana/Marengo\": 2,\n",
    "                 \"America/Chicago\": 3,\n",
    "                 \"America/Menominee\": 3,\n",
    "                 \"America/Indiana/Knox\": 3,\n",
    "                 \"America/North_Dakota/New_Salem\": 3,\n",
    "                 \"America/Indiana/Tell_City\": 3,\n",
    "                 \"America/Denver\": 4,\n",
    "                 \"America/Phoenix\": 4,\n",
    "                 \"America/Boise\": 4,\n",
    "                 \"America/Ojinaga\": 4,\n",
    "                 \"America/Los_Angeles\": 5,\n",
    "                 \"America/Sitka\": 6,\n",
    "                 \"America/Nome\": 6,\n",
    "                 \"America/Anchorage\": 6,\n",
    "                 \"America/Juneau\": 6,\n",
    "                 \"Pacific/Honolulu\": 7}\n",
    "\n",
    "dict_Churn = {\"No\":0, \"Yes\":1}\n",
    "dict_Techie = {\"No\":0, \"Yes\":1}\n",
    "dict_Port_modem = {\"No\":0, \"Yes\":1}\n",
    "dict_Tablet = {\"No\":0, \"Yes\":1}\n",
    "dict_Phone = {\"No\":0, \"Yes\":1}\n",
    "dict_Multiple = {\"No\":0, \"Yes\":1}\n",
    "dict_OnlineSecurity = {\"No\":0, \"Yes\":1}\n",
    "dict_OnlineBackup = {\"No\":0, \"Yes\":1}\n",
    "dict_DeviceProtection = {\"No\":0, \"Yes\":1}\n",
    "dict_TechSupport = {\"No\":0, \"Yes\":1}\n",
    "dict_StreamingTV = {\"No\":0, \"Yes\":1}\n",
    "dict_StreamingMovies = {\"No\":0, \"Yes\":1}\n",
    "dict_PaperlessBilling = {\"No\":0, \"Yes\":1}"
   ]
  },
  {
   "cell_type": "code",
   "execution_count": 7,
   "id": "a91c1827-ab27-458c-bad3-d9360869da56",
   "metadata": {
    "tags": []
   },
   "outputs": [],
   "source": [
    "# Replace values from dictionaries\n",
    "churn_data['TimeZone_num'].replace(dict_TimeZone, inplace=True)\n",
    "churn_data['Churn_num'].replace(dict_Churn, inplace=True)\n",
    "churn_data['Techie_num'].replace(dict_Techie, inplace=True)\n",
    "churn_data['Port_modem_num'].replace(dict_Port_modem, inplace=True)\n",
    "churn_data['Tablet_num'].replace(dict_Tablet, inplace=True)\n",
    "churn_data['Phone_num'].replace(dict_Phone, inplace=True)\n",
    "churn_data['Multiple_num'].replace(dict_Multiple, inplace=True)\n",
    "churn_data['OnlineSecurity_num'].replace(dict_OnlineSecurity, inplace=True)\n",
    "churn_data['OnlineBackup_num'].replace(dict_OnlineBackup, inplace=True)\n",
    "churn_data['DeviceProtection_num'].replace(dict_DeviceProtection, inplace=True)\n",
    "churn_data['TechSupport_num'].replace(dict_TechSupport, inplace=True)\n",
    "churn_data['StreamingTV_num'].replace(dict_StreamingTV, inplace=True)\n",
    "churn_data['StreamingMovies_num'].replace(dict_StreamingMovies, inplace=True)\n",
    "churn_data['PaperlessBilling_num'].replace(dict_PaperlessBilling, inplace=True)"
   ]
  },
  {
   "cell_type": "code",
   "execution_count": 11,
   "id": "bb17eeaa-3cb2-4408-96cd-65fa203ac601",
   "metadata": {
    "tags": []
   },
   "outputs": [],
   "source": [
    "# Step 4: Re-encode nominal categorical variables with label encoding.\n",
    "# (Great Learning, 2023)\n",
    "from sklearn.preprocessing import LabelEncoder\n",
    "\n",
    "# Fit the label encoder to categorical data for Gender and Internet Service\n",
    "label_encoder_gender = LabelEncoder()\n",
    "churn_data['Gender_num'] = label_encoder_gender.fit_transform(churn_data['Gender'])\n",
    "churn_data['Gender_decoded'] = label_encoder_gender.inverse_transform(churn_data['Gender_num'])\n",
    "\n",
    "label_encoder_internet = LabelEncoder()\n",
    "churn_data['InternetService_num'] = label_encoder_gender.fit_transform(churn_data['InternetService'])\n",
    "churn_data['InternetService_decoded'] = label_encoder_gender.inverse_transform(churn_data['InternetService_num'])\n",
    "\n",
    "label_encoder_internet = LabelEncoder()\n",
    "churn_data['Contract_num'] = label_encoder_gender.fit_transform(churn_data['Contract'])\n",
    "churn_data['Contract_decoded'] = label_encoder_gender.inverse_transform(churn_data['Contract_num'])"
   ]
  },
  {
   "cell_type": "code",
   "execution_count": 9,
   "id": "488c2e61-2d38-418d-b99a-9b34e2f7e6d7",
   "metadata": {
    "tags": []
   },
   "outputs": [
    {
     "name": "stdout",
     "output_type": "stream",
     "text": [
      "0\n",
      "0\n"
     ]
    }
   ],
   "source": [
    "# Step 5: Identify and treat missing values \n",
    "\n",
    "# Initial inspection of the data shows that only 7,871 out of 10,000 values for InternetService are non-null values\n",
    "# This means there are 2,129 missing values in this column that must be imputed\n",
    "\n",
    "# Imputation will be completed using the mode of 'InternetService', a nominal categorical variable\n",
    "mode_InternetService = churn_data['InternetService'].mode()[0]\n",
    "\n",
    "# Fill all null values in InternetService with the mode\n",
    "churn_data['InternetService'] = churn_data['InternetService'].fillna(mode_InternetService)\n",
    "\n",
    "# Confirm all missing values have been filled by returning the sum of null values in InternetService & InternetService_num\n",
    "print(churn_data['InternetService'].isnull().sum())\n",
    "print(churn_data['InternetService_num'].isnull().sum())"
   ]
  },
  {
   "cell_type": "code",
   "execution_count": 10,
   "id": "363eda81-f65f-4428-808b-6dfd6beab16d",
   "metadata": {
    "tags": []
   },
   "outputs": [
    {
     "data": {
      "image/png": "[encoded data removed]",
      "text/plain": [
       "<Figure size 1200x1200 with 14 Axes>"
      ]
     },
     "metadata": {},
     "output_type": "display_data"
    }
   ],
   "source": [
    "# Step 6: Identify and treat outliers\n",
    "\n",
    "# Visually show outliers for each quantitative variable on respective box plots\n",
    "# Import seaborn\n",
    "import seaborn as sns\n",
    "\n",
    "fig, axes = plt.subplots(nrows=7, ncols=2, figsize=(12, 12))\n",
    "\n",
    "plt.subplot(7, 2, 1)\n",
    "sns.boxplot(x='Lat', data = churn_data)\n",
    "\n",
    "plt.subplot(7, 2, 2)\n",
    "sns.boxplot(x='Lng', data = churn_data)\n",
    "\n",
    "plt.subplot(7, 2, 3)\n",
    "sns.boxplot(x='Population', data = churn_data)\n",
    "\n",
    "plt.subplot(7, 2, 4)\n",
    "sns.boxplot(x='Children', data = churn_data)\n",
    "\n",
    "plt.subplot(7, 2, 5)\n",
    "sns.boxplot(x='Age', data = churn_data)\n",
    "\n",
    "plt.subplot(7, 2, 6)\n",
    "sns.boxplot(x='Income', data = churn_data)\n",
    "\n",
    "plt.subplot(7, 2, 7)\n",
    "sns.boxplot(x='Outage_sec_perweek', data = churn_data)\n",
    "\n",
    "plt.subplot(7, 2, 8)\n",
    "sns.boxplot(x='Email', data = churn_data)\n",
    "\n",
    "plt.subplot(7, 2, 9)\n",
    "sns.boxplot(x='Contacts', data = churn_data)\n",
    "\n",
    "plt.subplot(7, 2, 10)\n",
    "sns.boxplot(x='Yearly_equip_failure', data = churn_data)\n",
    "\n",
    "plt.subplot(7, 2, 11)\n",
    "sns.boxplot(x='Tenure', data = churn_data)\n",
    "\n",
    "plt.subplot(7, 2, 12)\n",
    "sns.boxplot(x='MonthlyCharge', data = churn_data)\n",
    "\n",
    "plt.subplot(7, 2, 13)\n",
    "sns.boxplot(x='Bandwidth_GB_Year', data = churn_data)\n",
    "\n",
    "plt.tight_layout()"
   ]
  },
  {
   "cell_type": "markdown",
   "id": "3ac729b0-89b3-4eb9-b47e-eb9dbc0fc882",
   "metadata": {},
   "source": [
    "After evaluation of each count and range of outliers for the variables, it was determined that none of the outliers should be removed, as each outlier is within an acceptable or justifiable range, implying that their input is valid and was not cause of mistake or human error. Below is the justification for retention of the data set’s outliers: \n",
    "* Lat & Lng: Customers are from all over the country, so these values may be accurate as customers are more densely populated in some areas. There are no latitudes or longitudes off on their own in the boxplot so there is no cause to question these values.\n",
    "* Population: Customers are from all over the country, so 100,000 is a very reasonable population number when many cities in the US have over 1,000,000 residents.\n",
    "* Children: Customers are from all over the country, so 100,000 is a very reasonable population number when many cities in the US have over 1,000,000 residents.\n",
    "* Income: The maximum value is just over $250k, which is a reasonable income amount.\n",
    "* Outage_sec_perweek: There are many outliers here which makes sense—there are likely some customers who experience little to no outages in the average week, making up the lower range of outliers. On the other hand, if one customer is experiencing an outage, those in a certain radius of them would likely also experience an outage, explaining the high number of upper-range outliers here too. This explains the wide range of outlier values here too.\n",
    "* Email: The upper and lower range of outliers here does not present anything out of the question. \n",
    "* Contacts: The upper and lower range of outliers here does not present anything out of the question. \n",
    "* Yearly_equip_failure: The maximum number of times someone’s equipment failed this year is 6, which is unfortunate, but possible.\n",
    "\n",
    "**C2.  Summary statistics**\n",
    "<br> Summary statistics for the dependent variable, Churn, are below, as are summary statistics for each of the following independent variables: \n",
    "* Children\n",
    "* Age \n",
    "* Gender \n",
    "* Outage_sec_perweek\n",
    "* Yearly_equip_failure\n",
    "* Techie\n",
    "* Contract\n",
    "* Tenure\n",
    "* MonthlyCharge\n",
    "* Bandwidth_GB_Year"
   ]
  },
  {
   "cell_type": "markdown",
   "id": "21aa1319-9dac-4f60-bd54-9fd0883f41e7",
   "metadata": {},
   "source": [
    "* **Churn**: whether a customer has discontinued service within the past month (Yes / No)"
   ]
  },
  {
   "cell_type": "code",
   "execution_count": 71,
   "id": "4383b8c0-3635-45d9-a525-e4cc1069cc8b",
   "metadata": {
    "tags": []
   },
   "outputs": [
    {
     "name": "stdout",
     "output_type": "stream",
     "text": [
      "count     10000\n",
      "unique        2\n",
      "top          No\n",
      "freq       7350\n",
      "Name: Churn, dtype: object\n",
      "\n",
      "Churn\n",
      "No     7350\n",
      "Yes    2650\n",
      "Name: count, dtype: int64\n"
     ]
    }
   ],
   "source": [
    "print(churn_data['Churn'].describe())\n",
    "print()\n",
    "print(churn_data['Churn'].value_counts())"
   ]
  },
  {
   "cell_type": "markdown",
   "id": "420a49b9-3b31-444f-a535-54310a7e68d0",
   "metadata": {},
   "source": [
    "* **Children**: number of children residing in customer's household"
   ]
  },
  {
   "cell_type": "code",
   "execution_count": 72,
   "id": "a16ed03e-177c-4cf9-8825-d275b36b2859",
   "metadata": {
    "tags": []
   },
   "outputs": [
    {
     "name": "stdout",
     "output_type": "stream",
     "text": [
      "count    10000.0000\n",
      "mean         2.0877\n",
      "std          2.1472\n",
      "min          0.0000\n",
      "25%          0.0000\n",
      "50%          1.0000\n",
      "75%          3.0000\n",
      "max         10.0000\n",
      "Name: Children, dtype: float64\n",
      "\n",
      "Children\n",
      "0     2570\n",
      "1     2472\n",
      "2     1495\n",
      "3     1472\n",
      "4     1006\n",
      "5      212\n",
      "8      210\n",
      "6      187\n",
      "7      185\n",
      "10      99\n",
      "9       92\n",
      "Name: count, dtype: int64\n"
     ]
    }
   ],
   "source": [
    "print(churn_data['Children'].describe())\n",
    "print()\n",
    "print(churn_data['Children'].value_counts())"
   ]
  },
  {
   "cell_type": "markdown",
   "id": "b144577c-e0ca-4898-aee6-ddb6a53b6b1c",
   "metadata": {},
   "source": [
    "* **Age**: customer's age, in years"
   ]
  },
  {
   "cell_type": "code",
   "execution_count": 73,
   "id": "f826d586-86a6-4504-b65f-fc68d79e4a2c",
   "metadata": {
    "tags": []
   },
   "outputs": [
    {
     "name": "stdout",
     "output_type": "stream",
     "text": [
      "count    10000.000000\n",
      "mean        53.078400\n",
      "std         20.698882\n",
      "min         18.000000\n",
      "25%         35.000000\n",
      "50%         53.000000\n",
      "75%         71.000000\n",
      "max         89.000000\n",
      "Name: Age, dtype: float64\n"
     ]
    }
   ],
   "source": [
    "print(churn_data['Age'].describe())"
   ]
  },
  {
   "cell_type": "markdown",
   "id": "ed73d1ea-925a-4265-95c9-e186a54963b0",
   "metadata": {},
   "source": [
    "* **Gender**: customer's self-reported gender (male, female, non-binary)"
   ]
  },
  {
   "cell_type": "code",
   "execution_count": 74,
   "id": "96dc7db8-4310-420c-a250-2488291d89f7",
   "metadata": {
    "tags": []
   },
   "outputs": [
    {
     "name": "stdout",
     "output_type": "stream",
     "text": [
      "count      10000\n",
      "unique         3\n",
      "top       Female\n",
      "freq        5025\n",
      "Name: Gender, dtype: object\n",
      "\n",
      "Gender\n",
      "Female       5025\n",
      "Male         4744\n",
      "Nonbinary     231\n",
      "Name: count, dtype: int64\n"
     ]
    }
   ],
   "source": [
    "print(churn_data['Gender'].describe())\n",
    "print()\n",
    "print(churn_data['Gender'].value_counts())"
   ]
  },
  {
   "cell_type": "markdown",
   "id": "462c6912-cc35-49a5-b7de-037699a81dce",
   "metadata": {},
   "source": [
    "* **Outage_sec_perweek**: average number of seconds per week a system outage occurs in a customer's neighborhood"
   ]
  },
  {
   "cell_type": "code",
   "execution_count": 75,
   "id": "80f4758f-078d-4377-bf68-aef15a8b7388",
   "metadata": {
    "tags": []
   },
   "outputs": [
    {
     "data": {
      "text/plain": [
       "count    10000.000000\n",
       "mean        10.001848\n",
       "std          2.976019\n",
       "min          0.099747\n",
       "25%          8.018214\n",
       "50%         10.018560\n",
       "75%         11.969485\n",
       "max         21.207230\n",
       "Name: Outage_sec_perweek, dtype: float64"
      ]
     },
     "execution_count": 75,
     "metadata": {},
     "output_type": "execute_result"
    }
   ],
   "source": [
    "churn_data['Outage_sec_perweek'].describe()"
   ]
  },
  {
   "cell_type": "markdown",
   "id": "deb7851e-be1e-4054-8e7e-47c33a0d32da",
   "metadata": {},
   "source": [
    "* **Yearly_equip_failure**: number of times a customer's equipment failed or had to be replaced in the past year"
   ]
  },
  {
   "cell_type": "code",
   "execution_count": 76,
   "id": "95580c7d-1320-4d9b-a1a1-710b7a775057",
   "metadata": {
    "tags": []
   },
   "outputs": [
    {
     "data": {
      "text/plain": [
       "count    10000.000000\n",
       "mean         0.398000\n",
       "std          0.635953\n",
       "min          0.000000\n",
       "25%          0.000000\n",
       "50%          0.000000\n",
       "75%          1.000000\n",
       "max          6.000000\n",
       "Name: Yearly_equip_failure, dtype: float64"
      ]
     },
     "execution_count": 76,
     "metadata": {},
     "output_type": "execute_result"
    }
   ],
   "source": [
    "churn_data['Yearly_equip_failure'].describe()"
   ]
  },
  {
   "cell_type": "markdown",
   "id": "9b175008-e35a-4731-bcac-83b39c783ffe",
   "metadata": {},
   "source": [
    "* **Techie**: whether a customer considers themselves technically inclined (Yes / No)"
   ]
  },
  {
   "cell_type": "code",
   "execution_count": 77,
   "id": "cb26d148-ea51-4fed-b38a-8bcd22d7969e",
   "metadata": {
    "tags": []
   },
   "outputs": [
    {
     "name": "stdout",
     "output_type": "stream",
     "text": [
      "count     10000\n",
      "unique        2\n",
      "top          No\n",
      "freq       8321\n",
      "Name: Techie, dtype: object\n",
      "\n",
      "Techie\n",
      "No     8321\n",
      "Yes    1679\n",
      "Name: count, dtype: int64\n"
     ]
    }
   ],
   "source": [
    "print(churn_data['Techie'].describe())\n",
    "print()\n",
    "print(churn_data['Techie'].value_counts())"
   ]
  },
  {
   "cell_type": "markdown",
   "id": "6364ed56-df0f-47b8-8d99-0192e79fef58",
   "metadata": {},
   "source": [
    "* **Contract**: customer's contract term (month-to-month, one year, two year)"
   ]
  },
  {
   "cell_type": "code",
   "execution_count": 78,
   "id": "716334f8-2a5a-4c4b-804b-9134ac5ee962",
   "metadata": {
    "tags": []
   },
   "outputs": [
    {
     "name": "stdout",
     "output_type": "stream",
     "text": [
      "count              10000\n",
      "unique                 3\n",
      "top       Month-to-month\n",
      "freq                5456\n",
      "Name: Contract, dtype: object\n",
      "\n",
      "Contract\n",
      "Month-to-month    5456\n",
      "Two Year          2442\n",
      "One year          2102\n",
      "Name: count, dtype: int64\n"
     ]
    }
   ],
   "source": [
    "print(churn_data['Contract'].describe())\n",
    "print()\n",
    "print(churn_data['Contract'].value_counts())"
   ]
  },
  {
   "cell_type": "markdown",
   "id": "df14fcef-baae-40dd-bf95-e52b5fb41cdf",
   "metadata": {},
   "source": [
    "* **Tenure**: length of time a customer has used the service, in months"
   ]
  },
  {
   "cell_type": "code",
   "execution_count": 79,
   "id": "2b308560-7ce4-491b-a6c2-5c99e4ccb340",
   "metadata": {
    "tags": []
   },
   "outputs": [
    {
     "name": "stdout",
     "output_type": "stream",
     "text": [
      "count    10000.000000\n",
      "mean        34.526188\n",
      "std         26.443063\n",
      "min          1.000259\n",
      "25%          7.917694\n",
      "50%         35.430507\n",
      "75%         61.479795\n",
      "max         71.999280\n",
      "Name: Tenure, dtype: float64\n"
     ]
    }
   ],
   "source": [
    "print(churn_data['Tenure'].describe())"
   ]
  },
  {
   "cell_type": "markdown",
   "id": "c88d2fef-2c2a-47ec-81fa-498f7edf12e3",
   "metadata": {},
   "source": [
    "* **MonthlyCharge**: amount charged to customer monthly, in dollars"
   ]
  },
  {
   "cell_type": "code",
   "execution_count": 80,
   "id": "34cbcdb0-266c-4702-adac-de729ba5fecd",
   "metadata": {
    "tags": []
   },
   "outputs": [
    {
     "name": "stdout",
     "output_type": "stream",
     "text": [
      "count    10000.000000\n",
      "mean       172.624816\n",
      "std         42.943094\n",
      "min         79.978860\n",
      "25%        139.979239\n",
      "50%        167.484700\n",
      "75%        200.734725\n",
      "max        290.160419\n",
      "Name: MonthlyCharge, dtype: float64\n"
     ]
    }
   ],
   "source": [
    "print(churn_data['MonthlyCharge'].describe())"
   ]
  },
  {
   "cell_type": "markdown",
   "id": "0e3bbe63-2ab7-4fa0-a549-808d30d3e1d8",
   "metadata": {},
   "source": [
    "* **Bandwidth_GB_Year**: average amount of data used, in GB, per year by the customer"
   ]
  },
  {
   "cell_type": "code",
   "execution_count": 81,
   "id": "c527b535-92c2-4add-8591-f96e917df920",
   "metadata": {
    "tags": []
   },
   "outputs": [
    {
     "data": {
      "text/plain": [
       "count    10000.000000\n",
       "mean      3392.341550\n",
       "std       2185.294852\n",
       "min        155.506715\n",
       "25%       1236.470827\n",
       "50%       3279.536903\n",
       "75%       5586.141370\n",
       "max       7158.981530\n",
       "Name: Bandwidth_GB_Year, dtype: float64"
      ]
     },
     "execution_count": 81,
     "metadata": {},
     "output_type": "execute_result"
    }
   ],
   "source": [
    "churn_data['Bandwidth_GB_Year'].describe()"
   ]
  },
  {
   "cell_type": "markdown",
   "id": "c860f3b8-d35c-4399-9f73-9dbbe2835561",
   "metadata": {},
   "source": [
    "**C3. Visualizations**\n",
    "<br> Univariate visualizations for the dependent variable and all independent variables are below. Additionally, bivariate visualizations are included which compare each independent variable to the dependent variable."
   ]
  },
  {
   "cell_type": "code",
   "execution_count": 82,
   "id": "da8d14f6-4752-4434-8cd3-813e69c8c40c",
   "metadata": {
    "tags": []
   },
   "outputs": [
    {
     "data": {
      "image/png": "[encoded data removed]",
      "text/plain": [
       "<Figure size 640x480 with 1 Axes>"
      ]
     },
     "metadata": {},
     "output_type": "display_data"
    }
   ],
   "source": [
    "# Churn = DV\n",
    "churn_data['Churn'].value_counts().plot(kind='bar')\n",
    "plt.show()"
   ]
  },
  {
   "cell_type": "code",
   "execution_count": 83,
   "id": "e206339c-2b62-463c-9a1b-fb332325a708",
   "metadata": {
    "tags": []
   },
   "outputs": [
    {
     "data": {
      "text/plain": [
       "<Axes: xlabel='Children', ylabel='Churn'>"
      ]
     },
     "execution_count": 83,
     "metadata": {},
     "output_type": "execute_result"
    },
    {
     "data": {
      "image/png": "[encoded data removed]",
      "text/plain": [
       "<Figure size 1200x300 with 2 Axes>"
      ]
     },
     "metadata": {},
     "output_type": "display_data"
    }
   ],
   "source": [
    "fig, axes = plt.subplots(nrows=1, ncols=2, figsize=(12, 3))\n",
    "\n",
    "plt.subplot(1, 2, 1)\n",
    "plt.hist(churn_data['Children'])\n",
    "plt.xlabel('Children')\n",
    "\n",
    "plt.subplot(1, 2, 2)\n",
    "sns.boxplot(x='Children',y='Churn',data=churn_data)"
   ]
  },
  {
   "cell_type": "code",
   "execution_count": 84,
   "id": "5e0ddac5-55f8-425a-be0c-264c1547f15a",
   "metadata": {
    "tags": []
   },
   "outputs": [
    {
     "data": {
      "text/plain": [
       "<Axes: xlabel='Age', ylabel='Churn'>"
      ]
     },
     "execution_count": 84,
     "metadata": {},
     "output_type": "execute_result"
    },
    {
     "data": {
      "image/png": "[encoded data removed]",
      "text/plain": [
       "<Figure size 1200x300 with 2 Axes>"
      ]
     },
     "metadata": {},
     "output_type": "display_data"
    }
   ],
   "source": [
    "fig, axes = plt.subplots(nrows=1, ncols=2, figsize=(12, 3))\n",
    "\n",
    "plt.subplot(1, 2, 1)\n",
    "plt.hist(churn_data['Age'])\n",
    "plt.xlabel('Age')\n",
    "\n",
    "plt.subplot(1, 2, 2)\n",
    "sns.boxplot(x='Age',y='Churn',data=churn_data)"
   ]
  },
  {
   "cell_type": "code",
   "execution_count": 85,
   "id": "e9e3fe79-1286-4af2-8573-9ddb2e7c8dec",
   "metadata": {
    "tags": []
   },
   "outputs": [
    {
     "data": {
      "image/png": "[encoded data removed]",
      "text/plain": [
       "<Figure size 1200x500 with 2 Axes>"
      ]
     },
     "metadata": {},
     "output_type": "display_data"
    }
   ],
   "source": [
    "fig, axes = plt.subplots(1, 2, figsize=(12,5))\n",
    "\n",
    "churn_data['Gender'].value_counts().plot(kind='bar', ax=axes[0])\n",
    "plt.title('Gender Counts')\n",
    "\n",
    "churn_gender_contingency = pd.crosstab(churn_data['Gender'], churn_data['Churn'])\n",
    "churn_gender_contingency.plot(kind='bar', stacked=True, ax=axes[1])\n",
    "plt.title('Churn by Gender')\n",
    "\n",
    "plt.tight_layout()\n",
    "plt.show()"
   ]
  },
  {
   "cell_type": "code",
   "execution_count": 86,
   "id": "906b7068-91da-4cc1-a8e1-9934c23a3171",
   "metadata": {
    "tags": []
   },
   "outputs": [
    {
     "data": {
      "text/plain": [
       "<Axes: xlabel='Outage_sec_perweek', ylabel='Churn'>"
      ]
     },
     "execution_count": 86,
     "metadata": {},
     "output_type": "execute_result"
    },
    {
     "data": {
      "image/png": "[encoded data removed]",
      "text/plain": [
       "<Figure size 1200x300 with 2 Axes>"
      ]
     },
     "metadata": {},
     "output_type": "display_data"
    }
   ],
   "source": [
    "fig, axes = plt.subplots(nrows=1, ncols=2, figsize=(12, 3))\n",
    "\n",
    "plt.subplot(1, 2, 1)\n",
    "plt.hist(churn_data['Outage_sec_perweek'])\n",
    "plt.xlabel('Outage_sec_perweek')\n",
    "\n",
    "plt.subplot(1, 2, 2)\n",
    "sns.boxplot(x='Outage_sec_perweek',y='Churn',data=churn_data)"
   ]
  },
  {
   "cell_type": "code",
   "execution_count": 87,
   "id": "e3313011-e540-4013-b02d-18f39d364ef8",
   "metadata": {
    "tags": []
   },
   "outputs": [
    {
     "data": {
      "text/plain": [
       "<Axes: xlabel='Yearly_equip_failure', ylabel='Churn'>"
      ]
     },
     "execution_count": 87,
     "metadata": {},
     "output_type": "execute_result"
    },
    {
     "data": {
      "image/png": "[encoded data removed]",
      "text/plain": [
       "<Figure size 1200x300 with 2 Axes>"
      ]
     },
     "metadata": {},
     "output_type": "display_data"
    }
   ],
   "source": [
    "fig, axes = plt.subplots(nrows=1, ncols=2, figsize=(12, 3))\n",
    "\n",
    "plt.subplot(1, 2, 1)\n",
    "plt.hist(churn_data['Yearly_equip_failure'])\n",
    "plt.xlabel('Yearly_equip_failure')\n",
    "\n",
    "plt.subplot(1, 2, 2)\n",
    "sns.boxplot(x='Yearly_equip_failure',y='Churn',data=churn_data)"
   ]
  },
  {
   "cell_type": "code",
   "execution_count": 88,
   "id": "42b23985-e81a-4a4e-839a-b9b075771b37",
   "metadata": {
    "tags": []
   },
   "outputs": [
    {
     "data": {
      "image/png": "[encoded data removed]",
      "text/plain": [
       "<Figure size 1200x500 with 2 Axes>"
      ]
     },
     "metadata": {},
     "output_type": "display_data"
    }
   ],
   "source": [
    "fig, axes = plt.subplots(1, 2, figsize=(12,5))\n",
    "\n",
    "churn_data['Techie'].value_counts().plot(kind='bar', ax=axes[0])\n",
    "plt.title('Techie Counts')\n",
    "\n",
    "churn_gender_contingency = pd.crosstab(churn_data['Techie'], churn_data['Churn'])\n",
    "churn_gender_contingency.plot(kind='bar', stacked=True, ax=axes[1])\n",
    "plt.title('Churn by Techie')\n",
    "\n",
    "plt.tight_layout()\n",
    "plt.show()"
   ]
  },
  {
   "cell_type": "code",
   "execution_count": 89,
   "id": "ee973235-d966-4c62-b1e2-908727dea1d8",
   "metadata": {
    "tags": []
   },
   "outputs": [
    {
     "data": {
      "image/png": "[encoded data removed]",
      "text/plain": [
       "<Figure size 1200x500 with 2 Axes>"
      ]
     },
     "metadata": {},
     "output_type": "display_data"
    }
   ],
   "source": [
    "fig, axes = plt.subplots(1, 2, figsize=(12,5))\n",
    "\n",
    "churn_data['Contract'].value_counts().plot(kind='bar', ax=axes[0])\n",
    "plt.title('Contract Counts')\n",
    "\n",
    "churn_gender_contingency = pd.crosstab(churn_data['Contract'], churn_data['Churn'])\n",
    "churn_gender_contingency.plot(kind='bar', stacked=True, ax=axes[1])\n",
    "plt.title('Churn by Contract')\n",
    "\n",
    "plt.tight_layout()\n",
    "plt.show()"
   ]
  },
  {
   "cell_type": "code",
   "execution_count": 90,
   "id": "d9d209ea-e56b-4cfb-b4ae-0d3dc91b95ad",
   "metadata": {
    "tags": []
   },
   "outputs": [
    {
     "data": {
      "text/plain": [
       "<Axes: xlabel='Tenure', ylabel='Churn'>"
      ]
     },
     "execution_count": 90,
     "metadata": {},
     "output_type": "execute_result"
    },
    {
     "data": {
      "image/png": "[encoded data removed]",
      "text/plain": [
       "<Figure size 1200x300 with 2 Axes>"
      ]
     },
     "metadata": {},
     "output_type": "display_data"
    }
   ],
   "source": [
    "fig, axes = plt.subplots(nrows=1, ncols=2, figsize=(12, 3))\n",
    "\n",
    "plt.subplot(1, 2, 1)\n",
    "plt.hist(churn_data['Tenure'])\n",
    "plt.xlabel('Tenure')\n",
    "\n",
    "plt.subplot(1, 2, 2)\n",
    "sns.boxplot(x='Tenure',y='Churn',data=churn_data)"
   ]
  },
  {
   "cell_type": "code",
   "execution_count": 91,
   "id": "a2fc2433-4e6f-466d-906b-5445f1770ae5",
   "metadata": {
    "tags": []
   },
   "outputs": [
    {
     "data": {
      "text/plain": [
       "<Axes: xlabel='MonthlyCharge', ylabel='Churn'>"
      ]
     },
     "execution_count": 91,
     "metadata": {},
     "output_type": "execute_result"
    },
    {
     "data": {
      "image/png": "[encoded data removed]",
      "text/plain": [
       "<Figure size 1200x300 with 2 Axes>"
      ]
     },
     "metadata": {},
     "output_type": "display_data"
    }
   ],
   "source": [
    "fig, axes = plt.subplots(nrows=1, ncols=2, figsize=(12, 3))\n",
    "\n",
    "plt.subplot(1, 2, 1)\n",
    "plt.hist(churn_data['MonthlyCharge'])\n",
    "plt.xlabel('MonthlyCharge')\n",
    "\n",
    "plt.subplot(1, 2, 2)\n",
    "sns.boxplot(x='MonthlyCharge',y='Churn',data=churn_data)"
   ]
  },
  {
   "cell_type": "code",
   "execution_count": 92,
   "id": "3c0082ee-3146-4568-a7f0-e94a4b0a6abb",
   "metadata": {
    "tags": []
   },
   "outputs": [
    {
     "data": {
      "text/plain": [
       "<Axes: xlabel='Bandwidth_GB_Year', ylabel='Churn'>"
      ]
     },
     "execution_count": 92,
     "metadata": {},
     "output_type": "execute_result"
    },
    {
     "data": {
      "image/png": "[encoded data removed]",
      "text/plain": [
       "<Figure size 1200x300 with 2 Axes>"
      ]
     },
     "metadata": {},
     "output_type": "display_data"
    }
   ],
   "source": [
    "fig, axes = plt.subplots(nrows=1, ncols=2, figsize=(12, 3))\n",
    "\n",
    "plt.subplot(1, 2, 1)\n",
    "plt.hist(churn_data['Bandwidth_GB_Year'])\n",
    "plt.xlabel('Bandwidth_GB_Year')\n",
    "\n",
    "plt.subplot(1, 2, 2)\n",
    "sns.boxplot(x='Bandwidth_GB_Year',y='Churn',data=churn_data)"
   ]
  },
  {
   "cell_type": "markdown",
   "id": "72e7f8b3-aac4-4d97-b0f8-003961a6d215",
   "metadata": {},
   "source": [
    "**C4. Data transformation**\n",
    "<br>Categorical variables were transformed into numerical variables to use for analysis in the code presented in section C1. These numerical variables are stored in separate columns so that the variables' original values were preserved for presentation of summary statistics and visualizations. Because of these transformations, dummy variables will not need to be encoded for creation of the model, as these variables are now prepared for use in the analysis.\n",
    "\n",
    "**C5. Prepared data set**\n",
    "<br>The prepared data set is downloadable via the code below."
   ]
  },
  {
   "cell_type": "code",
   "execution_count": 222,
   "id": "04ad3dd9-5c0e-43cc-8073-b85e48bf4713",
   "metadata": {},
   "outputs": [],
   "source": [
    "churn_data.to_csv(r\"C:/Users/psuik/Desktop/WGU/D208/churn_clean_D208p2.csv\")"
   ]
  },
  {
   "cell_type": "markdown",
   "id": "673c702e-1e15-4769-89d6-76c2d966e3ee",
   "metadata": {},
   "source": [
    "### Part IV: Model Comparison and Analysis\n",
    "\n",
    "**D1. Initial model**\n",
    "<br> To construct the initial logistic regression model, a new data frame was created containing only the dependent variable, and the selected independent variables."
   ]
  },
  {
   "cell_type": "code",
   "execution_count": 93,
   "id": "dbaad19d-f287-4dc7-9cd3-ff9668c458d9",
   "metadata": {
    "tags": []
   },
   "outputs": [
    {
     "data": {
      "text/html": [
       "<div>\n",
       "<style scoped>\n",
       "    .dataframe tbody tr th:only-of-type {\n",
       "        vertical-align: middle;\n",
       "    }\n",
       "\n",
       "    .dataframe tbody tr th {\n",
       "        vertical-align: top;\n",
       "    }\n",
       "\n",
       "    .dataframe thead th {\n",
       "        text-align: right;\n",
       "    }\n",
       "</style>\n",
       "<table border=\"1\" class=\"dataframe\">\n",
       "  <thead>\n",
       "    <tr style=\"text-align: right;\">\n",
       "      <th></th>\n",
       "      <th>Churn_num</th>\n",
       "      <th>Children</th>\n",
       "      <th>Age</th>\n",
       "      <th>Gender_num</th>\n",
       "      <th>Outage_sec_perweek</th>\n",
       "      <th>Yearly_equip_failure</th>\n",
       "      <th>Techie_num</th>\n",
       "      <th>Contract_num</th>\n",
       "      <th>Tenure</th>\n",
       "      <th>MonthlyCharge</th>\n",
       "      <th>Bandwidth_GB_Year</th>\n",
       "    </tr>\n",
       "  </thead>\n",
       "  <tbody>\n",
       "    <tr>\n",
       "      <th>0</th>\n",
       "      <td>0</td>\n",
       "      <td>0</td>\n",
       "      <td>68</td>\n",
       "      <td>1</td>\n",
       "      <td>7.978323</td>\n",
       "      <td>1</td>\n",
       "      <td>0</td>\n",
       "      <td>1</td>\n",
       "      <td>6.795513</td>\n",
       "      <td>172.455519</td>\n",
       "      <td>904.536110</td>\n",
       "    </tr>\n",
       "    <tr>\n",
       "      <th>1</th>\n",
       "      <td>1</td>\n",
       "      <td>1</td>\n",
       "      <td>27</td>\n",
       "      <td>0</td>\n",
       "      <td>11.699080</td>\n",
       "      <td>1</td>\n",
       "      <td>1</td>\n",
       "      <td>0</td>\n",
       "      <td>1.156681</td>\n",
       "      <td>242.632554</td>\n",
       "      <td>800.982766</td>\n",
       "    </tr>\n",
       "    <tr>\n",
       "      <th>2</th>\n",
       "      <td>0</td>\n",
       "      <td>4</td>\n",
       "      <td>50</td>\n",
       "      <td>0</td>\n",
       "      <td>10.752800</td>\n",
       "      <td>1</td>\n",
       "      <td>1</td>\n",
       "      <td>2</td>\n",
       "      <td>15.754144</td>\n",
       "      <td>159.947583</td>\n",
       "      <td>2054.706961</td>\n",
       "    </tr>\n",
       "    <tr>\n",
       "      <th>3</th>\n",
       "      <td>0</td>\n",
       "      <td>1</td>\n",
       "      <td>48</td>\n",
       "      <td>1</td>\n",
       "      <td>14.913540</td>\n",
       "      <td>0</td>\n",
       "      <td>1</td>\n",
       "      <td>2</td>\n",
       "      <td>17.087227</td>\n",
       "      <td>119.956840</td>\n",
       "      <td>2164.579412</td>\n",
       "    </tr>\n",
       "    <tr>\n",
       "      <th>4</th>\n",
       "      <td>1</td>\n",
       "      <td>0</td>\n",
       "      <td>83</td>\n",
       "      <td>1</td>\n",
       "      <td>8.147417</td>\n",
       "      <td>1</td>\n",
       "      <td>0</td>\n",
       "      <td>0</td>\n",
       "      <td>1.670972</td>\n",
       "      <td>149.948316</td>\n",
       "      <td>271.493436</td>\n",
       "    </tr>\n",
       "  </tbody>\n",
       "</table>\n",
       "</div>"
      ],
      "text/plain": [
       "   Churn_num  Children  Age  Gender_num  Outage_sec_perweek  \\\n",
       "0          0         0   68           1            7.978323   \n",
       "1          1         1   27           0           11.699080   \n",
       "2          0         4   50           0           10.752800   \n",
       "3          0         1   48           1           14.913540   \n",
       "4          1         0   83           1            8.147417   \n",
       "\n",
       "   Yearly_equip_failure  Techie_num  Contract_num     Tenure  MonthlyCharge  \\\n",
       "0                     1           0             1   6.795513     172.455519   \n",
       "1                     1           1             0   1.156681     242.632554   \n",
       "2                     1           1             2  15.754144     159.947583   \n",
       "3                     0           1             2  17.087227     119.956840   \n",
       "4                     1           0             0   1.670972     149.948316   \n",
       "\n",
       "   Bandwidth_GB_Year  \n",
       "0         904.536110  \n",
       "1         800.982766  \n",
       "2        2054.706961  \n",
       "3        2164.579412  \n",
       "4         271.493436  "
      ]
     },
     "execution_count": 93,
     "metadata": {},
     "output_type": "execute_result"
    }
   ],
   "source": [
    "df = churn_data[['Churn_num', 'Children', 'Age', 'Gender_num', 'Outage_sec_perweek', 'Yearly_equip_failure',\n",
    "               'Techie_num', 'Contract_num', 'Tenure', 'MonthlyCharge', 'Bandwidth_GB_Year']].copy()\n",
    "df.head()"
   ]
  },
  {
   "cell_type": "code",
   "execution_count": 163,
   "id": "41cd16c7-660d-4873-9597-6a51c46d59cd",
   "metadata": {
    "tags": []
   },
   "outputs": [
    {
     "name": "stdout",
     "output_type": "stream",
     "text": [
      "Optimization terminated successfully.\n",
      "         Current function value: 0.246734\n",
      "         Iterations 8\n",
      "                           Logit Regression Results                           \n",
      "==============================================================================\n",
      "Dep. Variable:                      y   No. Observations:                10000\n",
      "Model:                          Logit   Df Residuals:                     9989\n",
      "Method:                           MLE   Df Model:                           10\n",
      "Date:                Sun, 07 Jan 2024   Pseudo R-squ.:                  0.5733\n",
      "Time:                        13:59:47   Log-Likelihood:                -2467.3\n",
      "converged:                       True   LL-Null:                       -5782.2\n",
      "Covariance Type:            nonrobust   LLR p-value:                     0.000\n",
      "========================================================================================\n",
      "                           coef    std err          z      P>|z|      [0.025      0.975]\n",
      "----------------------------------------------------------------------------------------\n",
      "Children                -0.1074      0.018     -6.083      0.000      -0.142      -0.073\n",
      "Age                      0.0144      0.002      7.717      0.000       0.011       0.018\n",
      "Gender_num              -0.0115      0.067     -0.173      0.862      -0.142       0.119\n",
      "Outage_sec_perweek       0.0022      0.012      0.179      0.858      -0.022       0.026\n",
      "Yearly_equip_failure    -0.0212      0.057     -0.375      0.708      -0.132       0.090\n",
      "Techie_num               0.8980      0.095      9.498      0.000       0.713       1.083\n",
      "Contract_num            -1.8084      0.059    -30.400      0.000      -1.925      -1.692\n",
      "Tenure                  -0.4295      0.016    -27.510      0.000      -0.460      -0.399\n",
      "MonthlyCharge            0.0341      0.001     28.942      0.000       0.032       0.036\n",
      "Bandwidth_GB_Year        0.0040      0.000     22.750      0.000       0.004       0.004\n",
      "const                   -6.8745      0.258    -26.619      0.000      -7.381      -6.368\n",
      "========================================================================================\n"
     ]
    }
   ],
   "source": [
    "# Initial model\n",
    "from sklearn import linear_model\n",
    "import statsmodels.api as sm\n",
    "\n",
    "X = df[['Children', 'Age', 'Gender_num', 'Outage_sec_perweek', 'Yearly_equip_failure',\n",
    "               'Techie_num', 'Contract_num', 'Tenure', 'MonthlyCharge', 'Bandwidth_GB_Year']].assign(const=1)\n",
    "y = df[['Churn_num']]\n",
    "y = y.values.ravel()\n",
    "\n",
    "logreg = linear_model.LogisticRegression(solver='lbfgs',max_iter=10000)\n",
    "logreg.fit(X, y)\n",
    "\n",
    "logit_model = sm.Logit(y, X)\n",
    "result = logit_model.fit()\n",
    "print(result.summary())"
   ]
  },
  {
   "cell_type": "code",
   "execution_count": 165,
   "id": "6554e720-b748-43a2-b029-fc4644893c47",
   "metadata": {
    "tags": []
   },
   "outputs": [
    {
     "data": {
      "text/html": [
       "<div>\n",
       "<style scoped>\n",
       "    .dataframe tbody tr th:only-of-type {\n",
       "        vertical-align: middle;\n",
       "    }\n",
       "\n",
       "    .dataframe tbody tr th {\n",
       "        vertical-align: top;\n",
       "    }\n",
       "\n",
       "    .dataframe thead th {\n",
       "        text-align: right;\n",
       "    }\n",
       "</style>\n",
       "<table border=\"1\" class=\"dataframe\">\n",
       "  <thead>\n",
       "    <tr style=\"text-align: right;\">\n",
       "      <th></th>\n",
       "      <th>Churn_num</th>\n",
       "      <th>Children</th>\n",
       "      <th>Age</th>\n",
       "      <th>Gender_num</th>\n",
       "      <th>Outage_sec_perweek</th>\n",
       "      <th>Yearly_equip_failure</th>\n",
       "      <th>Techie_num</th>\n",
       "      <th>Contract_num</th>\n",
       "      <th>Tenure</th>\n",
       "      <th>MonthlyCharge</th>\n",
       "      <th>Bandwidth_GB_Year</th>\n",
       "      <th>Predictions</th>\n",
       "    </tr>\n",
       "  </thead>\n",
       "  <tbody>\n",
       "    <tr>\n",
       "      <th>0</th>\n",
       "      <td>0</td>\n",
       "      <td>0</td>\n",
       "      <td>68</td>\n",
       "      <td>1</td>\n",
       "      <td>7.978323</td>\n",
       "      <td>1</td>\n",
       "      <td>0</td>\n",
       "      <td>1</td>\n",
       "      <td>6.795513</td>\n",
       "      <td>172.455519</td>\n",
       "      <td>904.536110</td>\n",
       "      <td>-1.143296</td>\n",
       "    </tr>\n",
       "    <tr>\n",
       "      <th>1</th>\n",
       "      <td>1</td>\n",
       "      <td>1</td>\n",
       "      <td>27</td>\n",
       "      <td>0</td>\n",
       "      <td>11.699080</td>\n",
       "      <td>1</td>\n",
       "      <td>1</td>\n",
       "      <td>0</td>\n",
       "      <td>1.156681</td>\n",
       "      <td>242.632554</td>\n",
       "      <td>800.982766</td>\n",
       "      <td>5.290690</td>\n",
       "    </tr>\n",
       "    <tr>\n",
       "      <th>2</th>\n",
       "      <td>0</td>\n",
       "      <td>4</td>\n",
       "      <td>50</td>\n",
       "      <td>0</td>\n",
       "      <td>10.752800</td>\n",
       "      <td>1</td>\n",
       "      <td>1</td>\n",
       "      <td>2</td>\n",
       "      <td>15.754144</td>\n",
       "      <td>159.947583</td>\n",
       "      <td>2054.706961</td>\n",
       "      <td>-2.408260</td>\n",
       "    </tr>\n",
       "    <tr>\n",
       "      <th>3</th>\n",
       "      <td>0</td>\n",
       "      <td>1</td>\n",
       "      <td>48</td>\n",
       "      <td>1</td>\n",
       "      <td>14.913540</td>\n",
       "      <td>0</td>\n",
       "      <td>1</td>\n",
       "      <td>2</td>\n",
       "      <td>17.087227</td>\n",
       "      <td>119.956840</td>\n",
       "      <td>2164.579412</td>\n",
       "      <td>-3.595251</td>\n",
       "    </tr>\n",
       "    <tr>\n",
       "      <th>4</th>\n",
       "      <td>1</td>\n",
       "      <td>0</td>\n",
       "      <td>83</td>\n",
       "      <td>1</td>\n",
       "      <td>8.147417</td>\n",
       "      <td>1</td>\n",
       "      <td>0</td>\n",
       "      <td>0</td>\n",
       "      <td>1.670972</td>\n",
       "      <td>149.948316</td>\n",
       "      <td>271.493436</td>\n",
       "      <td>-0.213117</td>\n",
       "    </tr>\n",
       "  </tbody>\n",
       "</table>\n",
       "</div>"
      ],
      "text/plain": [
       "   Churn_num  Children  Age  Gender_num  Outage_sec_perweek  \\\n",
       "0          0         0   68           1            7.978323   \n",
       "1          1         1   27           0           11.699080   \n",
       "2          0         4   50           0           10.752800   \n",
       "3          0         1   48           1           14.913540   \n",
       "4          1         0   83           1            8.147417   \n",
       "\n",
       "   Yearly_equip_failure  Techie_num  Contract_num     Tenure  MonthlyCharge  \\\n",
       "0                     1           0             1   6.795513     172.455519   \n",
       "1                     1           1             0   1.156681     242.632554   \n",
       "2                     1           1             2  15.754144     159.947583   \n",
       "3                     0           1             2  17.087227     119.956840   \n",
       "4                     1           0             0   1.670972     149.948316   \n",
       "\n",
       "   Bandwidth_GB_Year  Predictions  \n",
       "0         904.536110    -1.143296  \n",
       "1         800.982766     5.290690  \n",
       "2        2054.706961    -2.408260  \n",
       "3        2164.579412    -3.595251  \n",
       "4         271.493436    -0.213117  "
      ]
     },
     "execution_count": 165,
     "metadata": {},
     "output_type": "execute_result"
    }
   ],
   "source": [
    "# Add a column of predicted values based on the initial model\n",
    "df['Predictions'] = result.fittedvalues\n",
    "df.head()"
   ]
  },
  {
   "cell_type": "markdown",
   "id": "f08488ae-85cb-44be-8052-0b72d9dd41ff",
   "metadata": {},
   "source": [
    "**D2. Justification of model reduction**\n",
    "<br>The first step in reducing the model was to calculate the VIF, or variance inflation factor, for each explanatory variable, and remove any variable with a high VIF (VIF > 10), as this indicates multicollinearity between variables."
   ]
  },
  {
   "cell_type": "code",
   "execution_count": 168,
   "id": "60a4648e-a6f1-4289-a4aa-677b34a377fb",
   "metadata": {
    "tags": []
   },
   "outputs": [],
   "source": [
    "# First, define a function to calculate VIF: \n",
    "# (Keith, 2021)\n",
    "\n",
    "def vif(df):\n",
    "    import pandas as pd\n",
    "    from sklearn.linear_model import LinearRegression\n",
    "    \n",
    "    # Initialize dictionaries\n",
    "    vif_dict, tolerance_dict = {}, {}\n",
    "\n",
    "    # Loop through each column (excluding 'const')\n",
    "    for col in df.drop(columns=['const']):\n",
    "        # Form input data for each exogenous variable\n",
    "        y = df[col]\n",
    "        X = df.drop(columns=[col])\n",
    "    \n",
    "        # Extract r-squared from the fit\n",
    "        r_squared = LinearRegression().fit(X, y).score(X, y)\n",
    "\n",
    "        # Calculate VIF\n",
    "        # Prevent division by zero runtime error\n",
    "        if r_squared < 1: \n",
    "            vif = 1 / (1 - r_squared)\n",
    "        else: \n",
    "            vif = 100\n",
    "        vif_dict[col] = vif\n",
    "    \n",
    "        # Calculate tolerance\n",
    "        tolerance = 1 - r_squared\n",
    "        tolerance_dict[col] = tolerance\n",
    "\n",
    "    # Generate the DataFrame to return\n",
    "    df_output = pd.DataFrame({'VIF': vif_dict, 'Tolerance': tolerance_dict})\n",
    "    \n",
    "    return df_output.sort_values(by=['VIF'], ascending=False)"
   ]
  },
  {
   "cell_type": "code",
   "execution_count": 169,
   "id": "d461b1fc-1969-43b1-a8a4-54f445d6f8fd",
   "metadata": {
    "tags": []
   },
   "outputs": [
    {
     "data": {
      "text/html": [
       "<div>\n",
       "<style scoped>\n",
       "    .dataframe tbody tr th:only-of-type {\n",
       "        vertical-align: middle;\n",
       "    }\n",
       "\n",
       "    .dataframe tbody tr th {\n",
       "        vertical-align: top;\n",
       "    }\n",
       "\n",
       "    .dataframe thead th {\n",
       "        text-align: right;\n",
       "    }\n",
       "</style>\n",
       "<table border=\"1\" class=\"dataframe\">\n",
       "  <thead>\n",
       "    <tr style=\"text-align: right;\">\n",
       "      <th></th>\n",
       "      <th>VIF</th>\n",
       "      <th>Tolerance</th>\n",
       "    </tr>\n",
       "  </thead>\n",
       "  <tbody>\n",
       "    <tr>\n",
       "      <th>Bandwidth_GB_Year</th>\n",
       "      <td>93.153999</td>\n",
       "      <td>0.010735</td>\n",
       "    </tr>\n",
       "    <tr>\n",
       "      <th>Tenure</th>\n",
       "      <td>92.782498</td>\n",
       "      <td>0.010778</td>\n",
       "    </tr>\n",
       "    <tr>\n",
       "      <th>MonthlyCharge</th>\n",
       "      <td>1.385208</td>\n",
       "      <td>0.721913</td>\n",
       "    </tr>\n",
       "    <tr>\n",
       "      <th>Age</th>\n",
       "      <td>1.092790</td>\n",
       "      <td>0.915089</td>\n",
       "    </tr>\n",
       "    <tr>\n",
       "      <th>Children</th>\n",
       "      <td>1.086891</td>\n",
       "      <td>0.920055</td>\n",
       "    </tr>\n",
       "    <tr>\n",
       "      <th>Gender_num</th>\n",
       "      <td>1.018014</td>\n",
       "      <td>0.982304</td>\n",
       "    </tr>\n",
       "    <tr>\n",
       "      <th>Contract_num</th>\n",
       "      <td>1.001300</td>\n",
       "      <td>0.998702</td>\n",
       "    </tr>\n",
       "    <tr>\n",
       "      <th>Outage_sec_perweek</th>\n",
       "      <td>1.000807</td>\n",
       "      <td>0.999194</td>\n",
       "    </tr>\n",
       "    <tr>\n",
       "      <th>Yearly_equip_failure</th>\n",
       "      <td>1.000637</td>\n",
       "      <td>0.999363</td>\n",
       "    </tr>\n",
       "    <tr>\n",
       "      <th>Techie_num</th>\n",
       "      <td>1.000604</td>\n",
       "      <td>0.999397</td>\n",
       "    </tr>\n",
       "  </tbody>\n",
       "</table>\n",
       "</div>"
      ],
      "text/plain": [
       "                            VIF  Tolerance\n",
       "Bandwidth_GB_Year     93.153999   0.010735\n",
       "Tenure                92.782498   0.010778\n",
       "MonthlyCharge          1.385208   0.721913\n",
       "Age                    1.092790   0.915089\n",
       "Children               1.086891   0.920055\n",
       "Gender_num             1.018014   0.982304\n",
       "Contract_num           1.001300   0.998702\n",
       "Outage_sec_perweek     1.000807   0.999194\n",
       "Yearly_equip_failure   1.000637   0.999363\n",
       "Techie_num             1.000604   0.999397"
      ]
     },
     "execution_count": 169,
     "metadata": {},
     "output_type": "execute_result"
    }
   ],
   "source": [
    "# Calculate VIF of x\n",
    "vif(X)"
   ]
  },
  {
   "cell_type": "code",
   "execution_count": 217,
   "id": "43848d9b-70c4-44aa-aa34-4e0734b7c7d7",
   "metadata": {
    "tags": []
   },
   "outputs": [
    {
     "name": "stdout",
     "output_type": "stream",
     "text": [
      "Optimization terminated successfully.\n",
      "         Current function value: 0.462085\n",
      "         Iterations 6\n",
      "                           Logit Regression Results                           \n",
      "==============================================================================\n",
      "Dep. Variable:                      y   No. Observations:                10000\n",
      "Model:                          Logit   Df Residuals:                     9991\n",
      "Method:                           MLE   Df Model:                            8\n",
      "Date:                Sun, 07 Jan 2024   Pseudo R-squ.:                  0.2009\n",
      "Time:                        15:21:16   Log-Likelihood:                -4620.9\n",
      "converged:                       True   LL-Null:                       -5782.2\n",
      "Covariance Type:            nonrobust   LLR p-value:                     0.000\n",
      "========================================================================================\n",
      "                           coef    std err          z      P>|z|      [0.025      0.975]\n",
      "----------------------------------------------------------------------------------------\n",
      "Children                 0.0063      0.012      0.524      0.600      -0.017       0.030\n",
      "Age                     -0.0002      0.001     -0.138      0.890      -0.003       0.002\n",
      "Gender_num               0.1309      0.047      2.759      0.006       0.038       0.224\n",
      "Outage_sec_perweek      -0.0028      0.009     -0.325      0.745      -0.020       0.014\n",
      "Yearly_equip_failure    -0.0576      0.041     -1.401      0.161      -0.138       0.023\n",
      "Techie_num               0.4671      0.066      7.066      0.000       0.338       0.597\n",
      "Contract_num            -0.9842      0.037    -26.252      0.000      -1.058      -0.911\n",
      "MonthlyCharge            0.0236      0.001     35.801      0.000       0.022       0.025\n",
      "const                   -4.8490      0.168    -28.834      0.000      -5.179      -4.519\n",
      "========================================================================================\n"
     ]
    }
   ],
   "source": [
    "# Bandwidth_GB_Year and Tenure both have VIF values over 10.\n",
    "# Therefore they will be removed due to violation of multicollinearity.\n",
    "#Re-running initial model with high-VIF variables removed:\n",
    "\n",
    "X_no_vif = df[['Children', 'Age', 'Gender_num', 'Outage_sec_perweek', 'Yearly_equip_failure',\n",
    "               'Techie_num', 'Contract_num', 'MonthlyCharge']].assign(const=1)\n",
    "y = df[['Churn_num']]\n",
    "y = y.values.ravel()\n",
    "\n",
    "logreg = linear_model.LogisticRegression(solver='lbfgs',max_iter=10000)\n",
    "logreg.fit(X_no_vif, y)\n",
    "\n",
    "logit_model = sm.Logit(y, X_no_vif)\n",
    "result = logit_model.fit()\n",
    "print(result.summary())"
   ]
  },
  {
   "cell_type": "markdown",
   "id": "309a12cc-64f4-4edc-810c-39978aad6829",
   "metadata": {},
   "source": [
    "With high-VIF variables removed from the model, no multicollinearity exists among the variables. The next step in reducing the model is to perform forward stepwise variable selection. This method examines a set of candidate predictor variables and selects the one with the highest AUC when used in the model. Next, it selects the next best predictor variable from the list of candidates based on which has the highest AUC when used in conjunction with the previously selected variable. This process continues until the chosen nuumber of predictor variables have been selected (Nele Verbiest, n.d.).\n",
    "\n",
    "With code adapted from DataCamp (Nele Verbiest, n.d.), a function will first be defined to calculate AUC. An additional function will be defined to find the next best variable with a function named \"next_best\". Once these two functions are set, the final step in forward stepwise variable selection can be completed. This final step reduces the variables down to just the top 5, from the originally selected 10 predictor variables in the initial model. The code below carries out this process."
   ]
  },
  {
   "cell_type": "code",
   "execution_count": 193,
   "id": "a94ad7e2-3138-4fb3-9047-d8afc4c6714b",
   "metadata": {
    "tags": []
   },
   "outputs": [],
   "source": [
    "from sklearn import linear_model\n",
    "from sklearn.metrics import roc_auc_score\n",
    "\n",
    "# Define AUC function\n",
    "def auc(variables, Churn_num, df):\n",
    "    X = df[variables].assign(const=1)\n",
    "    y = df[['Churn_num']]\n",
    "    y = y.values.ravel()\n",
    "    logreg = linear_model.LogisticRegression(max_iter=1000)\n",
    "    logreg.fit(X, y)\n",
    "    predictions = logreg.predict_proba(X)[:, 1]\n",
    "    auc = roc_auc_score(y, predictions)\n",
    "    return auc"
   ]
  },
  {
   "cell_type": "code",
   "execution_count": 194,
   "id": "83b7f78e-465e-4e09-a54e-e37b8535e3f2",
   "metadata": {
    "tags": []
   },
   "outputs": [
    {
     "name": "stdout",
     "output_type": "stream",
     "text": [
      "MonthlyCharge\n"
     ]
    }
   ],
   "source": [
    "# Define next best function\n",
    "def next_best(current_variables, candidate_variables, Churn_num, df):\n",
    "    best_auc = -1\n",
    "    best_variable = None\n",
    "    for v in candidate_variables:\n",
    "        auc_v = auc(current_variables + [v], Churn_num, df)\n",
    "        if auc_v >= best_auc:\n",
    "            best_auc = auc_v\n",
    "            best_variable = v\n",
    "    return best_variable\n",
    "current_variables = [\"Children\"]\n",
    "candidate_variables = ['Age', 'Gender_num','Outage_sec_perweek', 'Yearly_equip_failure',\n",
    "               'Techie_num', 'Contract_num', 'MonthlyCharge']\n",
    "next_variable = next_best(current_variables, candidate_variables, df[\"Churn_num\"], df)\n",
    "print(next_variable)"
   ]
  },
  {
   "cell_type": "code",
   "execution_count": 198,
   "id": "e033a1e4-9dcc-43b3-8cb8-0a61e5632010",
   "metadata": {
    "tags": []
   },
   "outputs": [
    {
     "name": "stdout",
     "output_type": "stream",
     "text": [
      "['MonthlyCharge', 'Contract_num', 'Techie_num', 'Gender_num', 'Outage_sec_perweek']\n"
     ]
    }
   ],
   "source": [
    "# Finally, perform forward stepwise variable selection:\n",
    "\n",
    "candidate_variables = ['Children', 'Age', 'Gender_num','Outage_sec_perweek', 'Yearly_equip_failure',\n",
    "               'Techie_num', 'Contract_num', 'MonthlyCharge']\n",
    "current_variables = []\n",
    "target = ['Churn_num']\n",
    "max_number_variables = 5\n",
    "number_iterations = min(max_number_variables, len(candidate_variables))\n",
    "for i in range(0, number_iterations):\n",
    "    next_var = next_best(current_variables, candidate_variables, df['Churn_num'], df)\n",
    "    current_variables = current_variables + [next_var]\n",
    "    candidate_variables.remove(next_var)\n",
    "print(current_variables)"
   ]
  },
  {
   "cell_type": "markdown",
   "id": "78003261-45de-46b5-a3c7-84db829767d2",
   "metadata": {},
   "source": [
    "The five variables returned above are determined to have the most impact on the dependent variable, Churn. These variables will be used as predictor variables when building the final model. "
   ]
  },
  {
   "cell_type": "markdown",
   "id": "77b6aad8-e815-4279-ab5c-b643eb69bc85",
   "metadata": {},
   "source": [
    "**D3. Reduced logistic regression model**\n",
    "<br> With the five most influential variables determined in section D2, above, the reduced model is created using these variables only. Once again, a new dataframe is created to work with these variables."
   ]
  },
  {
   "cell_type": "code",
   "execution_count": 206,
   "id": "330a2db2-fdbc-4670-bcf3-221de08bdb7a",
   "metadata": {
    "tags": []
   },
   "outputs": [
    {
     "data": {
      "text/html": [
       "<div>\n",
       "<style scoped>\n",
       "    .dataframe tbody tr th:only-of-type {\n",
       "        vertical-align: middle;\n",
       "    }\n",
       "\n",
       "    .dataframe tbody tr th {\n",
       "        vertical-align: top;\n",
       "    }\n",
       "\n",
       "    .dataframe thead th {\n",
       "        text-align: right;\n",
       "    }\n",
       "</style>\n",
       "<table border=\"1\" class=\"dataframe\">\n",
       "  <thead>\n",
       "    <tr style=\"text-align: right;\">\n",
       "      <th></th>\n",
       "      <th>MonthlyCharge</th>\n",
       "      <th>Contract_num</th>\n",
       "      <th>Techie_num</th>\n",
       "      <th>Gender_num</th>\n",
       "      <th>Outage_sec_perweek</th>\n",
       "    </tr>\n",
       "  </thead>\n",
       "  <tbody>\n",
       "    <tr>\n",
       "      <th>0</th>\n",
       "      <td>172.455519</td>\n",
       "      <td>1</td>\n",
       "      <td>0</td>\n",
       "      <td>1</td>\n",
       "      <td>7.978323</td>\n",
       "    </tr>\n",
       "    <tr>\n",
       "      <th>1</th>\n",
       "      <td>242.632554</td>\n",
       "      <td>0</td>\n",
       "      <td>1</td>\n",
       "      <td>0</td>\n",
       "      <td>11.699080</td>\n",
       "    </tr>\n",
       "    <tr>\n",
       "      <th>2</th>\n",
       "      <td>159.947583</td>\n",
       "      <td>2</td>\n",
       "      <td>1</td>\n",
       "      <td>0</td>\n",
       "      <td>10.752800</td>\n",
       "    </tr>\n",
       "    <tr>\n",
       "      <th>3</th>\n",
       "      <td>119.956840</td>\n",
       "      <td>2</td>\n",
       "      <td>1</td>\n",
       "      <td>1</td>\n",
       "      <td>14.913540</td>\n",
       "    </tr>\n",
       "    <tr>\n",
       "      <th>4</th>\n",
       "      <td>149.948316</td>\n",
       "      <td>0</td>\n",
       "      <td>0</td>\n",
       "      <td>1</td>\n",
       "      <td>8.147417</td>\n",
       "    </tr>\n",
       "  </tbody>\n",
       "</table>\n",
       "</div>"
      ],
      "text/plain": [
       "   MonthlyCharge  Contract_num  Techie_num  Gender_num  Outage_sec_perweek\n",
       "0     172.455519             1           0           1            7.978323\n",
       "1     242.632554             0           1           0           11.699080\n",
       "2     159.947583             2           1           0           10.752800\n",
       "3     119.956840             2           1           1           14.913540\n",
       "4     149.948316             0           0           1            8.147417"
      ]
     },
     "execution_count": 206,
     "metadata": {},
     "output_type": "execute_result"
    }
   ],
   "source": [
    "df_red = df[['MonthlyCharge', 'Contract_num', 'Techie_num', 'Gender_num', 'Outage_sec_perweek']].copy()\n",
    "df_red.head()"
   ]
  },
  {
   "cell_type": "code",
   "execution_count": 211,
   "id": "6038aaeb-306e-456e-afab-4c3163ad4719",
   "metadata": {
    "tags": []
   },
   "outputs": [
    {
     "name": "stdout",
     "output_type": "stream",
     "text": [
      "Optimization terminated successfully.\n",
      "         Current function value: 0.462197\n",
      "         Iterations 6\n",
      "                           Logit Regression Results                           \n",
      "==============================================================================\n",
      "Dep. Variable:                      y   No. Observations:                10000\n",
      "Model:                          Logit   Df Residuals:                     9994\n",
      "Method:                           MLE   Df Model:                            5\n",
      "Date:                Sun, 07 Jan 2024   Pseudo R-squ.:                  0.2007\n",
      "Time:                        14:46:31   Log-Likelihood:                -4622.0\n",
      "converged:                       True   LL-Null:                       -5782.2\n",
      "Covariance Type:            nonrobust   LLR p-value:                     0.000\n",
      "======================================================================================\n",
      "                         coef    std err          z      P>|z|      [0.025      0.975]\n",
      "--------------------------------------------------------------------------------------\n",
      "MonthlyCharge          0.0236      0.001     35.806      0.000       0.022       0.025\n",
      "Contract_num          -0.9835      0.037    -26.249      0.000      -1.057      -0.910\n",
      "Techie_num             0.4682      0.066      7.085      0.000       0.339       0.598\n",
      "Gender_num             0.1295      0.047      2.731      0.006       0.037       0.222\n",
      "Outage_sec_perweek    -0.0028      0.009     -0.321      0.748      -0.020       0.014\n",
      "const                 -4.8678      0.152    -32.086      0.000      -5.165      -4.570\n",
      "======================================================================================\n"
     ]
    }
   ],
   "source": [
    "# Reduced model\n",
    "from sklearn import linear_model\n",
    "import statsmodels.api as sm\n",
    "\n",
    "X = df_red[['MonthlyCharge', 'Contract_num', 'Techie_num', 'Gender_num', 'Outage_sec_perweek']].assign(const=1)\n",
    "y = df[['Churn_num']]\n",
    "y = y.values.ravel()\n",
    "\n",
    "logreg = linear_model.LogisticRegression(solver='lbfgs',max_iter=10000)\n",
    "logreg.fit(X, y)\n",
    "\n",
    "logit_model = sm.Logit(y, X)\n",
    "result_red = logit_model.fit()\n",
    "print(result.summary())"
   ]
  },
  {
   "cell_type": "code",
   "execution_count": 212,
   "id": "3582f27a-78f1-48bd-ba51-f5f731c7beae",
   "metadata": {
    "tags": []
   },
   "outputs": [
    {
     "data": {
      "text/html": [
       "<div>\n",
       "<style scoped>\n",
       "    .dataframe tbody tr th:only-of-type {\n",
       "        vertical-align: middle;\n",
       "    }\n",
       "\n",
       "    .dataframe tbody tr th {\n",
       "        vertical-align: top;\n",
       "    }\n",
       "\n",
       "    .dataframe thead th {\n",
       "        text-align: right;\n",
       "    }\n",
       "</style>\n",
       "<table border=\"1\" class=\"dataframe\">\n",
       "  <thead>\n",
       "    <tr style=\"text-align: right;\">\n",
       "      <th></th>\n",
       "      <th>MonthlyCharge</th>\n",
       "      <th>Contract_num</th>\n",
       "      <th>Techie_num</th>\n",
       "      <th>Gender_num</th>\n",
       "      <th>Outage_sec_perweek</th>\n",
       "      <th>Predictions</th>\n",
       "    </tr>\n",
       "  </thead>\n",
       "  <tbody>\n",
       "    <tr>\n",
       "      <th>0</th>\n",
       "      <td>172.455519</td>\n",
       "      <td>1</td>\n",
       "      <td>0</td>\n",
       "      <td>1</td>\n",
       "      <td>7.978323</td>\n",
       "      <td>-1.665873</td>\n",
       "    </tr>\n",
       "    <tr>\n",
       "      <th>1</th>\n",
       "      <td>242.632554</td>\n",
       "      <td>0</td>\n",
       "      <td>1</td>\n",
       "      <td>0</td>\n",
       "      <td>11.699080</td>\n",
       "      <td>1.305504</td>\n",
       "    </tr>\n",
       "    <tr>\n",
       "      <th>2</th>\n",
       "      <td>159.947583</td>\n",
       "      <td>2</td>\n",
       "      <td>1</td>\n",
       "      <td>0</td>\n",
       "      <td>10.752800</td>\n",
       "      <td>-2.614092</td>\n",
       "    </tr>\n",
       "    <tr>\n",
       "      <th>3</th>\n",
       "      <td>119.956840</td>\n",
       "      <td>2</td>\n",
       "      <td>1</td>\n",
       "      <td>1</td>\n",
       "      <td>14.913540</td>\n",
       "      <td>-3.441780</td>\n",
       "    </tr>\n",
       "    <tr>\n",
       "      <th>4</th>\n",
       "      <td>149.948316</td>\n",
       "      <td>0</td>\n",
       "      <td>0</td>\n",
       "      <td>1</td>\n",
       "      <td>8.147417</td>\n",
       "      <td>-1.215063</td>\n",
       "    </tr>\n",
       "  </tbody>\n",
       "</table>\n",
       "</div>"
      ],
      "text/plain": [
       "   MonthlyCharge  Contract_num  Techie_num  Gender_num  Outage_sec_perweek  \\\n",
       "0     172.455519             1           0           1            7.978323   \n",
       "1     242.632554             0           1           0           11.699080   \n",
       "2     159.947583             2           1           0           10.752800   \n",
       "3     119.956840             2           1           1           14.913540   \n",
       "4     149.948316             0           0           1            8.147417   \n",
       "\n",
       "   Predictions  \n",
       "0    -1.665873  \n",
       "1     1.305504  \n",
       "2    -2.614092  \n",
       "3    -3.441780  \n",
       "4    -1.215063  "
      ]
     },
     "execution_count": 212,
     "metadata": {},
     "output_type": "execute_result"
    }
   ],
   "source": [
    "# Add a column of predicted values based on the reduced model\n",
    "df_red['Predictions'] = result_red.fittedvalues\n",
    "df_red.head()"
   ]
  },
  {
   "cell_type": "markdown",
   "id": "1ae6e381-607a-4c81-a3c3-6124ef2bc266",
   "metadata": {},
   "source": [
    "**E1. Model comparison** \n",
    "<br>The LLR p-value, which is essentially a substitute for the p-value of the overall model, was determined to be 0.00 for both the initial model and the reduced model. This indicates that the regression model is statistically significant, or meaningful, as a p-value of 0.00 is indeed less than 0.05, the standard significance level used for determination of significance. Based on this model evaluation element, it can be stated that both of these models are statistically significant. This information will be used to help answer the original research question."
   ]
  },
  {
   "cell_type": "markdown",
   "id": "9d818956-2c4c-48d4-bda6-f8a7cebeecb6",
   "metadata": {},
   "source": [
    "**E2. Output and calculations**\n",
    "<br> The code used for this analysis is provided throughout the preceding sections of this paper, along with its corresponding output.\n",
    "\n",
    "A confusion matrix for this model is created using the code below. A confusion matrix gives a visual representation of the correct and incorrect classifications (Massaron & Boschetti, 2016)."
   ]
  },
  {
   "cell_type": "code",
   "execution_count": 218,
   "id": "be5f2749-356f-4f20-b615-90b301a48c7b",
   "metadata": {
    "tags": []
   },
   "outputs": [
    {
     "data": {
      "text/plain": [
       "array([[6758,  592],\n",
       "       [1672,  978]], dtype=int64)"
      ]
     },
     "execution_count": 218,
     "metadata": {},
     "output_type": "execute_result"
    }
   ],
   "source": [
    "# Confusion matrix (Massaron & Boschetti, 2016)\n",
    "y_orig = df[['Churn_num']]\n",
    "y_pred_prob = result_red.predict()\n",
    "y_pred = np.round(y_pred_prob)\n",
    "\n",
    "from sklearn.metrics import confusion_matrix\n",
    "confusion_matrix(y_orig, y_pred)"
   ]
  },
  {
   "cell_type": "markdown",
   "id": "bc313e00-619a-4301-9148-28ba41e19dc4",
   "metadata": {},
   "source": [
    "This output indicates that the sum of correct classifications for this model is 7,736. The sum of incorrect calculations is 2,264."
   ]
  },
  {
   "cell_type": "code",
   "execution_count": 219,
   "id": "9c95378d-e304-4725-9d1a-97f13548c0dc",
   "metadata": {
    "tags": []
   },
   "outputs": [
    {
     "data": {
      "image/png": "[encoded data removed]",
      "text/plain": [
       "<Figure size 480x480 with 2 Axes>"
      ]
     },
     "metadata": {},
     "output_type": "display_data"
    }
   ],
   "source": [
    "# Confusion matrix shown graphically, using a heatmap (Massaron & Boschetti, 2016)\n",
    "plt.matshow(confusion_matrix(y_orig, y_pred))\n",
    "plt.title('Confusion matrix')\n",
    "plt.colorbar()\n",
    "plt.ylabel('True label')\n",
    "plt.xlabel('Predicted label')\n",
    "plt.show()"
   ]
  },
  {
   "cell_type": "markdown",
   "id": "2578f862-bced-4aa1-801e-b276e94d0f51",
   "metadata": {
    "tags": []
   },
   "source": [
    "An accuracy calculation for the model is included in the code below. The accuracy of a model is the percentage of correct classifications out of the total number of samples. In this case, the accuracy score is calculated with the \"accuracy_score\" import from SciKit Learn. This takes the inputs of the original y-values and the predicted y-values, which were calculated previously. "
   ]
  },
  {
   "cell_type": "code",
   "execution_count": 220,
   "id": "a189c1e7-2f8b-4a8a-8e6d-0e7ebdf1525e",
   "metadata": {
    "tags": []
   },
   "outputs": [
    {
     "data": {
      "text/plain": [
       "0.7736"
      ]
     },
     "execution_count": 220,
     "metadata": {},
     "output_type": "execute_result"
    }
   ],
   "source": [
    "from sklearn.metrics import accuracy_score\n",
    "accuracy_score(y_orig, y_pred)"
   ]
  },
  {
   "cell_type": "markdown",
   "id": "b44ae6f3-1734-4e99-89ce-c128230b8cf7",
   "metadata": {},
   "source": [
    "Accuracy scores are values between 0 and 1, with 1 being perfect accuracy, and 0 being complete inaccuracy. The output above indicates that the accuracy score of this model is 0.7736, which aligns with the sum of correct classifications from the previous step, as this model is predicted to correctly classify 7,736 out of 10,000 values. "
   ]
  },
  {
   "cell_type": "markdown",
   "id": "47c83ba7-36b4-402b-a97e-9a3a1b39d82f",
   "metadata": {},
   "source": [
    "**E3. Code**\n",
    "<br> Code used for this analysis is written throughout the preceding sections.\n",
    "\n",
    "### Part V: Data Summary and Implications\n",
    "\n",
    "**F1. Results**\n",
    "<br> To answer the research question posed in section A1 -- **What factors contribute to churn?** -- those factors are: **MonthlyCharge**, **Contract**, **Techie**, **Gender**, and **Outage_sec_perweek**. \n",
    "\n",
    "<br>The regression equation for the reduced model is as follows: \n",
    "<br> **Churn = 0.0236(MonthlyCharge) - 0.9835(Contract_num) - 0.4682(Techie_num) - 0.1295(Gender_num) - 0.0028(Outage_sec_perweek) - 4.8678** \n",
    "\n",
    "<br>Interpretation of the coefficients of the reduced model is done by calculating the odds ratios for each coefficient: "
   ]
  },
  {
   "cell_type": "code",
   "execution_count": 223,
   "id": "f3d46617-686e-4756-aa63-9eb535574b80",
   "metadata": {
    "tags": []
   },
   "outputs": [
    {
     "data": {
      "text/html": [
       "<div>\n",
       "<style scoped>\n",
       "    .dataframe tbody tr th:only-of-type {\n",
       "        vertical-align: middle;\n",
       "    }\n",
       "\n",
       "    .dataframe tbody tr th {\n",
       "        vertical-align: top;\n",
       "    }\n",
       "\n",
       "    .dataframe thead th {\n",
       "        text-align: right;\n",
       "    }\n",
       "</style>\n",
       "<table border=\"1\" class=\"dataframe\">\n",
       "  <thead>\n",
       "    <tr style=\"text-align: right;\">\n",
       "      <th></th>\n",
       "      <th>Odds Ratio</th>\n",
       "    </tr>\n",
       "  </thead>\n",
       "  <tbody>\n",
       "    <tr>\n",
       "      <th>MonthlyCharge</th>\n",
       "      <td>1.023928</td>\n",
       "    </tr>\n",
       "    <tr>\n",
       "      <th>Contract_num</th>\n",
       "      <td>0.374001</td>\n",
       "    </tr>\n",
       "    <tr>\n",
       "      <th>Techie_num</th>\n",
       "      <td>1.597073</td>\n",
       "    </tr>\n",
       "    <tr>\n",
       "      <th>Gender_num</th>\n",
       "      <td>1.138210</td>\n",
       "    </tr>\n",
       "    <tr>\n",
       "      <th>Outage_sec_perweek</th>\n",
       "      <td>0.997240</td>\n",
       "    </tr>\n",
       "    <tr>\n",
       "      <th>const</th>\n",
       "      <td>0.007690</td>\n",
       "    </tr>\n",
       "  </tbody>\n",
       "</table>\n",
       "</div>"
      ],
      "text/plain": [
       "                    Odds Ratio\n",
       "MonthlyCharge         1.023928\n",
       "Contract_num          0.374001\n",
       "Techie_num            1.597073\n",
       "Gender_num            1.138210\n",
       "Outage_sec_perweek    0.997240\n",
       "const                 0.007690"
      ]
     },
     "execution_count": 223,
     "metadata": {},
     "output_type": "execute_result"
    }
   ],
   "source": [
    "# (Python for Data Science, n.d.)\n",
    "model_odds = pd.DataFrame(np.exp(result_red.params), columns= ['Odds Ratio'])\n",
    "model_odds"
   ]
  },
  {
   "cell_type": "markdown",
   "id": "7bb1ae6d-4fd9-4ce7-a9a9-d498fb91af47",
   "metadata": {},
   "source": [
    "* **Monthly charge**: For every $1 increase in monthly charge, the odds of churn increase by 2.39%.\n",
    "\n",
    "* **Contract** *(0=month-to-month, 1=one year, 2=two year)*: As contract length increases, odds of churn decrease. For every increase in contract length (month-to-month to one-year, and one-year to two-year), odds of churn decrease by 63%.\n",
    "\n",
    "* **Techie** *(0=No, 1=Yes)*: If a customer is a \"Techie\", their odds of churn increase by 59.70%.\n",
    "\n",
    "* **Gender** *(0=Female, 1=Male, 2=Nonbinary)*: Odds of churn are higher for males than for females, and higher for nonbinary people than for males. Odds of churn are 13.8% higher for males than for females, and 13.8% higher for nonbinary people than males.\n",
    "\n",
    "* **Outage_sec_perweek**: For every 1 second increase in outage seconds per week, odds of churn decrease by 1%.\n",
    "\n",
    "* **Constant**: If all other values are zero, a customer's odds of churn are 0.77%."
   ]
  },
  {
   "cell_type": "markdown",
   "id": "45d7a083-bb48-4976-ad70-773db5e52e97",
   "metadata": {},
   "source": [
    "As noted in section E1, the reduced model is found to be statistically significant, as the LLR p-value for the reduced model is below the threshold of 0.05, indicating significance of the model. \n",
    "<br><br> Before it can be determined if the reduced model is practically significant or not, the assumptions of logistic regression models must be verified.\n",
    "<br> The assumption that the dependent variable is binary is met here, as \"Churn\" is a binary variable that contains Yes and No values. Upon visual inspection of the residual plot below, the assumption that all observations are independent of one another is not met, as the residual plot does not show a random pattern in the points (StatsNotebook, n.d.). The assumption of no multicollinearity is upheld in this model. As noted in section D2, the variables with high VIF values -- Bandwidth_GB_Year and Tenure -- were removed in the model reduction step. The remaining variables do not have high correlation, therefore this assumption is upheld. Finally, the assumption that independent variables and log odds are linear is not met, as visual inspection of the residual plot below shows that although a linear relationship is present, there are two lines instead of one, violating this assumption."
   ]
  },
  {
   "cell_type": "code",
   "execution_count": 221,
   "id": "2b96c04c-8b09-4935-b2c0-f24f83d21810",
   "metadata": {
    "tags": []
   },
   "outputs": [
    {
     "data": {
      "text/plain": [
       "Text(0, 0.5, 'Residuals')"
      ]
     },
     "execution_count": 221,
     "metadata": {},
     "output_type": "execute_result"
    },
    {
     "data": {
      "image/png": "[encoded data removed]",
      "text/plain": [
       "<Figure size 640x480 with 1 Axes>"
      ]
     },
     "metadata": {},
     "output_type": "display_data"
    }
   ],
   "source": [
    "# Predicted values from x_reduced vs Churn_num\n",
    "df_red = pd.concat([X_reduced['Predictions'], df['Churn_num']], axis=1)\n",
    "\n",
    "sns.residplot(x=\"Predictions\", y=\"Churn_num\", data=df_red, lowess=True)\n",
    "plt.xlabel(\"Fitted values\")\n",
    "plt.ylabel(\"Residuals\")"
   ]
  },
  {
   "cell_type": "markdown",
   "id": "2e439f44-d3df-4214-86f3-2608e643178d",
   "metadata": {},
   "source": [
    "An overarching limitation of regression models is that correlation does not equal causation. The model created here indicates which variables are most correlated with Churn, but it cannot be said that *because* a customer's monthly charge increases, then they are more likely to churn, or that *because* a customer signs a longer contract, then they are less likely to churn, etc. An additional limitation of this model is that the outliers for quantitative variables were left retained in the data cleaning process. There are outliers present in 'Outage_sec_perweek', a variable which is included in the final reduced model. Therefore, results could be impacted by the retention of these outliers.\n",
    "\n",
    "**F2. Recommendations**\n",
    "<br>Although the model is statistically significant, its lack of practical significance due to violations of two of the four assumptions means that viable recommendations for the business cannot be made based on this model. In order to reach a point of practical significance, it is recommended that additional explanatory variables be analyzed so that the assumptions of multiple logistic regression can be met, in order to get a more accurate answer as to which variables most meaningully contribute to a customer's churn probability.\n",
    "\n",
    "### Part VI: Demonstration\n",
    "\n",
    "**G. Panopto demonstration**\n",
    "<br> A Panopto video demonstrating and explaining use of the code included here is included separately.\n",
    "\n",
    "**H. Sources of third-party code**\n",
    "<br> \n",
    "(2018, July 1). Logistic Regression Analysis. Harvard University Department of Sociology. Retrieved January 5, 2024, from https://sociology.fas.harvard.edu/files/sociology/files/logistic_regression_analysis.pdf\n",
    "\n",
    "[Mark Keith]. (2021, October 11). Python: MLR/OLS assumptions normality multicollinearity VIF [Video]. YouTube. https://www.youtube.com/watch?v=9-M4SGzSx0k&list=PLe9UEU4oeAuV7RtCbL76hca5ELO_IELk4&index=11\n",
    "\n",
    "(2023, November 8). Label Encoding in Python - 2024. Great Learning. Retrieved January 5, 2024, from https://www.mygreatlearning.com/blog/label-encoding-in-python/\n",
    "\n",
    "Massaron, L., & Boschetti, A. (2016). Regression Analysis with Python. Packt Publishing.\n",
    "\n",
    "[Nele Verbiest]. Introduction to Predictive Analytics in Python | Forward stepwise variable selection [Video]. DataCamp. https://campus.datacamp.com/courses/introduction-to-predictive-analytics-in-python/forward-stepwise-variable-selection-for-logistic-regression?ex=5\n",
    "\n",
    "(n.d.). Logistic Regression. Python for Data Science. Retrieved January 5, 2024, from https://www.pythonfordatascience.org/logistic-regression-python/\n",
    "\n",
    "**I. Sources** \n",
    "\n",
    "Massaron, L., & Boschetti, A. (2016). Regression Analysis with Python. Packt Publishing.\n",
    "\n",
    "[Keiona Middleton]. (2023, August 10). D208 - Webinar: Getting Started with D208 Part I (November) [Video]. Panopto. https://wgu.hosted.panopto.com/Panopto/Pages/Viewer.aspx?id=15e09c73-c5aa-439d-852f-af47001b8970\n",
    "\n",
    "[Keiona Middleton]. (2023, August 10). D208 - Webinar: Getting Started with D208 Part II (November) [Video]. Panopto. https://wgu.hosted.panopto.com/Panopto/Pages/Viewer.aspx?id=39bbe2db-de7d-4bf5-913b-af5c0003da9d\n",
    "\n",
    "(2020, October 16). Residual plots and assumption checking. StatsNotebook. Retrieved January 6, 2024, from https://statsnotebook.io/blog/analysis/linearity_homoscedasticity/\n",
    "\n",
    "Statistics Solutions (n.d.). Assumptions of Logistic Regression. Complete Dissertation. Retrieved January 2, 2024, from https://www.statisticssolutions.com/free-resources/directory-of-statistical-analyses/assumptions-of-logistic-regression/"
   ]
  },
  {
   "cell_type": "code",
   "execution_count": null,
   "id": "914e387e-f82d-4ac7-a5ab-b705aa448574",
   "metadata": {},
   "outputs": [],
   "source": []
  }
 ],
 "metadata": {
  "kernelspec": {
   "display_name": "Python 3 (ipykernel)",
   "language": "python",
   "name": "python3"
  },
  "language_info": {
   "codemirror_mode": {
    "name": "ipython",
    "version": 3
   },
   "file_extension": ".py",
   "mimetype": "text/x-python",
   "name": "python",
   "nbconvert_exporter": "python",
   "pygments_lexer": "ipython3",
   "version": "3.11.5"
  }
 },
 "nbformat": 4,
 "nbformat_minor": 5
}
