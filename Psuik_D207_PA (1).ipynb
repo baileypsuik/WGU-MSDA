{
 "cells": [
  {
   "cell_type": "code",
   "execution_count": 227,
   "id": "bfa9a8f8-1866-4be9-b880-912a50bb8c3e",
   "metadata": {
    "tags": []
   },
   "outputs": [],
   "source": [
    "# Import all necessary packages\n",
    "import pandas as pd\n",
    "import numpy as np\n",
    "import matplotlib.pyplot as plt\n",
    "import seaborn as sns\n",
    "import scipy.stats\n",
    "from scipy.stats import chi2"
   ]
  },
  {
   "cell_type": "code",
   "execution_count": 228,
   "id": "54e79c38-117b-4832-b818-3223133d68dd",
   "metadata": {
    "tags": []
   },
   "outputs": [],
   "source": [
    "# Import .csv data: churn_clean.csv\n",
    "churn_data = pd.read_csv(\"C:/Users/psuik/Desktop/WGU/D207/churn_clean.csv\")"
   ]
  },
  {
   "cell_type": "code",
   "execution_count": 229,
   "id": "b6f3238c-fff0-41ca-af65-014a8cef2340",
   "metadata": {
    "tags": []
   },
   "outputs": [
    {
     "name": "stdout",
     "output_type": "stream",
     "text": [
      "<class 'pandas.core.frame.DataFrame'>\n",
      "RangeIndex: 10000 entries, 0 to 9999\n",
      "Data columns (total 50 columns):\n",
      " #   Column                Non-Null Count  Dtype  \n",
      "---  ------                --------------  -----  \n",
      " 0   CaseOrder             10000 non-null  int64  \n",
      " 1   Customer_id           10000 non-null  object \n",
      " 2   Interaction           10000 non-null  object \n",
      " 3   UID                   10000 non-null  object \n",
      " 4   City                  10000 non-null  object \n",
      " 5   State                 10000 non-null  object \n",
      " 6   County                10000 non-null  object \n",
      " 7   Zip                   10000 non-null  int64  \n",
      " 8   Lat                   10000 non-null  float64\n",
      " 9   Lng                   10000 non-null  float64\n",
      " 10  Population            10000 non-null  int64  \n",
      " 11  Area                  10000 non-null  object \n",
      " 12  TimeZone              10000 non-null  object \n",
      " 13  Job                   10000 non-null  object \n",
      " 14  Children              10000 non-null  int64  \n",
      " 15  Age                   10000 non-null  int64  \n",
      " 16  Income                10000 non-null  float64\n",
      " 17  Marital               10000 non-null  object \n",
      " 18  Gender                10000 non-null  object \n",
      " 19  Churn                 10000 non-null  object \n",
      " 20  Outage_sec_perweek    10000 non-null  float64\n",
      " 21  Email                 10000 non-null  int64  \n",
      " 22  Contacts              10000 non-null  int64  \n",
      " 23  Yearly_equip_failure  10000 non-null  int64  \n",
      " 24  Techie                10000 non-null  object \n",
      " 25  Contract              10000 non-null  object \n",
      " 26  Port_modem            10000 non-null  object \n",
      " 27  Tablet                10000 non-null  object \n",
      " 28  InternetService       7871 non-null   object \n",
      " 29  Phone                 10000 non-null  object \n",
      " 30  Multiple              10000 non-null  object \n",
      " 31  OnlineSecurity        10000 non-null  object \n",
      " 32  OnlineBackup          10000 non-null  object \n",
      " 33  DeviceProtection      10000 non-null  object \n",
      " 34  TechSupport           10000 non-null  object \n",
      " 35  StreamingTV           10000 non-null  object \n",
      " 36  StreamingMovies       10000 non-null  object \n",
      " 37  PaperlessBilling      10000 non-null  object \n",
      " 38  PaymentMethod         10000 non-null  object \n",
      " 39  Tenure                10000 non-null  float64\n",
      " 40  MonthlyCharge         10000 non-null  float64\n",
      " 41  Bandwidth_GB_Year     10000 non-null  float64\n",
      " 42  Item1                 10000 non-null  int64  \n",
      " 43  Item2                 10000 non-null  int64  \n",
      " 44  Item3                 10000 non-null  int64  \n",
      " 45  Item4                 10000 non-null  int64  \n",
      " 46  Item5                 10000 non-null  int64  \n",
      " 47  Item6                 10000 non-null  int64  \n",
      " 48  Item7                 10000 non-null  int64  \n",
      " 49  Item8                 10000 non-null  int64  \n",
      "dtypes: float64(7), int64(16), object(27)\n",
      "memory usage: 3.8+ MB\n"
     ]
    }
   ],
   "source": [
    "# Profile the data\n",
    "churn_data.info()"
   ]
  },
  {
   "cell_type": "code",
   "execution_count": 230,
   "id": "0b2b29d3-a761-4a1c-9644-b175236d3e05",
   "metadata": {
    "tags": []
   },
   "outputs": [
    {
     "data": {
      "text/plain": [
       "CaseOrder               0\n",
       "Customer_id             0\n",
       "Interaction             0\n",
       "UID                     0\n",
       "City                    0\n",
       "State                   0\n",
       "County                  0\n",
       "Zip                     0\n",
       "Lat                     0\n",
       "Lng                     0\n",
       "Population              0\n",
       "Area                    0\n",
       "TimeZone                0\n",
       "Job                     0\n",
       "Children                0\n",
       "Age                     0\n",
       "Income                  0\n",
       "Marital                 0\n",
       "Gender                  0\n",
       "Churn                   0\n",
       "Outage_sec_perweek      0\n",
       "Email                   0\n",
       "Contacts                0\n",
       "Yearly_equip_failure    0\n",
       "Techie                  0\n",
       "Contract                0\n",
       "Port_modem              0\n",
       "Tablet                  0\n",
       "InternetService         0\n",
       "Phone                   0\n",
       "Multiple                0\n",
       "OnlineSecurity          0\n",
       "OnlineBackup            0\n",
       "DeviceProtection        0\n",
       "TechSupport             0\n",
       "StreamingTV             0\n",
       "StreamingMovies         0\n",
       "PaperlessBilling        0\n",
       "PaymentMethod           0\n",
       "Tenure                  0\n",
       "MonthlyCharge           0\n",
       "Bandwidth_GB_Year       0\n",
       "Item1                   0\n",
       "Item2                   0\n",
       "Item3                   0\n",
       "Item4                   0\n",
       "Item5                   0\n",
       "Item6                   0\n",
       "Item7                   0\n",
       "Item8                   0\n",
       "dtype: int64"
      ]
     },
     "execution_count": 230,
     "metadata": {},
     "output_type": "execute_result"
    }
   ],
   "source": [
    "# The data contains 10,000 rows and 50 columns\n",
    "\n",
    "# The clean data file is still missing values for 'InternetService', so those values will be imputed so the data can be considered fully clean.\n",
    "\n",
    "# Imputation will be completed using the mode of 'InternetService', a categorical variable\n",
    "mode_InternetService = churn_data['InternetService'].mode()[0]\n",
    "\n",
    "# Fill all null values in InternetService with the mode\n",
    "churn_data['InternetService'] = churn_data['InternetService'].fillna(mode_InternetService)\n",
    "\n",
    "# Confirm all missing values have been filled by returning the sum of all null values in each column\n",
    "churn_data.isnull().sum()"
   ]
  },
  {
   "cell_type": "code",
   "execution_count": 231,
   "id": "3a316928-4dbc-4b3e-a7f8-dfe6eafd21dc",
   "metadata": {
    "tags": []
   },
   "outputs": [
    {
     "name": "stdout",
     "output_type": "stream",
     "text": [
      "Churn     No   Yes\n",
      "Techie            \n",
      "No      6226  2095\n",
      "Yes     1124   555\n"
     ]
    }
   ],
   "source": [
    "# Packages are imported, and data is imported and cleaned\n",
    "\n",
    "# The first step is to create a contingency table that holds the frequencies of values in both the 'Techie' and 'Churn' columns\n",
    "# Each combination will be represented\n",
    "\n",
    "# Create contingency table (Mehta, 2023) (WGU, 2023)\n",
    "observed = pd.crosstab(churn_data['Techie'], churn_data['Churn'])\n",
    "print(observed)"
   ]
  },
  {
   "cell_type": "code",
   "execution_count": 232,
   "id": "a2365eed-919e-45eb-8c3b-569f5d99df1a",
   "metadata": {
    "tags": []
   },
   "outputs": [
    {
     "name": "stdout",
     "output_type": "stream",
     "text": [
      "Chi2ContingencyResult(statistic=44.11479393861451, pvalue=3.096716355509661e-11, dof=1, expected_freq=array([[6115.935, 2205.065],\n",
      "       [1234.065,  444.935]]))\n"
     ]
    }
   ],
   "source": [
    "# Conduct chi-square test using the chi2_contingency function from scipy.stats (WGU, 2023)\n",
    "# This function returns: chi sq statistic, p-value, deg of freedom, and expected frequencies\n",
    "\n",
    "test_results = chi2_contingency(observed)\n",
    "print(test_results)"
   ]
  },
  {
   "cell_type": "code",
   "execution_count": 233,
   "id": "26a3429c-9f77-46f5-ba12-77231dfb656c",
   "metadata": {
    "tags": []
   },
   "outputs": [
    {
     "name": "stdout",
     "output_type": "stream",
     "text": [
      "There is a significant difference between 'Techie' status and churn rate: REJECT NULL\n"
     ]
    }
   ],
   "source": [
    "# chi sq statistic = 44.11479393861451\n",
    "# p-value: 3.096716355509661e-11\n",
    "# degrees of freedom: 1\n",
    "# expected frequency array: ([[6115.935, 2205.065], [1234.065,  444.935]])\n",
    "\n",
    "#Null hypothesis (H0): The churn rate for Techies and Non-Techies is equivalent.\n",
    "#Alternative hypothesis (H1): The churn rate for Techies and Non-Techies is not equivalent. \n",
    "\n",
    "# Interpret the results based on the obtained p-value from above using a 95% confidence level, or an alpha of .05 (5%) (DataCamp, 2023):\n",
    "alpha = .05\n",
    "if p < alpha: \n",
    "    print(\"There is a significant difference between 'Techie' status and churn rate: REJECT NULL\")\n",
    "else: \n",
    "    print(\"There is not a significant difference between 'Techie' status and churn rate: DO NO REJECT NULL\")"
   ]
  },
  {
   "cell_type": "code",
   "execution_count": 226,
   "id": "ecbac070-5ca0-45dc-a8ee-93393359572d",
   "metadata": {
    "tags": []
   },
   "outputs": [],
   "source": [
    "# RESULT: Reject the null hypothesis"
   ]
  },
  {
   "cell_type": "code",
   "execution_count": 234,
   "id": "a4cd6ff9-302e-48e0-be3e-3ab87ba3f7ce",
   "metadata": {
    "tags": []
   },
   "outputs": [
    {
     "data": {
      "image/png": "[encoded data removed]",
      "text/plain": [
       "<Figure size 640x480 with 1 Axes>"
      ]
     },
     "metadata": {},
     "output_type": "display_data"
    },
    {
     "data": {
      "image/png": "[encoded data removed]",
      "text/plain": [
       "<Figure size 640x480 with 1 Axes>"
      ]
     },
     "metadata": {},
     "output_type": "display_data"
    },
    {
     "data": {
      "image/png": "[encoded data removed]",
      "text/plain": [
       "<Figure size 640x480 with 1 Axes>"
      ]
     },
     "metadata": {},
     "output_type": "display_data"
    },
    {
     "data": {
      "image/png": "[encoded data removed]",
      "text/plain": [
       "<Figure size 640x480 with 1 Axes>"
      ]
     },
     "metadata": {},
     "output_type": "display_data"
    }
   ],
   "source": [
    "# Univariate statistics\n",
    "\n",
    "# 2 Continuous: Tenure, Bandwidth_GB_Year\n",
    "# 2 Categorical: Gender, Contract\n",
    "\n",
    "# Create histograms to visualize distribution of each variable:\n",
    "\n",
    "# Tenure (continuous)\n",
    "plt.hist(churn_data['Tenure'])\n",
    "plt.xlabel('Tenure')\n",
    "plt.show()\n",
    "\n",
    "# Bandwidth_GB_Year (continuous)\n",
    "plt.hist(churn_data['Bandwidth_GB_Year'])\n",
    "plt.xlabel('Bandwidth_GB_Year')\n",
    "plt.show()\n",
    "\n",
    "# Gender (categorical)\n",
    "plt.hist(churn_data['Gender'])\n",
    "plt.xlabel('Gender')\n",
    "plt.show()\n",
    "\n",
    "# Contract (categorical)\n",
    "plt.hist(churn_data['Contract'])\n",
    "plt.xlabel('Contract')\n",
    "plt.show()"
   ]
  },
  {
   "cell_type": "code",
   "execution_count": 215,
   "id": "e98d89a6-79c4-492f-8224-847da183f609",
   "metadata": {
    "tags": []
   },
   "outputs": [
    {
     "name": "stdout",
     "output_type": "stream",
     "text": [
      "count    10000.000000\n",
      "mean        34.526188\n",
      "std         26.443063\n",
      "min          1.000259\n",
      "25%          7.917694\n",
      "50%         35.430507\n",
      "75%         61.479795\n",
      "max         71.999280\n",
      "Name: Tenure, dtype: float64\n",
      "count    10000.000000\n",
      "mean      3392.341550\n",
      "std       2185.294852\n",
      "min        155.506715\n",
      "25%       1236.470827\n",
      "50%       3279.536903\n",
      "75%       5586.141370\n",
      "max       7158.981530\n",
      "Name: Bandwidth_GB_Year, dtype: float64\n",
      "count      10000\n",
      "unique         3\n",
      "top       Female\n",
      "freq        5025\n",
      "Name: Gender, dtype: object\n",
      "Gender\n",
      "Female       5025\n",
      "Male         4744\n",
      "Nonbinary     231\n",
      "Name: count, dtype: int64\n",
      "count              10000\n",
      "unique                 3\n",
      "top       Month-to-month\n",
      "freq                5456\n",
      "Name: Contract, dtype: object\n",
      "Contract\n",
      "Month-to-month    5456\n",
      "Two Year          2442\n",
      "One year          2102\n",
      "Name: count, dtype: int64\n"
     ]
    }
   ],
   "source": [
    "# Summary statistics for continuous variables \n",
    "print(churn_data['Tenure'].describe())\n",
    "\n",
    "print(churn_data['Bandwidth_GB_Year'].describe())\n",
    "\n",
    "\n",
    "# Summary statistics for categorical variables\n",
    "print(churn_data['Gender'].describe())\n",
    "print(churn_data['Gender'].value_counts())\n",
    "\n",
    "print(churn_data['Contract'].describe())\n",
    "print(churn_data['Contract'].value_counts())"
   ]
  },
  {
   "cell_type": "code",
   "execution_count": 235,
   "id": "df976233-a791-4f4a-b9e6-96b580e1d3ec",
   "metadata": {
    "tags": []
   },
   "outputs": [
    {
     "data": {
      "text/plain": [
       "<Axes: xlabel='MonthlyCharge', ylabel='Churn'>"
      ]
     },
     "execution_count": 235,
     "metadata": {},
     "output_type": "execute_result"
    },
    {
     "data": {
      "image/png": "[encoded data removed]",
      "text/plain": [
       "<Figure size 640x480 with 1 Axes>"
      ]
     },
     "metadata": {},
     "output_type": "display_data"
    }
   ],
   "source": [
    "# Bivariate statistics\n",
    "\n",
    "# Categorical: Churn, Continuous: MonthlyCharge\n",
    "sns.boxplot(x='MonthlyCharge', y='Churn', data=churn_data)"
   ]
  },
  {
   "cell_type": "code",
   "execution_count": 236,
   "id": "a8b7c61d-f64e-422b-82b7-da91b6a7c0ad",
   "metadata": {
    "tags": []
   },
   "outputs": [
    {
     "name": "stdout",
     "output_type": "stream",
     "text": [
      "Churn\n",
      "No     159.9642\n",
      "Yes    200.1185\n",
      "Name: MonthlyCharge, dtype: float64\n"
     ]
    }
   ],
   "source": [
    "median_charge_by_churn = churn_data.groupby('Churn')['MonthlyCharge'].median()\n",
    "print(median_charge_by_churn)"
   ]
  },
  {
   "cell_type": "code",
   "execution_count": 237,
   "id": "23dda8b5-022d-46ed-8195-5fc4c7ea483f",
   "metadata": {},
   "outputs": [
    {
     "data": {
      "text/plain": [
       "<Axes: xlabel='Income', ylabel='Area'>"
      ]
     },
     "execution_count": 237,
     "metadata": {},
     "output_type": "execute_result"
    },
    {
     "data": {
      "image/png": "[encoded data removed]",
      "text/plain": [
       "<Figure size 640x480 with 1 Axes>"
      ]
     },
     "metadata": {},
     "output_type": "display_data"
    }
   ],
   "source": [
    "# Categorical: Area, Continuous: Income\n",
    "sns.boxplot(x='Income',y='Area',data=churn_data)"
   ]
  },
  {
   "cell_type": "code",
   "execution_count": 238,
   "id": "c00e707d-c38d-43f5-9fec-d5239d6a90ff",
   "metadata": {
    "tags": []
   },
   "outputs": [
    {
     "name": "stdout",
     "output_type": "stream",
     "text": [
      "Area\n",
      "Rural       32855.22\n",
      "Suburban    33346.08\n",
      "Urban       33362.41\n",
      "Name: Income, dtype: float64\n"
     ]
    }
   ],
   "source": [
    "median_income_by_area = churn_data.groupby('Area')['Income'].median()\n",
    "print(median_income_by_area)"
   ]
  },
  {
   "cell_type": "code",
   "execution_count": null,
   "id": "c387d1fd-850f-4508-a36a-9a7d16fb08a7",
   "metadata": {},
   "outputs": [],
   "source": []
  }
 ],
 "metadata": {
  "kernelspec": {
   "display_name": "Python 3 (ipykernel)",
   "language": "python",
   "name": "python3"
  },
  "language_info": {
   "codemirror_mode": {
    "name": "ipython",
    "version": 3
   },
   "file_extension": ".py",
   "mimetype": "text/x-python",
   "name": "python",
   "nbconvert_exporter": "python",
   "pygments_lexer": "ipython3",
   "version": "3.11.5"
  }
 },
 "nbformat": 4,
 "nbformat_minor": 5
}
