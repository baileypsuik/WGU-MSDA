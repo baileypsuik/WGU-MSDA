{
 "cells": [
  {
   "cell_type": "markdown",
   "id": "017adf06-ae04-41b7-be6c-cc6cecb92694",
   "metadata": {},
   "source": [
    "# D209: Data Mining, Task 1\n",
    "Western Governors University\n",
    "<br>Bailey Psuik \n",
    "<br>January 2024"
   ]
  },
  {
   "cell_type": "markdown",
   "id": "24593c39-3046-481a-99b1-fb8416b65431",
   "metadata": {},
   "source": [
    "### Part I: Research Question\n",
    "\n",
    "**A1. Proposal of question**\n",
    "<br>For this paper, data from a popular telecommunications company was analyzed. The company has collected data on its customers including demographic information, the services they receive, and customer account information in an effort to analyze their churn rate. Churn is defined as the percentage of customers who have discontinued service with the provider. Industry-wide, annual churn rates can be as high as 25%. The company knows that it is more cost-effective to retain existing customers than to acquire new ones, and therefore seeks to identify trends in customer data and uncover key metrics to help them predict their anticipated churn rate in hopes of mitigating it. \n",
    "\n",
    "This report will build a Naive Bayes classification model to answer the following question: **Can churn probability be predicted by a customer’s chosen services (i.e. enrolling in paperless billing, subscribing to TV streaming, etc.)?**"
   ]
  },
  {
   "cell_type": "markdown",
   "id": "d9b5618b-ac50-480c-bb4c-b07cd9bec202",
   "metadata": {},
   "source": [
    "**A2. Defined goal**\n",
    "<br>The goal of this report is two-fold: Build a Naive Bayes classification model to predict whether or not a customer will churn based on their chosen services, and make recommendations to the telecommuncations company based on findings."
   ]
  },
  {
   "cell_type": "markdown",
   "id": "7c65b83a-d682-47c7-a86e-547158ce6bd5",
   "metadata": {},
   "source": [
    "### Part II: Method Justification\n",
    "\n",
    "**B1. Explanation of classification method**\n",
    "\n",
    "Naive Bayes is a classification technique based on Bayes' Theorem, which predicts conditional probabilities. At its most basic level, this theorem predicts the probability that A is true given that B is true. Naive Bayes is suitable for large data sets such as the one that will be used in this analysis. It is a supervised learning algorithm, meaning it makes use of labeled outcomes for data. A common application of this algorithm, for example, is spam email filtering, where emails are labeled either “spam” or “not spam”, depending on certain conditions being true. \n",
    "\n",
    "In this report, a Bernoulli Naive Bayes model will be created. This type of model takes inputs of boolean predictor variables classified as 1s and 0s (Ray, 2023). Here, the target variable being considered is “Churn”, a binary categorical variable consisting of the labels “Yes” and “No”. These values will be re-encoded as numerical variables, for purpose of analysis, with 1 corresponding to “Yes”, and 0 corresponding to “No”.\n",
    "\n",
    "As stated, Naive Bayes is based on Bayes' Theorem, which calculates the probability of A being true given that B is true, using the following equation (Gill, 2023): **P(A|B) = (P(B|A) x P(A)) / P(B)**\n",
    "\n",
    "Where:\n",
    "* P(B|A) is the probability of B being true given that A is true\n",
    "* P(A) is the probability of A being true\n",
    "* P(B) is the probability of B being true\n",
    "* A and B are events\n",
    "\n",
    "For purposes of example here: \n",
    "* A is Churn\n",
    "* B is StreamingTV\n",
    "\n",
    "So the equation becomes: **P(Churn|StreamingTV) = (P(StreamingTV|Churn) x P(Churn)) / P(StreamingTV)**\n",
    "\n",
    "This equation calculates the probability that a customer churns *given* that the customer subscribes to TV Streaming services. This is accomplished by multiplying the probability that a customer is subscribed to TV Streaming *given* that they churned, by the probability of all customers churning, and dividing the product by the probability that any given customer is subscribed to TV streaming services. \n",
    "\n",
    "The example above shows the calculation based on one predictor variable. However, the model created later in this report will make use of multiple predictor variables. For sake of example, the equation with three predictor variables looks like: \n",
    "\n",
    "**P(Churn|StreamingTV ∩ StreamingMovies ∩ PaperlessBilling ∩ …) = \n",
    "(P(StreamingTV ∩ StreamingMovies ∩ PaperlessBilling ∩ … |Churn)) x P(Churn) / P(StreamingTV ∩ StreamingMovies ∩ PaperlessBilling ∩ …)**\n",
    "\n",
    "This equation calculates the probability that a customer will churn *given* that they subscribe to TV streaming, *and* movie streaming, *and* and are enrolled in paperless billing. A further-expanded version of this equation will be used to build a classification algorithm which will be trained by inputting labeled data, and then tested on an unseen, unlabeled training data set. The accuracy of the testing model will then be computed to inform the conclusion and recommendations for the company."
   ]
  },
  {
   "cell_type": "markdown",
   "id": "c2a1cb00-c7c9-46ba-8669-ae1760b063f8",
   "metadata": {},
   "source": [
    "**B2. Summary of method assumption**\n",
    "\n",
    "A core assumption of Naive Bayes is that it assumes total independence among predictor variables, meaning it assumes the presence or absence of any particular feature is unrelated to any of the other features (Ray, 2023). This assumption of conditional independence is what makes the model \"naive\" (Gill, 2023)."
   ]
  },
  {
   "cell_type": "markdown",
   "id": "cff09f23-c6b9-4238-98a5-8224f7c3ca0c",
   "metadata": {},
   "source": [
    "**B3. Packages list** \n",
    "\n",
    "* **Pandas**: used for data importing/exporting and dataframe creation\n",
    "* **Numpy**: used for working with arrays and matrices\n",
    "* **Matplotlib** and **Seaborn**: both used to create visualizations\n",
    "* Various functions from **scikit-learn (sklearn)**: \n",
    "    * **sklearn.preprocessing**\n",
    "        * **LabelEncoder**: used in re-expressing categorical values to numeric values\n",
    "    * **sklearn.model_selection**\n",
    "        * **train_test_split**: used to split the data set into a training set and testing set\n",
    "    * **sklearn.naive_bayes**\n",
    "        * **BernoulliNB**: used for fitting the model\n",
    "    * **sklearn.metrics**\n",
    "        * **confusion_matrix**: used to create a confusion matrix for the model\n",
    "        * **roc_curve**: used to create the ROC curve for the model\n",
    "        * **roc_auc_score**: used to calculate AUC score of the model"
   ]
  },
  {
   "cell_type": "markdown",
   "id": "3ce1c636-1073-46dc-a32f-7d74dd8e6b82",
   "metadata": {},
   "source": [
    "### Part III: Data Preparation\n",
    "\n",
    "**C1. Data pre-processing**\n",
    "<br>In order for this data set to be prepared for model building, the data must be pre-processed to get it into proper format for analysis. A crucial step in data pre-processing for creation of this particular Bernoulli Naive Bayes model is re-expressing each categorical predictor variable's values as numeric ones. The main goal here is to re-express the values for the predictor variables, which were originally encoded with string values of \"Yes\" and \"No\", as numeric values with all \"Yes\" values as 1s, and all \"No\" values as 0s. "
   ]
  },
  {
   "cell_type": "markdown",
   "id": "4dc384f2-59b3-40b4-a7af-a2282d8fe0e0",
   "metadata": {},
   "source": [
    "**C2. Data set variables** \n",
    "<br>The model being created in this report will predict churn rates for the company's customers, thus \"Churn\" is the dependent, or target, variable here. The predictor variables that will be included in this model cover information on customers' chosen services. Each of the variables listen below are binary categorical variables. \n",
    "\n",
    "Target variable:\n",
    "* Churn\n",
    "\n",
    "Predictor variables: \n",
    "* PortModem\n",
    "* Tablet\n",
    "* Phone\n",
    "* Multiple\n",
    "* OnlineSecurity\n",
    "* OnlineBackup\n",
    "* DeviceProtection\n",
    "* TechSupport\n",
    "* StreamingTV\n",
    "* StreamingMovies\n",
    "* PaperlessBilling \n",
    "\n",
    "Each of these variables is categorical, containing values of \"Yes\" and \"No\". These categorical variables will be re-expressed as numeric variables in the code found in section C3 below. "
   ]
  },
  {
   "cell_type": "markdown",
   "id": "9e487542-f677-4422-8651-fe0bcca90d9b",
   "metadata": {},
   "source": [
    "**C3. Steps for analysis**\n",
    "<br>Before moving forward with the building of the model, the data set must be cleaned. Skipping this vital step could result in a faulty or misleading answer to the research question posed in section A1. Goals of the data cleaning process include: \n",
    "* Perform an initial inspection of the data to get the number of rows, columns, and data types\n",
    "* Identify and treat duplicate values\n",
    "* Convert categorical variables to numerical variables\n",
    "* Identify and treat missing values\n",
    "* Identify and treat outliers\n",
    "\n",
    "The steps used to clean the data are as follows: \n",
    "<br><br>Step 1: Perform an initial inspection of the data with the .info() function. \n",
    "* Outcome: The data contains 10,000 rows and 50 columns. All variables but one, InternetService, have 10,000 non-null values. Data types of each variable are logical.\n",
    "\n",
    "<br>Step 2: Compute a sum of the number of total duplicates contained in the data set. Additionally, since 'Customer_id' is denoted as being a unique identifier, compute the sum of duplicates in this column.\n",
    "* Outcome: No duplicates were found, so no treatment was needed.\n",
    "\n",
    "<br>Step 3: Re-express ordinal categorical variables as numerical variables.\n",
    "* Outcome: 14 ordinal categorical variables had their values replaced with numerical values to prepare this data set for analysis.\n",
    "\n",
    "<br>Step 4: Re-encode nominal categorical variables with label encoding.\n",
    "* Outcome: Values for Gender and InternetService, each of which have three unique values, are nominally encoded.\n",
    "\n",
    "<br>Step 5: Treat the missing values in ‘InternetService’ detected from the initial inspection of the data.\n",
    "* Outcome: The 2,129 null values found in this column were filled in using imputation of the mode, as ‘InternetService’ is a categorical variable.\n",
    "\n",
    "<br>Step 6: Visually inspect the box plots for each quantitative variable to identify outliers. \n",
    "* Outcome: Outliers were detected in nine quantitative variables, but these values were deemed acceptable for various reasons, and were therefore retained.\n",
    "\n",
    "<br>Complete code for the data cleaning portion of this analysis is below."
   ]
  },
  {
   "cell_type": "code",
   "execution_count": 129,
   "id": "8d73715e-4755-4696-a7ee-68a9750b2255",
   "metadata": {
    "tags": []
   },
   "outputs": [
    {
     "name": "stdout",
     "output_type": "stream",
     "text": [
      "<class 'pandas.core.frame.DataFrame'>\n",
      "RangeIndex: 10000 entries, 0 to 9999\n",
      "Data columns (total 50 columns):\n",
      " #   Column                Non-Null Count  Dtype  \n",
      "---  ------                --------------  -----  \n",
      " 0   CaseOrder             10000 non-null  int64  \n",
      " 1   Customer_id           10000 non-null  object \n",
      " 2   Interaction           10000 non-null  object \n",
      " 3   UID                   10000 non-null  object \n",
      " 4   City                  10000 non-null  object \n",
      " 5   State                 10000 non-null  object \n",
      " 6   County                10000 non-null  object \n",
      " 7   Zip                   10000 non-null  int64  \n",
      " 8   Lat                   10000 non-null  float64\n",
      " 9   Lng                   10000 non-null  float64\n",
      " 10  Population            10000 non-null  int64  \n",
      " 11  Area                  10000 non-null  object \n",
      " 12  TimeZone              10000 non-null  object \n",
      " 13  Job                   10000 non-null  object \n",
      " 14  Children              10000 non-null  int64  \n",
      " 15  Age                   10000 non-null  int64  \n",
      " 16  Income                10000 non-null  float64\n",
      " 17  Marital               10000 non-null  object \n",
      " 18  Gender                10000 non-null  object \n",
      " 19  Churn                 10000 non-null  object \n",
      " 20  Outage_sec_perweek    10000 non-null  float64\n",
      " 21  Email                 10000 non-null  int64  \n",
      " 22  Contacts              10000 non-null  int64  \n",
      " 23  Yearly_equip_failure  10000 non-null  int64  \n",
      " 24  Techie                10000 non-null  object \n",
      " 25  Contract              10000 non-null  object \n",
      " 26  Port_modem            10000 non-null  object \n",
      " 27  Tablet                10000 non-null  object \n",
      " 28  InternetService       7871 non-null   object \n",
      " 29  Phone                 10000 non-null  object \n",
      " 30  Multiple              10000 non-null  object \n",
      " 31  OnlineSecurity        10000 non-null  object \n",
      " 32  OnlineBackup          10000 non-null  object \n",
      " 33  DeviceProtection      10000 non-null  object \n",
      " 34  TechSupport           10000 non-null  object \n",
      " 35  StreamingTV           10000 non-null  object \n",
      " 36  StreamingMovies       10000 non-null  object \n",
      " 37  PaperlessBilling      10000 non-null  object \n",
      " 38  PaymentMethod         10000 non-null  object \n",
      " 39  Tenure                10000 non-null  float64\n",
      " 40  MonthlyCharge         10000 non-null  float64\n",
      " 41  Bandwidth_GB_Year     10000 non-null  float64\n",
      " 42  Item1                 10000 non-null  int64  \n",
      " 43  Item2                 10000 non-null  int64  \n",
      " 44  Item3                 10000 non-null  int64  \n",
      " 45  Item4                 10000 non-null  int64  \n",
      " 46  Item5                 10000 non-null  int64  \n",
      " 47  Item6                 10000 non-null  int64  \n",
      " 48  Item7                 10000 non-null  int64  \n",
      " 49  Item8                 10000 non-null  int64  \n",
      "dtypes: float64(7), int64(16), object(27)\n",
      "memory usage: 3.8+ MB\n"
     ]
    }
   ],
   "source": [
    "# Initial package import\n",
    "import pandas as pd\n",
    "import numpy as np\n",
    "import matplotlib.pyplot as plt\n",
    "\n",
    "# .csv import\n",
    "churn_data = pd.read_csv(\"C:/Users/psuik/Desktop/WGU/D209/churn_clean.csv\")\n",
    "\n",
    "# Step 1: Profile the data for initial inspection\n",
    "churn_data.info()"
   ]
  },
  {
   "cell_type": "code",
   "execution_count": 130,
   "id": "dae19e73-fa65-4de8-a604-2c9f4c44da9a",
   "metadata": {
    "tags": []
   },
   "outputs": [
    {
     "name": "stdout",
     "output_type": "stream",
     "text": [
      "0       False\n",
      "1       False\n",
      "2       False\n",
      "3       False\n",
      "4       False\n",
      "        ...  \n",
      "9995    False\n",
      "9996    False\n",
      "9997    False\n",
      "9998    False\n",
      "9999    False\n",
      "Length: 10000, dtype: bool\n",
      "False    10000\n",
      "Name: count, dtype: int64\n"
     ]
    }
   ],
   "source": [
    "# Step 2: Identify and treat duplicate values\n",
    "\n",
    "# Return duplicate values as True, non-duplicates as False\n",
    "print(churn_data.duplicated())\n",
    "\n",
    "# Get total counts of duplicate values\n",
    "print(churn_data.duplicated().value_counts())"
   ]
  },
  {
   "cell_type": "code",
   "execution_count": 131,
   "id": "69a5369d-e218-45e5-af3f-bba261fd889f",
   "metadata": {
    "tags": []
   },
   "outputs": [
    {
     "name": "stdout",
     "output_type": "stream",
     "text": [
      "0       False\n",
      "1       False\n",
      "2       False\n",
      "3       False\n",
      "4       False\n",
      "        ...  \n",
      "9995    False\n",
      "9996    False\n",
      "9997    False\n",
      "9998    False\n",
      "9999    False\n",
      "Name: Customer_id, Length: 10000, dtype: bool\n",
      "Customer_id\n",
      "False    10000\n",
      "Name: count, dtype: int64\n"
     ]
    }
   ],
   "source": [
    "# True = duplicate, False = non-duplicate\n",
    "# 10,000 False values ==> No complete duplicates exist \n",
    "\n",
    "# Check for duplicate values in Customer_id column, since this is denoted as a unique identifier\n",
    "print(churn_data['Customer_id'].duplicated())\n",
    "print(churn_data['Customer_id'].duplicated().value_counts())"
   ]
  },
  {
   "cell_type": "code",
   "execution_count": 132,
   "id": "b7869669-b6b5-4736-b0fa-7550106206c0",
   "metadata": {
    "tags": []
   },
   "outputs": [
    {
     "name": "stdout",
     "output_type": "stream",
     "text": [
      "TimeZone: ['America/Sitka' 'America/Detroit' 'America/Los_Angeles' 'America/Chicago'\n",
      " 'America/New_York' 'America/Puerto_Rico' 'America/Denver'\n",
      " 'America/Menominee' 'America/Phoenix' 'America/Indiana/Indianapolis'\n",
      " 'America/Boise' 'America/Kentucky/Louisville' 'Pacific/Honolulu'\n",
      " 'America/Indiana/Petersburg' 'America/Nome' 'America/Anchorage'\n",
      " 'America/Indiana/Knox' 'America/Juneau' 'America/Toronto'\n",
      " 'America/Indiana/Winamac' 'America/Indiana/Vincennes'\n",
      " 'America/North_Dakota/New_Salem' 'America/Indiana/Tell_City'\n",
      " 'America/Indiana/Marengo' 'America/Ojinaga']\n",
      "Churn: ['No' 'Yes']\n",
      "Techie: ['No' 'Yes']\n",
      "Port_modem: ['Yes' 'No']\n",
      "Tablet: ['Yes' 'No']\n",
      "Phone: ['Yes' 'No']\n",
      "Multiple: ['No' 'Yes']\n",
      "OnlineSecurity: ['Yes' 'No']\n",
      "OnlineBackup: ['Yes' 'No']\n",
      "DeviceProtection: ['No' 'Yes']\n",
      "TechSupport: ['No' 'Yes']\n",
      "StreamingTV: ['No' 'Yes']\n",
      "StreamingMovies: ['Yes' 'No']\n",
      "PaperlessBilling: ['Yes' 'No']\n"
     ]
    }
   ],
   "source": [
    "# Step 3: Re-express ordinal categorical variables as numerical variables \n",
    "\n",
    "# Get unique values for each ordinal categorical variable\n",
    "## Items 1-8 have ordinal values, but are already numerically encoded, so they will not be included\n",
    "print(\"TimeZone:\",churn_data.TimeZone.unique())\n",
    "print(\"Churn:\",churn_data.Churn.unique())\n",
    "print(\"Techie:\",churn_data.Techie.unique())\n",
    "print(\"Port_modem:\",churn_data.Port_modem.unique())\n",
    "print(\"Tablet:\",churn_data.Tablet.unique())\n",
    "print(\"Phone:\",churn_data.Phone.unique())\n",
    "print(\"Multiple:\",churn_data.Multiple.unique())\n",
    "print(\"OnlineSecurity:\",churn_data.OnlineSecurity.unique())\n",
    "print(\"OnlineBackup:\",churn_data.OnlineBackup.unique())\n",
    "print(\"DeviceProtection:\",churn_data.DeviceProtection.unique())\n",
    "print(\"TechSupport:\",churn_data.TechSupport.unique())\n",
    "print(\"StreamingTV:\",churn_data.StreamingTV.unique())\n",
    "print(\"StreamingMovies:\",churn_data.StreamingMovies.unique())\n",
    "print(\"PaperlessBilling:\",churn_data.PaperlessBilling.unique())"
   ]
  },
  {
   "cell_type": "code",
   "execution_count": 133,
   "id": "b810b186-67ff-4941-8bba-0ea5cca5cd02",
   "metadata": {
    "tags": []
   },
   "outputs": [],
   "source": [
    "# Replicate the variables to prepare for replacing categorical values with numeric ones\n",
    "churn_data['TimeZone_num']=churn_data['TimeZone']\n",
    "churn_data['Churn_num']=churn_data['Churn']\n",
    "churn_data['Techie_num']=churn_data['Techie']\n",
    "churn_data['Port_modem_num']=churn_data['Port_modem']\n",
    "churn_data['Tablet_num']=churn_data['Tablet']\n",
    "churn_data['Phone_num']=churn_data['Phone']\n",
    "churn_data['Multiple_num']=churn_data['Multiple']\n",
    "churn_data['OnlineSecurity_num']=churn_data['OnlineSecurity']\n",
    "churn_data['OnlineBackup_num']=churn_data['OnlineBackup']\n",
    "churn_data['DeviceProtection_num']=churn_data['DeviceProtection']\n",
    "churn_data['TechSupport_num']=churn_data['TechSupport']\n",
    "churn_data['StreamingTV_num']=churn_data['StreamingTV']\n",
    "churn_data['StreamingMovies_num']=churn_data['StreamingMovies']\n",
    "churn_data['PaperlessBilling_num']=churn_data['PaperlessBilling']"
   ]
  },
  {
   "cell_type": "code",
   "execution_count": 134,
   "id": "0363865a-caf3-4555-8adb-bb45f32f9f31",
   "metadata": {
    "tags": []
   },
   "outputs": [],
   "source": [
    "# Create dictionaries for conversion. \n",
    "## *TimeZones are ranked ordinally based on a 1 hour difference relative to Puerto Rico\n",
    "\n",
    "dict_TimeZone = {\"America/Puerto_Rico\": 1, \n",
    "                 \"America/Detroit\": 2,\n",
    "                 \"America/New_York\": 2,\n",
    "                 \"America/Indiana/Indianapolis\": 2, \n",
    "                 \"America/Kentucky/Louisville\": 2, \n",
    "                 \"America/Indiana/Petersburg\": 2, \n",
    "                 \"America/Toronto\": 2, \n",
    "                 \"America/Indiana/Winamac\": 2,\n",
    "                 \"America/Indiana/Vincennes\": 2, \n",
    "                 \"America/Indiana/Marengo\": 2,\n",
    "                 \"America/Chicago\": 3,\n",
    "                 \"America/Menominee\": 3,\n",
    "                 \"America/Indiana/Knox\": 3,\n",
    "                 \"America/North_Dakota/New_Salem\": 3,\n",
    "                 \"America/Indiana/Tell_City\": 3,\n",
    "                 \"America/Denver\": 4,\n",
    "                 \"America/Phoenix\": 4,\n",
    "                 \"America/Boise\": 4,\n",
    "                 \"America/Ojinaga\": 4,\n",
    "                 \"America/Los_Angeles\": 5,\n",
    "                 \"America/Sitka\": 6,\n",
    "                 \"America/Nome\": 6,\n",
    "                 \"America/Anchorage\": 6,\n",
    "                 \"America/Juneau\": 6,\n",
    "                 \"Pacific/Honolulu\": 7}\n",
    "dict_Churn = {\"No\":0, \"Yes\":1}\n",
    "dict_Techie = {\"No\":0, \"Yes\":1}\n",
    "dict_Port_modem = {\"No\":0, \"Yes\":1}\n",
    "dict_Tablet = {\"No\":0, \"Yes\":1}\n",
    "dict_Phone = {\"No\":0, \"Yes\":1}\n",
    "dict_Multiple = {\"No\":0, \"Yes\":1}\n",
    "dict_OnlineSecurity = {\"No\":0, \"Yes\":1}\n",
    "dict_OnlineBackup = {\"No\":0, \"Yes\":1}\n",
    "dict_DeviceProtection = {\"No\":0, \"Yes\":1}\n",
    "dict_TechSupport = {\"No\":0, \"Yes\":1}\n",
    "dict_StreamingTV = {\"No\":0, \"Yes\":1}\n",
    "dict_StreamingMovies = {\"No\":0, \"Yes\":1}\n",
    "dict_PaperlessBilling = {\"No\":0, \"Yes\":1}"
   ]
  },
  {
   "cell_type": "code",
   "execution_count": 135,
   "id": "7d48a093-fcc4-4893-b5f1-7be317e34bd3",
   "metadata": {
    "tags": []
   },
   "outputs": [],
   "source": [
    "# Replace values from dictionaries\n",
    "churn_data['TimeZone_num'].replace(dict_TimeZone, inplace=True)\n",
    "churn_data['Churn_num'].replace(dict_Churn, inplace=True)\n",
    "churn_data['Techie_num'].replace(dict_Techie, inplace=True)\n",
    "churn_data['Port_modem_num'].replace(dict_Port_modem, inplace=True)\n",
    "churn_data['Tablet_num'].replace(dict_Tablet, inplace=True)\n",
    "churn_data['Phone_num'].replace(dict_Phone, inplace=True)\n",
    "churn_data['Multiple_num'].replace(dict_Multiple, inplace=True)\n",
    "churn_data['OnlineSecurity_num'].replace(dict_OnlineSecurity, inplace=True)\n",
    "churn_data['OnlineBackup_num'].replace(dict_OnlineBackup, inplace=True)\n",
    "churn_data['DeviceProtection_num'].replace(dict_DeviceProtection, inplace=True)\n",
    "churn_data['TechSupport_num'].replace(dict_TechSupport, inplace=True)\n",
    "churn_data['StreamingTV_num'].replace(dict_StreamingTV, inplace=True)\n",
    "churn_data['StreamingMovies_num'].replace(dict_StreamingMovies, inplace=True)\n",
    "churn_data['PaperlessBilling_num'].replace(dict_PaperlessBilling, inplace=True)"
   ]
  },
  {
   "cell_type": "code",
   "execution_count": 152,
   "id": "28ad251a-791c-4f25-b650-f05ec2fae2fb",
   "metadata": {
    "tags": []
   },
   "outputs": [],
   "source": [
    "# Step 4: Re-encode nominal categorical variables with label encoding.\n",
    "from sklearn.preprocessing import LabelEncoder\n",
    "\n",
    "# Fit the label encoder to categorical data for Gender and Internet Service\n",
    "label_encoder_gender = LabelEncoder()\n",
    "churn_data['Gender_num'] = label_encoder_gender.fit_transform(churn_data['Gender'])\n",
    "churn_data['Gender_decoded'] = label_encoder_gender.inverse_transform(churn_data['Gender_num'])\n",
    "\n",
    "label_encoder_internet = LabelEncoder()\n",
    "churn_data['InternetService_num'] = label_encoder_gender.fit_transform(churn_data['InternetService'])\n",
    "churn_data['InternetService_decoded'] = label_encoder_gender.inverse_transform(churn_data['InternetService_num'])\n",
    "\n",
    "label_encoder_internet = LabelEncoder()\n",
    "churn_data['Contract_num'] = label_encoder_gender.fit_transform(churn_data['Contract'])\n",
    "churn_data['Contract_decoded'] = label_encoder_gender.inverse_transform(churn_data['Contract_num'])\n",
    "\n",
    "label_encoder_state = LabelEncoder()\n",
    "churn_data['State_num'] = label_encoder_gender.fit_transform(churn_data['State'])\n",
    "churn_data['State_decoded'] = label_encoder_gender.inverse_transform(churn_data['State_num'])\n",
    "\n",
    "label_encoder_area = LabelEncoder()\n",
    "churn_data['Area_num'] = label_encoder_gender.fit_transform(churn_data['Area'])\n",
    "churn_data['Area_decoded'] = label_encoder_gender.inverse_transform(churn_data['Area_num'])\n",
    "\n",
    "label_encoder_marital = LabelEncoder()\n",
    "churn_data['Marital_num'] = label_encoder_gender.fit_transform(churn_data['Marital'])\n",
    "churn_data['Marital_decoded'] = label_encoder_gender.inverse_transform(churn_data['Marital_num'])\n",
    "\n",
    "label_encoder_paymentmethod = LabelEncoder()\n",
    "churn_data['PaymentMethod_num'] = label_encoder_gender.fit_transform(churn_data['PaymentMethod'])\n",
    "churn_data['PaymentMethod_decoded'] = label_encoder_gender.inverse_transform(churn_data['PaymentMethod_num'])"
   ]
  },
  {
   "cell_type": "code",
   "execution_count": 137,
   "id": "98ee1fd0-187e-4d67-9348-c8a5653e9b8d",
   "metadata": {
    "tags": []
   },
   "outputs": [
    {
     "name": "stdout",
     "output_type": "stream",
     "text": [
      "0\n",
      "0\n"
     ]
    }
   ],
   "source": [
    "# Step 5: Identify and treat missing values \n",
    "\n",
    "# Initial inspection of the data shows that only 7,871 out of 10,000 values for InternetService are non-null values\n",
    "# This means there are 2,129 missing values in this column that must be imputed\n",
    "\n",
    "# Imputation will be completed using the mode of 'InternetService', a nominal categorical variable\n",
    "mode_InternetService = churn_data['InternetService'].mode()[0]\n",
    "\n",
    "# Fill all null values in InternetService with the mode\n",
    "churn_data['InternetService'] = churn_data['InternetService'].fillna(mode_InternetService)\n",
    "\n",
    "# Confirm all missing values have been filled by returning the sum of null values in InternetService & InternetService_num\n",
    "print(churn_data['InternetService'].isnull().sum())\n",
    "print(churn_data['InternetService_num'].isnull().sum())"
   ]
  },
  {
   "cell_type": "code",
   "execution_count": 138,
   "id": "71bc9a29-6f69-4122-916b-6d4b67dd4a0b",
   "metadata": {
    "tags": []
   },
   "outputs": [
    {
     "data": {
      "image/png": "[encoded data removed]",
      "text/plain": [
       "<Figure size 1200x1200 with 14 Axes>"
      ]
     },
     "metadata": {},
     "output_type": "display_data"
    }
   ],
   "source": [
    "# Step 6: Identify and treat outliers\n",
    "\n",
    "# Visually show outliers for each quantitative variable on respective box plots\n",
    "# Import seaborn\n",
    "import seaborn as sns\n",
    "\n",
    "fig, axes = plt.subplots(nrows=7, ncols=2, figsize=(12, 12))\n",
    "\n",
    "plt.subplot(7, 2, 1)\n",
    "sns.boxplot(x='Lat', data = churn_data)\n",
    "\n",
    "plt.subplot(7, 2, 2)\n",
    "sns.boxplot(x='Lng', data = churn_data)\n",
    "\n",
    "plt.subplot(7, 2, 3)\n",
    "sns.boxplot(x='Population', data = churn_data)\n",
    "\n",
    "plt.subplot(7, 2, 4)\n",
    "sns.boxplot(x='Children', data = churn_data)\n",
    "\n",
    "plt.subplot(7, 2, 5)\n",
    "sns.boxplot(x='Age', data = churn_data)\n",
    "\n",
    "plt.subplot(7, 2, 6)\n",
    "sns.boxplot(x='Income', data = churn_data)\n",
    "\n",
    "plt.subplot(7, 2, 7)\n",
    "sns.boxplot(x='Outage_sec_perweek', data = churn_data)\n",
    "\n",
    "plt.subplot(7, 2, 8)\n",
    "sns.boxplot(x='Email', data = churn_data)\n",
    "\n",
    "plt.subplot(7, 2, 9)\n",
    "sns.boxplot(x='Contacts', data = churn_data)\n",
    "\n",
    "plt.subplot(7, 2, 10)\n",
    "sns.boxplot(x='Yearly_equip_failure', data = churn_data)\n",
    "\n",
    "plt.subplot(7, 2, 11)\n",
    "sns.boxplot(x='Tenure', data = churn_data)\n",
    "\n",
    "plt.subplot(7, 2, 12)\n",
    "sns.boxplot(x='MonthlyCharge', data = churn_data)\n",
    "\n",
    "plt.subplot(7, 2, 13)\n",
    "sns.boxplot(x='Bandwidth_GB_Year', data = churn_data)\n",
    "\n",
    "plt.tight_layout()"
   ]
  },
  {
   "cell_type": "markdown",
   "id": "6c01a1ad-3e62-4878-8a20-51c688a4ce6d",
   "metadata": {},
   "source": [
    "After evaluation of each count and range of outliers for the variables, it was determined that none of the outliers should be removed, as each outlier is within an acceptable or justifiable range, implying that their input is valid and was not cause of mistake or human error. Below is the justification for retention of the data set’s outliers: \n",
    "* Lat & Lng: Customers are from all over the country, so these values may be accurate as customers are more densely populated in some areas. There are no latitudes or longitudes off on their own in the boxplot so there is no cause to question these values.\n",
    "* Population: Customers are from all over the country, so 100,000 is a very reasonable population number when many cities in the US have over 1,000,000 residents.\n",
    "* Children: Customers are from all over the country, so 100,000 is a very reasonable population number when many cities in the US have over 1,000,000 residents.\n",
    "* Income: The maximum value is just over $250k, which is a reasonable income amount.\n",
    "* Outage_sec_perweek: There are many outliers here which makes sense—there are likely some customers who experience little to no outages in the average week, making up the lower range of outliers. On the other hand, if one customer is experiencing an outage, those in a certain radius of them would likely also experience an outage, explaining the high number of upper-range outliers here too. This explains the wide range of outlier values here too.\n",
    "* Email: The upper and lower range of outliers here does not present anything out of the question. \n",
    "* Contacts: The upper and lower range of outliers here does not present anything out of the question. \n",
    "* Yearly_equip_failure: The maximum number of times someone’s equipment failed this year is 6, which is unfortunate, but possible."
   ]
  },
  {
   "cell_type": "markdown",
   "id": "147fdd18-f8e7-4494-8f52-1da66d9fa682",
   "metadata": {},
   "source": [
    "**C4. Cleaned data set**\n",
    "<br>The prepared data set is downloadable via the code below."
   ]
  },
  {
   "cell_type": "code",
   "execution_count": 139,
   "id": "a7e9aeea-3ec9-41ef-a0cf-400c7a158589",
   "metadata": {
    "tags": []
   },
   "outputs": [],
   "source": [
    "churn_data.to_csv(r\"C:/Users/psuik/Desktop/WGU/D209/churn_clean_D209p1.csv\")"
   ]
  },
  {
   "cell_type": "markdown",
   "id": "eb6294e0-40e9-4aba-8c9d-a1ff07957ed6",
   "metadata": {},
   "source": [
    "### Part IV: Analysis\n",
    "\n",
    "**D1. Splitting the data**\n",
    "<br> Before the data is split, a new data frame containing only the predictor variables relevant to this model is created. "
   ]
  },
  {
   "cell_type": "code",
   "execution_count": 140,
   "id": "69251fc9-1745-4fec-bf0f-b83b1f5d3fda",
   "metadata": {
    "tags": []
   },
   "outputs": [
    {
     "data": {
      "text/html": [
       "<div>\n",
       "<style scoped>\n",
       "    .dataframe tbody tr th:only-of-type {\n",
       "        vertical-align: middle;\n",
       "    }\n",
       "\n",
       "    .dataframe tbody tr th {\n",
       "        vertical-align: top;\n",
       "    }\n",
       "\n",
       "    .dataframe thead th {\n",
       "        text-align: right;\n",
       "    }\n",
       "</style>\n",
       "<table border=\"1\" class=\"dataframe\">\n",
       "  <thead>\n",
       "    <tr style=\"text-align: right;\">\n",
       "      <th></th>\n",
       "      <th>Churn_num</th>\n",
       "      <th>Techie_num</th>\n",
       "      <th>Port_modem_num</th>\n",
       "      <th>Tablet_num</th>\n",
       "      <th>Phone_num</th>\n",
       "      <th>Multiple_num</th>\n",
       "      <th>OnlineSecurity_num</th>\n",
       "      <th>OnlineBackup_num</th>\n",
       "      <th>DeviceProtection_num</th>\n",
       "      <th>TechSupport_num</th>\n",
       "      <th>StreamingTV_num</th>\n",
       "      <th>StreamingMovies_num</th>\n",
       "      <th>PaperlessBilling_num</th>\n",
       "    </tr>\n",
       "  </thead>\n",
       "  <tbody>\n",
       "    <tr>\n",
       "      <th>0</th>\n",
       "      <td>0</td>\n",
       "      <td>0</td>\n",
       "      <td>1</td>\n",
       "      <td>1</td>\n",
       "      <td>1</td>\n",
       "      <td>0</td>\n",
       "      <td>1</td>\n",
       "      <td>1</td>\n",
       "      <td>0</td>\n",
       "      <td>0</td>\n",
       "      <td>0</td>\n",
       "      <td>1</td>\n",
       "      <td>1</td>\n",
       "    </tr>\n",
       "    <tr>\n",
       "      <th>1</th>\n",
       "      <td>1</td>\n",
       "      <td>1</td>\n",
       "      <td>0</td>\n",
       "      <td>1</td>\n",
       "      <td>1</td>\n",
       "      <td>1</td>\n",
       "      <td>1</td>\n",
       "      <td>0</td>\n",
       "      <td>0</td>\n",
       "      <td>0</td>\n",
       "      <td>1</td>\n",
       "      <td>1</td>\n",
       "      <td>1</td>\n",
       "    </tr>\n",
       "    <tr>\n",
       "      <th>2</th>\n",
       "      <td>0</td>\n",
       "      <td>1</td>\n",
       "      <td>1</td>\n",
       "      <td>0</td>\n",
       "      <td>1</td>\n",
       "      <td>1</td>\n",
       "      <td>0</td>\n",
       "      <td>0</td>\n",
       "      <td>0</td>\n",
       "      <td>0</td>\n",
       "      <td>0</td>\n",
       "      <td>1</td>\n",
       "      <td>1</td>\n",
       "    </tr>\n",
       "    <tr>\n",
       "      <th>3</th>\n",
       "      <td>0</td>\n",
       "      <td>1</td>\n",
       "      <td>0</td>\n",
       "      <td>0</td>\n",
       "      <td>1</td>\n",
       "      <td>0</td>\n",
       "      <td>1</td>\n",
       "      <td>0</td>\n",
       "      <td>0</td>\n",
       "      <td>0</td>\n",
       "      <td>1</td>\n",
       "      <td>0</td>\n",
       "      <td>1</td>\n",
       "    </tr>\n",
       "    <tr>\n",
       "      <th>4</th>\n",
       "      <td>1</td>\n",
       "      <td>0</td>\n",
       "      <td>1</td>\n",
       "      <td>0</td>\n",
       "      <td>0</td>\n",
       "      <td>0</td>\n",
       "      <td>0</td>\n",
       "      <td>0</td>\n",
       "      <td>0</td>\n",
       "      <td>1</td>\n",
       "      <td>1</td>\n",
       "      <td>0</td>\n",
       "      <td>0</td>\n",
       "    </tr>\n",
       "  </tbody>\n",
       "</table>\n",
       "</div>"
      ],
      "text/plain": [
       "   Churn_num  Techie_num  Port_modem_num  Tablet_num  Phone_num  Multiple_num  \\\n",
       "0          0           0               1           1          1             0   \n",
       "1          1           1               0           1          1             1   \n",
       "2          0           1               1           0          1             1   \n",
       "3          0           1               0           0          1             0   \n",
       "4          1           0               1           0          0             0   \n",
       "\n",
       "   OnlineSecurity_num  OnlineBackup_num  DeviceProtection_num  \\\n",
       "0                   1                 1                     0   \n",
       "1                   1                 0                     0   \n",
       "2                   0                 0                     0   \n",
       "3                   1                 0                     0   \n",
       "4                   0                 0                     0   \n",
       "\n",
       "   TechSupport_num  StreamingTV_num  StreamingMovies_num  PaperlessBilling_num  \n",
       "0                0                0                    1                     1  \n",
       "1                0                1                    1                     1  \n",
       "2                0                0                    1                     1  \n",
       "3                0                1                    0                     1  \n",
       "4                1                1                    0                     0  "
      ]
     },
     "execution_count": 140,
     "metadata": {},
     "output_type": "execute_result"
    }
   ],
   "source": [
    "# Create new dataframe including only Churn and each numerically encoded service variable\n",
    "df = churn_data[['Churn_num', 'Techie_num', 'Port_modem_num', 'Tablet_num', 'Phone_num', 'Multiple_num',\n",
    "                'OnlineSecurity_num', 'OnlineBackup_num', 'DeviceProtection_num', 'TechSupport_num',\n",
    "                'StreamingTV_num', 'StreamingMovies_num', 'PaperlessBilling_num']].copy()\n",
    "df.head()"
   ]
  },
  {
   "cell_type": "code",
   "execution_count": 141,
   "id": "f666f48e-763a-41f8-aa56-90b5d4bdf5cb",
   "metadata": {
    "tags": []
   },
   "outputs": [],
   "source": [
    "# X and y are defined from this newly created reduced dataframe, df: \n",
    "X = df[['Techie_num', 'Port_modem_num', 'Tablet_num', 'Phone_num', 'Multiple_num',\n",
    "                'OnlineSecurity_num', 'OnlineBackup_num', 'DeviceProtection_num', 'TechSupport_num',\n",
    "                'StreamingTV_num', 'StreamingMovies_num', 'PaperlessBilling_num']]\n",
    "y = df[['Churn_num']]\n",
    "y = y.values.ravel()"
   ]
  },
  {
   "cell_type": "markdown",
   "id": "def23db6-0f9b-486b-bd3a-57e99ea27a57",
   "metadata": {},
   "source": [
    "Before X and y are split, a check for multicollinearity among the predictor variables will be performed by using a correlation matrix (Shukla, 2023)."
   ]
  },
  {
   "cell_type": "code",
   "execution_count": 142,
   "id": "4c9af239-3033-4ff0-80ca-f5061f07c282",
   "metadata": {
    "tags": []
   },
   "outputs": [
    {
     "data": {
      "text/html": [
       "<div>\n",
       "<style scoped>\n",
       "    .dataframe tbody tr th:only-of-type {\n",
       "        vertical-align: middle;\n",
       "    }\n",
       "\n",
       "    .dataframe tbody tr th {\n",
       "        vertical-align: top;\n",
       "    }\n",
       "\n",
       "    .dataframe thead th {\n",
       "        text-align: right;\n",
       "    }\n",
       "</style>\n",
       "<table border=\"1\" class=\"dataframe\">\n",
       "  <thead>\n",
       "    <tr style=\"text-align: right;\">\n",
       "      <th></th>\n",
       "      <th>Techie_num</th>\n",
       "      <th>Port_modem_num</th>\n",
       "      <th>Tablet_num</th>\n",
       "      <th>Phone_num</th>\n",
       "      <th>Multiple_num</th>\n",
       "      <th>OnlineSecurity_num</th>\n",
       "      <th>OnlineBackup_num</th>\n",
       "      <th>DeviceProtection_num</th>\n",
       "      <th>TechSupport_num</th>\n",
       "      <th>StreamingTV_num</th>\n",
       "      <th>StreamingMovies_num</th>\n",
       "      <th>PaperlessBilling_num</th>\n",
       "    </tr>\n",
       "  </thead>\n",
       "  <tbody>\n",
       "    <tr>\n",
       "      <th>Techie_num</th>\n",
       "      <td>1.000000</td>\n",
       "      <td>-0.014256</td>\n",
       "      <td>0.010992</td>\n",
       "      <td>-0.003081</td>\n",
       "      <td>-0.004661</td>\n",
       "      <td>-0.015300</td>\n",
       "      <td>0.004540</td>\n",
       "      <td>0.021346</td>\n",
       "      <td>0.007391</td>\n",
       "      <td>0.003436</td>\n",
       "      <td>-0.004298</td>\n",
       "      <td>0.001311</td>\n",
       "    </tr>\n",
       "    <tr>\n",
       "      <th>Port_modem_num</th>\n",
       "      <td>-0.014256</td>\n",
       "      <td>1.000000</td>\n",
       "      <td>0.000940</td>\n",
       "      <td>0.002072</td>\n",
       "      <td>-0.003014</td>\n",
       "      <td>0.003074</td>\n",
       "      <td>-0.002092</td>\n",
       "      <td>-0.004110</td>\n",
       "      <td>0.006304</td>\n",
       "      <td>-0.000272</td>\n",
       "      <td>0.005674</td>\n",
       "      <td>0.004327</td>\n",
       "    </tr>\n",
       "    <tr>\n",
       "      <th>Tablet_num</th>\n",
       "      <td>0.010992</td>\n",
       "      <td>0.000940</td>\n",
       "      <td>1.000000</td>\n",
       "      <td>0.024825</td>\n",
       "      <td>-0.019828</td>\n",
       "      <td>0.008849</td>\n",
       "      <td>-0.003400</td>\n",
       "      <td>-0.005657</td>\n",
       "      <td>-0.010658</td>\n",
       "      <td>0.018233</td>\n",
       "      <td>0.020710</td>\n",
       "      <td>0.018502</td>\n",
       "    </tr>\n",
       "    <tr>\n",
       "      <th>Phone_num</th>\n",
       "      <td>-0.003081</td>\n",
       "      <td>0.002072</td>\n",
       "      <td>0.024825</td>\n",
       "      <td>1.000000</td>\n",
       "      <td>0.003398</td>\n",
       "      <td>0.001177</td>\n",
       "      <td>-0.003172</td>\n",
       "      <td>-0.030339</td>\n",
       "      <td>-0.005060</td>\n",
       "      <td>-0.012464</td>\n",
       "      <td>-0.002588</td>\n",
       "      <td>-0.009228</td>\n",
       "    </tr>\n",
       "    <tr>\n",
       "      <th>Multiple_num</th>\n",
       "      <td>-0.004661</td>\n",
       "      <td>-0.003014</td>\n",
       "      <td>-0.019828</td>\n",
       "      <td>0.003398</td>\n",
       "      <td>1.000000</td>\n",
       "      <td>-0.002436</td>\n",
       "      <td>-0.002566</td>\n",
       "      <td>0.003207</td>\n",
       "      <td>-0.010360</td>\n",
       "      <td>0.003097</td>\n",
       "      <td>0.004691</td>\n",
       "      <td>-0.004657</td>\n",
       "    </tr>\n",
       "    <tr>\n",
       "      <th>OnlineSecurity_num</th>\n",
       "      <td>-0.015300</td>\n",
       "      <td>0.003074</td>\n",
       "      <td>0.008849</td>\n",
       "      <td>0.001177</td>\n",
       "      <td>-0.002436</td>\n",
       "      <td>1.000000</td>\n",
       "      <td>0.010338</td>\n",
       "      <td>0.012852</td>\n",
       "      <td>0.010774</td>\n",
       "      <td>0.001415</td>\n",
       "      <td>0.010575</td>\n",
       "      <td>-0.001019</td>\n",
       "    </tr>\n",
       "    <tr>\n",
       "      <th>OnlineBackup_num</th>\n",
       "      <td>0.004540</td>\n",
       "      <td>-0.002092</td>\n",
       "      <td>-0.003400</td>\n",
       "      <td>-0.003172</td>\n",
       "      <td>-0.002566</td>\n",
       "      <td>0.010338</td>\n",
       "      <td>1.000000</td>\n",
       "      <td>0.009991</td>\n",
       "      <td>-0.002802</td>\n",
       "      <td>-0.008043</td>\n",
       "      <td>0.001434</td>\n",
       "      <td>0.010034</td>\n",
       "    </tr>\n",
       "    <tr>\n",
       "      <th>DeviceProtection_num</th>\n",
       "      <td>0.021346</td>\n",
       "      <td>-0.004110</td>\n",
       "      <td>-0.005657</td>\n",
       "      <td>-0.030339</td>\n",
       "      <td>0.003207</td>\n",
       "      <td>0.012852</td>\n",
       "      <td>0.009991</td>\n",
       "      <td>1.000000</td>\n",
       "      <td>-0.004475</td>\n",
       "      <td>0.002878</td>\n",
       "      <td>0.019450</td>\n",
       "      <td>0.013166</td>\n",
       "    </tr>\n",
       "    <tr>\n",
       "      <th>TechSupport_num</th>\n",
       "      <td>0.007391</td>\n",
       "      <td>0.006304</td>\n",
       "      <td>-0.010658</td>\n",
       "      <td>-0.005060</td>\n",
       "      <td>-0.010360</td>\n",
       "      <td>0.010774</td>\n",
       "      <td>-0.002802</td>\n",
       "      <td>-0.004475</td>\n",
       "      <td>1.000000</td>\n",
       "      <td>-0.003047</td>\n",
       "      <td>-0.013533</td>\n",
       "      <td>0.000944</td>\n",
       "    </tr>\n",
       "    <tr>\n",
       "      <th>StreamingTV_num</th>\n",
       "      <td>0.003436</td>\n",
       "      <td>-0.000272</td>\n",
       "      <td>0.018233</td>\n",
       "      <td>-0.012464</td>\n",
       "      <td>0.003097</td>\n",
       "      <td>0.001415</td>\n",
       "      <td>-0.008043</td>\n",
       "      <td>0.002878</td>\n",
       "      <td>-0.003047</td>\n",
       "      <td>1.000000</td>\n",
       "      <td>-0.010516</td>\n",
       "      <td>-0.016353</td>\n",
       "    </tr>\n",
       "    <tr>\n",
       "      <th>StreamingMovies_num</th>\n",
       "      <td>-0.004298</td>\n",
       "      <td>0.005674</td>\n",
       "      <td>0.020710</td>\n",
       "      <td>-0.002588</td>\n",
       "      <td>0.004691</td>\n",
       "      <td>0.010575</td>\n",
       "      <td>0.001434</td>\n",
       "      <td>0.019450</td>\n",
       "      <td>-0.013533</td>\n",
       "      <td>-0.010516</td>\n",
       "      <td>1.000000</td>\n",
       "      <td>0.000692</td>\n",
       "    </tr>\n",
       "    <tr>\n",
       "      <th>PaperlessBilling_num</th>\n",
       "      <td>0.001311</td>\n",
       "      <td>0.004327</td>\n",
       "      <td>0.018502</td>\n",
       "      <td>-0.009228</td>\n",
       "      <td>-0.004657</td>\n",
       "      <td>-0.001019</td>\n",
       "      <td>0.010034</td>\n",
       "      <td>0.013166</td>\n",
       "      <td>0.000944</td>\n",
       "      <td>-0.016353</td>\n",
       "      <td>0.000692</td>\n",
       "      <td>1.000000</td>\n",
       "    </tr>\n",
       "  </tbody>\n",
       "</table>\n",
       "</div>"
      ],
      "text/plain": [
       "                      Techie_num  Port_modem_num  Tablet_num  Phone_num  \\\n",
       "Techie_num              1.000000       -0.014256    0.010992  -0.003081   \n",
       "Port_modem_num         -0.014256        1.000000    0.000940   0.002072   \n",
       "Tablet_num              0.010992        0.000940    1.000000   0.024825   \n",
       "Phone_num              -0.003081        0.002072    0.024825   1.000000   \n",
       "Multiple_num           -0.004661       -0.003014   -0.019828   0.003398   \n",
       "OnlineSecurity_num     -0.015300        0.003074    0.008849   0.001177   \n",
       "OnlineBackup_num        0.004540       -0.002092   -0.003400  -0.003172   \n",
       "DeviceProtection_num    0.021346       -0.004110   -0.005657  -0.030339   \n",
       "TechSupport_num         0.007391        0.006304   -0.010658  -0.005060   \n",
       "StreamingTV_num         0.003436       -0.000272    0.018233  -0.012464   \n",
       "StreamingMovies_num    -0.004298        0.005674    0.020710  -0.002588   \n",
       "PaperlessBilling_num    0.001311        0.004327    0.018502  -0.009228   \n",
       "\n",
       "                      Multiple_num  OnlineSecurity_num  OnlineBackup_num  \\\n",
       "Techie_num               -0.004661           -0.015300          0.004540   \n",
       "Port_modem_num           -0.003014            0.003074         -0.002092   \n",
       "Tablet_num               -0.019828            0.008849         -0.003400   \n",
       "Phone_num                 0.003398            0.001177         -0.003172   \n",
       "Multiple_num              1.000000           -0.002436         -0.002566   \n",
       "OnlineSecurity_num       -0.002436            1.000000          0.010338   \n",
       "OnlineBackup_num         -0.002566            0.010338          1.000000   \n",
       "DeviceProtection_num      0.003207            0.012852          0.009991   \n",
       "TechSupport_num          -0.010360            0.010774         -0.002802   \n",
       "StreamingTV_num           0.003097            0.001415         -0.008043   \n",
       "StreamingMovies_num       0.004691            0.010575          0.001434   \n",
       "PaperlessBilling_num     -0.004657           -0.001019          0.010034   \n",
       "\n",
       "                      DeviceProtection_num  TechSupport_num  StreamingTV_num  \\\n",
       "Techie_num                        0.021346         0.007391         0.003436   \n",
       "Port_modem_num                   -0.004110         0.006304        -0.000272   \n",
       "Tablet_num                       -0.005657        -0.010658         0.018233   \n",
       "Phone_num                        -0.030339        -0.005060        -0.012464   \n",
       "Multiple_num                      0.003207        -0.010360         0.003097   \n",
       "OnlineSecurity_num                0.012852         0.010774         0.001415   \n",
       "OnlineBackup_num                  0.009991        -0.002802        -0.008043   \n",
       "DeviceProtection_num              1.000000        -0.004475         0.002878   \n",
       "TechSupport_num                  -0.004475         1.000000        -0.003047   \n",
       "StreamingTV_num                   0.002878        -0.003047         1.000000   \n",
       "StreamingMovies_num               0.019450        -0.013533        -0.010516   \n",
       "PaperlessBilling_num              0.013166         0.000944        -0.016353   \n",
       "\n",
       "                      StreamingMovies_num  PaperlessBilling_num  \n",
       "Techie_num                      -0.004298              0.001311  \n",
       "Port_modem_num                   0.005674              0.004327  \n",
       "Tablet_num                       0.020710              0.018502  \n",
       "Phone_num                       -0.002588             -0.009228  \n",
       "Multiple_num                     0.004691             -0.004657  \n",
       "OnlineSecurity_num               0.010575             -0.001019  \n",
       "OnlineBackup_num                 0.001434              0.010034  \n",
       "DeviceProtection_num             0.019450              0.013166  \n",
       "TechSupport_num                 -0.013533              0.000944  \n",
       "StreamingTV_num                 -0.010516             -0.016353  \n",
       "StreamingMovies_num              1.000000              0.000692  \n",
       "PaperlessBilling_num             0.000692              1.000000  "
      ]
     },
     "execution_count": 142,
     "metadata": {},
     "output_type": "execute_result"
    }
   ],
   "source": [
    "X.corr()"
   ]
  },
  {
   "cell_type": "markdown",
   "id": "77db08d8-ad6d-4599-ac94-effaabe2b30d",
   "metadata": {
    "tags": []
   },
   "source": [
    "Upon viewing the correlation matrix created above it can be concluded that none of the predictor variables have a high correlation score. Because of this, all variables will be retained for creation of the model."
   ]
  },
  {
   "cell_type": "code",
   "execution_count": 143,
   "id": "7f40808e-d317-4aaf-93d2-e623481d57a6",
   "metadata": {
    "tags": []
   },
   "outputs": [],
   "source": [
    "# Splitting the data\n",
    "\n",
    "# First: Import train_test_split from scikit-Learn\n",
    "from sklearn.model_selection import train_test_split\n",
    "\n",
    "#DC>ML w sklearn > Measuring model performance\n",
    "# A standard 80/20 split will be used, placing 80% of data into the training set, and 20% into the test set\n",
    "    # This is denoted by test_size=0.2, specifying this proportion\n",
    "# The split will also be stratified-- it will distribute the labels in the train and test sets proportional to the original data\n",
    "    # This is denoted by stratify=y\n",
    "# The random_state kwarg sets a seed for the random number generator\n",
    "    # Using this same seed later allows for this same split to be reproduced later\n",
    "X_train, X_test, y_train, y_test = train_test_split(X, y, test_size=0.2, stratify=y, random_state=125)"
   ]
  },
  {
   "cell_type": "code",
   "execution_count": 151,
   "id": "e1a1467c-a4de-4176-ab82-58351d7eedc3",
   "metadata": {
    "tags": []
   },
   "outputs": [],
   "source": [
    "# The split files for download are obtained by executing the code below: \n",
    "X_train.to_csv(r\"C:/Users/psuik/Desktop/WGU/D209/X_train_D209p1.csv\") \n",
    "X_test.to_csv(r\"C:/Users/psuik/Desktop/WGU/D209/X_test_D209p1.csv\") \n",
    "\n",
    "y_train_df = pd.DataFrame(y_train, columns=[\"Churn_num\"])\n",
    "y_test_df = pd.DataFrame(y_train, columns=[\"Churn_num\"])\n",
    "\n",
    "y_train_df.to_csv(r\"C:/Users/psuik/Desktop/WGU/D209/y_train_D209p1.csv\") \n",
    "y_test_df.to_csv(r\"C:/Users/psuik/Desktop/WGU/D209/y_test_D209p1.csv\") "
   ]
  },
  {
   "cell_type": "markdown",
   "id": "75a3fb97-7b02-4f4e-a50e-91b5e784ab88",
   "metadata": {},
   "source": [
    "**D2. Output and intermediate calculations**\n",
    "<br>The data has now been analyzed for multicollinearity among all predictor variables through use of a correlation matrix. Upon analyzing the values in the matrix, no variables are found to be highly correlated with one another. Because of this, all predictor variables have been retained in this step and will be included in the model. The code used to create this matrix is written in section D1 above."
   ]
  },
  {
   "cell_type": "markdown",
   "id": "70884a38-1e82-4b27-a8b8-dba0d1ee522f",
   "metadata": {},
   "source": [
    "**D3. Code execution**\n",
    "<br> Now that X is defined with all predictor variables and y is defined using the target variable, and the predictor variables have been analyzed for multicollinearity, the Bernoulli Naive Bayes model will be built using the code below.\n",
    "\n",
    "scikit-learn is used to build machine learning models implemented as Python classes (Bowne-Anderson, n.d.). These classes implement the appropriate algorithms for training a model (with a training set), and predicting labels for unseen data found in the test set."
   ]
  },
  {
   "cell_type": "code",
   "execution_count": 154,
   "id": "5f9f8130-822f-4acc-8706-a7a044b39cf3",
   "metadata": {
    "tags": []
   },
   "outputs": [
    {
     "name": "stdout",
     "output_type": "stream",
     "text": [
      "Actual value:  [0 0 0 ... 0 1 1]\n",
      "Predicted value:  [0 0 0 ... 0 1 1]\n"
     ]
    }
   ],
   "source": [
    "# Build the model (Awan, 2023)\n",
    "\n",
    "# Import Bernoulli Naive Bayes (BernoulliNB) from scikit-learn\n",
    "from sklearn.naive_bayes import BernoulliNB\n",
    "\n",
    "# Instantiate the Bernoulli Naive Bayes classifier \n",
    "model = BernoulliNB()\n",
    "\n",
    "# Fit the model (a.k.a. train the model) using the training data obtained from using the train_test_split() function previously\n",
    "model.fit(X_train, y_train)\n",
    "\n",
    "# Predict the values of unlabeled data using the test set as input\n",
    "y_pred = model.predict(X_test)\n",
    "\n",
    "# Print the actual y values from the test set and the predicted values based on inputting the test values for X\n",
    "print(\"Actual value: \", y_test)\n",
    "print(\"Predicted value: \", predicted)"
   ]
  },
  {
   "cell_type": "markdown",
   "id": "ad919166-ab5d-4b50-b660-2b1f8e022a01",
   "metadata": {},
   "source": [
    "### Part V: Data Summary and Implications\n",
    "\n",
    "**E1. Accuracy and AUC**\n",
    "<br>The accuracy of the model is defined by the fraction of correct predictions it makes (Bowne-Anderson, n.d.). In other words, it is the number of correct predictions divided by the total number of data points. Seeing as though the purpose of building a model is to predict labels for unseen data, the accuracy score of this model will be calculated using the test data set previously created using the .score() function."
   ]
  },
  {
   "cell_type": "code",
   "execution_count": 155,
   "id": "463947e0-7af7-457a-9a3f-c67afda01d06",
   "metadata": {
    "tags": []
   },
   "outputs": [
    {
     "name": "stdout",
     "output_type": "stream",
     "text": [
      "Test set accuracy:  0.762\n"
     ]
    }
   ],
   "source": [
    "print(\"Test set accuracy: \", model.score(X_test, y_test))"
   ]
  },
  {
   "cell_type": "markdown",
   "id": "c3bf0b4e-97ff-482d-8184-62b3bc03e3a8",
   "metadata": {},
   "source": [
    "A test set accuracy of 0.762 indicates that the model makes correct predictions on 76.2% of unseen data. This is confirmed visually through creation of a confusion matrix, below."
   ]
  },
  {
   "cell_type": "code",
   "execution_count": 156,
   "id": "71d7f8f5-3384-43e8-9ed8-d12e9b335b32",
   "metadata": {
    "tags": []
   },
   "outputs": [
    {
     "name": "stdout",
     "output_type": "stream",
     "text": [
      "[[1363  107]\n",
      " [ 369  161]]\n"
     ]
    }
   ],
   "source": [
    "# (Bowne-Anderson, n.d.)\n",
    "\n",
    "from sklearn.metrics import confusion_matrix\n",
    "print(confusion_matrix(y_test, y_pred))"
   ]
  },
  {
   "cell_type": "markdown",
   "id": "05bf0767-eff1-453c-95b2-e3bbf4d1464d",
   "metadata": {},
   "source": [
    "The top left number in the matrix shows the number true positives (TP), which in this case is the number of customers the model correctly predicts will not churn (TP = 1,363).\n",
    "\n",
    "The bottom right number shows the number of true negatives (TN), which is the number of customers the model correcly predicts *will* churn (TN = 161).\n",
    "\n",
    "*TP + TN = x*\n",
    "<br>1,363 + 161 = 1,524\n",
    "\n",
    "*x / total observations = accuracy*\n",
    "<br>1,524 / 2,000 = 0.762\n",
    "\n",
    "This calculation returns 0.762, confirming the accuracy score calculated above."
   ]
  },
  {
   "cell_type": "markdown",
   "id": "c38e1c4f-abc0-4b9e-838b-a29c74494e3c",
   "metadata": {},
   "source": [
    "Another measure of the model is found by calculating the area under the curve (AUC), where the curve is the receiver operator characteristic (ROC) curve. The ROC curve is calculated using the code below, with an explanation following it."
   ]
  },
  {
   "cell_type": "code",
   "execution_count": 157,
   "id": "fe64ac9a-ffed-4183-a658-48fd9d998cba",
   "metadata": {
    "tags": []
   },
   "outputs": [
    {
     "data": {
      "image/png": "[encoded data removed]",
      "text/plain": [
       "<Figure size 640x480 with 1 Axes>"
      ]
     },
     "metadata": {},
     "output_type": "display_data"
    },
    {
     "data": {
      "text/plain": [
       "array([0.04298773, 0.19979382, 0.12000021, ..., 0.0438026 , 0.50082517,\n",
       "       0.54016406])"
      ]
     },
     "execution_count": 157,
     "metadata": {},
     "output_type": "execute_result"
    }
   ],
   "source": [
    "# (Bowne-Anderson, n.d.)\n",
    "from sklearn.metrics import roc_curve\n",
    "y_pred = model.predict_proba(X_test)[:,1]\n",
    "fpr, tpr, thresholds = roc_curve(y_test, y_pred)\n",
    "plt.plot([0,1],[0,1])\n",
    "plt.plot(fpr, tpr)\n",
    "plt.xlabel('False Positive Rate')\n",
    "plt.ylabel('True Positive Rate')\n",
    "plt.title('ROC Curve - Bernoulli NB')\n",
    "plt.show()\n",
    "\n",
    "model.predict_proba(X_test)[:,1]"
   ]
  },
  {
   "cell_type": "markdown",
   "id": "c055b3cd-51f0-49df-b53c-b61f4de66315",
   "metadata": {},
   "source": [
    "When the threshold is 0, the model outputs 1 for all data points, and the true positive (TP) rate is equal to the false positive (FP) rate, which is equal to 1 (TP = FP = 1). Alternatively, when threshold is set to 0, the model predicts 0 for all data points, and TP = FP = 0. These points are reflected by the blue line on the plot, representing the reference line for the ROC curve.\n",
    "\n",
    "The ROC curve is represented in orange above. This curve represents the points obtained by testing all possible threshold values between 0 and 1 (Bowne-Anderson, n.d.). Although not realistic in practice, theoretically the best possible outcome of an ROC curve is for one of its points to reach a TP rate of 1.0, and a FP rate of 0.0 -- reaching the top left corner of the plot. The area under such a curve would be 1.0, the maximum AUC. This would indicate that the model's ability to distinguish between classes is perfect. An AUC value below 1.0 indicates that the model is prone to some errors when distinguising between classes. The closer the AUC value is to 1.0, the better the model's ability to distinguish between classes. To evaluate the AUC of the model created in this report, the code below is used."
   ]
  },
  {
   "cell_type": "code",
   "execution_count": 158,
   "id": "e88f5d23-a7fa-4f7e-adbc-6a92acb3a05e",
   "metadata": {
    "tags": []
   },
   "outputs": [
    {
     "name": "stdout",
     "output_type": "stream",
     "text": [
      "AUC: 0.7599582852008728\n"
     ]
    }
   ],
   "source": [
    "# (Bowne-Anderson, n.d.)\n",
    "from sklearn.metrics import roc_auc_score\n",
    "# Instantiate classifier, split, fit, predict\n",
    "y_pred_prob = model.predict_proba(X_test)[:,1]\n",
    "print(\"AUC:\", roc_auc_score(y_test, y_pred_prob))"
   ]
  },
  {
   "cell_type": "markdown",
   "id": "0f2d1da3-7382-4390-a6d9-2dca4317c9c5",
   "metadata": {},
   "source": [
    "The AUC for this model rounds to 0.760. On a scale of 0 to 1, a score of 0.760 indicates that this model does decently well at classifying values of unseen data. This value can be compared to an AUC of 0.5, which would indicate that the classifier is not working (Bhandari, 2024). This curve is represented by the blue reference line on the plot. "
   ]
  },
  {
   "cell_type": "markdown",
   "id": "a5adfa62-57d5-4c3f-b73a-9ffd5382a3fc",
   "metadata": {},
   "source": [
    "**E2. Results and implications**\n",
    "<br>Both the resulting accuracy score and AUC value calculated for this Bernoulli Naive Bayes model (0.762 and 0.760, respectively) indicate that this model is a good predictor of churn when considering each of these values on a scale of 0 to 1, with 1 being a perfect model. Returning to the question posed in section A1 -- **Can churn probability be predicted by a customer’s chosen services (i.e. enrolling in paperless billing, subscribing to TV streaming, etc.)?** -- the resulting answer is **yes, churn probability can be predicted by a customer's chosen services.** \n",
    "\n",
    "Though the accuracy score and AUC values calculated here imply that the model is not perfect, it is practically impossible to create a perfect model in a real-world scenario such as this. On the other hand, both of these metrics can be compared to a baseline value of 0.5, a value that for either of these metrics would mean the model has a 50-50 chance of making a correct prediction. A value of 0.5 for either metric would mean that the model is no better than random chance, thus the model would be insufficient. Seeing as though the metrics calculated for this model are above this baseline, it can be concluded that this model is sufficient in predicting churn for the telecommunication company's customers."
   ]
  },
  {
   "cell_type": "markdown",
   "id": "08174bb3-640f-4044-8bee-86a7e552c275",
   "metadata": {},
   "source": [
    "**E3. Limitation**\n",
    "<br>The limitation of this model directly relates to the main assumption made of Naive Bayes models-- the assumption that all predictor variables are completely independent of each other. In practice, it is nearly impossible for this to hold true. Although the correlation matrix created in section D1 of this report shows *low* correlation between all predictor variables, none of these values are *zero*. Since this violates the assumption of the model, results and implications of this model cannot be relied upon with 100% certainty."
   ]
  },
  {
   "cell_type": "markdown",
   "id": "50a4e18f-14e4-4ec7-824e-440b011de475",
   "metadata": {},
   "source": [
    "**E4. Course of action**\n",
    "<br>Based on the results of this analysis, it is recommended that the model created here be adopted by the telecommunications company in predicting churn rates based on customers' chosen services. While this model is adequate at predicting churn rates, there is, however, room for improvement should the company decide they would like to increase the accuracy of predictions made by this model. This could be accomplished by the inclusion of different predictor variables to achieve increased model performance. As it stands, though, the Naive Bayes model created here does effectively predict churn based on customers' chosen services."
   ]
  },
  {
   "cell_type": "markdown",
   "id": "b27768e4-fe4a-4f30-9c12-2651fb523e9a",
   "metadata": {},
   "source": [
    "### Part VI: Demonstration\n",
    "\n",
    "**F. Panopto recording**\n",
    "<br> A Panopto video demonstrating and explaining use of the code included here is included separately."
   ]
  },
  {
   "cell_type": "markdown",
   "id": "829b7fd8-fab7-4414-80f2-1e5d27043143",
   "metadata": {},
   "source": [
    "**G. Sources for third-party code**\n",
    "\n",
    "Awan, A. A. (2023, March 1). Naive Bayes Classification Tutorial using Scikit-learn. DataCamp. Retrieved January 10, 2024, from https://www.datacamp.com/tutorial/naive-bayes-scikit-learn\n",
    "\n",
    "[Hugo Bowne-Anderson]. Machine Learning with scikit-learn | How good is your model? [Video]. DataCamp. https://campus.datacamp.com/courses/machine-learning-with-scikit-learn-archived/fine-tuning-your-model?ex=1\n",
    "\n",
    "[Hugo Bowne-Anderson]. Machine Learning with scikit-learn | Logistic regression and the ROC curve [Video]. DataCamp. https://campus.datacamp.com/courses/machine-learning-with-scikit-learn-archived/fine-tuning-your-model?ex=3\n",
    "\n",
    "[Hugo Bowne-Anderson]. Machine Learning with scikit-learn | Area under the ROC curve [Video]. DataCamp. https://campus.datacamp.com/courses/machine-learning-with-scikit-learn-archived/fine-tuning-your-model?ex=7"
   ]
  },
  {
   "cell_type": "markdown",
   "id": "cae4d514-aecf-4dd9-869a-f028e21115c1",
   "metadata": {},
   "source": [
    "**H. Sources**\n",
    "\n",
    "Awan, A. A. (2023, March 1). Naive Bayes Classification Tutorial using Scikit-learn. DataCamp. Retrieved January 10, 2024, from https://www.datacamp.com/tutorial/naive-bayes-scikit-learn\n",
    "\n",
    "Bhandari, A. (2024, January 8). Guide to AUC ROC Curve in Machine Learning : What Is Specificity? Analytics Vidhya. Retrieved January 12, 2024, from https://www.analyticsvidhya.com/blog/2020/06/auc-roc-curve-machine-learning/\n",
    "\n",
    "Gill, S. S. (2023, June 30). Bernoulli Naive Bayes. Coding Ninjas. Retrieved January 12, 2024, from https://www.codingninjas.com/studio/library/bernoulli-naive-bayes\n",
    "\n",
    "[Hugo Bowne-Anderson]. Machine Learning with scikit-learn | The classification challenge [Video]. DataCamp. https://campus.datacamp.com/courses/machine-learning-with-scikit-learn-archived/classification?ex=6\n",
    "\n",
    "[Hugo Bowne-Anderson]. Machine Learning with scikit-learn | Measuring model performance [Video]. DataCamp. https://campus.datacamp.com/courses/machine-learning-with-scikit-learn-archived/classification?ex=9\n",
    "\n",
    "[Hugo Bowne-Anderson]. Machine Learning with scikit-learn | How good is your model? [Video]. DataCamp. https://campus.datacamp.com/courses/machine-learning-with-scikit-learn-archived/fine-tuning-your-model?ex=1\n",
    "\n",
    "Ray, S. (2023, December 1). Naive Bayes Classifier Explained: Applications and Practice Problems of Naive Bayes Classifier. Analytics Vidhya. Retrieved January 11, 2024, from https://www.analyticsvidhya.com/blog/2017/09/naive-bayes-explained/\n",
    "\n",
    "Shukla, P. (2023, January 12). Naive Bayes Algorithms: A Complete Guide for Beginners. Analytics Vidhya. Retrieved January 11, 2024, from https://www.analyticsvidhya.com/blog/2023/01/naive-bayes-algorithms-a-complete-guide-for-beginners/"
   ]
  }
 ],
 "metadata": {
  "kernelspec": {
   "display_name": "Python 3 (ipykernel)",
   "language": "python",
   "name": "python3"
  },
  "language_info": {
   "codemirror_mode": {
    "name": "ipython",
    "version": 3
   },
   "file_extension": ".py",
   "mimetype": "text/x-python",
   "name": "python",
   "nbconvert_exporter": "python",
   "pygments_lexer": "ipython3",
   "version": "3.11.5"
  }
 },
 "nbformat": 4,
 "nbformat_minor": 5
}
