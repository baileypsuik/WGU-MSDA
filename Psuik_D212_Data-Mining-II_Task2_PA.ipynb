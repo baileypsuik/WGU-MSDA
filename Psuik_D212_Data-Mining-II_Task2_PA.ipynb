{
 "cells": [
  {
   "cell_type": "markdown",
   "id": "6e4ffd3f-e41e-42df-b358-824328031644",
   "metadata": {},
   "source": [
    "# D212: Data Mining, Task 2\n",
    "Western Governors University\n",
    "<br>Bailey Psuik \n",
    "<br>February 2024"
   ]
  },
  {
   "cell_type": "markdown",
   "id": "3e7e550f-0cec-4c25-aa7e-3e9a8682bb46",
   "metadata": {},
   "source": [
    "### Part I: Research Question\n",
    "\n",
    "**A1. Proposal of question**\n",
    "<br>For this report, data from a popular telecommunications company was analyzed. The company is interested in better managing customer relationships in an effort to improve long-term probability. If the company can better understand its customers' characteristics, it can better target products and marketing campaigns to them, ultimately resulting in increased profits in the long run. To better understand its customers, the company would like to perform analysis on its customer data. To make this process more efficient, the company seeks to answer the question of: **Can noise in the data set be decreased through principal component analysis?**"
   ]
  },
  {
   "cell_type": "markdown",
   "id": "e45f1ce0-f54f-41e5-8a37-c9979d36b53d",
   "metadata": {},
   "source": [
    "**A2. Defined goal**\n",
    "<br>The goal of this analysis is to make future analysis of this data set more efficient by reducing the noise within it. With more efficient analysis enabled, strategic decision-making within the telecommunications company can become more efficient as a result."
   ]
  },
  {
   "cell_type": "markdown",
   "id": "8f29d324-1601-4688-8169-659b24ef8b19",
   "metadata": {},
   "source": [
    "### Part II: Method Justification\n",
    "\n",
    "**B1. Explanation of PCA**\n",
    "<br> Principal component analysis (PCA) is a dimension reduction technique used with the intent of reduce noise in a model by eliminating features considered to be non-useful, and retaining only the features deemed informative. These informative features are considered the principal components of the model. PCA works by assessing the correlation between features of a dataset. It is common for features within a data set to be correlated with one another. Before analyzing the telecommunications data used in this analysis, for example, one could logically assume that a customer's income and monthly charge are highly correlated features, as a customer who makes more income is likely to be willing to pay more for their telecommunications services. If it is in fact the case that these variables have a high correlation, monthly charge could be considered noise as it is not helpful to the analysis, given that income already explains it. Put more broadly, any feature that is highly correlated with another feature does not provide significant help to the analysis, and is not necessary to provide accurate results.\n",
    "\n",
    "Thus, the expected outcome of PCA is that only the useful, or informative, components are kept. In other words, components considered to be noise are excluded from future analysis."
   ]
  },
  {
   "cell_type": "markdown",
   "id": "e7f22e61-6e62-41cd-a0b3-754e905bd3e9",
   "metadata": {},
   "source": [
    "**B2. PCA assumption**\n",
    "<br>An assumption of PCA is that there is correlation between the features being considered. More specifically, PCA assumes linear correlation between features. With unrelated features, PCA will have trouble in accurately determining principal components (Keboola, 2022)."
   ]
  },
  {
   "cell_type": "markdown",
   "id": "f6e6a7b6-1e56-45ca-a6c6-8d619f127b50",
   "metadata": {},
   "source": [
    "### Part III: Data Preparation\n",
    "\n",
    "**C1. Continuous data set variables**\n",
    "<br>The continuous variables needed to answer the question posed in part A1 are:\n",
    "* Lat\n",
    "* Lng\n",
    "* Income\n",
    "* Outage_sec_perweek\n",
    "* Tenure\n",
    "* MonthlyCharge\n",
    "* Bandwidth_GB_Year"
   ]
  },
  {
   "cell_type": "markdown",
   "id": "5eec64c4-b582-489f-bda0-d6acf06226a7",
   "metadata": {},
   "source": [
    "**C2. Standardization of data set variables**\n",
    "<br> To standardize the continuous variables listed above, scikit-learn's RobustScaler will be used to remove the median and scale the features according to their interquartile range (IQR) (scikit-learn, n.d.). The reason for scaling the data is to prevent any one feature from being dominant in explaining variance. \n",
    "\n",
    "Before the data is standardized, however, it must be cleaned. The code used to clean and standardize the data is included below."
   ]
  },
  {
   "cell_type": "code",
   "execution_count": 19,
   "id": "eb1f05de-d455-4578-812c-285d9b9a2882",
   "metadata": {
    "tags": []
   },
   "outputs": [
    {
     "name": "stdout",
     "output_type": "stream",
     "text": [
      "<class 'pandas.core.frame.DataFrame'>\n",
      "RangeIndex: 10000 entries, 0 to 9999\n",
      "Data columns (total 50 columns):\n",
      " #   Column                Non-Null Count  Dtype  \n",
      "---  ------                --------------  -----  \n",
      " 0   CaseOrder             10000 non-null  int64  \n",
      " 1   Customer_id           10000 non-null  object \n",
      " 2   Interaction           10000 non-null  object \n",
      " 3   UID                   10000 non-null  object \n",
      " 4   City                  10000 non-null  object \n",
      " 5   State                 10000 non-null  object \n",
      " 6   County                10000 non-null  object \n",
      " 7   Zip                   10000 non-null  int64  \n",
      " 8   Lat                   10000 non-null  float64\n",
      " 9   Lng                   10000 non-null  float64\n",
      " 10  Population            10000 non-null  int64  \n",
      " 11  Area                  10000 non-null  object \n",
      " 12  TimeZone              10000 non-null  object \n",
      " 13  Job                   10000 non-null  object \n",
      " 14  Children              10000 non-null  int64  \n",
      " 15  Age                   10000 non-null  int64  \n",
      " 16  Income                10000 non-null  float64\n",
      " 17  Marital               10000 non-null  object \n",
      " 18  Gender                10000 non-null  object \n",
      " 19  Churn                 10000 non-null  object \n",
      " 20  Outage_sec_perweek    10000 non-null  float64\n",
      " 21  Email                 10000 non-null  int64  \n",
      " 22  Contacts              10000 non-null  int64  \n",
      " 23  Yearly_equip_failure  10000 non-null  int64  \n",
      " 24  Techie                10000 non-null  object \n",
      " 25  Contract              10000 non-null  object \n",
      " 26  Port_modem            10000 non-null  object \n",
      " 27  Tablet                10000 non-null  object \n",
      " 28  InternetService       7871 non-null   object \n",
      " 29  Phone                 10000 non-null  object \n",
      " 30  Multiple              10000 non-null  object \n",
      " 31  OnlineSecurity        10000 non-null  object \n",
      " 32  OnlineBackup          10000 non-null  object \n",
      " 33  DeviceProtection      10000 non-null  object \n",
      " 34  TechSupport           10000 non-null  object \n",
      " 35  StreamingTV           10000 non-null  object \n",
      " 36  StreamingMovies       10000 non-null  object \n",
      " 37  PaperlessBilling      10000 non-null  object \n",
      " 38  PaymentMethod         10000 non-null  object \n",
      " 39  Tenure                10000 non-null  float64\n",
      " 40  MonthlyCharge         10000 non-null  float64\n",
      " 41  Bandwidth_GB_Year     10000 non-null  float64\n",
      " 42  Item1                 10000 non-null  int64  \n",
      " 43  Item2                 10000 non-null  int64  \n",
      " 44  Item3                 10000 non-null  int64  \n",
      " 45  Item4                 10000 non-null  int64  \n",
      " 46  Item5                 10000 non-null  int64  \n",
      " 47  Item6                 10000 non-null  int64  \n",
      " 48  Item7                 10000 non-null  int64  \n",
      " 49  Item8                 10000 non-null  int64  \n",
      "dtypes: float64(7), int64(16), object(27)\n",
      "memory usage: 3.8+ MB\n"
     ]
    }
   ],
   "source": [
    "# Data cleaning steps: \n",
    "\n",
    "# import initial packages + churn dataset \n",
    "import pandas as pd\n",
    "import numpy as np\n",
    "\n",
    "churn_data = pd.read_csv(\"C:/Users/psuik/Desktop/WGU/D212/churn_clean.csv\")\n",
    "\n",
    "# explore initial dataset\n",
    "churn_data.info()"
   ]
  },
  {
   "cell_type": "code",
   "execution_count": 21,
   "id": "27c80371-896f-43c6-9635-5d09eaa1be9c",
   "metadata": {
    "tags": []
   },
   "outputs": [
    {
     "data": {
      "text/html": [
       "<div>\n",
       "<style scoped>\n",
       "    .dataframe tbody tr th:only-of-type {\n",
       "        vertical-align: middle;\n",
       "    }\n",
       "\n",
       "    .dataframe tbody tr th {\n",
       "        vertical-align: top;\n",
       "    }\n",
       "\n",
       "    .dataframe thead th {\n",
       "        text-align: right;\n",
       "    }\n",
       "</style>\n",
       "<table border=\"1\" class=\"dataframe\">\n",
       "  <thead>\n",
       "    <tr style=\"text-align: right;\">\n",
       "      <th></th>\n",
       "      <th>Lat</th>\n",
       "      <th>Lng</th>\n",
       "      <th>Income</th>\n",
       "      <th>Outage_sec_perweek</th>\n",
       "      <th>Tenure</th>\n",
       "      <th>MonthlyCharge</th>\n",
       "      <th>Bandwidth_GB_Year</th>\n",
       "    </tr>\n",
       "  </thead>\n",
       "  <tbody>\n",
       "    <tr>\n",
       "      <th>0</th>\n",
       "      <td>56.25100</td>\n",
       "      <td>-133.37571</td>\n",
       "      <td>28561.99</td>\n",
       "      <td>7.978323</td>\n",
       "      <td>6.795513</td>\n",
       "      <td>172.455519</td>\n",
       "      <td>904.536110</td>\n",
       "    </tr>\n",
       "    <tr>\n",
       "      <th>1</th>\n",
       "      <td>44.32893</td>\n",
       "      <td>-84.24080</td>\n",
       "      <td>21704.77</td>\n",
       "      <td>11.699080</td>\n",
       "      <td>1.156681</td>\n",
       "      <td>242.632554</td>\n",
       "      <td>800.982766</td>\n",
       "    </tr>\n",
       "    <tr>\n",
       "      <th>2</th>\n",
       "      <td>45.35589</td>\n",
       "      <td>-123.24657</td>\n",
       "      <td>9609.57</td>\n",
       "      <td>10.752800</td>\n",
       "      <td>15.754144</td>\n",
       "      <td>159.947583</td>\n",
       "      <td>2054.706961</td>\n",
       "    </tr>\n",
       "    <tr>\n",
       "      <th>3</th>\n",
       "      <td>32.96687</td>\n",
       "      <td>-117.24798</td>\n",
       "      <td>18925.23</td>\n",
       "      <td>14.913540</td>\n",
       "      <td>17.087227</td>\n",
       "      <td>119.956840</td>\n",
       "      <td>2164.579412</td>\n",
       "    </tr>\n",
       "    <tr>\n",
       "      <th>4</th>\n",
       "      <td>29.38012</td>\n",
       "      <td>-95.80673</td>\n",
       "      <td>40074.19</td>\n",
       "      <td>8.147417</td>\n",
       "      <td>1.670972</td>\n",
       "      <td>149.948316</td>\n",
       "      <td>271.493436</td>\n",
       "    </tr>\n",
       "  </tbody>\n",
       "</table>\n",
       "</div>"
      ],
      "text/plain": [
       "        Lat        Lng    Income  Outage_sec_perweek     Tenure  \\\n",
       "0  56.25100 -133.37571  28561.99            7.978323   6.795513   \n",
       "1  44.32893  -84.24080  21704.77           11.699080   1.156681   \n",
       "2  45.35589 -123.24657   9609.57           10.752800  15.754144   \n",
       "3  32.96687 -117.24798  18925.23           14.913540  17.087227   \n",
       "4  29.38012  -95.80673  40074.19            8.147417   1.670972   \n",
       "\n",
       "   MonthlyCharge  Bandwidth_GB_Year  \n",
       "0     172.455519         904.536110  \n",
       "1     242.632554         800.982766  \n",
       "2     159.947583        2054.706961  \n",
       "3     119.956840        2164.579412  \n",
       "4     149.948316         271.493436  "
      ]
     },
     "execution_count": 21,
     "metadata": {},
     "output_type": "execute_result"
    }
   ],
   "source": [
    "# Create a reduced dataframe, df, with relevant variables to be used in PCA \n",
    "## This dataframe includes all continuous variables from the full churn data set \n",
    "df = churn_data[['Lat','Lng','Income','Outage_sec_perweek','Tenure','MonthlyCharge','Bandwidth_GB_Year']].copy()\n",
    "df.head()"
   ]
  },
  {
   "cell_type": "code",
   "execution_count": 22,
   "id": "b883dd90-be3e-48ef-8ded-46cab0c93221",
   "metadata": {
    "tags": []
   },
   "outputs": [
    {
     "name": "stdout",
     "output_type": "stream",
     "text": [
      "0       False\n",
      "1       False\n",
      "2       False\n",
      "3       False\n",
      "4       False\n",
      "        ...  \n",
      "9995    False\n",
      "9996    False\n",
      "9997    False\n",
      "9998    False\n",
      "9999    False\n",
      "Length: 10000, dtype: bool\n",
      "False    10000\n",
      "Name: count, dtype: int64\n"
     ]
    }
   ],
   "source": [
    "# With the reduced dataframe, df, created, identify duplicates in df\n",
    "# Return duplicate values as True, non-duplicates as False\n",
    "print(df.duplicated())\n",
    "\n",
    "# Get total counts of duplicate values\n",
    "print(df.duplicated().value_counts())"
   ]
  },
  {
   "cell_type": "code",
   "execution_count": 23,
   "id": "a5ae5cdb-ef0a-4618-bf30-e10a3e13c77a",
   "metadata": {
    "tags": []
   },
   "outputs": [
    {
     "data": {
      "text/plain": [
       "Lat                   0\n",
       "Lng                   0\n",
       "Income                0\n",
       "Outage_sec_perweek    0\n",
       "Tenure                0\n",
       "MonthlyCharge         0\n",
       "Bandwidth_GB_Year     0\n",
       "dtype: int64"
      ]
     },
     "execution_count": 23,
     "metadata": {},
     "output_type": "execute_result"
    }
   ],
   "source": [
    "# True = duplicate, False = non-duplicate\n",
    "# 10,000 False values ==> No duplicates exist in df\n",
    "\n",
    "\n",
    "# Identify missing values in df\n",
    "df.isnull().sum()"
   ]
  },
  {
   "cell_type": "code",
   "execution_count": 30,
   "id": "d26bb002-b050-4eb3-a9cc-1f6e61be0757",
   "metadata": {
    "tags": []
   },
   "outputs": [
    {
     "data": {
      "text/plain": [
       "<Axes: xlabel='Bandwidth_GB_Year'>"
      ]
     },
     "execution_count": 30,
     "metadata": {},
     "output_type": "execute_result"
    },
    {
     "data": {
      "image/png": "[encoded data removed]",
      "text/plain": [
       "<Figure size 1500x1300 with 8 Axes>"
      ]
     },
     "metadata": {},
     "output_type": "display_data"
    }
   ],
   "source": [
    "# No missing values to treat in any column in df\n",
    "\n",
    "\n",
    "# Identify and treat outliers\n",
    "\n",
    "# Visually show outliers for each quantitative variable on respective box plots\n",
    "# Import seaborn and matplotlib\n",
    "import seaborn as sns\n",
    "import matplotlib.pyplot as plt\n",
    "\n",
    "fig, axes = plt.subplots(nrows=4, ncols=2, figsize=(15, 13))\n",
    "\n",
    "plt.subplot(4, 2, 1)\n",
    "sns.boxplot(x='Lat', data = df)\n",
    "\n",
    "plt.subplot(4, 2, 2)\n",
    "sns.boxplot(x='Lng', data = df)\n",
    "\n",
    "plt.subplot(4, 2, 3)\n",
    "sns.boxplot(x='Income', data = df)\n",
    "\n",
    "plt.subplot(4, 2, 4)\n",
    "sns.boxplot(x='Outage_sec_perweek', data = df)\n",
    "\n",
    "plt.subplot(4, 2, 5)\n",
    "sns.boxplot(x='Tenure', data = df)\n",
    "\n",
    "plt.subplot(4, 2, 6)\n",
    "sns.boxplot(x='MonthlyCharge', data = df)\n",
    "\n",
    "plt.subplot(4, 2, 7)\n",
    "sns.boxplot(x='Bandwidth_GB_Year', data = df)"
   ]
  },
  {
   "cell_type": "markdown",
   "id": "67e4bd21-866a-496b-99ac-42102a202483",
   "metadata": {},
   "source": [
    "After evaluation of each count and range of outliers for the variables, it was determined that none of the outliers should be removed, as each outlier is within an acceptable or justifiable range, implying that their input is valid and was not cause of mistake or human error. Below is the justification for retention of the data set’s outliers: \n",
    "\n",
    "* Lat & Lng: Customers are from all over the country, so these values may be accurate as customers are more densely populated in some areas. There are no latitudes or longitudes off on their own in the boxplot so there is no cause to question these values.\n",
    "* Income: The maximum is around $250k, which is a reasonable income amount.\n",
    "* Outage_sec_perweek: There are many outliers here which makes sense—there are likely some customers who experience little to no outages in the average week, making up the lower range of outliers. On the other hand, if one customer is experiencing an outage, those in a certain radius of them would likely also experience an outage, explaining the high number of upper-range outliers here too. This explains the wide range of outlier values here too."
   ]
  },
  {
   "cell_type": "code",
   "execution_count": 99,
   "id": "23456c3e-4998-4128-92ea-0ac9335cbe81",
   "metadata": {
    "tags": []
   },
   "outputs": [
    {
     "data": {
      "text/html": [
       "<div>\n",
       "<style scoped>\n",
       "    .dataframe tbody tr th:only-of-type {\n",
       "        vertical-align: middle;\n",
       "    }\n",
       "\n",
       "    .dataframe tbody tr th {\n",
       "        vertical-align: top;\n",
       "    }\n",
       "\n",
       "    .dataframe thead th {\n",
       "        text-align: right;\n",
       "    }\n",
       "</style>\n",
       "<table border=\"1\" class=\"dataframe\">\n",
       "  <thead>\n",
       "    <tr style=\"text-align: right;\">\n",
       "      <th></th>\n",
       "      <th>Lat</th>\n",
       "      <th>Lng</th>\n",
       "      <th>Income</th>\n",
       "      <th>Outage_sec_perweek</th>\n",
       "      <th>Tenure</th>\n",
       "      <th>MonthlyCharge</th>\n",
       "      <th>Bandwidth_GB_Year</th>\n",
       "    </tr>\n",
       "  </thead>\n",
       "  <tbody>\n",
       "    <tr>\n",
       "      <th>0</th>\n",
       "      <td>2.491500</td>\n",
       "      <td>-2.674869</td>\n",
       "      <td>-0.135462</td>\n",
       "      <td>-0.516350</td>\n",
       "      <td>-0.534613</td>\n",
       "      <td>0.081817</td>\n",
       "      <td>-0.546019</td>\n",
       "    </tr>\n",
       "    <tr>\n",
       "      <th>1</th>\n",
       "      <td>0.729205</td>\n",
       "      <td>0.216428</td>\n",
       "      <td>-0.337018</td>\n",
       "      <td>0.425311</td>\n",
       "      <td>-0.639889</td>\n",
       "      <td>1.236890</td>\n",
       "      <td>-0.569826</td>\n",
       "    </tr>\n",
       "    <tr>\n",
       "      <th>2</th>\n",
       "      <td>0.881008</td>\n",
       "      <td>-2.078830</td>\n",
       "      <td>-0.692535</td>\n",
       "      <td>0.185824</td>\n",
       "      <td>-0.367356</td>\n",
       "      <td>-0.124057</td>\n",
       "      <td>-0.281591</td>\n",
       "    </tr>\n",
       "    <tr>\n",
       "      <th>3</th>\n",
       "      <td>-0.950311</td>\n",
       "      <td>-1.725848</td>\n",
       "      <td>-0.418717</td>\n",
       "      <td>1.238837</td>\n",
       "      <td>-0.342468</td>\n",
       "      <td>-0.782281</td>\n",
       "      <td>-0.256331</td>\n",
       "    </tr>\n",
       "    <tr>\n",
       "      <th>4</th>\n",
       "      <td>-1.480497</td>\n",
       "      <td>-0.464158</td>\n",
       "      <td>0.202919</td>\n",
       "      <td>-0.473555</td>\n",
       "      <td>-0.630288</td>\n",
       "      <td>-0.288639</td>\n",
       "      <td>-0.691557</td>\n",
       "    </tr>\n",
       "  </tbody>\n",
       "</table>\n",
       "</div>"
      ],
      "text/plain": [
       "        Lat       Lng    Income  Outage_sec_perweek    Tenure  MonthlyCharge  \\\n",
       "0  2.491500 -2.674869 -0.135462           -0.516350 -0.534613       0.081817   \n",
       "1  0.729205  0.216428 -0.337018            0.425311 -0.639889       1.236890   \n",
       "2  0.881008 -2.078830 -0.692535            0.185824 -0.367356      -0.124057   \n",
       "3 -0.950311 -1.725848 -0.418717            1.238837 -0.342468      -0.782281   \n",
       "4 -1.480497 -0.464158  0.202919           -0.473555 -0.630288      -0.288639   \n",
       "\n",
       "   Bandwidth_GB_Year  \n",
       "0          -0.546019  \n",
       "1          -0.569826  \n",
       "2          -0.281591  \n",
       "3          -0.256331  \n",
       "4          -0.691557  "
      ]
     },
     "execution_count": 99,
     "metadata": {},
     "output_type": "execute_result"
    }
   ],
   "source": [
    "# Outliers are being retained, so no treatment is needed\n",
    "\n",
    "# Data is now cleaned. Move on to data normalization\n",
    "\n",
    "# (Kamara, n.d.)\n",
    "# Data normalization (scale data to avoid dominance)\n",
    "\n",
    "robust = RobustScaler()\n",
    "scaled_data = robust.fit_transform(df)\n",
    "\n",
    "# Create a new dataframe, scaled_df, from the scaled data array\n",
    "scaled_data = pd.DataFrame(scaled_data, columns = ['Lat','Lng','Income','Outage_sec_perweek','Tenure','MonthlyCharge',\n",
    "                                                   'Bandwidth_GB_Year'])\n",
    "scaled_data.head()"
   ]
  },
  {
   "cell_type": "markdown",
   "id": "144b8ba2-c606-4b0f-8b20-70ee44f80fbe",
   "metadata": {},
   "source": [
    "The cleaned data set is downloadable via the code below."
   ]
  },
  {
   "cell_type": "code",
   "execution_count": 155,
   "id": "225d0da4-8760-45ea-b2fb-8688522653ee",
   "metadata": {
    "tags": []
   },
   "outputs": [],
   "source": [
    "df.to_csv(\"C:/Users/psuik/Desktop/WGU/D212/churn_clean_D212_task2.csv\")"
   ]
  },
  {
   "cell_type": "markdown",
   "id": "226aa783-2911-48d5-9cbe-0a0ea61e6bc5",
   "metadata": {},
   "source": [
    "The cleaned *and* normalized data set is downloadable via the code below."
   ]
  },
  {
   "cell_type": "code",
   "execution_count": 156,
   "id": "640d8ccd-ac89-4f6c-999e-62182a8f872d",
   "metadata": {
    "tags": []
   },
   "outputs": [],
   "source": [
    "scaled_data.to_csv(\"C:/Users/psuik/Desktop/WGU/D212/scaled_churn_clean_D212_task2.csv\")"
   ]
  },
  {
   "cell_type": "markdown",
   "id": "cdbfe369-45b1-4ae9-af40-ae681e2bfa18",
   "metadata": {},
   "source": [
    "### Part IV: Analysis\n",
    "\n",
    "**D1. Principal components**\n",
    "<br>The matrix of all principal components is displayed below. Following the creation of the covariance matrix, the loadings matrix is also created. "
   ]
  },
  {
   "cell_type": "code",
   "execution_count": 110,
   "id": "e3466ac2-cdc4-466e-a0db-fe2376f43d7b",
   "metadata": {
    "tags": []
   },
   "outputs": [
    {
     "data": {
      "text/plain": [
       "array([[ 0.65483937, -0.05623494, -0.01403065,  0.0033208 , -0.00465337,\n",
       "        -0.007183  , -0.00929008],\n",
       "       [-0.05623494,  0.82371197, -0.03508612,  0.00450508,  0.00443798,\n",
       "        -0.006841  , -0.00282644],\n",
       "       [-0.01403065, -0.03508612,  0.72503335, -0.00707398, -0.00242822,\n",
       "         0.01473735,  0.00658842],\n",
       "       [ 0.0033208 ,  0.00450508, -0.00707398,  0.56724161,  0.00116151,\n",
       "         0.0105524 ,  0.00147023],\n",
       "       [-0.00465337,  0.00443798, -0.00242822,  0.00116151,  0.24399029,\n",
       "        -0.00259267,  0.24546015],\n",
       "       [-0.007183  , -0.006841  ,  0.01473735,  0.0105524 , -0.00259267,\n",
       "         0.50669998,  0.02364282],\n",
       "       [-0.00929008, -0.00282644,  0.00658842,  0.00147023,  0.24546015,\n",
       "         0.02364282,  0.2530578 ]])"
      ]
     },
     "execution_count": 110,
     "metadata": {},
     "output_type": "execute_result"
    }
   ],
   "source": [
    "# Create the covariance matrix\n",
    "cov_matrix = np.dot(scaled_data.T, scaled_data) / df.shape[0]\n",
    "cov_matrix"
   ]
  },
  {
   "cell_type": "code",
   "execution_count": 111,
   "id": "36b8d066-f1c1-4894-8b4b-6c7cfcef581a",
   "metadata": {
    "tags": []
   },
   "outputs": [
    {
     "data": {
      "text/html": [
       "<div>\n",
       "<style scoped>\n",
       "    .dataframe tbody tr th:only-of-type {\n",
       "        vertical-align: middle;\n",
       "    }\n",
       "\n",
       "    .dataframe tbody tr th {\n",
       "        vertical-align: top;\n",
       "    }\n",
       "\n",
       "    .dataframe thead th {\n",
       "        text-align: right;\n",
       "    }\n",
       "</style>\n",
       "<table border=\"1\" class=\"dataframe\">\n",
       "  <thead>\n",
       "    <tr style=\"text-align: right;\">\n",
       "      <th></th>\n",
       "      <th>Lat</th>\n",
       "      <th>Lng</th>\n",
       "      <th>Income</th>\n",
       "      <th>Outage_sec_perweek</th>\n",
       "      <th>Tenure</th>\n",
       "      <th>MonthlyCharge</th>\n",
       "      <th>Bandwidth_GB_Year</th>\n",
       "    </tr>\n",
       "  </thead>\n",
       "  <tbody>\n",
       "    <tr>\n",
       "      <th>0</th>\n",
       "      <td>0.654839</td>\n",
       "      <td>-0.056235</td>\n",
       "      <td>-0.014031</td>\n",
       "      <td>0.003321</td>\n",
       "      <td>-0.004653</td>\n",
       "      <td>-0.007183</td>\n",
       "      <td>-0.009290</td>\n",
       "    </tr>\n",
       "    <tr>\n",
       "      <th>1</th>\n",
       "      <td>-0.056235</td>\n",
       "      <td>0.823712</td>\n",
       "      <td>-0.035086</td>\n",
       "      <td>0.004505</td>\n",
       "      <td>0.004438</td>\n",
       "      <td>-0.006841</td>\n",
       "      <td>-0.002826</td>\n",
       "    </tr>\n",
       "    <tr>\n",
       "      <th>2</th>\n",
       "      <td>-0.014031</td>\n",
       "      <td>-0.035086</td>\n",
       "      <td>0.725033</td>\n",
       "      <td>-0.007074</td>\n",
       "      <td>-0.002428</td>\n",
       "      <td>0.014737</td>\n",
       "      <td>0.006588</td>\n",
       "    </tr>\n",
       "    <tr>\n",
       "      <th>3</th>\n",
       "      <td>0.003321</td>\n",
       "      <td>0.004505</td>\n",
       "      <td>-0.007074</td>\n",
       "      <td>0.567242</td>\n",
       "      <td>0.001162</td>\n",
       "      <td>0.010552</td>\n",
       "      <td>0.001470</td>\n",
       "    </tr>\n",
       "    <tr>\n",
       "      <th>4</th>\n",
       "      <td>-0.004653</td>\n",
       "      <td>0.004438</td>\n",
       "      <td>-0.002428</td>\n",
       "      <td>0.001162</td>\n",
       "      <td>0.243990</td>\n",
       "      <td>-0.002593</td>\n",
       "      <td>0.245460</td>\n",
       "    </tr>\n",
       "    <tr>\n",
       "      <th>5</th>\n",
       "      <td>-0.007183</td>\n",
       "      <td>-0.006841</td>\n",
       "      <td>0.014737</td>\n",
       "      <td>0.010552</td>\n",
       "      <td>-0.002593</td>\n",
       "      <td>0.506700</td>\n",
       "      <td>0.023643</td>\n",
       "    </tr>\n",
       "    <tr>\n",
       "      <th>6</th>\n",
       "      <td>-0.009290</td>\n",
       "      <td>-0.002826</td>\n",
       "      <td>0.006588</td>\n",
       "      <td>0.001470</td>\n",
       "      <td>0.245460</td>\n",
       "      <td>0.023643</td>\n",
       "      <td>0.253058</td>\n",
       "    </tr>\n",
       "  </tbody>\n",
       "</table>\n",
       "</div>"
      ],
      "text/plain": [
       "        Lat       Lng    Income  Outage_sec_perweek    Tenure  MonthlyCharge  \\\n",
       "0  0.654839 -0.056235 -0.014031            0.003321 -0.004653      -0.007183   \n",
       "1 -0.056235  0.823712 -0.035086            0.004505  0.004438      -0.006841   \n",
       "2 -0.014031 -0.035086  0.725033           -0.007074 -0.002428       0.014737   \n",
       "3  0.003321  0.004505 -0.007074            0.567242  0.001162       0.010552   \n",
       "4 -0.004653  0.004438 -0.002428            0.001162  0.243990      -0.002593   \n",
       "5 -0.007183 -0.006841  0.014737            0.010552 -0.002593       0.506700   \n",
       "6 -0.009290 -0.002826  0.006588            0.001470  0.245460       0.023643   \n",
       "\n",
       "   Bandwidth_GB_Year  \n",
       "0          -0.009290  \n",
       "1          -0.002826  \n",
       "2           0.006588  \n",
       "3           0.001470  \n",
       "4           0.245460  \n",
       "5           0.023643  \n",
       "6           0.253058  "
      ]
     },
     "execution_count": 111,
     "metadata": {},
     "output_type": "execute_result"
    }
   ],
   "source": [
    "# Store the covariance matrix (cov_matrix) as a dataframe and display it\n",
    "cov_matrix_df = pd.DataFrame(cov_matrix, columns = ['Lat','Lng','Income','Outage_sec_perweek','Tenure','MonthlyCharge',\n",
    "                                                   'Bandwidth_GB_Year'])\n",
    "cov_matrix_df"
   ]
  },
  {
   "cell_type": "code",
   "execution_count": 151,
   "id": "b6c1ff61-c499-43b8-be2f-ee8524cfd3fd",
   "metadata": {
    "tags": []
   },
   "outputs": [
    {
     "data": {
      "image/png": "[encoded data removed]",
      "text/plain": [
       "<Figure size 1600x600 with 2 Axes>"
      ]
     },
     "metadata": {},
     "output_type": "display_data"
    }
   ],
   "source": [
    "# A heatmap provides visual analysis of correlation between features: \n",
    "# (Kamara, n.d.)\n",
    "corr = df.corr()\n",
    "\n",
    "from sklearn import preprocessing \n",
    "ax = plt.subplots(figsize=(16,6))\n",
    "sns.heatmap(corr, cmap='seismic', linewidth=5, annot=True, fmt='.3f')\n",
    "plt.show()"
   ]
  },
  {
   "cell_type": "code",
   "execution_count": 112,
   "id": "f8274028-d091-4737-a8a1-20771ade5dc2",
   "metadata": {
    "tags": []
   },
   "outputs": [
    {
     "data": {
      "text/html": [
       "<div>\n",
       "<style scoped>\n",
       "    .dataframe tbody tr th:only-of-type {\n",
       "        vertical-align: middle;\n",
       "    }\n",
       "\n",
       "    .dataframe tbody tr th {\n",
       "        vertical-align: top;\n",
       "    }\n",
       "\n",
       "    .dataframe thead th {\n",
       "        text-align: right;\n",
       "    }\n",
       "</style>\n",
       "<table border=\"1\" class=\"dataframe\">\n",
       "  <thead>\n",
       "    <tr style=\"text-align: right;\">\n",
       "      <th></th>\n",
       "      <th>PC1</th>\n",
       "      <th>PC2</th>\n",
       "      <th>PC3</th>\n",
       "      <th>PC4</th>\n",
       "      <th>PC5</th>\n",
       "      <th>PC6</th>\n",
       "      <th>PC7</th>\n",
       "    </tr>\n",
       "  </thead>\n",
       "  <tbody>\n",
       "    <tr>\n",
       "      <th>0</th>\n",
       "      <td>3.300839</td>\n",
       "      <td>-0.340557</td>\n",
       "      <td>-1.462267</td>\n",
       "      <td>-0.653593</td>\n",
       "      <td>-0.283039</td>\n",
       "      <td>0.526380</td>\n",
       "      <td>-0.031340</td>\n",
       "    </tr>\n",
       "    <tr>\n",
       "      <th>1</th>\n",
       "      <td>-0.076882</td>\n",
       "      <td>-0.530833</td>\n",
       "      <td>-1.045294</td>\n",
       "      <td>0.441160</td>\n",
       "      <td>0.270079</td>\n",
       "      <td>1.310292</td>\n",
       "      <td>-0.009607</td>\n",
       "    </tr>\n",
       "    <tr>\n",
       "      <th>2</th>\n",
       "      <td>2.121201</td>\n",
       "      <td>-0.947854</td>\n",
       "      <td>-0.259150</td>\n",
       "      <td>0.086090</td>\n",
       "      <td>-0.419074</td>\n",
       "      <td>0.188932</td>\n",
       "      <td>0.041151</td>\n",
       "    </tr>\n",
       "    <tr>\n",
       "      <th>3</th>\n",
       "      <td>1.117267</td>\n",
       "      <td>-0.757730</td>\n",
       "      <td>1.234225</td>\n",
       "      <td>1.151185</td>\n",
       "      <td>-1.136006</td>\n",
       "      <td>-0.227770</td>\n",
       "      <td>0.060915</td>\n",
       "    </tr>\n",
       "    <tr>\n",
       "      <th>4</th>\n",
       "      <td>-0.215649</td>\n",
       "      <td>-0.021803</td>\n",
       "      <td>1.386631</td>\n",
       "      <td>-0.462204</td>\n",
       "      <td>-0.851507</td>\n",
       "      <td>0.589956</td>\n",
       "      <td>-0.055272</td>\n",
       "    </tr>\n",
       "  </tbody>\n",
       "</table>\n",
       "</div>"
      ],
      "text/plain": [
       "        PC1       PC2       PC3       PC4       PC5       PC6       PC7\n",
       "0  3.300839 -0.340557 -1.462267 -0.653593 -0.283039  0.526380 -0.031340\n",
       "1 -0.076882 -0.530833 -1.045294  0.441160  0.270079  1.310292 -0.009607\n",
       "2  2.121201 -0.947854 -0.259150  0.086090 -0.419074  0.188932  0.041151\n",
       "3  1.117267 -0.757730  1.234225  1.151185 -1.136006 -0.227770  0.060915\n",
       "4 -0.215649 -0.021803  1.386631 -0.462204 -0.851507  0.589956 -0.055272"
      ]
     },
     "execution_count": 112,
     "metadata": {},
     "output_type": "execute_result"
    }
   ],
   "source": [
    "# Create new variable, pca, and transform it into a dataframe\n",
    "pca = PCA(n_components=df.shape[1])\n",
    "\n",
    "pca.fit(scaled_data)\n",
    "\n",
    "df_pca = pd.DataFrame(pca.transform(scaled_data),\n",
    "                        columns = ['PC1','PC2','PC3','PC4','PC5','PC6','PC7'])\n",
    "df_pca.head()"
   ]
  },
  {
   "cell_type": "code",
   "execution_count": 114,
   "id": "cdc40cb7-c862-41e1-bc97-0a1cbc358e2e",
   "metadata": {
    "tags": []
   },
   "outputs": [
    {
     "data": {
      "text/html": [
       "<div>\n",
       "<style scoped>\n",
       "    .dataframe tbody tr th:only-of-type {\n",
       "        vertical-align: middle;\n",
       "    }\n",
       "\n",
       "    .dataframe tbody tr th {\n",
       "        vertical-align: top;\n",
       "    }\n",
       "\n",
       "    .dataframe thead th {\n",
       "        text-align: right;\n",
       "    }\n",
       "</style>\n",
       "<table border=\"1\" class=\"dataframe\">\n",
       "  <thead>\n",
       "    <tr style=\"text-align: right;\">\n",
       "      <th></th>\n",
       "      <th>PC1</th>\n",
       "      <th>PC2</th>\n",
       "      <th>PC3</th>\n",
       "      <th>PC4</th>\n",
       "      <th>PC5</th>\n",
       "      <th>PC6</th>\n",
       "      <th>PC7</th>\n",
       "    </tr>\n",
       "  </thead>\n",
       "  <tbody>\n",
       "    <tr>\n",
       "      <th>Lat</th>\n",
       "      <td>0.374782</td>\n",
       "      <td>0.027875</td>\n",
       "      <td>-0.921195</td>\n",
       "      <td>-0.076729</td>\n",
       "      <td>0.035890</td>\n",
       "      <td>-0.054643</td>\n",
       "      <td>0.000633</td>\n",
       "    </tr>\n",
       "    <tr>\n",
       "      <th>Lng</th>\n",
       "      <td>-0.926227</td>\n",
       "      <td>0.041426</td>\n",
       "      <td>-0.370971</td>\n",
       "      <td>-0.046181</td>\n",
       "      <td>-0.013215</td>\n",
       "      <td>-0.021450</td>\n",
       "      <td>0.000419</td>\n",
       "    </tr>\n",
       "    <tr>\n",
       "      <th>Income</th>\n",
       "      <td>0.027333</td>\n",
       "      <td>0.997392</td>\n",
       "      <td>0.035858</td>\n",
       "      <td>0.055010</td>\n",
       "      <td>-0.005603</td>\n",
       "      <td>0.010829</td>\n",
       "      <td>-0.000750</td>\n",
       "    </tr>\n",
       "    <tr>\n",
       "      <th>Outage_sec_perweek</th>\n",
       "      <td>-0.011089</td>\n",
       "      <td>-0.050698</td>\n",
       "      <td>-0.090405</td>\n",
       "      <td>0.978797</td>\n",
       "      <td>-0.165459</td>\n",
       "      <td>-0.060935</td>\n",
       "      <td>0.000015</td>\n",
       "    </tr>\n",
       "    <tr>\n",
       "      <th>Tenure</th>\n",
       "      <td>-0.011953</td>\n",
       "      <td>0.004383</td>\n",
       "      <td>0.040693</td>\n",
       "      <td>0.042519</td>\n",
       "      <td>0.431382</td>\n",
       "      <td>-0.550389</td>\n",
       "      <td>-0.712289</td>\n",
       "    </tr>\n",
       "    <tr>\n",
       "      <th>MonthlyCharge</th>\n",
       "      <td>-0.021522</td>\n",
       "      <td>-0.010021</td>\n",
       "      <td>-0.031373</td>\n",
       "      <td>0.162875</td>\n",
       "      <td>0.749658</td>\n",
       "      <td>0.639469</td>\n",
       "      <td>-0.031878</td>\n",
       "    </tr>\n",
       "    <tr>\n",
       "      <th>Bandwidth_GB_Year</th>\n",
       "      <td>-0.012877</td>\n",
       "      <td>0.005015</td>\n",
       "      <td>0.041007</td>\n",
       "      <td>0.050734</td>\n",
       "      <td>0.472284</td>\n",
       "      <td>-0.529976</td>\n",
       "      <td>0.701161</td>\n",
       "    </tr>\n",
       "  </tbody>\n",
       "</table>\n",
       "</div>"
      ],
      "text/plain": [
       "                         PC1       PC2       PC3       PC4       PC5  \\\n",
       "Lat                 0.374782  0.027875 -0.921195 -0.076729  0.035890   \n",
       "Lng                -0.926227  0.041426 -0.370971 -0.046181 -0.013215   \n",
       "Income              0.027333  0.997392  0.035858  0.055010 -0.005603   \n",
       "Outage_sec_perweek -0.011089 -0.050698 -0.090405  0.978797 -0.165459   \n",
       "Tenure             -0.011953  0.004383  0.040693  0.042519  0.431382   \n",
       "MonthlyCharge      -0.021522 -0.010021 -0.031373  0.162875  0.749658   \n",
       "Bandwidth_GB_Year  -0.012877  0.005015  0.041007  0.050734  0.472284   \n",
       "\n",
       "                         PC6       PC7  \n",
       "Lat                -0.054643  0.000633  \n",
       "Lng                -0.021450  0.000419  \n",
       "Income              0.010829 -0.000750  \n",
       "Outage_sec_perweek -0.060935  0.000015  \n",
       "Tenure             -0.550389 -0.712289  \n",
       "MonthlyCharge       0.639469 -0.031878  \n",
       "Bandwidth_GB_Year  -0.529976  0.701161  "
      ]
     },
     "execution_count": 114,
     "metadata": {},
     "output_type": "execute_result"
    }
   ],
   "source": [
    "# Create the PCA loadings matrix:\n",
    "# PCs are groupings that have some sort of relationship\n",
    "# The closer the loading is to 1 or -1 indicates that the variable is significantly associated with the PC\n",
    "# When assessing which variable is associated with the PC always take the absolute value of the loadings \n",
    "# How to get the loading matrix\n",
    "loadings = pd.DataFrame(pca.components_.T,\n",
    "                        columns=['PC1','PC2','PC3','PC4','PC5','PC6','PC7'],\n",
    "                        index=df.columns)\n",
    "loadings"
   ]
  },
  {
   "cell_type": "markdown",
   "id": "01bc3fc3-1f7f-4a2e-9d2f-ae2f9a51fe6d",
   "metadata": {},
   "source": [
    "**D2. Identification of the total number of components**\n",
    "<br>To identify the total number of principal components, a scree plot will be created and then evaluated using the elbow rule. The scree plot will plot the explained variance proportion on the y-axis, and the number of components (PCs) on the x-axis. The proportion of explained variance is calculated using the code below."
   ]
  },
  {
   "cell_type": "code",
   "execution_count": 115,
   "id": "84471ee8-075d-4c67-ab60-d6d16368b611",
   "metadata": {
    "tags": []
   },
   "outputs": [
    {
     "data": {
      "text/plain": [
       "array([0.22346422, 0.18622144, 0.16732567, 0.15399479, 0.13814269,\n",
       "       0.13041706, 0.00043413])"
      ]
     },
     "execution_count": 115,
     "metadata": {},
     "output_type": "execute_result"
    }
   ],
   "source": [
    "# panopto\n",
    "exp_var = pca.explained_variance_ratio_\n",
    "exp_var"
   ]
  },
  {
   "cell_type": "code",
   "execution_count": 146,
   "id": "f6c312e2-5f94-458f-93ed-2462acf3a721",
   "metadata": {
    "tags": []
   },
   "outputs": [
    {
     "data": {
      "text/plain": [
       "array([1, 2, 3, 4, 5, 6, 7])"
      ]
     },
     "execution_count": 146,
     "metadata": {},
     "output_type": "execute_result"
    }
   ],
   "source": [
    "# To print the number of PCs on an axis starting at 1 instead of defaulting to start at 0, the array 'pcomp' is created for plotting:\n",
    "pcomp = np.arange(pca.n_components_)+1\n",
    "pcomp"
   ]
  },
  {
   "cell_type": "code",
   "execution_count": 147,
   "id": "195499c9-f4a2-4f87-ad3f-87aab1285b07",
   "metadata": {
    "tags": []
   },
   "outputs": [
    {
     "data": {
      "image/png": "[encoded data removed]",
      "text/plain": [
       "<Figure size 1300x600 with 1 Axes>"
      ]
     },
     "metadata": {},
     "output_type": "display_data"
    }
   ],
   "source": [
    "# Construct the scree plot\n",
    "# panopto\n",
    "plt.figure(figsize=(13,6))\n",
    "plt.plot(pcomp, exp_var, 'b-')\n",
    "plt.title('Scree Plot (Elbow Method)')\n",
    "plt.xlabel('Number of components')\n",
    "plt.ylabel('Explained variance proportion')\n",
    "plt.grid()\n",
    "plt.show()"
   ]
  },
  {
   "cell_type": "markdown",
   "id": "80b3aa40-c75e-4165-9ac6-38fd7d2286ae",
   "metadata": {
    "tags": []
   },
   "source": [
    "Visual interpretation of the scree plot above shows a sharp decrease in explained variance between 6 and 7 PCs. Based on the elbow method, indicates that there are **6 principal components (PCs)** in the data. "
   ]
  },
  {
   "cell_type": "markdown",
   "id": "707a986d-470a-457c-8ec7-c7888bc90efd",
   "metadata": {},
   "source": [
    "**D3. Variance of each component**\n",
    "<br>\n",
    "The variance of each of the principal components identified in section D2 is calculated as follows: "
   ]
  },
  {
   "cell_type": "code",
   "execution_count": 141,
   "id": "e65e7dd9-109d-4088-86d2-ee43af4731f2",
   "metadata": {
    "tags": []
   },
   "outputs": [
    {
     "name": "stdout",
     "output_type": "stream",
     "text": [
      "Explained variance of PC1: 0.2235\n",
      "Explained variance of PC2: 0.1862\n",
      "Explained variance of PC3: 0.1673\n",
      "Explained variance of PC4: 0.154\n",
      "Explained variance of PC5: 0.1381\n",
      "Explained variance of PC6: 0.1304\n"
     ]
    }
   ],
   "source": [
    "print(\"Explained variance of PC1:\",exp_var[0].round(4))\n",
    "print(\"Explained variance of PC2:\",exp_var[1].round(4))\n",
    "print(\"Explained variance of PC3:\",exp_var[2].round(4))\n",
    "print(\"Explained variance of PC4:\",exp_var[3].round(4))\n",
    "print(\"Explained variance of PC5:\",exp_var[4].round(4))\n",
    "print(\"Explained variance of PC6:\",exp_var[5].round(4))"
   ]
  },
  {
   "cell_type": "markdown",
   "id": "ad9f6e0f-5904-4c08-9ace-817a69475823",
   "metadata": {},
   "source": [
    "**D4. Total variance captured by components**\n",
    "<br>The total variance captured by the principal components identified in section D2 is calculated as follows:"
   ]
  },
  {
   "cell_type": "code",
   "execution_count": 150,
   "id": "d5fe4b2b-8422-49ab-aac7-88c7bc1f5075",
   "metadata": {
    "tags": []
   },
   "outputs": [
    {
     "name": "stdout",
     "output_type": "stream",
     "text": [
      "Total variance of principal components: 0.9996\n"
     ]
    }
   ],
   "source": [
    "print(\"Total variance of principal components:\",exp_var[0:6].sum().round(4))"
   ]
  },
  {
   "cell_type": "markdown",
   "id": "0d88b7e8-5ac8-45d6-a75a-d4b32182b88f",
   "metadata": {},
   "source": [
    "**D5. Summary of data analysis**\n",
    "<br>To answer the original question from section A1, *\"Can noise in the data set be decreased through principal component analysis?*, the resulting answer is yes. As stated previously, PCA is a dimensionality reduction technique that seeks to reduce noise within a data set by removing unneccesary components. As also stated, any feature that is highly correlated with another feature can be considered noise, as it is redundant and thus not helpful to the analysis. \n",
    "\n",
    "The correlation of the continuous variables here is best demonstrated by the heatmap depicted in section D1. Upon inspection of this heatmap, it is evident that there is little to no correlation between most of the features-- the only features with a high correlation are Tenure and Bandwidth_GB_Year. Seeing as though these features have a high correlation, it is necessary to include only one for sufficient analysis. With this in mind, it follows logically that this analysis found six principal components within the data set. Excluding the seventh component, and retaining only the six principal components helps to streamline analysis, which will make for improved efficiency when working with this data in the future. \n",
    "\n",
    "In general, it is possible that none of the components within a data set are noise-- meaning that each of the components are critical to the analysis. This report confirms that there is, in fact, one component that is to be considered noise, so noise in this model can be decreased through the exclusion of this one component. 99.96% of the total variance of the continuous variables included in this analysis is explained by six out of seven components. Therefore, this analysis confirms that six of the seven components are to be considered principal components, with the seventh component considered noise. "
   ]
  },
  {
   "cell_type": "markdown",
   "id": "efd319b7-68b3-4713-96f7-f4d2e68d687f",
   "metadata": {},
   "source": [
    "### Part V: Attachments\n",
    "\n",
    "**E. Sources for third party code**\n",
    "<br>\n",
    "\n",
    "[Kesselly Kamara]. PCA With Data Mining II - D212 [Video]. Panopto. https://wgu.hosted.panopto.com/Panopto/Pages/Viewer.aspx?id=a7592d75-cc72-47fd-8a9a-b07a00efff97"
   ]
  },
  {
   "cell_type": "markdown",
   "id": "675d422d-1b02-4c2f-987c-be77b8025f00",
   "metadata": {},
   "source": [
    "**F. Sources**\n",
    "<br>\n",
    "\n",
    "(2022, April 2). A Guide to Principal Component Analysis (PCA) for Machine Learning. Keboola. Retrieved February 1, 2024, from https://www.keboola.com/blog/pca-machine-learning\n",
    "\n",
    "[Benjamin Wilson]. Unsupervised Learning in Python | Visualizing the PCA transformation [Video]. DataCamp. https://campus.datacamp.com/courses/unsupervised-learning-in-python/decorrelating-your-data-and-dimension-reduction?ex=1\n",
    "\n",
    "[Benjamin Wilson]. Unsupervised Learning in Python | Dimension reduction with PCA [Video]. DataCamp. https://campus.datacamp.com/courses/unsupervised-learning-in-python/decorrelating-your-data-and-dimension-reduction?ex=9\n",
    "\n",
    "(n.d.). Sklearn.Preprocessing.RobustScaler. Scikit-Learn. Retrieved February 1, 2024, from https://scikit-learn.org/stable/modules/generated/sklearn.preprocessing.RobustScaler.html"
   ]
  }
 ],
 "metadata": {
  "kernelspec": {
   "display_name": "Python 3 (ipykernel)",
   "language": "python",
   "name": "python3"
  },
  "language_info": {
   "codemirror_mode": {
    "name": "ipython",
    "version": 3
   },
   "file_extension": ".py",
   "mimetype": "text/x-python",
   "name": "python",
   "nbconvert_exporter": "python",
   "pygments_lexer": "ipython3",
   "version": "3.11.5"
  }
 },
 "nbformat": 4,
 "nbformat_minor": 5
}
